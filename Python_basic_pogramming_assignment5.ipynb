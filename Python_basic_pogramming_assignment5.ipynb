{
 "cells": [
  {
   "cell_type": "markdown",
   "id": "ee19a541-e9e5-4c53-a6f9-baedc0e66c38",
   "metadata": {},
   "source": [
    "# 1.Write a Python Program to Find LCM?"
   ]
  },
  {
   "cell_type": "code",
   "execution_count": 10,
   "id": "4a6fb5d6-e999-43cf-a671-4e534cbc54bd",
   "metadata": {},
   "outputs": [
    {
     "name": "stdin",
     "output_type": "stream",
     "text": [
      "please enter a number 2\n",
      "please enter a number 11\n"
     ]
    },
    {
     "name": "stdout",
     "output_type": "stream",
     "text": [
      "LCM of given value is: 22\n"
     ]
    }
   ],
   "source": [
    "a=int(input(\"please enter a number\"))\n",
    "b=int(input(\"please enter a number\"))\n",
    "def GCD(a,b):\n",
    "    while(b):\n",
    "        a,b=b,a%b\n",
    "    return a\n",
    "print(\"LCM of given value is:\",(a*b)//GCD(a,b))"
   ]
  },
  {
   "cell_type": "markdown",
   "id": "1a1e7eac-6b8a-4ec6-ba76-b0d5b5ad4a4a",
   "metadata": {},
   "source": [
    "# 2.Write a Python Program to Find HCF?"
   ]
  },
  {
   "cell_type": "code",
   "execution_count": 7,
   "id": "3c02c0d3-e863-4ad5-ac31-8286a4f0b7bb",
   "metadata": {},
   "outputs": [
    {
     "name": "stdin",
     "output_type": "stream",
     "text": [
      "please enter a number 600\n",
      "please enter a number 350\n"
     ]
    },
    {
     "name": "stdout",
     "output_type": "stream",
     "text": [
      "HCF of given value is: 50\n"
     ]
    }
   ],
   "source": [
    "a=int(input(\"please enter a number\"))\n",
    "b=int(input(\"please enter a number\"))\n",
    "def GCD(a,b):\n",
    "    while(b):\n",
    "        a,b=b,a%b\n",
    "    return a\n",
    "print(\"HCF of given value is:\",GCD(a,b))"
   ]
  },
  {
   "cell_type": "markdown",
   "id": "facff379-01e1-4595-996a-0dcf3d247418",
   "metadata": {},
   "source": [
    "# 3.Write a Python Program to Convert Decimal to Binary, Octal and Hexadecimal?"
   ]
  },
  {
   "cell_type": "code",
   "execution_count": 18,
   "id": "44ada17d-646b-4158-ab55-d6a65780e086",
   "metadata": {},
   "outputs": [
    {
     "name": "stdin",
     "output_type": "stream",
     "text": [
      "Please enter a number in decimal 10\n"
     ]
    },
    {
     "name": "stdout",
     "output_type": "stream",
     "text": [
      "binary 0b1010\n",
      "Octal 0o12\n",
      "Hexadecimal 0xa\n"
     ]
    }
   ],
   "source": [
    "N=int(input(\"Please enter a number in decimal\"))\n",
    "print(\"binary\",bin(N))\n",
    "print(\"Octal\",oct(N))\n",
    "print(\"Hexadecimal\",hex(N))"
   ]
  },
  {
   "cell_type": "markdown",
   "id": "67d2b11a-1ede-49a0-a969-fa8f3490ce92",
   "metadata": {},
   "source": [
    "# 4. Write a Python Program To Find ASCII value of a character?"
   ]
  },
  {
   "cell_type": "code",
   "execution_count": 13,
   "id": "b0240866-1e52-4cb1-8bcb-65f0d6b2d3d6",
   "metadata": {},
   "outputs": [
    {
     "name": "stdin",
     "output_type": "stream",
     "text": [
      "please enter a char A\n"
     ]
    },
    {
     "name": "stdout",
     "output_type": "stream",
     "text": [
      "ASCII value is 65\n"
     ]
    }
   ],
   "source": [
    "str_x=str(input(\"please enter a char\"))\n",
    "print(\"ASCII value is\",ord(str_x))"
   ]
  },
  {
   "cell_type": "markdown",
   "id": "f78d4ddc-d268-4181-99b7-07de906e3b57",
   "metadata": {},
   "source": [
    "# 5. Write a Python Program to Make a Simple Calculator with 4 basic mathematical operations?"
   ]
  },
  {
   "cell_type": "code",
   "execution_count": 17,
   "id": "063464fb-e670-470a-aa75-c35c094bc026",
   "metadata": {},
   "outputs": [
    {
     "name": "stdin",
     "output_type": "stream",
     "text": [
      "Choose one: add,mul,div,sub sub\n",
      "first number 6\n",
      "second number 7\n"
     ]
    },
    {
     "name": "stdout",
     "output_type": "stream",
     "text": [
      "subtraction: -1.0\n"
     ]
    }
   ],
   "source": [
    "str_x=str(input(\"Choose one: add,mul,div,sub\"))\n",
    "a=float(input(\"first number\"))\n",
    "b=float(input(\"second number\"))\n",
    "if str_x=='add':\n",
    "    print(\"addition:\",a+b)\n",
    "elif str_x=='div':\n",
    "    print(\"division:\",a/b)\n",
    "elif str_x=='mul':\n",
    "    print(\"multiplication:\",a*b)\n",
    "elif str_x=='sub':\n",
    "    print(\"subtraction:\",a-b)\n",
    "else:\n",
    "    print(\"enter a valid input\")"
   ]
  },
  {
   "cell_type": "code",
   "execution_count": null,
   "id": "0e59c9a6-f8ce-4eed-a8ee-a9a499ca66d8",
   "metadata": {},
   "outputs": [],
   "source": []
  }
 ],
 "metadata": {
  "kernelspec": {
   "display_name": "Python 3 (ipykernel)",
   "language": "python",
   "name": "python3"
  },
  "language_info": {
   "codemirror_mode": {
    "name": "ipython",
    "version": 3
   },
   "file_extension": ".py",
   "mimetype": "text/x-python",
   "name": "python",
   "nbconvert_exporter": "python",
   "pygments_lexer": "ipython3",
   "version": "3.9.12"
  }
 },
 "nbformat": 4,
 "nbformat_minor": 5
}
