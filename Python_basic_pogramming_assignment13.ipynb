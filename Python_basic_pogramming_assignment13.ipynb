{
 "cells": [
  {
   "cell_type": "markdown",
   "id": "1c0da3c0-60f7-4b99-9dc5-924235bad6e5",
   "metadata": {},
   "source": [
    "# Question 1:\n",
    "\n",
    "Write a program that calculates and prints the value according to the given formula:\n",
    "\n",
    "Q = Square root of [(2 * C * D)/H]\n",
    "\n",
    "Following are the fixed values of C and H:\n",
    "\n",
    "C is 50. H is 30.\n",
    "\n",
    "D is the variable whose values should be input to your program in a comma-separated sequence.\n",
    "\n",
    "Example\n",
    "\n",
    "Let us assume the following comma separated input sequence is given to the program:\n",
    "\n",
    "100,150,180\n",
    "\n",
    "The output of the program should be:\n",
    "\n",
    "18,22,24\n"
   ]
  },
  {
   "cell_type": "code",
   "execution_count": 9,
   "id": "5256ddb1-7bfe-4972-aebc-b1c2b57ab737",
   "metadata": {},
   "outputs": [
    {
     "name": "stdin",
     "output_type": "stream",
     "text": [
      "Please enter the value of D comma separated with int: 100,150,180\n"
     ]
    },
    {
     "name": "stdout",
     "output_type": "stream",
     "text": [
      "18,22,24\n"
     ]
    }
   ],
   "source": [
    "import math\n",
    "D=list(str(input(\"Please enter the value of D comma separated with int:\")).split(\",\"))\n",
    "for i in range(len(D)):\n",
    "    Q=math.sqrt((2*50*int(D[i])/30))\n",
    "    if i!=len(D)-1:\n",
    "        print(int(Q),end=\",\")\n",
    "    else:\n",
    "        print(int(Q))"
   ]
  },
  {
   "cell_type": "markdown",
   "id": "51ae9533-5391-48bc-9318-44078df6972d",
   "metadata": {},
   "source": [
    "# Question 2:\n",
    "Write a program which takes 2 digits, X,Y as input and generates a 2-dimensional array. The element value in the i-th row and j-th column of the array should be i*j.\n",
    "\n",
    "Note: i=0,1.., X-1; j=0,1,¡¬Y-1.\n",
    "\n",
    "Example\n",
    "\n",
    "Suppose the following inputs are given to the program:\n",
    "\n",
    "3,5\n",
    "\n",
    "Then, the output of the program should be:\n",
    "\n",
    "[[0, 0, 0, 0, 0], [0, 1, 2, 3, 4], [0, 2, 4, 6, 8]] \n",
    "\n"
   ]
  },
  {
   "cell_type": "code",
   "execution_count": 12,
   "id": "64dea3f3-a38f-4ad0-937c-22f640dcaa5e",
   "metadata": {},
   "outputs": [
    {
     "name": "stdin",
     "output_type": "stream",
     "text": [
      "Enter value of X 5\n",
      "Enter value of Y 5\n"
     ]
    },
    {
     "name": "stdout",
     "output_type": "stream",
     "text": [
      "[[0, 0, 0, 0, 0], [0, 1, 2, 3, 4], [0, 2, 4, 6, 8], [0, 3, 6, 9, 12], [0, 4, 8, 12, 16]]\n"
     ]
    }
   ],
   "source": [
    "X=int(input(\"Enter value of X\"))\n",
    "Y=int(input(\"Enter value of Y\"))\n",
    "ans_list=[]\n",
    "for i in range(X):\n",
    "    temp_list=[]\n",
    "    for j in range(Y):\n",
    "        temp_list.append(int(i*j))\n",
    "    ans_list.append(temp_list)\n",
    "print(ans_list)"
   ]
  },
  {
   "cell_type": "markdown",
   "id": "8416f4f6-899b-469c-8b66-963537d2fcb9",
   "metadata": {},
   "source": [
    "# Question 3:\n",
    "Write a program that accepts a comma separated sequence of words as input and prints the words in a comma-separated sequence after sorting them alphabetically.\n",
    "\n",
    "Suppose the following input is supplied to the program:\n",
    "\n",
    "without,hello,bag,world\n",
    "\n",
    "Then, the output should be:\n",
    "\n",
    "bag,hello,without,world\n"
   ]
  },
  {
   "cell_type": "code",
   "execution_count": 15,
   "id": "86c3b9ca-5480-41b0-8dd9-7bc645ab99a7",
   "metadata": {},
   "outputs": [
    {
     "name": "stdin",
     "output_type": "stream",
     "text": [
      "Enter words comma seprated: without,hello,bag,word\n"
     ]
    },
    {
     "name": "stdout",
     "output_type": "stream",
     "text": [
      "bag,hello,without,word\n"
     ]
    }
   ],
   "source": [
    "list_x=list(str(input(\"Enter words comma seprated:\")).split(\",\"))\n",
    "list_x.sort()\n",
    "for i in range(len(list_x)):\n",
    "    if i!=len(list_x)-1:\n",
    "        print(list_x[i],end=',')\n",
    "    else:\n",
    "        print(list_x[i])"
   ]
  },
  {
   "cell_type": "markdown",
   "id": "1d99afdb-b4c1-452b-a749-4f5c108af72b",
   "metadata": {},
   "source": [
    "# Question 4:\n",
    "Write a program that accepts a sequence of whitespace separated words as input and prints the words after removing all duplicate words and sorting them alphanumerically.\n",
    "\n",
    "Suppose the following input is supplied to the program:\n",
    "\n",
    "hello world and practice makes perfect and hello world again\n",
    "\n",
    "Then, the output should be:\n",
    "\n",
    "again and hello makes perfect practice world\n"
   ]
  },
  {
   "cell_type": "code",
   "execution_count": 37,
   "id": "9caf5454-e27b-4668-9d67-f8f95184fabe",
   "metadata": {},
   "outputs": [
    {
     "name": "stdin",
     "output_type": "stream",
     "text": [
      "Enter words space seprated: hello world and practice makes perfect and hello world again\n"
     ]
    },
    {
     "name": "stdout",
     "output_type": "stream",
     "text": [
      "again and hello makes perfect practice world\n"
     ]
    }
   ],
   "source": [
    "list_x=list(str(input(\"Enter words space seprated:\")).split(\" \"))\n",
    "dict_x={}\n",
    "remove_x=[]\n",
    "for i in range(len(list_x)):\n",
    "    try:\n",
    "        if dict_x[list_x[i]]==1:\n",
    "            #print(i)\n",
    "            remove_x.append(list_x[i])\n",
    "            #print(remove_x)\n",
    "    except:\n",
    "        dict_x[list_x[i]]=1\n",
    "for i in range(len(remove_x)):\n",
    "    list_x.remove(remove_x[i])\n",
    "list_x.sort()\n",
    "for i in range(len(list_x)):\n",
    "    if i!=len(list_x)-1:\n",
    "        print(list_x[i],end=\" \")\n",
    "    else:\n",
    "        print(list_x[i])"
   ]
  },
  {
   "cell_type": "markdown",
   "id": "2d25ce36-c1a0-44d6-907f-d5acdbe5c7c0",
   "metadata": {},
   "source": [
    "# Question 5:\n",
    "Write a program that accepts a sentence and calculate the number of letters and digits.\n",
    "\n",
    "Suppose the following input is supplied to the program:\n",
    "\n",
    "hello world! 123\n",
    "\n",
    "Then, the output should be:\n",
    "\n",
    "LETTERS 10\n",
    "\n",
    "DIGITS 3\n"
   ]
  },
  {
   "cell_type": "code",
   "execution_count": 38,
   "id": "5701d69a-5b9a-4a21-b0e2-6446975d93eb",
   "metadata": {},
   "outputs": [
    {
     "name": "stdin",
     "output_type": "stream",
     "text": [
      "Please enter a string hello world! 123\n"
     ]
    },
    {
     "name": "stdout",
     "output_type": "stream",
     "text": [
      "LETTERS  10\n",
      "DIGITS  3\n"
     ]
    }
   ],
   "source": [
    "str_x=str(input(\"Please enter a string\"))\n",
    "L=0\n",
    "D=0\n",
    "for i in range(len(str_x)):\n",
    "    if str_x[i].isalpha():\n",
    "        L+=1\n",
    "    if str_x[i].isdigit():\n",
    "        D+=1\n",
    "print(\"LETTERS \",L)\n",
    "print(\"DIGITS \",D)\n",
    "        "
   ]
  },
  {
   "cell_type": "markdown",
   "id": "29f692a9-c9e4-450c-9bbf-8dc56b0c40bf",
   "metadata": {},
   "source": [
    "# Question 6:\n",
    "A website requires the users to input username and password to register. Write a program to check the validity of password input by users.\n",
    "\n",
    "Following are the criteria for checking the password:\n",
    "\n",
    "1. At least 1 letter between [a-z]\n",
    "\n",
    "2. At least 1 number between [0-9]\n",
    "\n",
    "1. At least 1 letter between [A-Z]\n",
    "\n",
    "3. At least 1 character from [$#@]\n",
    "\n",
    "4. Minimum length of transaction password: 6\n",
    "\n",
    "5. Maximum length of transaction password: 12\n",
    "\n",
    "Your program should accept a sequence of comma separated passwords and will check them according to the above criteria. Passwords that match the criteria are to be printed, each separated by a comma.\n",
    "\n",
    "Example\n",
    "\n",
    "If the following passwords are given as input to the program:\n",
    "\n",
    "ABd1234@1,a F1#,2w3E*,2We3345\n",
    "\n",
    "Then, the output of the program should be:\n",
    "\n",
    "ABd1234@1\n"
   ]
  },
  {
   "cell_type": "code",
   "execution_count": 57,
   "id": "05e95fbd-8999-45ab-9946-02da1422e7f6",
   "metadata": {},
   "outputs": [],
   "source": [
    "def ispassword(str_x):\n",
    "    #print(len(str_x))\n",
    "    if len(str_x)<6 or len(str_x)>12:\n",
    "        return False\n",
    "    f1=0\n",
    "    f2=0\n",
    "    f3=0\n",
    "    f4=0\n",
    "    for i in range(len(str_x)):\n",
    "        if str_x[i]>='a' and str_x[i]<='z':\n",
    "            f1=1\n",
    "        elif str_x[i]>='A' and str_x[i]<='Z':\n",
    "            f2=1\n",
    "        elif str_x[i]>='0' and str_x[i]<='9':\n",
    "            f3=1\n",
    "        elif str_x[i]=='@' or str_x[i]=='#' or str_x[i]=='$':\n",
    "            f4=1\n",
    "    #print(f1,f2,f3,f4)\n",
    "    return f1 and f2 and f3 and f4"
   ]
  },
  {
   "cell_type": "code",
   "execution_count": 60,
   "id": "012a26dc-628f-4b35-a393-33d5b01af0e5",
   "metadata": {},
   "outputs": [
    {
     "name": "stdin",
     "output_type": "stream",
     "text": [
      "Please enter passwords seprated by comma ABd1234@1,a F1#,2w3E*,2We3345\n"
     ]
    },
    {
     "name": "stdout",
     "output_type": "stream",
     "text": [
      "ABd1234@1\n"
     ]
    }
   ],
   "source": [
    "list_x=list(str(input(\"Please enter passwords seprated by comma\")).split(\",\"))\n",
    "ans_x=[]\n",
    "for i in range(len(list_x)):\n",
    "    if ispassword(list_x[i]):\n",
    "        ans_x.append(list_x[i])\n",
    "for i in range(len(ans_x)):\n",
    "    if i!=len(ans_x)-1:\n",
    "        print(ans_x[i],end=\",\")\n",
    "    else:\n",
    "        print(ans_x[i])"
   ]
  },
  {
   "cell_type": "code",
   "execution_count": null,
   "id": "c8a98644-2d14-44bc-b84b-f0c0524556fe",
   "metadata": {},
   "outputs": [],
   "source": []
  }
 ],
 "metadata": {
  "kernelspec": {
   "display_name": "Python 3 (ipykernel)",
   "language": "python",
   "name": "python3"
  },
  "language_info": {
   "codemirror_mode": {
    "name": "ipython",
    "version": 3
   },
   "file_extension": ".py",
   "mimetype": "text/x-python",
   "name": "python",
   "nbconvert_exporter": "python",
   "pygments_lexer": "ipython3",
   "version": "3.9.12"
  }
 },
 "nbformat": 4,
 "nbformat_minor": 5
}
