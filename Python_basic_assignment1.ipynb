{
 "cells": [
  {
   "cell_type": "raw",
   "id": "461c598f-a31d-4760-8b3a-3e61387534b8",
   "metadata": {},
   "source": [
    "1. In the below elements which of them are values or an expression? eg:- values can be integer or string and expressions will be mathematical operators.\n",
    "\n",
    "*  expression\n",
    "'hello'  value\n",
    "-87.8 value\n",
    "- expression\n",
    "/ expression\n",
    "+ expression\n",
    "6 value\n"
   ]
  },
  {
   "cell_type": "raw",
   "id": "2e137e1c-6fe2-47e5-bfab-b4d42ba2271a",
   "metadata": {},
   "source": [
    "2. What is the difference between string and variable?\n",
    "\n",
    "A string is a datatype and a variable is a particular name we assigned to the datatype. For example in x=\"Manan\" a is variable and the value \"Manan\" is assigned to variable x which is string datatype."
   ]
  },
  {
   "cell_type": "raw",
   "id": "d6a0e05a-05e3-4ec2-9e28-e8b389a42e04",
   "metadata": {},
   "source": [
    "3. Describe three different data types.\n",
    "\n",
    "1> boolean - contain value True and False and type as bool.\n",
    "\n",
    "2> integer - contain numbers like 1,2,456,-789,0... and type as int\n",
    "\n",
    "3> string  - contain strings like \"Hello\", \"How are you?\"... and type as str."
   ]
  },
  {
   "cell_type": "raw",
   "id": "9d4d0443-a37c-487a-8bed-a7a649ba7712",
   "metadata": {},
   "source": [
    "4. What is an expression made up of? What do all expressions do?\n",
    "\n",
    "Expressions are made of operators (+,-,/,//,*,%) and operand. Expressions evaluate and give output based on operator and operand. For example in 5%2, 5 and 2 is operand and % is the modulo operator which gives an output of 1. Same way +(plus),-(minus),//(division),/(float division),*(multiplications) etc works.\n"
   ]
  },
  {
   "cell_type": "raw",
   "id": "5af0fa24-2e79-4029-90fa-de5ea38e470d",
   "metadata": {},
   "source": [
    "5. This assignment statements, like spam = 10. What is the difference between an expression and a statement?\n",
    "\n",
    "Expressions will be output value of some operation(ex: 15+55) while assignnment statement simply store value to particular vaariable(ex: spam = 10 will assign and store value 10 to spam)."
   ]
  },
  {
   "cell_type": "raw",
   "id": "3dead116-c1aa-4544-afd0-f9b61ddb9511",
   "metadata": {},
   "source": [
    "6. After running the following code, what does the variable bacon contain?\n",
    "bacon = 22\n",
    "bacon + 1\n",
    "\n",
    "bacon contain 23 value."
   ]
  },
  {
   "cell_type": "raw",
   "id": "3af0ef24-f0b4-41f6-97f9-cfc24584c99c",
   "metadata": {},
   "source": [
    "7. What should the values of the following two terms be?\n",
    "'spam' + 'spamspam'  =  'spamspamspam'\n",
    "'spam' * 3           =  'spamspamspam'\n"
   ]
  },
  {
   "cell_type": "raw",
   "id": "ac123bfd-9eac-4b3b-bc0e-a2c0249136c6",
   "metadata": {},
   "source": [
    "8. Why is eggs a valid variable name while 100 is invalid?\n",
    "\n",
    "The variable name which is starting with any English letter is valid while the name starting with any numeric value is not valid."
   ]
  },
  {
   "cell_type": "raw",
   "id": "7dff20d9-46df-43a2-b42c-eeac6e265221",
   "metadata": {},
   "source": [
    "9. What three functions can be used to get the integer, floating-point number, or string\n",
    "version of a value?\n",
    "\n",
    "integer-int()\n",
    "floating-point-float()\n",
    "string-str()\n",
    "\n",
    "this three functions can be used."
   ]
  },
  {
   "cell_type": "raw",
   "id": "0f1b68b1-8ca6-4e82-b640-5a8125f7a54a",
   "metadata": {},
   "source": [
    "10. Why does this expression cause an error? How can you fix it?\n",
    "'I have eaten ' + 99 + ' burritos.'\n",
    "\n",
    "This expression cause error because we are trying to do a sum between string and int, it's a type error because 99 is int here. It can be solved by the following expressions:\n",
    "\n",
    "'I have eaten ' + str(99) + ' burritos.'"
   ]
  }
 ],
 "metadata": {
  "kernelspec": {
   "display_name": "Python 3 (ipykernel)",
   "language": "python",
   "name": "python3"
  },
  "language_info": {
   "codemirror_mode": {
    "name": "ipython",
    "version": 3
   },
   "file_extension": ".py",
   "mimetype": "text/x-python",
   "name": "python",
   "nbconvert_exporter": "python",
   "pygments_lexer": "ipython3",
   "version": "3.9.12"
  }
 },
 "nbformat": 4,
 "nbformat_minor": 5
}
