{
 "cells": [
  {
   "cell_type": "markdown",
   "id": "0be8dc57-1361-4e39-9e27-af22a9acbba5",
   "metadata": {},
   "source": [
    "1.What are escape characters, and how do you use them?\n",
    "ans: Its \\ backlash with charcter for particular puropse. We can use them for printing our statment in new line(\\n is used), for tab in the string we cn use \\t etc. Aprat from that \\\\,\\b,\\v,\\f,\\\\' are different characters there."
   ]
  },
  {
   "cell_type": "markdown",
   "id": "da20e9f1-45f3-4a4c-b420-26ed62caab68",
   "metadata": {},
   "source": [
    "2.What do the escape characters n and t stand for?\n",
    "ans:\n",
    "\\n for new line\n",
    "\\t for tab"
   ]
  },
  {
   "cell_type": "markdown",
   "id": "c3be4f23-77ec-4258-85b4-da33af88850a",
   "metadata": {},
   "source": [
    "3.What is the way to include backslash characters in a string?\n",
    "ans:  \\\\ will include bakcslash in a string. For example \"hello\\\\how are you\" will give output as \"hello\\how are you\"."
   ]
  },
  {
   "cell_type": "markdown",
   "id": "49c5347f-d6ad-4176-80d6-1c881ce85f81",
   "metadata": {},
   "source": [
    "4.The string \"Howl's Moving Castle\" is a correct value. Why isn't the single quote character in the word Howl's not escaped a problem?\n",
    "ans: It will not create problem as double quota is used in the start and end."
   ]
  },
  {
   "cell_type": "markdown",
   "id": "0c461375-22ca-4ecc-9bab-bfb898cbb0d5",
   "metadata": {},
   "source": [
    "5.How do you write a string of newlines if you don't want to use the n character?\n",
    "ans : we can use multiline string for example\n",
    "a=\"\"\" Hello\n",
    "How are you?\n",
    "have a nice day\"\"\"\n",
    "\n",
    "when we print a it will print in line by line."
   ]
  },
  {
   "cell_type": "markdown",
   "id": "20ce0ab3-8a23-4303-b449-ae37cb1750e9",
   "metadata": {},
   "source": [
    "6.What are the values of the given expressions?\n",
    "ans:\n",
    "'Hello, world!'[1]   -  'e'\n",
    "'Hello, world!'[0:5]   -  'Hello'\n",
    "'Hello, world!'[:5]   - 'Hello'\n",
    "'Hello, world!'[3:]   - 'lo, world!'\n"
   ]
  },
  {
   "cell_type": "markdown",
   "id": "6c441f96-2726-4f6b-b866-d0a22d0989a4",
   "metadata": {},
   "source": [
    "7.What are the values of the following expressions?\n",
    "ans:\n",
    "'Hello'.upper()  - 'HELLO'\n",
    "'Hello'.upper().isupper()  - True\n",
    "'Hello'.upper().lower()  - 'hello'\n"
   ]
  },
  {
   "cell_type": "markdown",
   "id": "cf0a938a-d868-4488-805b-941a2ed1732a",
   "metadata": {},
   "source": [
    "8.What are the values of the following expressions?\n",
    "'Remember, remember, the fifth of July.'.split()  - ['Remember,', 'remember,', 'the', 'fifth', 'of', 'July.']\n",
    "'-'.join('There can only one.'.split()) -  'There-can-only-one.'\n"
   ]
  },
  {
   "cell_type": "markdown",
   "id": "135443dd-ccaf-4abb-926d-4df91a0bb06d",
   "metadata": {},
   "source": [
    "9.What are the methods for right-justifying, left-justifying, and centering a string?\n",
    "ans: \n",
    "rjust(), ljust() and center() method is used."
   ]
  },
  {
   "cell_type": "markdown",
   "id": "e0a9a597-55e6-4912-86f8-8cb42288aa9f",
   "metadata": {},
   "source": [
    "10.What is the best way to remove whitespace characters from the start or end?\n",
    "ans:\n",
    "lstrip() for start side and rstrip() for the end side is used."
   ]
  },
  {
   "cell_type": "code",
   "execution_count": null,
   "id": "9b312fe6-fce1-4c86-bd98-cbf8e83bb388",
   "metadata": {},
   "outputs": [],
   "source": []
  }
 ],
 "metadata": {
  "kernelspec": {
   "display_name": "Python 3 (ipykernel)",
   "language": "python",
   "name": "python3"
  },
  "language_info": {
   "codemirror_mode": {
    "name": "ipython",
    "version": 3
   },
   "file_extension": ".py",
   "mimetype": "text/x-python",
   "name": "python",
   "nbconvert_exporter": "python",
   "pygments_lexer": "ipython3",
   "version": "3.9.12"
  }
 },
 "nbformat": 4,
 "nbformat_minor": 5
}
