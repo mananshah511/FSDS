{
 "cells": [
  {
   "cell_type": "markdown",
   "id": "4bc64aba-e719-468c-b092-518646756110",
   "metadata": {},
   "source": [
    "1.How do you distinguish between shutil.copy() and shutil.copytree()?\n",
    "ans:shutil.copy() copy one file to given directory, while shutil.copytree() copy all file from one directory to another directory."
   ]
  },
  {
   "cell_type": "markdown",
   "id": "b19bae26-0bc0-41c2-af57-da7a7e4c62ab",
   "metadata": {},
   "source": [
    "2.What function is used to rename files??\n",
    "ans:os.rename() or shutil.move() function is used to rename file."
   ]
  },
  {
   "cell_type": "markdown",
   "id": "79570f1d-00e7-4cc0-aa7c-766690cb3248",
   "metadata": {},
   "source": [
    "3.What is the difference between the delete functions in the send2trash and shutil modules?\n",
    "ans:delete function in shutil permnent delete filels from a give direcitory while send2trash delete particular file and sent it to recycle bin."
   ]
  },
  {
   "cell_type": "markdown",
   "id": "1b242d6e-897d-490a-9cfe-02238ab97722",
   "metadata": {},
   "source": [
    "4.ZipFile objects have a close() method just like File objects’ close() method. What ZipFile method is equivalent to File objects’ open() method?\n",
    "ans : zipFile() method is equal to open() method."
   ]
  },
  {
   "cell_type": "markdown",
   "id": "c0c5358a-43b5-467e-9c68-5e4c3f51c66f",
   "metadata": {},
   "source": [
    "5.Create a programme that searches a folder tree for files with a certain file extension (such as .pdf or .jpg). Copy these files from whatever location they are in to a new folder."
   ]
  },
  {
   "cell_type": "code",
   "execution_count": 2,
   "id": "e000a298-ec98-401e-8f72-ab8928a53a95",
   "metadata": {},
   "outputs": [],
   "source": [
    "import shutil\n",
    "import os\n",
    "s='/home/manan511sh48ine/'     #source\n",
    "d='/home/manan511sh48ine/allpdf/'   #destination\n",
    "ext='.pdf'   #change to .jpg or other for different files\n",
    "for i in os.listdir(s):\n",
    "    if i.endswith(ext):\n",
    "        shutil.copy(s+i,d)"
   ]
  },
  {
   "cell_type": "code",
   "execution_count": null,
   "id": "5e67a7b0-5402-4ff9-a8c8-b2dede581d4a",
   "metadata": {},
   "outputs": [],
   "source": []
  }
 ],
 "metadata": {
  "kernelspec": {
   "display_name": "Python 3 (ipykernel)",
   "language": "python",
   "name": "python3"
  },
  "language_info": {
   "codemirror_mode": {
    "name": "ipython",
    "version": 3
   },
   "file_extension": ".py",
   "mimetype": "text/x-python",
   "name": "python",
   "nbconvert_exporter": "python",
   "pygments_lexer": "ipython3",
   "version": "3.9.12"
  }
 },
 "nbformat": 4,
 "nbformat_minor": 5
}
