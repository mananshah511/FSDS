{
 "cells": [
  {
   "cell_type": "markdown",
   "id": "d321cbc0-77b5-4920-8e5a-c990204ba13d",
   "metadata": {},
   "source": [
    "# 1.Write a Python Program to Find the Factorial of a Number?"
   ]
  },
  {
   "cell_type": "code",
   "execution_count": 5,
   "id": "0e6a0c1b-f6af-4303-b77b-9d9de7ab54a7",
   "metadata": {},
   "outputs": [
    {
     "name": "stdin",
     "output_type": "stream",
     "text": [
      "please enter a number 5\n"
     ]
    },
    {
     "name": "stdout",
     "output_type": "stream",
     "text": [
      "factorial of a given number is: 120\n"
     ]
    }
   ],
   "source": [
    "N=int(input(\"please enter a number\"))\n",
    "fact=1\n",
    "while(N>1):\n",
    "    fact=fact*(N)\n",
    "    N=N-1\n",
    "print(\"factorial of a given number is:\",fact)"
   ]
  },
  {
   "cell_type": "markdown",
   "id": "2dd92661-19f9-4f06-ba89-32de2e92040a",
   "metadata": {},
   "source": [
    "# 2.Write a Python Program to Display the multiplication Table?"
   ]
  },
  {
   "cell_type": "code",
   "execution_count": 8,
   "id": "fd850b26-535d-4c59-90ab-d0d637c099c8",
   "metadata": {},
   "outputs": [
    {
     "name": "stdin",
     "output_type": "stream",
     "text": [
      "please enter a number 15\n"
     ]
    },
    {
     "name": "stdout",
     "output_type": "stream",
     "text": [
      "15 'X' 1: 15\n",
      "15 'X' 2: 30\n",
      "15 'X' 3: 45\n",
      "15 'X' 4: 60\n",
      "15 'X' 5: 75\n",
      "15 'X' 6: 90\n",
      "15 'X' 7: 105\n",
      "15 'X' 8: 120\n",
      "15 'X' 9: 135\n",
      "15 'X' 10: 150\n"
     ]
    }
   ],
   "source": [
    "N=int(input(\"please enter a number\"))\n",
    "for i in range(1,11):\n",
    "    print(\"{} 'X' {}: {}\".format(N,i,N*i))"
   ]
  },
  {
   "cell_type": "markdown",
   "id": "336617ae-f292-437f-9e5d-a0c8c70e921c",
   "metadata": {},
   "source": [
    "# 3.Write a Python Program to Print the Fibonacci sequence?"
   ]
  },
  {
   "cell_type": "code",
   "execution_count": 18,
   "id": "9a29cb57-7990-4bde-9785-d5a3cb59c78b",
   "metadata": {},
   "outputs": [
    {
     "name": "stdin",
     "output_type": "stream",
     "text": [
      "please enter number of term 8\n"
     ]
    },
    {
     "name": "stdout",
     "output_type": "stream",
     "text": [
      "0 1 1 2 3 5 8 13 "
     ]
    }
   ],
   "source": [
    "N=int(input(\"please enter number of term\"))\n",
    "a=0\n",
    "b=1\n",
    "if(N==1):\n",
    "    print(a)\n",
    "elif(N==2):\n",
    "    print(a,b)\n",
    "else:\n",
    "    print(a,b,end=' ')\n",
    "    for i in range(2,N):\n",
    "        print(a+b,end=' ')\n",
    "        t=b\n",
    "        b=a+b\n",
    "        a=t"
   ]
  },
  {
   "cell_type": "markdown",
   "id": "29a732d6-1e4d-4470-92a5-6485c399269f",
   "metadata": {},
   "source": [
    "# 4.Write a Python Program to Check Armstrong Number?"
   ]
  },
  {
   "cell_type": "code",
   "execution_count": 31,
   "id": "11fe8ee6-419b-497f-8a29-2d46b33ab9a4",
   "metadata": {},
   "outputs": [
    {
     "name": "stdin",
     "output_type": "stream",
     "text": [
      "Please enter a number 371\n"
     ]
    },
    {
     "name": "stdout",
     "output_type": "stream",
     "text": [
      "Armstrong number\n"
     ]
    }
   ],
   "source": [
    "N=str(input(\"Please enter a number\"))\n",
    "S=0\n",
    "for i in range(len(N)):\n",
    "    S+=(int(N[i])**3)\n",
    "if int(N)==S:\n",
    "    print(\"Armstrong number\")\n",
    "else:\n",
    "    print(\"Not a armstrong number\")"
   ]
  },
  {
   "cell_type": "markdown",
   "id": "80971f73-ced7-4b3c-9b8d-27aa0590e641",
   "metadata": {},
   "source": [
    "# 5.Write a Python Program to Find Armstrong Number in an Interval?"
   ]
  },
  {
   "cell_type": "code",
   "execution_count": 35,
   "id": "1693b839-2397-46d2-98f4-8e127297a647",
   "metadata": {},
   "outputs": [
    {
     "name": "stdin",
     "output_type": "stream",
     "text": [
      "Enter starting of the interval 1\n",
      "Enter end of the interval 400\n"
     ]
    },
    {
     "name": "stdout",
     "output_type": "stream",
     "text": [
      "Armstrong number in given range are:\n",
      "1 153 370 371 "
     ]
    }
   ],
   "source": [
    "a=int(input(\"Enter starting of the interval\"))\n",
    "b=int(input(\"Enter end of the interval\"))\n",
    "print(\"Armstrong number in given range are:\")\n",
    "for j in range(a,b+1):\n",
    "    N=str(j)\n",
    "    S=0\n",
    "    for i in range(len(N)):\n",
    "        S+=(int(N[i])**3)\n",
    "    if int(N)==S:\n",
    "        print(int(N),end=' ')"
   ]
  },
  {
   "cell_type": "markdown",
   "id": "7be259a3-66c8-485c-871e-226d9fd90250",
   "metadata": {},
   "source": [
    "# 6.Write a Python Program to Find the Sum of Natural Numbers?"
   ]
  },
  {
   "cell_type": "code",
   "execution_count": 37,
   "id": "3c345cde-fe2c-47fc-9b12-6b56c4d8b6a2",
   "metadata": {},
   "outputs": [
    {
     "name": "stdin",
     "output_type": "stream",
     "text": [
      "Enter a number: 10\n"
     ]
    },
    {
     "name": "stdout",
     "output_type": "stream",
     "text": [
      "sum of first 10 number is:55.0\n"
     ]
    }
   ],
   "source": [
    "N=int(input(\"Enter a number:\"))\n",
    "print(\"sum of first {} number is:{}\".format(N,(N*(N+1)/2)))"
   ]
  },
  {
   "cell_type": "code",
   "execution_count": null,
   "id": "5d3e174a-4f6b-4f69-a88a-06997e941e7c",
   "metadata": {},
   "outputs": [],
   "source": []
  }
 ],
 "metadata": {
  "kernelspec": {
   "display_name": "Python 3 (ipykernel)",
   "language": "python",
   "name": "python3"
  },
  "language_info": {
   "codemirror_mode": {
    "name": "ipython",
    "version": 3
   },
   "file_extension": ".py",
   "mimetype": "text/x-python",
   "name": "python",
   "nbconvert_exporter": "python",
   "pygments_lexer": "ipython3",
   "version": "3.9.12"
  }
 },
 "nbformat": 4,
 "nbformat_minor": 5
}
