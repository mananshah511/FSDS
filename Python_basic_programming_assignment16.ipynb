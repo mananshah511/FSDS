{
 "cells": [
  {
   "cell_type": "markdown",
   "id": "96f5cc24-e6f4-4ad7-9bbf-387ff83d797c",
   "metadata": {},
   "source": [
    "# Question1. \n",
    "Write a function that stutters a word as if someone is struggling to read it. The first two letters are repeated twice with an ellipsis ... and space after each, and then the word is pronounced with a question mark ?."
   ]
  },
  {
   "cell_type": "code",
   "execution_count": 3,
   "id": "f0e63586-4d6b-4c54-ae49-b8b6babd495f",
   "metadata": {},
   "outputs": [],
   "source": [
    "def stutter(str_x):\n",
    "    return str_x[:2]+\"... \"+str_x[:2]+\"... \"+str_x+\"?\""
   ]
  },
  {
   "cell_type": "code",
   "execution_count": 4,
   "id": "f63c3d6f-8d2b-470b-afef-5493885c7d92",
   "metadata": {},
   "outputs": [
    {
     "data": {
      "text/plain": [
       "'in... in... incredible?'"
      ]
     },
     "execution_count": 4,
     "metadata": {},
     "output_type": "execute_result"
    }
   ],
   "source": [
    "stutter(\"incredible\") "
   ]
  },
  {
   "cell_type": "code",
   "execution_count": 5,
   "id": "448c3612-38fa-4e04-8d6b-6fbe810b0cb7",
   "metadata": {},
   "outputs": [
    {
     "data": {
      "text/plain": [
       "'en... en... enthusiastic?'"
      ]
     },
     "execution_count": 5,
     "metadata": {},
     "output_type": "execute_result"
    }
   ],
   "source": [
    "stutter(\"enthusiastic\") "
   ]
  },
  {
   "cell_type": "code",
   "execution_count": 6,
   "id": "0ba4a4f8-b895-4cbc-bff1-aec2be963fbd",
   "metadata": {},
   "outputs": [
    {
     "data": {
      "text/plain": [
       "'ou... ou... outstanding?'"
      ]
     },
     "execution_count": 6,
     "metadata": {},
     "output_type": "execute_result"
    }
   ],
   "source": [
    "stutter(\"outstanding\")"
   ]
  },
  {
   "cell_type": "markdown",
   "id": "5aea0147-8527-4877-a7f3-1ca67dbef846",
   "metadata": {},
   "source": [
    "# Question 2\n",
    "Create a function that takes an angle in radians and returns the corresponding angle in degrees rounded to one decimal place."
   ]
  },
  {
   "cell_type": "code",
   "execution_count": 12,
   "id": "96904e90-ba53-485b-a77b-d241513c1281",
   "metadata": {},
   "outputs": [],
   "source": [
    "import math\n",
    "def radians_to_degrees(int_x):\n",
    "    ans_x=int_x*(180/math.pi)\n",
    "    return round(ans_x,1)"
   ]
  },
  {
   "cell_type": "code",
   "execution_count": 13,
   "id": "c32ad9c1-a5e9-4061-89a1-dbc167f2bfc3",
   "metadata": {},
   "outputs": [
    {
     "data": {
      "text/plain": [
       "57.3"
      ]
     },
     "execution_count": 13,
     "metadata": {},
     "output_type": "execute_result"
    }
   ],
   "source": [
    "radians_to_degrees(1)"
   ]
  },
  {
   "cell_type": "code",
   "execution_count": 14,
   "id": "9d69ed9e-2693-4aa7-b40b-9d12f3cdf020",
   "metadata": {},
   "outputs": [
    {
     "data": {
      "text/plain": [
       "1145.9"
      ]
     },
     "execution_count": 14,
     "metadata": {},
     "output_type": "execute_result"
    }
   ],
   "source": [
    "radians_to_degrees(20)"
   ]
  },
  {
   "cell_type": "code",
   "execution_count": 15,
   "id": "5de3b5fb-c867-4ea2-aed2-9dbedbd77ab6",
   "metadata": {},
   "outputs": [
    {
     "data": {
      "text/plain": [
       "2864.8"
      ]
     },
     "execution_count": 15,
     "metadata": {},
     "output_type": "execute_result"
    }
   ],
   "source": [
    "radians_to_degrees(50)"
   ]
  },
  {
   "cell_type": "markdown",
   "id": "3d6a7bf4-442d-4ac7-9b02-cf27b7180b0c",
   "metadata": {},
   "source": [
    "# Question 3. \n",
    "In this challenge, establish if a given integer num is a Curzon number. If 1 plus 2 elevated to num is exactly divisible by 1 plus 2 multiplied by num, then num is a Curzon number. Given a non-negative integer num, implement a function that returns True if num is a Curzon number, or False otherwise."
   ]
  },
  {
   "cell_type": "code",
   "execution_count": 19,
   "id": "b1d78aa7-a8ac-4e7e-9c35-83cbe9593414",
   "metadata": {},
   "outputs": [],
   "source": [
    "def is_curzon(N):\n",
    "    return (((2**N)+1)%((2*N)+1))==0"
   ]
  },
  {
   "cell_type": "code",
   "execution_count": 20,
   "id": "418fd579-9ac4-4149-8d77-d42e2c025f9d",
   "metadata": {},
   "outputs": [
    {
     "data": {
      "text/plain": [
       "True"
      ]
     },
     "execution_count": 20,
     "metadata": {},
     "output_type": "execute_result"
    }
   ],
   "source": [
    "is_curzon(5)"
   ]
  },
  {
   "cell_type": "code",
   "execution_count": 21,
   "id": "97555551-d4d1-494f-b695-ddef4a519a46",
   "metadata": {},
   "outputs": [
    {
     "data": {
      "text/plain": [
       "False"
      ]
     },
     "execution_count": 21,
     "metadata": {},
     "output_type": "execute_result"
    }
   ],
   "source": [
    "is_curzon(10)"
   ]
  },
  {
   "cell_type": "code",
   "execution_count": 22,
   "id": "3c40f6b5-a60e-4088-ae5e-3677c1b2d6d5",
   "metadata": {},
   "outputs": [
    {
     "data": {
      "text/plain": [
       "True"
      ]
     },
     "execution_count": 22,
     "metadata": {},
     "output_type": "execute_result"
    }
   ],
   "source": [
    "is_curzon(14) "
   ]
  },
  {
   "cell_type": "markdown",
   "id": "b4c0270f-6de5-4360-acc1-6b407fa224c4",
   "metadata": {},
   "source": [
    "# Question 4.Given the side length x find the area of a hexagon"
   ]
  },
  {
   "cell_type": "code",
   "execution_count": 25,
   "id": "18e0503d-22bd-4e6e-9554-175b21f12bd4",
   "metadata": {},
   "outputs": [],
   "source": [
    "def area_of_hexagon(x):\n",
    "    return round((3*(math.sqrt(3))*(x**2))/2,1)"
   ]
  },
  {
   "cell_type": "code",
   "execution_count": 26,
   "id": "4c6789c4-9bfa-4177-9601-c82bb7f63252",
   "metadata": {},
   "outputs": [
    {
     "data": {
      "text/plain": [
       "2.6"
      ]
     },
     "execution_count": 26,
     "metadata": {},
     "output_type": "execute_result"
    }
   ],
   "source": [
    "area_of_hexagon(1)"
   ]
  },
  {
   "cell_type": "code",
   "execution_count": 27,
   "id": "0ccd5295-61ad-4131-9bc8-58cd1169b1eb",
   "metadata": {},
   "outputs": [
    {
     "data": {
      "text/plain": [
       "10.4"
      ]
     },
     "execution_count": 27,
     "metadata": {},
     "output_type": "execute_result"
    }
   ],
   "source": [
    "area_of_hexagon(2)"
   ]
  },
  {
   "cell_type": "code",
   "execution_count": 28,
   "id": "eebd027a-5afd-492a-a6f4-c0fb4f19eec7",
   "metadata": {},
   "outputs": [
    {
     "data": {
      "text/plain": [
       "23.4"
      ]
     },
     "execution_count": 28,
     "metadata": {},
     "output_type": "execute_result"
    }
   ],
   "source": [
    "area_of_hexagon(3)"
   ]
  },
  {
   "cell_type": "markdown",
   "id": "bd6112bb-5ac0-49bb-8bd2-fe448775a319",
   "metadata": {},
   "source": [
    "# Question 5. \n",
    "Create a function that returns a base-2 (binary) representation of a base-10 (decimal) string number. To convert is simple: ((2) means base-2 and (10) means base-10) 010101001(2) = 1 + 8 + 32 + 128.\n",
    "Going from right to left, the value of the most right bit is 1, now from that every bit to the left will be x2 the value, value of an 8 bit binary numbers are (256, 128, 64, 32, 16, 8, 4, 2, 1).\n"
   ]
  },
  {
   "cell_type": "code",
   "execution_count": 37,
   "id": "bcec3429-f653-40ab-90bd-ca0e9ece23d4",
   "metadata": {},
   "outputs": [],
   "source": [
    "def binary(int_x):\n",
    "    ans=\"\"\n",
    "    while(int_x>1):\n",
    "        if(int_x%2==0):\n",
    "            ans+=\"0\"\n",
    "            int_x=int_x//2\n",
    "        else:\n",
    "            ans+=\"1\"\n",
    "            int_x=int_x//2\n",
    "    if int_x==1:\n",
    "        return \"1\"+ans[::-1]\n",
    "    return ans[::-1]\n",
    "    "
   ]
  },
  {
   "cell_type": "code",
   "execution_count": 38,
   "id": "c1cc3261-12e9-4061-94a5-d59fc60c520b",
   "metadata": {},
   "outputs": [
    {
     "data": {
      "text/plain": [
       "'1'"
      ]
     },
     "execution_count": 38,
     "metadata": {},
     "output_type": "execute_result"
    }
   ],
   "source": [
    "binary(1) "
   ]
  },
  {
   "cell_type": "code",
   "execution_count": 39,
   "id": "a43df522-8d05-49be-b337-7d3babf6d51c",
   "metadata": {},
   "outputs": [
    {
     "data": {
      "text/plain": [
       "'101'"
      ]
     },
     "execution_count": 39,
     "metadata": {},
     "output_type": "execute_result"
    }
   ],
   "source": [
    "binary(5)"
   ]
  },
  {
   "cell_type": "code",
   "execution_count": 41,
   "id": "953252df-5946-4cbb-8f63-3e3e25cb48b6",
   "metadata": {},
   "outputs": [
    {
     "data": {
      "text/plain": [
       "'1010001'"
      ]
     },
     "execution_count": 41,
     "metadata": {},
     "output_type": "execute_result"
    }
   ],
   "source": [
    "binary(81)"
   ]
  },
  {
   "cell_type": "code",
   "execution_count": 42,
   "id": "06164c0d-19d9-4a5e-b8ff-b83f30e02b2f",
   "metadata": {},
   "outputs": [
    {
     "data": {
      "text/plain": [
       "'1010010'"
      ]
     },
     "execution_count": 42,
     "metadata": {},
     "output_type": "execute_result"
    }
   ],
   "source": [
    "binary(82)"
   ]
  },
  {
   "cell_type": "code",
   "execution_count": null,
   "id": "978b9d21-a8e1-46ed-9261-39a20af25a92",
   "metadata": {},
   "outputs": [],
   "source": []
  }
 ],
 "metadata": {
  "kernelspec": {
   "display_name": "Python 3 (ipykernel)",
   "language": "python",
   "name": "python3"
  },
  "language_info": {
   "codemirror_mode": {
    "name": "ipython",
    "version": 3
   },
   "file_extension": ".py",
   "mimetype": "text/x-python",
   "name": "python",
   "nbconvert_exporter": "python",
   "pygments_lexer": "ipython3",
   "version": "3.9.12"
  }
 },
 "nbformat": 4,
 "nbformat_minor": 5
}
