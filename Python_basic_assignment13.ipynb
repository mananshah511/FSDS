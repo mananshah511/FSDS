{
 "cells": [
  {
   "cell_type": "markdown",
   "id": "49c61504-84a2-442d-ae8c-c9ecba506415",
   "metadata": {},
   "source": [
    "1. What advantages do Excel spreadsheets have over CSV spreadsheets?"
   ]
  },
  {
   "cell_type": "raw",
   "id": "d2e4b7fd-1896-478e-9e6f-67d93db1a1e2",
   "metadata": {},
   "source": [
    "Excel spreadsheets are better for understanding the data as they store data in tabler form. CSV contains data in plain text form. Excel can perform various operations on the data CSV cant as it's open as plain text."
   ]
  },
  {
   "cell_type": "markdown",
   "id": "feb30fc9-c99d-4ae1-990d-c538c53149e3",
   "metadata": {},
   "source": [
    "2.What do you pass to csv.reader() and csv.writer() to create reader and writer objects?"
   ]
  },
  {
   "cell_type": "raw",
   "id": "05e66699-8348-4db2-a3fb-a5c38550924f",
   "metadata": {},
   "source": [
    "we pass csv file in reader and writer method to create reader, writer objects"
   ]
  },
  {
   "cell_type": "code",
   "execution_count": 24,
   "id": "cb618708-fcab-402e-b863-e784c7a9e46f",
   "metadata": {},
   "outputs": [
    {
     "name": "stdout",
     "output_type": "stream",
     "text": [
      "['id', 'location_id', 'address_1', 'address_2', 'city', 'state_province', 'postal_code', 'country']\n",
      "['1', '1', '2600 Middlefield Road', '', 'Redwood City', 'CA', '94063', 'US']\n",
      "['2', '2', '24 Second Avenue', '', 'San Mateo', 'CA', '94401', 'US']\n",
      "['3', '3', '24 Second Avenue', '', 'San Mateo', 'CA', '94403', 'US']\n",
      "['4', '4', '24 Second Avenue', '', 'San Mateo', 'CA', '94401', 'US']\n",
      "['5', '5', '24 Second Avenue', '', 'San Mateo', 'CA', '94401', 'US']\n",
      "['6', '6', '800 Middle Avenue', '', 'Menlo Park', 'CA', '94025-9881', 'US']\n",
      "['7', '7', '500 Arbor Road', '', 'Menlo Park', 'CA', '94025', 'US']\n",
      "['8', '8', '800 Middle Avenue', '', 'Menlo Park', 'CA', '94025-9881', 'US']\n",
      "['9', '9', '2510 Middlefield Road', '', 'Redwood City', 'CA', '94063', 'US']\n",
      "['10', '10', '1044 Middlefield Road', '', 'Redwood City', 'CA', '94063', 'US']\n",
      "['11', '11', '2140 Euclid Avenue.', '', 'Redwood City', 'CA', '94061', 'US']\n",
      "['12', '12', '1044 Middlefield Road', '2nd Floor', 'Redwood City', 'CA', '94063', 'US']\n",
      "['13', '13', '399 Marine Parkway.', '', 'Redwood City', 'CA', '94065', 'US']\n",
      "['14', '14', '660 Veterans Blvd.', '', 'Redwood City', 'CA', '94063', 'US']\n",
      "['15', '15', '1500 Valencia Street', '', 'San Francisco', 'CA', '94110', 'US']\n",
      "['16', '16', '1161 South Bernardo', '', 'Sunnyvale', 'CA', '94087', 'US']\n",
      "['17', '17', '409 South Spruce Avenue', '', 'South San Francisco', 'CA', '94080', 'US']\n",
      "['18', '18', '114 Fifth Avenue', '', 'Redwood City', 'CA', '94063', 'US']\n",
      "['19', '19', '19 West 39th Avenue', '', 'San Mateo', 'CA', '94403', 'US']\n",
      "['20', '21', '123 El Camino Real', '', 'Belmont', 'CA', '94002', 'US']\n",
      "['21', '22', '2013 Avenue of the fellows', 'Suite 100', 'San Francisco', 'CA', '94103', 'US']\n"
     ]
    }
   ],
   "source": [
    "import csv\n",
    "with open('addresses.csv','r') as file:\n",
    "    x=csv.reader(file)\n",
    "    for i in x:\n",
    "        print(i)"
   ]
  },
  {
   "cell_type": "code",
   "execution_count": 23,
   "id": "adf3a4ef-b083-4718-bb91-1f5814c96754",
   "metadata": {},
   "outputs": [],
   "source": [
    "with open('adresses.csv','w',newline='') as file:\n",
    "    x=csv.writer(file)\n",
    "    x.writerow(['22','23','B2004 prerana tirth','Hel 111','AHD','IND','380022','CA'])"
   ]
  },
  {
   "cell_type": "markdown",
   "id": "3451e785-07a6-4238-b0b7-5d3755d27421",
   "metadata": {},
   "source": [
    "3. What modes do File objects for reader and writer objects need to be opened in?"
   ]
  },
  {
   "cell_type": "raw",
   "id": "13e8fdda-4956-4ace-b231-4544de7d6c91",
   "metadata": {},
   "source": [
    "For reader object 'r'-read mode\n",
    "For writer object 'w'-write mode"
   ]
  },
  {
   "cell_type": "markdown",
   "id": "ad5ddaf8-17c5-442d-b5bc-6000a9aeb45e",
   "metadata": {},
   "source": [
    "4. What method takes a list argument and writes it to a CSV file?"
   ]
  },
  {
   "cell_type": "raw",
   "id": "d03e9516-12e3-4a53-a212-52b7b16e1915",
   "metadata": {},
   "source": [
    "writerow()/writerows() method takes list argument and writes to csv file"
   ]
  },
  {
   "cell_type": "markdown",
   "id": "2211ab3a-b15d-49a5-b443-813ec2d24d09",
   "metadata": {},
   "source": [
    "5. What do the keyword arguments delimiter and line terminator do?"
   ]
  },
  {
   "cell_type": "raw",
   "id": "06ac4e25-11a3-4511-b952-2a45af75cdcd",
   "metadata": {},
   "source": [
    "the delimiter is used to separate data by default it is ','\n",
    "line terminator uses the string provided as a line breaker and goes to the next line."
   ]
  },
  {
   "cell_type": "markdown",
   "id": "53849ced-7ba7-475e-9c0c-3e462d44fdc3",
   "metadata": {},
   "source": [
    "6. What function takes a string of JSON data and returns a Python data structure?"
   ]
  },
  {
   "cell_type": "code",
   "execution_count": 35,
   "id": "a46e8aa2-9245-4ee9-9461-6a49fd4bce5c",
   "metadata": {},
   "outputs": [
    {
     "name": "stdout",
     "output_type": "stream",
     "text": [
      "<class 'str'>\n",
      "<class 'dict'>\n"
     ]
    }
   ],
   "source": [
    "#loads()\n",
    "import json\n",
    "employees_string = '''\n",
    "{\n",
    "    \"employees\": [\n",
    "       {\n",
    "           \"first_name\": \"Michael\", \n",
    "           \"last_name\": \"Rodgers\", \n",
    "           \"department\": \"Marketing\"\n",
    "        },\n",
    "       {\n",
    "           \"first_name\": \"Michelle\", \n",
    "           \"last_name\": \"Williams\", \n",
    "           \"department\": \"Engineering\"\n",
    "        }\n",
    "    ]\n",
    "}'''\n",
    "print(type(employees_string))\n",
    "print(type(json.loads(employees_string)))\n"
   ]
  },
  {
   "cell_type": "markdown",
   "id": "9e263e55-673d-41a9-b9bb-43fc9e48dd64",
   "metadata": {},
   "source": [
    "7. What function takes a Python data structure and returns a string of JSON data?"
   ]
  },
  {
   "cell_type": "code",
   "execution_count": 34,
   "id": "61e2b398-15cd-46d9-8040-8e4412a40077",
   "metadata": {},
   "outputs": [
    {
     "name": "stdout",
     "output_type": "stream",
     "text": [
      "<class 'dict'>\n",
      "<class 'str'>\n"
     ]
    }
   ],
   "source": [
    "#dumps()\n",
    "x=json.loads(employees_string)\n",
    "print(type(x))\n",
    "x=json.dumps(x)\n",
    "print(type(x))"
   ]
  },
  {
   "cell_type": "code",
   "execution_count": null,
   "id": "d83a2f5e-9751-4eec-9d84-08cfc99e037c",
   "metadata": {},
   "outputs": [],
   "source": []
  }
 ],
 "metadata": {
  "kernelspec": {
   "display_name": "Python 3 (ipykernel)",
   "language": "python",
   "name": "python3"
  },
  "language_info": {
   "codemirror_mode": {
    "name": "ipython",
    "version": 3
   },
   "file_extension": ".py",
   "mimetype": "text/x-python",
   "name": "python",
   "nbconvert_exporter": "python",
   "pygments_lexer": "ipython3",
   "version": "3.9.12"
  }
 },
 "nbformat": 4,
 "nbformat_minor": 5
}
