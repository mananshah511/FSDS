{
 "cells": [
  {
   "cell_type": "markdown",
   "id": "fa9693ab-683d-41b4-afca-5ecc3a6d99f4",
   "metadata": {},
   "source": [
    "# 1.Write a Python program to Extract Unique values dictionary values?"
   ]
  },
  {
   "cell_type": "code",
   "execution_count": 11,
   "id": "4f8de164-00dc-4414-9985-06751a7d38e0",
   "metadata": {},
   "outputs": [],
   "source": [
    "def unique_values(dict_x):\n",
    "    if type(dict_x)!=dict:\n",
    "        return \"Invalid\"\n",
    "    else:\n",
    "        print(\"Unique dict values are:\")\n",
    "        return list(set(dict_x.values()))"
   ]
  },
  {
   "cell_type": "code",
   "execution_count": 14,
   "id": "fcf1b389-de49-4ca0-8e1b-c372d7491ff1",
   "metadata": {},
   "outputs": [
    {
     "name": "stdout",
     "output_type": "stream",
     "text": [
      "Unique dict values are:\n"
     ]
    },
    {
     "data": {
      "text/plain": [
       "['5', 'hello', 5]"
      ]
     },
     "execution_count": 14,
     "metadata": {},
     "output_type": "execute_result"
    }
   ],
   "source": [
    "unique_values({'koo':5,'foo':'5','raman':'hello',1:'hello'})"
   ]
  },
  {
   "cell_type": "markdown",
   "id": "5b7c1392-7a07-491d-b554-6683f2d107eb",
   "metadata": {},
   "source": [
    "# 2.Write a Python program to find the sum of all items in a dictionary?"
   ]
  },
  {
   "cell_type": "code",
   "execution_count": 29,
   "id": "41ca6ffb-fdd4-4208-9e0e-09b6c4647d56",
   "metadata": {},
   "outputs": [],
   "source": [
    "def find_sum(dict_x):\n",
    "    sum_x=0\n",
    "    if type(dict_x)!=dict:\n",
    "        return \"Invalid\"\n",
    "    else:\n",
    "        for i in dict_x.keys():\n",
    "            if type(dict_x[i])!=int and type(dict_x[i])!=float:\n",
    "                continue\n",
    "            else:\n",
    "                #print(dict_x[i])\n",
    "                sum_x+=dict_x[i]\n",
    "    return sum_x"
   ]
  },
  {
   "cell_type": "code",
   "execution_count": 30,
   "id": "9da041b7-73ce-4c1a-a3ae-8eeb02e87f40",
   "metadata": {},
   "outputs": [
    {
     "data": {
      "text/plain": [
       "545.66"
      ]
     },
     "execution_count": 30,
     "metadata": {},
     "output_type": "execute_result"
    }
   ],
   "source": [
    "find_sum({'hello':500,'manan':45.66})"
   ]
  },
  {
   "cell_type": "markdown",
   "id": "fd329d55-34cf-42c6-bac9-64ad9f3d496d",
   "metadata": {},
   "source": [
    "# 3.Write a Python program to Merging two Dictionaries?"
   ]
  },
  {
   "cell_type": "code",
   "execution_count": 40,
   "id": "689739ba-b8d7-481b-93b4-00ee5458e6b2",
   "metadata": {},
   "outputs": [],
   "source": [
    "def merge_dict(dict_1,dict_2):\n",
    "    if type(dict_1)!=dict or type(dict_2)!=dict:\n",
    "        return \"Invalid input\"\n",
    "    dict_1.update(dict_2)\n",
    "    return dict_1"
   ]
  },
  {
   "cell_type": "code",
   "execution_count": 41,
   "id": "c5fe5853-41aa-400c-88b7-c5a81dce55e2",
   "metadata": {},
   "outputs": [
    {
     "data": {
      "text/plain": [
       "{1: '2', 'a': '5'}"
      ]
     },
     "execution_count": 41,
     "metadata": {},
     "output_type": "execute_result"
    }
   ],
   "source": [
    "merge_dict({1:'2'},{'a':'5'})"
   ]
  },
  {
   "cell_type": "markdown",
   "id": "1cd259cf-bf8b-4cea-a9e9-5e024610f7eb",
   "metadata": {},
   "source": [
    "# 4.Write a Python program to convert key-values list to flat dictionary?"
   ]
  },
  {
   "cell_type": "code",
   "execution_count": 72,
   "id": "f68e9310-c1ad-41f0-980c-7ec4d120d702",
   "metadata": {},
   "outputs": [],
   "source": [
    "def flat_dict(dict_x):\n",
    "    if len(dict_x)!=2:\n",
    "        return \"please enter dictionary with two key-value pair\"\n",
    "    lst=list(dict_x.keys())\n",
    "    if len(dict_x[lst[0]])!=len(dict_x[lst[1]]):\n",
    "        return \"First and second key's values should be of same legth\"\n",
    "    ans_x={}\n",
    "    for i in range(len(dict_x[lst[0]])):\n",
    "        ans_x[dict_x[lst[0]][i]]=dict_x[lst[1]][i]\n",
    "    return ans_x"
   ]
  },
  {
   "cell_type": "code",
   "execution_count": 74,
   "id": "ba64345b-d73a-4754-b124-167341940cb4",
   "metadata": {},
   "outputs": [
    {
     "data": {
      "text/plain": [
       "{1: 2021, 2: 2022, 3: 2023, 4: 2024, 5: 2025, 6: 2026}"
      ]
     },
     "execution_count": 74,
     "metadata": {},
     "output_type": "execute_result"
    }
   ],
   "source": [
    "flat_dict({'name':[1,2,3,4,5,6],'month':[2021,2022,2023,2024,2025,2026]})"
   ]
  },
  {
   "cell_type": "markdown",
   "id": "f339d128-1c36-4611-bb8d-3e2bcab3c973",
   "metadata": {},
   "source": [
    "# 5.Write a Python program to insertion at the beginning in OrderedDict?"
   ]
  },
  {
   "cell_type": "code",
   "execution_count": 80,
   "id": "6e43ad3b-78b1-4bd2-9527-2f5124f77e3c",
   "metadata": {},
   "outputs": [],
   "source": [
    "from collections import OrderedDict\n",
    "def insert_first(dict_x,dict_y):\n",
    "    if type(dict_x)!=dict or type(dict_y)!=dict:\n",
    "        return \"Invalid input\"\n",
    "    dict_ans=OrderedDict(list(OrderedDict(dict_x).items())+list(OrderedDict(dict_y).items()))\n",
    "    return dict_ans"
   ]
  },
  {
   "cell_type": "code",
   "execution_count": 81,
   "id": "489616ff-7f1f-40fa-bbd5-fb2060f2d46b",
   "metadata": {},
   "outputs": [
    {
     "data": {
      "text/plain": [
       "OrderedDict([(4, '5'), (5, '66')])"
      ]
     },
     "execution_count": 81,
     "metadata": {},
     "output_type": "execute_result"
    }
   ],
   "source": [
    "insert_first({4:'5'},{5:'66'})"
   ]
  },
  {
   "cell_type": "markdown",
   "id": "5beddb1b-3156-460b-9257-eef11dd4fb30",
   "metadata": {},
   "source": [
    "# 6.Write a Python program to check order of character in string using OrderedDict()?"
   ]
  },
  {
   "cell_type": "code",
   "execution_count": 37,
   "id": "9e79c3b1-13fd-4ce4-93cc-794d414f57fa",
   "metadata": {
    "tags": []
   },
   "outputs": [],
   "source": [
    "from collections import OrderedDict\n",
    "def checkorder(str_x,pattern):\n",
    "    order_x=pattern\n",
    "    order_l=0\n",
    "    dict_x=OrderedDict().fromkeys(str_x)\n",
    "    for k,v in dict_x.items():\n",
    "        if k==\" \":\n",
    "            pass    \n",
    "        if order_x[order_l]==k:\n",
    "            order_l+=1\n",
    "        if order_l==len(order_x):\n",
    "            return True\n",
    "    return False"
   ]
  },
  {
   "cell_type": "code",
   "execution_count": 38,
   "id": "94ea6d99-b92f-4c8a-b4b1-710fe3dbc406",
   "metadata": {},
   "outputs": [
    {
     "data": {
      "text/plain": [
       "True"
      ]
     },
     "execution_count": 38,
     "metadata": {},
     "output_type": "execute_result"
    }
   ],
   "source": [
    "checkorder(\"abcd\",\"ab\")"
   ]
  },
  {
   "cell_type": "code",
   "execution_count": 39,
   "id": "9aff4b7d-9e0e-403b-8760-db7602d30409",
   "metadata": {},
   "outputs": [
    {
     "data": {
      "text/plain": [
       "True"
      ]
     },
     "execution_count": 39,
     "metadata": {},
     "output_type": "execute_result"
    }
   ],
   "source": [
    "checkorder(\"a b c d\",\"abcd\")"
   ]
  },
  {
   "cell_type": "code",
   "execution_count": 40,
   "id": "20f76e28-9a51-4758-810d-5561a2654a76",
   "metadata": {},
   "outputs": [
    {
     "data": {
      "text/plain": [
       "False"
      ]
     },
     "execution_count": 40,
     "metadata": {},
     "output_type": "execute_result"
    }
   ],
   "source": [
    "checkorder(\"axyzbc\",\"xa\")"
   ]
  },
  {
   "cell_type": "markdown",
   "id": "da6292da-21e6-4853-9336-2afb550349bd",
   "metadata": {},
   "source": [
    "# 7.Write a Python program to sort Python Dictionaries by Key or Value?"
   ]
  },
  {
   "cell_type": "code",
   "execution_count": 37,
   "id": "5ecdbb58-ae55-4acb-8620-740643920d5d",
   "metadata": {},
   "outputs": [],
   "source": [
    "def sortbykey(dict_x):\n",
    "    #print(type(dict_x))\n",
    "    if type(dict_x)!=dict:\n",
    "        return \"Invalid input\"\n",
    "    return dict(sorted(dict_x.items(),key=lambda x:x[0]))"
   ]
  },
  {
   "cell_type": "code",
   "execution_count": 38,
   "id": "d036f7e2-91d2-4fe2-871b-0a9e3380f6e4",
   "metadata": {},
   "outputs": [
    {
     "data": {
      "text/plain": [
       "{'hello': 'www', 'manan': '2'}"
      ]
     },
     "execution_count": 38,
     "metadata": {},
     "output_type": "execute_result"
    }
   ],
   "source": [
    "sortbykey({'manan':'2',\"hello\":'www'})  #makesure keys are of same type here all str"
   ]
  },
  {
   "cell_type": "code",
   "execution_count": 39,
   "id": "475babc0-8b02-4ee7-88f4-da97d2efdec2",
   "metadata": {},
   "outputs": [
    {
     "data": {
      "text/plain": [
       "{2: 66, 7: 'manan', 11: 55}"
      ]
     },
     "execution_count": 39,
     "metadata": {},
     "output_type": "execute_result"
    }
   ],
   "source": [
    "sortbykey({11:55,2:66,7:'manan'})        #here all are int"
   ]
  },
  {
   "cell_type": "code",
   "execution_count": 40,
   "id": "13c05c11-1886-405f-a55f-b1d4972cb82e",
   "metadata": {},
   "outputs": [],
   "source": [
    "def sortbyvalue(dict_x):\n",
    "    #print(type(dict_x))\n",
    "    if type(dict_x)!=dict:\n",
    "        return \"Invalid input\"\n",
    "    return dict(sorted(dict_x.items(),key=lambda x:x[1]))"
   ]
  },
  {
   "cell_type": "code",
   "execution_count": 41,
   "id": "cb54a600-fd52-47c9-93ba-edd89835fc32",
   "metadata": {},
   "outputs": [
    {
     "data": {
      "text/plain": [
       "{'2': 7, '1': 55}"
      ]
     },
     "execution_count": 41,
     "metadata": {},
     "output_type": "execute_result"
    }
   ],
   "source": [
    "sortbyvalue({'1':55,'2':7})             #all values are int here"
   ]
  },
  {
   "cell_type": "code",
   "execution_count": null,
   "id": "08dd7eef-6ffe-492d-ab9b-fe5196ba8b82",
   "metadata": {},
   "outputs": [],
   "source": []
  }
 ],
 "metadata": {
  "kernelspec": {
   "display_name": "Python 3 (ipykernel)",
   "language": "python",
   "name": "python3"
  },
  "language_info": {
   "codemirror_mode": {
    "name": "ipython",
    "version": 3
   },
   "file_extension": ".py",
   "mimetype": "text/x-python",
   "name": "python",
   "nbconvert_exporter": "python",
   "pygments_lexer": "ipython3",
   "version": "3.9.12"
  }
 },
 "nbformat": 4,
 "nbformat_minor": 5
}
