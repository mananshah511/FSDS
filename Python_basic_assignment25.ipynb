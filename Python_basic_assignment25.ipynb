{
 "cells": [
  {
   "cell_type": "markdown",
   "id": "42dc9fd3-5571-4c58-b0bf-b6d77cda1b66",
   "metadata": {},
   "source": [
    "1) . What is the difference between enclosing a list comprehension in square brackets and\n",
    "parentheses?"
   ]
  },
  {
   "cell_type": "raw",
   "id": "2e4089f8-aa5a-4e42-a352-13eeefd1ce23",
   "metadata": {},
   "source": [
    "square brackets show list comprehension while parentheses shows generator expression is enclosed."
   ]
  },
  {
   "cell_type": "markdown",
   "id": "c3f33e59-e427-4c08-9f43-fc2aac5b61c5",
   "metadata": {},
   "source": [
    "2) What is the relationship between generators and iterators?"
   ]
  },
  {
   "cell_type": "raw",
   "id": "26961598-d719-4867-a218-108c1cae8c9a",
   "metadata": {},
   "source": [
    "iterators contain an object which can be iterable like a string or list. iter() is used for making iterable an iterator, and next() is used for accessing it in the sequence. Generators are a type of iterator We can use the yield keyword in place of return and it will make an iterator. Generators use the function for the implementation. Same to iterators, generators provide data in a sequence manner and does not store it in separate memory location."
   ]
  },
  {
   "cell_type": "markdown",
   "id": "4f231148-5ef2-4235-9da1-3bc33552f12a",
   "metadata": {},
   "source": [
    "3. What are the signs that a function is a generator function?"
   ]
  },
  {
   "cell_type": "raw",
   "id": "4c532074-adcd-40f4-accd-e713b41fd88e",
   "metadata": {},
   "source": [
    "Its generator function if its contain yield statement."
   ]
  },
  {
   "cell_type": "markdown",
   "id": "3cd81fdf-da21-493a-b8e2-62b75ede7b6b",
   "metadata": {},
   "source": [
    "4. What is the purpose of a yield statement?"
   ]
  },
  {
   "cell_type": "raw",
   "id": "59f83136-9f89-4d90-938c-14fee1d0a9e9",
   "metadata": {},
   "source": [
    "It's like a return statement but instead of the return value or object, it returns the generator object."
   ]
  },
  {
   "cell_type": "markdown",
   "id": "2d0b423a-e138-4b53-b1d6-3e225818c14f",
   "metadata": {},
   "source": [
    "5. What is the relationship between map calls and list comprehensions? Make a comparison and\n",
    "contrast between the two."
   ]
  },
  {
   "cell_type": "raw",
   "id": "ad1190be-313a-444b-9a45-409c67255e52",
   "metadata": {},
   "source": [
    "When we have a function and want to computer it on a list of elements we can use the map function. List comprehensions provide the easiest way to create the list.\n",
    "We can use an external function or lambda to define a single line function in the map. reduce(), filter(), map(), lambda are used inside list comprehensions.\n",
    "map return map object. List comprehensions return list."
   ]
  },
  {
   "cell_type": "code",
   "execution_count": null,
   "id": "911414d5-7703-4a3a-bd56-f15f96757a82",
   "metadata": {},
   "outputs": [],
   "source": []
  }
 ],
 "metadata": {
  "kernelspec": {
   "display_name": "Python 3 (ipykernel)",
   "language": "python",
   "name": "python3"
  },
  "language_info": {
   "codemirror_mode": {
    "name": "ipython",
    "version": 3
   },
   "file_extension": ".py",
   "mimetype": "text/x-python",
   "name": "python",
   "nbconvert_exporter": "python",
   "pygments_lexer": "ipython3",
   "version": "3.9.12"
  }
 },
 "nbformat": 4,
 "nbformat_minor": 5
}
