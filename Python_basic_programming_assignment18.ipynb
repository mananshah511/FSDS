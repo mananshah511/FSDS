{
 "cells": [
  {
   "cell_type": "markdown",
   "id": "bc94beb9-0844-4e02-8552-49e6b07bda92",
   "metadata": {},
   "source": [
    "# Question 1\n",
    "Create a function that takes a list of non-negative integers and strings and return a new list without the strings.\n"
   ]
  },
  {
   "cell_type": "code",
   "execution_count": 11,
   "id": "981e52f0-dea9-4307-8180-f4cd520b7400",
   "metadata": {},
   "outputs": [],
   "source": [
    "def filter_list(list_x):\n",
    "    return [x for x in list_x if type(x)!=str]"
   ]
  },
  {
   "cell_type": "code",
   "execution_count": 12,
   "id": "02f89461-3bb1-4661-ad75-81bbc037f4db",
   "metadata": {},
   "outputs": [
    {
     "data": {
      "text/plain": [
       "[1, 2]"
      ]
     },
     "execution_count": 12,
     "metadata": {},
     "output_type": "execute_result"
    }
   ],
   "source": [
    "filter_list([1, 2, \"a\", \"b\"])"
   ]
  },
  {
   "cell_type": "code",
   "execution_count": 13,
   "id": "9fbbbee2-6edc-4833-989f-23c7af9337ad",
   "metadata": {},
   "outputs": [
    {
     "data": {
      "text/plain": [
       "[1, 0, 15]"
      ]
     },
     "execution_count": 13,
     "metadata": {},
     "output_type": "execute_result"
    }
   ],
   "source": [
    "filter_list([1, \"a\", \"b\", 0, 15])"
   ]
  },
  {
   "cell_type": "code",
   "execution_count": 14,
   "id": "7aa9184a-a95a-42b0-880c-f17681e23b00",
   "metadata": {},
   "outputs": [
    {
     "data": {
      "text/plain": [
       "[1, 2, 123]"
      ]
     },
     "execution_count": 14,
     "metadata": {},
     "output_type": "execute_result"
    }
   ],
   "source": [
    "filter_list([1, 2, \"aasf\", \"1\", \"123\", 123]) "
   ]
  },
  {
   "cell_type": "markdown",
   "id": "bd8222e7-1fe0-48df-92a4-3168a98fab4b",
   "metadata": {},
   "source": [
    "# Question 2\n",
    "The \"Reverser\" takes a string as input and returns that string in reverse order, with the opposite case.\n"
   ]
  },
  {
   "cell_type": "code",
   "execution_count": 19,
   "id": "4002e9fe-6e9a-40e5-ae0b-c2d29679214f",
   "metadata": {},
   "outputs": [],
   "source": [
    "def reverse(str_x):\n",
    "    return str_x[::-1].swapcase()"
   ]
  },
  {
   "cell_type": "code",
   "execution_count": 21,
   "id": "19b28f83-0513-4be6-be9f-1235c4667ef6",
   "metadata": {},
   "outputs": [
    {
     "data": {
      "text/plain": [
       "'DLROw OLLEh'"
      ]
     },
     "execution_count": 21,
     "metadata": {},
     "output_type": "execute_result"
    }
   ],
   "source": [
    "reverse(\"Hello World\")"
   ]
  },
  {
   "cell_type": "code",
   "execution_count": 22,
   "id": "d0996814-a608-4177-b8bc-57173d261323",
   "metadata": {},
   "outputs": [
    {
     "data": {
      "text/plain": [
       "'eSrEvEr'"
      ]
     },
     "execution_count": 22,
     "metadata": {},
     "output_type": "execute_result"
    }
   ],
   "source": [
    "reverse(\"ReVeRsE\") "
   ]
  },
  {
   "cell_type": "code",
   "execution_count": 23,
   "id": "7ca2c6bc-999f-4cef-83d8-aa4d32a572ab",
   "metadata": {},
   "outputs": [
    {
     "data": {
      "text/plain": [
       "'RADAr'"
      ]
     },
     "execution_count": 23,
     "metadata": {},
     "output_type": "execute_result"
    }
   ],
   "source": [
    "reverse(\"Radar\") "
   ]
  },
  {
   "cell_type": "markdown",
   "id": "a658e20e-05bc-4b73-b906-b9873510f19a",
   "metadata": {},
   "source": [
    "# Question 3\n",
    "Your task is to unpack the list writeyourcodehere into three variables, being first, middle, and last, with middle being everything in between the first and last element. Then print all three variables."
   ]
  },
  {
   "cell_type": "code",
   "execution_count": 40,
   "id": "877f1092-f996-420d-a729-961a6e140de5",
   "metadata": {},
   "outputs": [],
   "source": [
    "def unpack(list_x):\n",
    "    first,*middle,last=list_x\n",
    "    print(\"first\",first)\n",
    "    print(\"middle\",middle)\n",
    "    print(\"last\",last)"
   ]
  },
  {
   "cell_type": "code",
   "execution_count": 41,
   "id": "63fa5a0e-198f-4078-bdd4-a9a39a45b800",
   "metadata": {},
   "outputs": [
    {
     "name": "stdout",
     "output_type": "stream",
     "text": [
      "first 1\n",
      "middle [2, 3]\n",
      "last 4\n"
     ]
    }
   ],
   "source": [
    "unpack([1,2,3,4])"
   ]
  },
  {
   "cell_type": "markdown",
   "id": "5b7812c9-ef57-412f-94ab-024b20bc7776",
   "metadata": {},
   "source": [
    "# Question 4\n",
    "Write a function that calculates the factorial of a number recursively.\n"
   ]
  },
  {
   "cell_type": "code",
   "execution_count": 42,
   "id": "399fea61-76eb-4052-abaa-921002fb8352",
   "metadata": {},
   "outputs": [],
   "source": [
    "def factorial(int_x):\n",
    "    if int_x==1:\n",
    "        return 1\n",
    "    elif int_x==0:\n",
    "        return 0\n",
    "    else:\n",
    "        return int_x*factorial(int_x-1)\n",
    "        "
   ]
  },
  {
   "cell_type": "code",
   "execution_count": 44,
   "id": "4a4cd31a-ad1d-4340-aaeb-95e047cc125a",
   "metadata": {},
   "outputs": [
    {
     "data": {
      "text/plain": [
       "120"
      ]
     },
     "execution_count": 44,
     "metadata": {},
     "output_type": "execute_result"
    }
   ],
   "source": [
    "factorial(5)"
   ]
  },
  {
   "cell_type": "code",
   "execution_count": 45,
   "id": "05741f2d-55ca-4499-b419-3ddd311f716b",
   "metadata": {},
   "outputs": [
    {
     "data": {
      "text/plain": [
       "6"
      ]
     },
     "execution_count": 45,
     "metadata": {},
     "output_type": "execute_result"
    }
   ],
   "source": [
    "factorial(3)"
   ]
  },
  {
   "cell_type": "code",
   "execution_count": 46,
   "id": "dd8a6852-a224-47ce-91b8-99e8b6b57513",
   "metadata": {},
   "outputs": [
    {
     "data": {
      "text/plain": [
       "0"
      ]
     },
     "execution_count": 46,
     "metadata": {},
     "output_type": "execute_result"
    }
   ],
   "source": [
    "factorial(0)"
   ]
  },
  {
   "cell_type": "markdown",
   "id": "c0526b56-e429-467a-aff4-6658d0490ea5",
   "metadata": {},
   "source": [
    "# Question 5\n",
    "Write a function that moves all elements of one type to the end of the list.\n"
   ]
  },
  {
   "cell_type": "code",
   "execution_count": 54,
   "id": "f5ce4780-ef13-4429-b81a-2ec12c4f34f3",
   "metadata": {},
   "outputs": [],
   "source": [
    "def move_to_end(list_x,x):\n",
    "    dict_x={}\n",
    "    dict_x[x]=0\n",
    "    for i in range(len(list_x)):\n",
    "        if list_x[i]==x:\n",
    "            dict_x[x]+=1\n",
    "    for i in range(dict_x[x]):\n",
    "        list_x.remove(x)\n",
    "        list_x.append(x)\n",
    "    return list_x"
   ]
  },
  {
   "cell_type": "code",
   "execution_count": 55,
   "id": "e32c3596-df11-47b0-be4c-06122e002608",
   "metadata": {},
   "outputs": [
    {
     "data": {
      "text/plain": [
       "[3, 2, 4, 4, 1, 1]"
      ]
     },
     "execution_count": 55,
     "metadata": {},
     "output_type": "execute_result"
    }
   ],
   "source": [
    "move_to_end([1, 3, 2, 4, 4, 1], 1) "
   ]
  },
  {
   "cell_type": "code",
   "execution_count": 51,
   "id": "fef95f1d-fa84-41f6-9856-727119e9c3c7",
   "metadata": {},
   "outputs": [
    {
     "data": {
      "text/plain": [
       "[2, 3, 1, 4]"
      ]
     },
     "execution_count": 51,
     "metadata": {},
     "output_type": "execute_result"
    }
   ],
   "source": [
    "lst"
   ]
  },
  {
   "cell_type": "code",
   "execution_count": null,
   "id": "dff4e1fd-178a-4485-8637-624fd8cbf2a0",
   "metadata": {},
   "outputs": [],
   "source": []
  }
 ],
 "metadata": {
  "kernelspec": {
   "display_name": "Python 3 (ipykernel)",
   "language": "python",
   "name": "python3"
  },
  "language_info": {
   "codemirror_mode": {
    "name": "ipython",
    "version": 3
   },
   "file_extension": ".py",
   "mimetype": "text/x-python",
   "name": "python",
   "nbconvert_exporter": "python",
   "pygments_lexer": "ipython3",
   "version": "3.9.12"
  }
 },
 "nbformat": 4,
 "nbformat_minor": 5
}
