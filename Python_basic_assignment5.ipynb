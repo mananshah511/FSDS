{
 "cells": [
  {
   "cell_type": "markdown",
   "id": "0dc653b6-7c0c-49b8-8cbd-4bee52a3278e",
   "metadata": {},
   "source": [
    "1.What does an empty dictionary's code look like?\n",
    "dict_x={}"
   ]
  },
  {
   "cell_type": "markdown",
   "id": "5b39d834-f072-4fcc-9c75-3365b2240982",
   "metadata": {},
   "source": [
    "2.What is the value of a dictionary value with the key 'foo' and the value 42?\n",
    "dict_x={'foo':42} where 42 is the value"
   ]
  },
  {
   "cell_type": "markdown",
   "id": "7eab1c54-fd60-4d6e-9033-273bc2e64d20",
   "metadata": {},
   "source": [
    "3.What is the most significant distinction between a dictionary and a list?\n",
    "list is ordered collection and contain any data type while dictionary is unordered collection and contain key value pair."
   ]
  },
  {
   "cell_type": "markdown",
   "id": "17f3f192-d983-40a1-a781-9bc894062ed4",
   "metadata": {},
   "source": [
    "4.What happens if you try to access spam['foo'] if spam is {'bar': 100}?\n",
    "We will get Key error as 'foo' key is not present in spam dictionary."
   ]
  },
  {
   "cell_type": "markdown",
   "id": "0d3d69d6-9fc6-48e9-b050-d24a4c75cb9f",
   "metadata": {},
   "source": [
    "5.If a dictionary is stored in spam, what is the difference between the expressions 'cat' in spam and 'cat' in spam.keys()?\n",
    "'cat' in spam checks if 'cat' as a key present in the spam or not, also 'cat' in spam.keys() do the same thing. So there is no difference here."
   ]
  },
  {
   "cell_type": "markdown",
   "id": "2e3b60e0-cc6a-4930-aae9-977197a22ecb",
   "metadata": {},
   "source": [
    "6.If a dictionary is stored in spam, what is the difference between the expressions 'cat' in spam and 'cat' in spam.values()?\n",
    "'cat' in spam checks 'cat' as a key present in spam or not. 'cat' in spam.values() check 'cat' as a value present here or not."
   ]
  },
  {
   "cell_type": "markdown",
   "id": "25a86a48-acb9-4557-b807-2f6f0105f424",
   "metadata": {},
   "source": [
    "7.What is a shortcut for the following code?\n",
    "if 'color' not in spam:\n",
    "spam['color'] = 'black'\n",
    "\n",
    "ans : spam.setdefault('color','black')"
   ]
  },
  {
   "cell_type": "markdown",
   "id": "ae256f81-cc90-403d-a3f5-db0bfc3c3914",
   "metadata": {},
   "source": [
    "8.How do you \"pretty print\" dictionary values using which module and function?\n",
    "\n",
    "pprint module and pprint function is used.\n",
    "pprint.pprint()"
   ]
  }
 ],
 "metadata": {
  "kernelspec": {
   "display_name": "Python 3 (ipykernel)",
   "language": "python",
   "name": "python3"
  },
  "language_info": {
   "codemirror_mode": {
    "name": "ipython",
    "version": 3
   },
   "file_extension": ".py",
   "mimetype": "text/x-python",
   "name": "python",
   "nbconvert_exporter": "python",
   "pygments_lexer": "ipython3",
   "version": "3.9.12"
  }
 },
 "nbformat": 4,
 "nbformat_minor": 5
}
