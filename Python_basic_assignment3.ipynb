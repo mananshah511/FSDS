{
 "cells": [
  {
   "cell_type": "raw",
   "id": "1bd6caea-4f06-4ef7-9288-417922ce84e1",
   "metadata": {},
   "source": [
    "1.Why are functions advantageous to have in your programs?\n",
    "It is usefull because of reusability, we dont have to write same kind of logic again and again."
   ]
  },
  {
   "cell_type": "raw",
   "id": "73f8c92b-8eae-42eb-9a1d-5e82d8fd8bda",
   "metadata": {},
   "source": [
    "2.When does the code in a function run: when it's specified or when it's called?\n",
    "When its called"
   ]
  },
  {
   "cell_type": "raw",
   "id": "4f93b507-897e-43dd-b57e-80532c029444",
   "metadata": {},
   "source": [
    "3.What statement creates a function?\n",
    "def function_name(): creates a function"
   ]
  },
  {
   "cell_type": "raw",
   "id": "901279a6-a16d-4770-9d33-a781aa01fe26",
   "metadata": {},
   "source": [
    "4.What is the difference between a function and a function call?\n",
    "Function is particular block of code which has logic and returns result. on function call, function starts executing and provide results."
   ]
  },
  {
   "cell_type": "raw",
   "id": "93b436d7-595a-4f9c-b090-cfcc1787340d",
   "metadata": {},
   "source": [
    "5.How many global scopes are there in a Python program? How many local scopes?\n",
    "One global scope,\n",
    "Any number of local scopes."
   ]
  },
  {
   "cell_type": "raw",
   "id": "d3f8284d-c239-47db-a327-0b9d9b48f22e",
   "metadata": {},
   "source": [
    "6.What happens to variables in a local scope when the function call returns?\n",
    "All the local variable are destroyed after function call returns."
   ]
  },
  {
   "cell_type": "raw",
   "id": "53a3f13f-36cd-41f8-8355-0a70be2d8b9c",
   "metadata": {},
   "source": [
    "7.What is the concept of a return value? Is it possible to have a return value in an expression?\n",
    "Retrun value is the result of the function. Yes its possible to use return value in expression"
   ]
  },
  {
   "cell_type": "raw",
   "id": "eef7dcbe-a057-47c8-90f9-9d5e705df586",
   "metadata": {},
   "source": [
    "8.If a function does not have a return statement, what is the return value of a call to that function?\n",
    "None"
   ]
  },
  {
   "cell_type": "raw",
   "id": "a4e8b7d5-a639-4b03-beef-7a5172272eb7",
   "metadata": {},
   "source": [
    "9.How do you make a function variable refer to the global variable?\n",
    "We can refer to it by using global statement "
   ]
  },
  {
   "cell_type": "raw",
   "id": "99df66be-1d7a-42cd-9806-0c1042a24a88",
   "metadata": {},
   "source": [
    "10. What is the data type of None?\n",
    "Nonetype"
   ]
  },
  {
   "cell_type": "raw",
   "id": "e69c9864-39e0-442f-9f15-d2a4f647652b",
   "metadata": {},
   "source": [
    "11. What does the sentence import areallyourpetsnamederic do?\n",
    "It will import areallyourpetsnamederic modle and we can use its available functions"
   ]
  },
  {
   "cell_type": "raw",
   "id": "7e1d99a3-7849-4b53-9fe3-dba187bd3be9",
   "metadata": {},
   "source": [
    "12. If you had a bacon() feature in a spam module, what would you call it after importing spam?\n",
    "spam.bacon()"
   ]
  },
  {
   "cell_type": "raw",
   "id": "98b69bb4-125a-4b09-950a-0595d6821874",
   "metadata": {},
   "source": [
    "13. What can you do to save a programme from crashing if it encounters an error?\n",
    "Use try,except statement where its possible to get an error."
   ]
  },
  {
   "cell_type": "raw",
   "id": "c407a6b0-b077-40f4-8ad2-3b25c0290336",
   "metadata": {},
   "source": [
    "14. What is the purpose of the try clause? What is the purpose of the except clause?\n",
    "Code writen inside try clause will dont give direct error, if any error arise it will go to except block and print its value and out pogram will continue for the execution."
   ]
  }
 ],
 "metadata": {
  "kernelspec": {
   "display_name": "Python 3 (ipykernel)",
   "language": "python",
   "name": "python3"
  },
  "language_info": {
   "codemirror_mode": {
    "name": "ipython",
    "version": 3
   },
   "file_extension": ".py",
   "mimetype": "text/x-python",
   "name": "python",
   "nbconvert_exporter": "python",
   "pygments_lexer": "ipython3",
   "version": "3.9.12"
  }
 },
 "nbformat": 4,
 "nbformat_minor": 5
}
