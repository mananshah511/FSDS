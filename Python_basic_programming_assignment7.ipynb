{
 "cells": [
  {
   "cell_type": "markdown",
   "id": "bb938803-73f3-4208-ae11-0415fc082c1e",
   "metadata": {},
   "source": [
    "# 1.Write a Python Program to find sum of array?"
   ]
  },
  {
   "cell_type": "code",
   "execution_count": 1,
   "id": "0a83969e-5b0f-40bf-a3c7-ae18b07f6c5f",
   "metadata": {},
   "outputs": [
    {
     "name": "stdin",
     "output_type": "stream",
     "text": [
      "Enter number of elements: 5\n",
      "Please enter a number 1\n",
      "Please enter a number 2\n",
      "Please enter a number 3\n",
      "Please enter a number 4\n",
      "Please enter a number 5\n"
     ]
    },
    {
     "name": "stdout",
     "output_type": "stream",
     "text": [
      "sum: 15.0\n"
     ]
    }
   ],
   "source": [
    "N=int(input(\"Enter number of elements:\"))\n",
    "sum_x=0\n",
    "for i in range(N):\n",
    "    x=float(input(\"Please enter a number\"))\n",
    "    sum_x+=x\n",
    "print(\"sum:\",sum_x)"
   ]
  },
  {
   "cell_type": "markdown",
   "id": "eb4810fa-ccc6-4165-b71c-ff30a1d16c46",
   "metadata": {},
   "source": [
    "# 2.Write a Python Program to find largest element in an array?"
   ]
  },
  {
   "cell_type": "code",
   "execution_count": 2,
   "id": "219de633-8d2d-47bd-b8f7-aac74d008843",
   "metadata": {},
   "outputs": [
    {
     "name": "stdin",
     "output_type": "stream",
     "text": [
      "Enter number of elements: 5\n",
      "Please enter a number 44\n",
      "Please enter a number 55\n",
      "Please enter a number 66\n",
      "Please enter a number 33\n",
      "Please enter a number 22\n"
     ]
    },
    {
     "name": "stdout",
     "output_type": "stream",
     "text": [
      "largest element: 66.0\n"
     ]
    }
   ],
   "source": [
    "N=int(input(\"Enter number of elements:\"))\n",
    "sum_x=[]\n",
    "for i in range(N):\n",
    "    x=float(input(\"Please enter a number\"))\n",
    "    sum_x.append(x)\n",
    "sum_x.sort()\n",
    "print(\"largest element:\",sum_x[-1])"
   ]
  },
  {
   "cell_type": "markdown",
   "id": "9dd27a00-33a5-48ea-956d-cfca787e2b39",
   "metadata": {},
   "source": [
    "# 3.Write a Python Program for array rotation?"
   ]
  },
  {
   "cell_type": "code",
   "execution_count": 9,
   "id": "b60c6920-4742-44b8-9ef2-3699a8296e67",
   "metadata": {},
   "outputs": [
    {
     "name": "stdin",
     "output_type": "stream",
     "text": [
      "Enter number of elements: 5\n",
      "Number for the rotation(less then actual numbers) 3\n",
      "Please enter a values 1\n",
      "Please enter a values 2\n",
      "Please enter a values 3\n",
      "Please enter a values 4\n",
      "Please enter a values 5\n"
     ]
    },
    {
     "name": "stdout",
     "output_type": "stream",
     "text": [
      "array after rotation: ['4', '5', '1', '2', '3']\n"
     ]
    }
   ],
   "source": [
    "N=int(input(\"Enter number of elements:\"))\n",
    "X=int(input(\"Number for the rotation(less then actual numbers)\"))\n",
    "sum_x=[]\n",
    "for i in range(N):\n",
    "    x=(input(\"Please enter a values\"))\n",
    "    sum_x.append(x)\n",
    "list_x=sum_x[:X]\n",
    "list_y=sum_x[X:]\n",
    "print(\"array after rotation:\",list_y+list_x)"
   ]
  },
  {
   "cell_type": "markdown",
   "id": "28c5f7cf-3a97-4a49-918f-6e98960c245c",
   "metadata": {},
   "source": [
    "# 4.Write a Python Program to Split the array and add the first part to the end?"
   ]
  },
  {
   "cell_type": "code",
   "execution_count": 11,
   "id": "7e46aaea-66e3-4f51-86f2-d25af4b105cc",
   "metadata": {},
   "outputs": [
    {
     "name": "stdin",
     "output_type": "stream",
     "text": [
      "Enter number of elements: 5\n",
      "Number at split(less then actual numbers) 3\n",
      "Please enter a values 1\n",
      "Please enter a values 2\n",
      "Please enter a values 3\n",
      "Please enter a values 4\n",
      "Please enter a values 5\n"
     ]
    },
    {
     "name": "stdout",
     "output_type": "stream",
     "text": [
      "array after split and change: ['4', '5', '1', '2', '3']\n"
     ]
    }
   ],
   "source": [
    "N=int(input(\"Enter number of elements:\"))\n",
    "X=int(input(\"Number at split(less then actual numbers)\"))\n",
    "sum_x=[]\n",
    "for i in range(N):\n",
    "    x=(input(\"Please enter a values\"))\n",
    "    sum_x.append(x)\n",
    "list_x=sum_x[:X]\n",
    "list_y=sum_x[X:]\n",
    "print(\"array after split and change:\",list_y+list_x)"
   ]
  },
  {
   "cell_type": "markdown",
   "id": "0a3dd0e9-d98a-49c1-b5db-cb404f36bbc6",
   "metadata": {},
   "source": [
    "# 5.Write a Python Program to check if given array is Monotonic?"
   ]
  },
  {
   "cell_type": "code",
   "execution_count": 39,
   "id": "dfd9070c-4e8d-40a5-b717-f90909b11213",
   "metadata": {},
   "outputs": [
    {
     "name": "stdin",
     "output_type": "stream",
     "text": [
      "Enter number of elements: 5\n",
      "Please enter a number 1\n",
      "Please enter a number 1\n",
      "Please enter a number 1\n",
      "Please enter a number 3\n",
      "Please enter a number 88\n"
     ]
    },
    {
     "name": "stdout",
     "output_type": "stream",
     "text": [
      "Monotonic\n"
     ]
    }
   ],
   "source": [
    "N=int(input(\"Enter number of elements:\"))\n",
    "sum_x=[]\n",
    "temp_x=[]\n",
    "for i in range(N):\n",
    "    x=float(input(\"Please enter a number\"))\n",
    "    sum_x.append(x)\n",
    "    temp_x.append(x)\n",
    "sum_x.sort()\n",
    "flag=0\n",
    "if temp_x==sum_x:\n",
    "    print(\"Monotonic\")\n",
    "    flag=1\n",
    "sum_x.sort(reverse=True)\n",
    "if flag==0 and temp_x==sum_x:\n",
    "    print(\"Monotonic\")\n",
    "    flag=1\n",
    "if flag==0:\n",
    "    print(\"Not a monotonic\")"
   ]
  },
  {
   "cell_type": "code",
   "execution_count": null,
   "id": "07741803-d34b-488e-a2d9-28e84bb633da",
   "metadata": {},
   "outputs": [],
   "source": []
  }
 ],
 "metadata": {
  "kernelspec": {
   "display_name": "Python 3 (ipykernel)",
   "language": "python",
   "name": "python3"
  },
  "language_info": {
   "codemirror_mode": {
    "name": "ipython",
    "version": 3
   },
   "file_extension": ".py",
   "mimetype": "text/x-python",
   "name": "python",
   "nbconvert_exporter": "python",
   "pygments_lexer": "ipython3",
   "version": "3.9.12"
  }
 },
 "nbformat": 4,
 "nbformat_minor": 5
}
