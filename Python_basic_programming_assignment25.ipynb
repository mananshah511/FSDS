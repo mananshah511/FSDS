{
 "cells": [
  {
   "cell_type": "markdown",
   "id": "efc0f966-4d7e-41bb-9430-7d3c7eb855b9",
   "metadata": {},
   "source": [
    "# Question1\n",
    "Create a function that takes three integer arguments (a, b, c) and returns the amount of integers which are of equal value\n"
   ]
  },
  {
   "cell_type": "code",
   "execution_count": 16,
   "id": "d1dffd28-cab8-45a4-a1bd-33c0816aed65",
   "metadata": {},
   "outputs": [],
   "source": [
    "def equal(a,b,c):\n",
    "    if a==b and a==c:\n",
    "        return 3\n",
    "    elif a==b or a==c or b==c:\n",
    "        return 2\n",
    "    else:\n",
    "        return 0"
   ]
  },
  {
   "cell_type": "code",
   "execution_count": 21,
   "id": "0a332b4a-3127-4545-8cc4-924ccdd59ece",
   "metadata": {},
   "outputs": [
    {
     "data": {
      "text/plain": [
       "2"
      ]
     },
     "execution_count": 21,
     "metadata": {},
     "output_type": "execute_result"
    }
   ],
   "source": [
    "equal(3, 4, 3)"
   ]
  },
  {
   "cell_type": "code",
   "execution_count": 18,
   "id": "e95205f3-7a82-4f57-97ee-e498675e31ce",
   "metadata": {},
   "outputs": [
    {
     "data": {
      "text/plain": [
       "3"
      ]
     },
     "execution_count": 18,
     "metadata": {},
     "output_type": "execute_result"
    }
   ],
   "source": [
    "equal(1, 1, 1) "
   ]
  },
  {
   "cell_type": "code",
   "execution_count": 19,
   "id": "ad788a81-53f5-4a67-992d-0b97814ed445",
   "metadata": {},
   "outputs": [
    {
     "data": {
      "text/plain": [
       "0"
      ]
     },
     "execution_count": 19,
     "metadata": {},
     "output_type": "execute_result"
    }
   ],
   "source": [
    "equal(3, 4, 1) "
   ]
  },
  {
   "cell_type": "markdown",
   "id": "073fdf9e-729a-4da5-95e0-dbd066654364",
   "metadata": {},
   "source": [
    "# Question2\n",
    "Write a function that converts a dictionary into a list of keys-values tuples.\n"
   ]
  },
  {
   "cell_type": "code",
   "execution_count": 50,
   "id": "5702d732-8428-4052-b043-b8c8c212223f",
   "metadata": {},
   "outputs": [],
   "source": [
    "def dict_to_list(dict_x):\n",
    "    ans_x=[]\n",
    "    for i,j in enumerate(dict_x):\n",
    "        ans_x.append((j,dict_x[j]))\n",
    "        ans_x.sort()\n",
    "    return ans_x"
   ]
  },
  {
   "cell_type": "code",
   "execution_count": 51,
   "id": "215831e0-0df1-4936-9dfd-a14055d72c18",
   "metadata": {},
   "outputs": [
    {
     "data": {
      "text/plain": [
       "[('B', 2), ('C', 3), ('D', 1)]"
      ]
     },
     "execution_count": 51,
     "metadata": {},
     "output_type": "execute_result"
    }
   ],
   "source": [
    "dict_to_list({\n",
    "  \"D\": 1,\n",
    "  \"B\": 2,\n",
    "  \"C\": 3\n",
    "}) \n"
   ]
  },
  {
   "cell_type": "code",
   "execution_count": 52,
   "id": "f6771d8e-2980-4064-b06b-25942298f99a",
   "metadata": {},
   "outputs": [
    {
     "data": {
      "text/plain": [
       "[('dislikes', 3), ('followers', 10), ('likes', 2)]"
      ]
     },
     "execution_count": 52,
     "metadata": {},
     "output_type": "execute_result"
    }
   ],
   "source": [
    "dict_to_list({\n",
    "  \"likes\": 2,\n",
    "  \"dislikes\": 3,\n",
    "  \"followers\": 10\n",
    "})\n"
   ]
  },
  {
   "cell_type": "markdown",
   "id": "4d4fc849-9ac1-4e80-b8b1-5dfbcb16abf0",
   "metadata": {},
   "source": [
    "# Question3\n",
    "Write a function that creates a dictionary with each (key, value) pair being the (lower case, upper case) versions of a letter, respectively.\n"
   ]
  },
  {
   "cell_type": "code",
   "execution_count": 55,
   "id": "80f1fe44-8e31-49f0-b458-1f46a43e9c21",
   "metadata": {},
   "outputs": [],
   "source": [
    "def mapping(list_x):\n",
    "    dict_x={}\n",
    "    for i in range(len(list_x)):\n",
    "        dict_x[list_x[i]]=list_x[i].upper()\n",
    "    return dict_x"
   ]
  },
  {
   "cell_type": "code",
   "execution_count": 56,
   "id": "e109c5c7-16b6-4004-a36f-61f5ed013789",
   "metadata": {},
   "outputs": [
    {
     "data": {
      "text/plain": [
       "{'p': 'P', 's': 'S'}"
      ]
     },
     "execution_count": 56,
     "metadata": {},
     "output_type": "execute_result"
    }
   ],
   "source": [
    "mapping([\"p\", \"s\"]) "
   ]
  },
  {
   "cell_type": "code",
   "execution_count": 57,
   "id": "b99d9b94-9e4c-419a-862a-0b3dba45948f",
   "metadata": {},
   "outputs": [
    {
     "data": {
      "text/plain": [
       "{'a': 'A', 'b': 'B', 'c': 'C'}"
      ]
     },
     "execution_count": 57,
     "metadata": {},
     "output_type": "execute_result"
    }
   ],
   "source": [
    "mapping([\"a\", \"b\", \"c\"])"
   ]
  },
  {
   "cell_type": "code",
   "execution_count": 58,
   "id": "40adaee0-a6b1-4050-a7f9-d46f2ae16f61",
   "metadata": {},
   "outputs": [
    {
     "data": {
      "text/plain": [
       "{'a': 'A', 'v': 'V', 'y': 'Y', 'z': 'Z'}"
      ]
     },
     "execution_count": 58,
     "metadata": {},
     "output_type": "execute_result"
    }
   ],
   "source": [
    "mapping([\"a\", \"v\", \"y\", \"z\"])"
   ]
  },
  {
   "cell_type": "markdown",
   "id": "f67706a1-c5bf-4c78-bf14-f286744cf036",
   "metadata": {},
   "source": [
    "# Question4\n",
    "Write a function, that replaces all vowels in a string with a specified vowel.\n"
   ]
  },
  {
   "cell_type": "code",
   "execution_count": 77,
   "id": "2f4d7d35-0f7c-4b45-befe-1dc03c77ec55",
   "metadata": {},
   "outputs": [],
   "source": [
    "def vow_replace(str_x,v_x):\n",
    "    for i in range(len(str_x)):\n",
    "        if str_x[i]=='a' or str_x[i]=='e' or str_x[i]=='i' or str_x[i]=='o' or str_x[i]=='u':\n",
    "            str_x=str_x.replace(str_x[i],v_x)\n",
    "        else:\n",
    "            pass\n",
    "    return str_x"
   ]
  },
  {
   "cell_type": "code",
   "execution_count": 78,
   "id": "ffd0a24a-a13b-4b30-a2ef-71354bb1c0f4",
   "metadata": {},
   "outputs": [
    {
     "data": {
      "text/plain": [
       "'upplus und bununus'"
      ]
     },
     "execution_count": 78,
     "metadata": {},
     "output_type": "execute_result"
    }
   ],
   "source": [
    "vow_replace(\"apples and bananas\", \"u\") "
   ]
  },
  {
   "cell_type": "code",
   "execution_count": 79,
   "id": "f9a4ee3b-fcaf-4bef-acb9-09842c94fb3d",
   "metadata": {},
   "outputs": [
    {
     "data": {
      "text/plain": [
       "'chooso cossorolo'"
      ]
     },
     "execution_count": 79,
     "metadata": {},
     "output_type": "execute_result"
    }
   ],
   "source": [
    "vow_replace(\"cheese casserole\", \"o\")"
   ]
  },
  {
   "cell_type": "code",
   "execution_count": 80,
   "id": "ca2fbeea-dbfe-42e9-af82-a65d3d1e3276",
   "metadata": {},
   "outputs": [
    {
     "data": {
      "text/plain": [
       "'steffed jelepene peppers'"
      ]
     },
     "execution_count": 80,
     "metadata": {},
     "output_type": "execute_result"
    }
   ],
   "source": [
    "vow_replace(\"stuffed jalapeno poppers\", \"e\") "
   ]
  },
  {
   "cell_type": "markdown",
   "id": "a97d7902-dba0-4fb6-b13b-d5bb29c53b10",
   "metadata": {},
   "source": [
    "# Question5\n",
    "Create a function that takes a string as input and capitalizes a letter if its ASCII code is even and returns its lower case version if its ASCII code is odd.\n"
   ]
  },
  {
   "cell_type": "code",
   "execution_count": 92,
   "id": "6c2cc02b-36a4-4770-ad16-a97e30a3aa07",
   "metadata": {},
   "outputs": [],
   "source": [
    "def ascii_capitalize(str_x):\n",
    "    for i in range(len(str_x)):\n",
    "        if ord(str_x[i])%2==0:\n",
    "            str_x=str_x.replace(str_x[i],str_x[i].upper())\n",
    "        else:\n",
    "            str_x=str_x.replace(str_x[i],str_x[i].lower())\n",
    "    return str_x"
   ]
  },
  {
   "cell_type": "code",
   "execution_count": 93,
   "id": "fa727e7e-b887-4914-b7bf-cced062d523f",
   "metadata": {},
   "outputs": [
    {
     "data": {
      "text/plain": [
       "'To Be oR NoT To Be!'"
      ]
     },
     "execution_count": 93,
     "metadata": {},
     "output_type": "execute_result"
    }
   ],
   "source": [
    "ascii_capitalize(\"to be or not to be!\")"
   ]
  },
  {
   "cell_type": "code",
   "execution_count": 94,
   "id": "d99ae4f1-0406-4037-b264-5b55d9d6dd82",
   "metadata": {},
   "outputs": [
    {
     "data": {
      "text/plain": [
       "'THe LiTTLe meRmaiD'"
      ]
     },
     "execution_count": 94,
     "metadata": {},
     "output_type": "execute_result"
    }
   ],
   "source": [
    "ascii_capitalize(\"THE LITTLE MERMAID\") "
   ]
  },
  {
   "cell_type": "code",
   "execution_count": 95,
   "id": "645d9367-c454-4809-86e5-a1bd6a4677ca",
   "metadata": {},
   "outputs": [
    {
     "data": {
      "text/plain": [
       "'oH wHaT a BeauTiFuL moRNiNg.'"
      ]
     },
     "execution_count": 95,
     "metadata": {},
     "output_type": "execute_result"
    }
   ],
   "source": [
    "ascii_capitalize(\"Oh what a beautiful morning.\") "
   ]
  },
  {
   "cell_type": "code",
   "execution_count": null,
   "id": "cd0f5d40-ad95-44d6-9819-af0ef276394f",
   "metadata": {},
   "outputs": [],
   "source": []
  }
 ],
 "metadata": {
  "kernelspec": {
   "display_name": "Python 3 (ipykernel)",
   "language": "python",
   "name": "python3"
  },
  "language_info": {
   "codemirror_mode": {
    "name": "ipython",
    "version": 3
   },
   "file_extension": ".py",
   "mimetype": "text/x-python",
   "name": "python",
   "nbconvert_exporter": "python",
   "pygments_lexer": "ipython3",
   "version": "3.9.12"
  }
 },
 "nbformat": 4,
 "nbformat_minor": 5
}
