{
 "cells": [
  {
   "cell_type": "markdown",
   "id": "b8568d41-f13b-4798-b6ce-e4f78f535a27",
   "metadata": {},
   "source": [
    "1. Set the variable test1 to the string &#39;This is a test of the emergency text system,&#39; and save test1 to a\n",
    "file named test.txt."
   ]
  },
  {
   "cell_type": "code",
   "execution_count": 1,
   "id": "d45ee5aa-8668-4b0f-b53b-bbec16515d44",
   "metadata": {},
   "outputs": [],
   "source": [
    "test1=\"This is a test of the emergency text system\"\n",
    "with open('test.txt','w') as file:\n",
    "    file.write(test1)"
   ]
  },
  {
   "cell_type": "markdown",
   "id": "76838b11-3383-42e6-9746-f08ac7c6d39a",
   "metadata": {},
   "source": [
    "2. Read the contents of the file test.txt into the variable test2. Is there a difference between test 1\n",
    "and test 2?"
   ]
  },
  {
   "cell_type": "code",
   "execution_count": 2,
   "id": "f0e244f7-82b5-410b-96fb-0acf1e7fb86e",
   "metadata": {},
   "outputs": [
    {
     "name": "stdout",
     "output_type": "stream",
     "text": [
      "True\n"
     ]
    }
   ],
   "source": [
    "#both are same\n",
    "with open('test.txt','r') as file:\n",
    "    test2=file.read()\n",
    "print(test1==test2)"
   ]
  },
  {
   "cell_type": "markdown",
   "id": "f1a355e3-8da8-412b-b2dc-6d45e6a7eb7b",
   "metadata": {},
   "source": [
    "3. Create a CSV file called books.csv by using these lines:\n",
    "title,author,year\n",
    "The Weirdstone of Brisingamen,Alan Garner,1960\n",
    "Perdido Street Station,China Miéville,2000\n",
    "Thud!,Terry Pratchett,2005\n",
    "The Spellman Files,Lisa Lutz,2007\n",
    "Small Gods,Terry Pratchett,1992"
   ]
  },
  {
   "cell_type": "code",
   "execution_count": 3,
   "id": "f17ad396-9f44-45c2-ad8f-d775521304d4",
   "metadata": {},
   "outputs": [],
   "source": [
    "with open('books.csv','w') as file:\n",
    "    file.write(\"\"\"title,author,year\n",
    "The Weirdstone of Brisingamen,Alan Garner,1960\n",
    "Perdido Street Station,China Miéville,2000\n",
    "Thud!,Terry Pratchett,2005\n",
    "The Spellman Files,Lisa Lutz,2007\n",
    "Small Gods,Terry Pratchett,1992\"\"\")"
   ]
  },
  {
   "cell_type": "markdown",
   "id": "95b7a4fd-9729-4a4d-b361-f24c7a35d27d",
   "metadata": {},
   "source": [
    "4. Use the sqlite3 module to create a SQLite database called books.db, and a table called books with\n",
    "these fields: title (text), author (text), and year (integer)."
   ]
  },
  {
   "cell_type": "code",
   "execution_count": 5,
   "id": "81ccac48-ab45-457c-90f0-f8c0a183e6e1",
   "metadata": {},
   "outputs": [
    {
     "data": {
      "text/plain": [
       "<sqlite3.Cursor at 0x7f1377aa2340>"
      ]
     },
     "execution_count": 5,
     "metadata": {},
     "output_type": "execute_result"
    }
   ],
   "source": [
    "import sqlite3\n",
    "db_conn=sqlite3.connect(\"books.db\")\n",
    "c=db_conn.cursor()\n",
    "c.execute('drop table books')\n",
    "c.execute(\"create table books(title varchar,author varchar,year numbers)\")"
   ]
  },
  {
   "cell_type": "code",
   "execution_count": 6,
   "id": "1801e07f-3689-4f2b-b078-f7ccbdd964fe",
   "metadata": {},
   "outputs": [
    {
     "data": {
      "text/plain": [
       "<sqlite3.Cursor at 0x7f1377aa2340>"
      ]
     },
     "execution_count": 6,
     "metadata": {},
     "output_type": "execute_result"
    }
   ],
   "source": [
    "c.execute(\"select * from books\")"
   ]
  },
  {
   "cell_type": "markdown",
   "id": "1f4ead5f-72e5-4595-9d8d-b89b31634d10",
   "metadata": {},
   "source": [
    "5. Read books.csv and insert its data into the book table."
   ]
  },
  {
   "cell_type": "code",
   "execution_count": 7,
   "id": "d2659b88-125b-400d-b3e4-687848ae20e5",
   "metadata": {},
   "outputs": [],
   "source": [
    "with open('books.csv','r') as file:\n",
    "    for i in file.readlines():\n",
    "        if i.split(\",\")[0]!='title':\n",
    "            c.execute(\"insert into books values(?,?,?)\",(i.split(\",\")[0],i.split(\",\")[1],i.split(\",\")[2]))"
   ]
  },
  {
   "cell_type": "code",
   "execution_count": 8,
   "id": "6ce67d80-3f37-4e8c-8cb9-5500c5d466c2",
   "metadata": {},
   "outputs": [
    {
     "data": {
      "text/plain": [
       "<sqlite3.Cursor at 0x7f1377aa2340>"
      ]
     },
     "execution_count": 8,
     "metadata": {},
     "output_type": "execute_result"
    }
   ],
   "source": [
    "c.execute(\"select * from books\")"
   ]
  },
  {
   "cell_type": "code",
   "execution_count": 9,
   "id": "6d63394b-1e84-4b9c-a9b8-cc153abe5bd0",
   "metadata": {},
   "outputs": [
    {
     "name": "stdout",
     "output_type": "stream",
     "text": [
      "('The Weirdstone of Brisingamen', 'Alan Garner', 1960)\n",
      "('Perdido Street Station', 'China Miéville', 2000)\n",
      "('Thud!', 'Terry Pratchett', 2005)\n",
      "('The Spellman Files', 'Lisa Lutz', 2007)\n",
      "('Small Gods', 'Terry Pratchett', 1992)\n"
     ]
    }
   ],
   "source": [
    "for i in c.fetchall():\n",
    "    print(i)"
   ]
  },
  {
   "cell_type": "markdown",
   "id": "573747e5-a2ef-42cc-bdd9-253848612ce8",
   "metadata": {},
   "source": [
    "6. Select and print the title column from the book table in alphabetical order."
   ]
  },
  {
   "cell_type": "code",
   "execution_count": 10,
   "id": "de239db0-28f6-4f67-b705-fb9e9cdbf1f5",
   "metadata": {},
   "outputs": [
    {
     "data": {
      "text/plain": [
       "[('Perdido Street Station',),\n",
       " ('Small Gods',),\n",
       " ('The Spellman Files',),\n",
       " ('The Weirdstone of Brisingamen',),\n",
       " ('Thud!',)]"
      ]
     },
     "execution_count": 10,
     "metadata": {},
     "output_type": "execute_result"
    }
   ],
   "source": [
    "c.execute('select title from books order by title asc')\n",
    "c.fetchall()"
   ]
  },
  {
   "cell_type": "markdown",
   "id": "1067cf8e-f0a1-4b75-9dcb-6dc9e144f39d",
   "metadata": {},
   "source": [
    "7. From the book table, select and print all columns in the order of publication."
   ]
  },
  {
   "cell_type": "code",
   "execution_count": 11,
   "id": "ace27fe3-08d5-4fba-b615-de07fcbd4b9a",
   "metadata": {},
   "outputs": [
    {
     "data": {
      "text/plain": [
       "[('The Weirdstone of Brisingamen', 'Alan Garner', 1960),\n",
       " ('Small Gods', 'Terry Pratchett', 1992),\n",
       " ('Perdido Street Station', 'China Miéville', 2000),\n",
       " ('Thud!', 'Terry Pratchett', 2005),\n",
       " ('The Spellman Files', 'Lisa Lutz', 2007)]"
      ]
     },
     "execution_count": 11,
     "metadata": {},
     "output_type": "execute_result"
    }
   ],
   "source": [
    "c.execute('select * from books order by year asc')\n",
    "c.fetchall()"
   ]
  },
  {
   "cell_type": "markdown",
   "id": "f419b080-c08d-4f73-b19d-beb55d9deb9d",
   "metadata": {},
   "source": [
    "8. Use the sqlalchemy module to connect to the sqlite3 database books.db that you just made in\n",
    "exercise 6."
   ]
  },
  {
   "cell_type": "code",
   "execution_count": 12,
   "id": "fd11a17d-72cd-4116-b134-7340c1bd73f3",
   "metadata": {},
   "outputs": [],
   "source": [
    "import sqlalchemy\n",
    "db_conn = sqlalchemy.create_engine('sqlite:///books.db')"
   ]
  }
 ],
 "metadata": {
  "kernelspec": {
   "display_name": "Python 3 (ipykernel)",
   "language": "python",
   "name": "python3"
  },
  "language_info": {
   "codemirror_mode": {
    "name": "ipython",
    "version": 3
   },
   "file_extension": ".py",
   "mimetype": "text/x-python",
   "name": "python",
   "nbconvert_exporter": "python",
   "pygments_lexer": "ipython3",
   "version": "3.10.6"
  }
 },
 "nbformat": 4,
 "nbformat_minor": 5
}
