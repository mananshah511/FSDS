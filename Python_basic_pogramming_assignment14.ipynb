{
 "cells": [
  {
   "cell_type": "markdown",
   "id": "268df7de-0c46-495c-b3cb-abdaa7a87b90",
   "metadata": {},
   "source": [
    "# Question 1:\n",
    "\n",
    "Define a class with a generator which can iterate the numbers, which are divisible by 7, between a given range 0 and n.\n"
   ]
  },
  {
   "cell_type": "code",
   "execution_count": 24,
   "id": "252aa57c-ec57-4792-aaf1-d440ec5b938b",
   "metadata": {},
   "outputs": [],
   "source": [
    "class generator:\n",
    "    def __init__(self,n):\n",
    "        self.n=n\n",
    "    def divbyseven(self):\n",
    "        for i in range(0,self.n):\n",
    "            if i%7==0:\n",
    "                yield i"
   ]
  },
  {
   "cell_type": "code",
   "execution_count": 27,
   "id": "76dc4d04-3997-4264-95c1-62e9a356f0b2",
   "metadata": {},
   "outputs": [
    {
     "name": "stdout",
     "output_type": "stream",
     "text": [
      "0\n",
      "7\n",
      "14\n",
      "21\n",
      "28\n",
      "35\n",
      "42\n",
      "49\n",
      "56\n",
      "63\n",
      "70\n",
      "77\n",
      "84\n",
      "91\n",
      "98\n",
      "105\n",
      "112\n",
      "119\n",
      "126\n",
      "133\n",
      "140\n",
      "147\n",
      "154\n",
      "161\n",
      "168\n",
      "175\n",
      "182\n",
      "189\n",
      "196\n",
      "203\n",
      "210\n",
      "217\n",
      "224\n",
      "231\n",
      "238\n",
      "245\n",
      "252\n",
      "259\n",
      "266\n",
      "273\n",
      "280\n",
      "287\n",
      "294\n",
      "301\n",
      "308\n",
      "315\n",
      "322\n",
      "329\n",
      "336\n",
      "343\n",
      "350\n",
      "357\n",
      "364\n",
      "371\n",
      "378\n",
      "385\n",
      "392\n",
      "399\n",
      "406\n",
      "413\n",
      "420\n",
      "427\n",
      "434\n",
      "441\n",
      "448\n",
      "455\n",
      "462\n",
      "469\n",
      "476\n",
      "483\n",
      "490\n",
      "497\n",
      "504\n",
      "511\n",
      "518\n",
      "525\n",
      "532\n",
      "539\n",
      "546\n",
      "553\n",
      "560\n",
      "567\n",
      "574\n",
      "581\n",
      "588\n",
      "595\n",
      "602\n",
      "609\n",
      "616\n",
      "623\n",
      "630\n",
      "637\n",
      "644\n",
      "651\n",
      "658\n",
      "665\n",
      "672\n",
      "679\n",
      "686\n",
      "693\n",
      "700\n",
      "707\n",
      "714\n",
      "721\n",
      "728\n",
      "735\n",
      "742\n",
      "749\n",
      "756\n",
      "763\n",
      "770\n",
      "777\n",
      "784\n",
      "791\n",
      "798\n",
      "805\n",
      "812\n",
      "819\n",
      "826\n",
      "833\n",
      "840\n",
      "847\n",
      "854\n",
      "861\n",
      "868\n",
      "875\n",
      "882\n",
      "889\n",
      "896\n",
      "903\n",
      "910\n",
      "917\n",
      "924\n",
      "931\n",
      "938\n",
      "945\n",
      "952\n",
      "959\n",
      "966\n",
      "973\n",
      "980\n",
      "987\n",
      "994\n"
     ]
    }
   ],
   "source": [
    "x=generator(1000)\n",
    "for i in x.divbyseven():\n",
    "    print(i)"
   ]
  },
  {
   "cell_type": "markdown",
   "id": "52562185-92bf-40aa-8ebf-79ce9fe19e5d",
   "metadata": {},
   "source": [
    "# Question 2:\n",
    "Write a program to compute the frequency of the words from the input. The output should output after sorting the key alphanumerically. \n",
    "\n",
    "Suppose the following input is supplied to the program:\n",
    "\n",
    "New to Python or choosing between Python 2 and Python 3? Read Python 2 or Python 3.\n",
    "\n",
    "Then, the output should be:\n",
    "\n",
    "2:2\n",
    "\n",
    "3.:1\n",
    "\n",
    "3?:1\n",
    "\n",
    "New:1\n",
    "\n",
    "Python:5\n",
    "\n",
    "Read:1\n",
    "\n",
    "and:1\n",
    "\n",
    "between:1\n",
    "\n",
    "choosing:1\n",
    "\n",
    "or:2\n",
    "\n",
    "to:1\n"
   ]
  },
  {
   "cell_type": "code",
   "execution_count": 35,
   "id": "5d836b21-5a7c-42e3-bf4b-f5601fc3699a",
   "metadata": {},
   "outputs": [
    {
     "name": "stdin",
     "output_type": "stream",
     "text": [
      "Please enter a string New to Python or choosing between Python 2 and Python 3? Read Python 2 or Python 3.\n"
     ]
    },
    {
     "name": "stdout",
     "output_type": "stream",
     "text": [
      "2:2\n",
      "3.:1\n",
      "3?:1\n",
      "New:1\n",
      "Python:5\n",
      "Read:1\n",
      "and:1\n",
      "between:1\n",
      "choosing:1\n",
      "or:2\n",
      "to:1\n"
     ]
    }
   ],
   "source": [
    "list_x=list(str(input(\"Please enter a string\")).split(\" \"))\n",
    "dict_x={}\n",
    "list_x.sort()\n",
    "for i in range(len(list_x)):\n",
    "    try:\n",
    "        dict_x[list_x[i]]+=1\n",
    "    except:\n",
    "        dict_x[list_x[i]]=1\n",
    "for i in range(len(list_x)):\n",
    "    if dict_x[list_x[i]]>0:\n",
    "        print(list_x[i],end=\":\")\n",
    "        print(dict_x[list_x[i]])\n",
    "        dict_x[list_x[i]]=0"
   ]
  },
  {
   "cell_type": "markdown",
   "id": "6e15d7f7-9d4b-45da-b569-f49b66ac87a6",
   "metadata": {},
   "source": [
    "# Question 3:\n",
    "Define a class Person and its two child classes: Male and Female. All classes have a method \"getGender\" which can print \"Male\" for Male class and \"Female\" for Female class\n"
   ]
  },
  {
   "cell_type": "code",
   "execution_count": 14,
   "id": "774ce1be-965c-4580-aaad-96b9929f53c6",
   "metadata": {},
   "outputs": [],
   "source": [
    "class Person:\n",
    "    def __init__(self):\n",
    "        self.gender=\"Not known\"\n",
    "    def getGender(self):\n",
    "        print(self.gender)\n",
    "class Male(Person):\n",
    "    def __init__(self):\n",
    "        self.gender=\"Male\"\n",
    "class Female(Person):\n",
    "    def __init__(self):\n",
    "        self.gender=\"Female\"\n",
    "    "
   ]
  },
  {
   "cell_type": "code",
   "execution_count": 15,
   "id": "9aa4f967-8101-4592-afb9-f41e951229ba",
   "metadata": {},
   "outputs": [],
   "source": [
    "x=Person()"
   ]
  },
  {
   "cell_type": "code",
   "execution_count": 16,
   "id": "7fb26b5d-66da-4a16-bcb7-c56c02523e6e",
   "metadata": {},
   "outputs": [
    {
     "name": "stdout",
     "output_type": "stream",
     "text": [
      "Not known\n"
     ]
    }
   ],
   "source": [
    "x.getGender()"
   ]
  },
  {
   "cell_type": "code",
   "execution_count": 17,
   "id": "a944ed3b-f287-41b5-987b-0401bc0c3a2e",
   "metadata": {},
   "outputs": [],
   "source": [
    "y=Male()"
   ]
  },
  {
   "cell_type": "code",
   "execution_count": 18,
   "id": "a7ab5b42-8512-40de-9e5f-c256ffe407a7",
   "metadata": {},
   "outputs": [
    {
     "name": "stdout",
     "output_type": "stream",
     "text": [
      "Male\n"
     ]
    }
   ],
   "source": [
    "y.getGender()"
   ]
  },
  {
   "cell_type": "code",
   "execution_count": 19,
   "id": "ccd2c2b7-b387-4bf8-9f46-e4c17fc10c21",
   "metadata": {},
   "outputs": [
    {
     "name": "stdout",
     "output_type": "stream",
     "text": [
      "Female\n"
     ]
    }
   ],
   "source": [
    "z=Female()\n",
    "z.getGender()"
   ]
  },
  {
   "cell_type": "code",
   "execution_count": 23,
   "id": "50f5f800-7909-43f3-ac76-fa44108d54d9",
   "metadata": {},
   "outputs": [
    {
     "name": "stdout",
     "output_type": "stream",
     "text": [
      "b'x\\x9c\\xcbH\\xcd\\xc9\\xc9W(\\xcf/\\xcaIQ\\xcc \\x82\\r\\x00\\xbd[\\x11\\xf5'\n",
      "b'hello world!hello world!hello world!hello world!'\n"
     ]
    }
   ],
   "source": [
    "import zlib\n",
    "s = b'hello world!hello world!hello world!hello world!'\n",
    "t = zlib.compress(s)\n",
    "print(t)\n",
    "print(zlib.decompress(t))"
   ]
  },
  {
   "cell_type": "markdown",
   "id": "9e161e33-912c-411c-8742-ccc10c10919b",
   "metadata": {},
   "source": [
    "# Question 4:\n",
    "Please write a program to generate all sentences where subject is in [\"I\", \"You\"] and verb is in [\"Play\", \"Love\"] and the object is in [\"Hockey\",\"Football\"].\n"
   ]
  },
  {
   "cell_type": "code",
   "execution_count": 36,
   "id": "5cc536eb-6790-4118-b325-bdfd2e55517c",
   "metadata": {},
   "outputs": [
    {
     "name": "stdout",
     "output_type": "stream",
     "text": [
      "I Play Hockey\n",
      "I Play Football\n",
      "I Love Hockey\n",
      "I Love Football\n",
      "You Play Hockey\n",
      "You Play Football\n",
      "You Love Hockey\n",
      "You Love Football\n"
     ]
    }
   ],
   "source": [
    "s=[\"I\", \"You\"] \n",
    "v=[\"Play\", \"Love\"]\n",
    "o=[\"Hockey\",\"Football\"]\n",
    "for i in s:\n",
    "    for j in v:\n",
    "        for k in o:\n",
    "            print(i,j,k)"
   ]
  },
  {
   "cell_type": "markdown",
   "id": "d25972e5-4149-41e2-a505-cce2f03e76a4",
   "metadata": {},
   "source": [
    "# Question 5:\n",
    "Please write a program to compress and decompress the string \"hello world!hello world!hello world!hello world!\".\n"
   ]
  },
  {
   "cell_type": "code",
   "execution_count": 40,
   "id": "622d67bc-d488-469c-902e-40eb4d87005f",
   "metadata": {},
   "outputs": [
    {
     "name": "stdout",
     "output_type": "stream",
     "text": [
      "compress b'x\\x9c\\xcbH\\xcd\\xc9\\xc9W(\\xcf/\\xcaIQ\\xcc \\x82\\r\\x00\\xbd[\\x11\\xf5'\n",
      "decompress b'hello world!hello world!hello world!hello world!'\n"
     ]
    }
   ],
   "source": [
    "import zlib\n",
    "x=b\"hello world!hello world!hello world!hello world!\"\n",
    "y=zlib.compress(x)\n",
    "print(\"compress\",y)\n",
    "print(\"decompress\",zlib.decompress(y))"
   ]
  },
  {
   "cell_type": "markdown",
   "id": "e09bf0ab-0591-43e2-8780-dded0f6b4680",
   "metadata": {},
   "source": [
    "# Question 6:\n",
    "Please write a binary search function which searches an item in a sorted list. The function should return the index of element to be searched in the list.\n"
   ]
  },
  {
   "cell_type": "code",
   "execution_count": 43,
   "id": "ec83bd25-c89f-4e4d-961c-f9a0789ae647",
   "metadata": {},
   "outputs": [],
   "source": [
    "def binary_fun(list_x,ele,low,high):\n",
    "    if type(list_x)!=list:\n",
    "        return \"Invalid\"\n",
    "    middle=int((low+high)/2)\n",
    "    if list_x[middle]==ele:\n",
    "        return middle\n",
    "    if list_x[middle]>ele:\n",
    "        return binary_fun(list_x,ele,low,high-middle)\n",
    "    else:\n",
    "        return binary_fun(list_x,ele,middle+low,high)\n",
    "    "
   ]
  },
  {
   "cell_type": "code",
   "execution_count": 49,
   "id": "eae9c29b-26fd-49ec-99a6-53c67c615536",
   "metadata": {},
   "outputs": [
    {
     "data": {
      "text/plain": [
       "0"
      ]
     },
     "execution_count": 49,
     "metadata": {},
     "output_type": "execute_result"
    }
   ],
   "source": [
    "binary_fun([1,2,3,5,6,8,9],1,0,7)    #low is 0  high is len of list"
   ]
  },
  {
   "cell_type": "code",
   "execution_count": null,
   "id": "90f8e3d4-101a-4413-851a-993824bcca08",
   "metadata": {},
   "outputs": [],
   "source": []
  }
 ],
 "metadata": {
  "kernelspec": {
   "display_name": "Python 3 (ipykernel)",
   "language": "python",
   "name": "python3"
  },
  "language_info": {
   "codemirror_mode": {
    "name": "ipython",
    "version": 3
   },
   "file_extension": ".py",
   "mimetype": "text/x-python",
   "name": "python",
   "nbconvert_exporter": "python",
   "pygments_lexer": "ipython3",
   "version": "3.9.12"
  }
 },
 "nbformat": 4,
 "nbformat_minor": 5
}
