{
 "cells": [
  {
   "cell_type": "markdown",
   "id": "d6c24b39-0f83-4ff2-8242-0bd9e6f20f76",
   "metadata": {},
   "source": [
    "# Question1\n",
    "Create a function that takes a string and returns a string in which each character is repeated once.\n"
   ]
  },
  {
   "cell_type": "code",
   "execution_count": 2,
   "id": "cc3e0538-2f5c-42e1-ab27-c3f7f56bf287",
   "metadata": {},
   "outputs": [],
   "source": [
    "def double_char(str_x):\n",
    "    ans_x=\"\"\n",
    "    for i in range(len(str_x)):\n",
    "        ans_x+=str_x[i]\n",
    "        ans_x+=str_x[i]\n",
    "    return ans_x"
   ]
  },
  {
   "cell_type": "code",
   "execution_count": 3,
   "id": "2e99bdd4-4ad2-4551-b3fd-a4a912174777",
   "metadata": {},
   "outputs": [
    {
     "data": {
      "text/plain": [
       "'SSttrriinngg'"
      ]
     },
     "execution_count": 3,
     "metadata": {},
     "output_type": "execute_result"
    }
   ],
   "source": [
    "double_char(\"String\") "
   ]
  },
  {
   "cell_type": "code",
   "execution_count": 4,
   "id": "93995a64-82bb-470a-a921-cdef390cdadc",
   "metadata": {},
   "outputs": [
    {
     "data": {
      "text/plain": [
       "'HHeelllloo  WWoorrlldd!!'"
      ]
     },
     "execution_count": 4,
     "metadata": {},
     "output_type": "execute_result"
    }
   ],
   "source": [
    "double_char(\"Hello World!\") "
   ]
  },
  {
   "cell_type": "code",
   "execution_count": 5,
   "id": "c561842b-8d9e-43b3-b2d8-c4623f935dbf",
   "metadata": {},
   "outputs": [
    {
     "data": {
      "text/plain": [
       "'11223344!!__  '"
      ]
     },
     "execution_count": 5,
     "metadata": {},
     "output_type": "execute_result"
    }
   ],
   "source": [
    "double_char(\"1234!_ \")"
   ]
  },
  {
   "cell_type": "markdown",
   "id": "f6dff6b6-1cd5-4ca9-876e-66d4e6079428",
   "metadata": {},
   "source": [
    "# Question2\n",
    "Create a function that reverses a boolean value and returns the string \"boolean expected\" if another variable type is given.\n"
   ]
  },
  {
   "cell_type": "code",
   "execution_count": 12,
   "id": "e6523464-d990-48df-b06f-549e63bddc42",
   "metadata": {},
   "outputs": [],
   "source": [
    "def reverse(bool_x):\n",
    "    if type(bool_x)!=bool:\n",
    "        return \"boolean expected\"\n",
    "    elif bool_x==True:\n",
    "        return False\n",
    "    else:\n",
    "        return True"
   ]
  },
  {
   "cell_type": "code",
   "execution_count": 13,
   "id": "845e89d0-f204-4fae-8bd7-44ba258b16df",
   "metadata": {},
   "outputs": [
    {
     "data": {
      "text/plain": [
       "False"
      ]
     },
     "execution_count": 13,
     "metadata": {},
     "output_type": "execute_result"
    }
   ],
   "source": [
    "reverse(True) "
   ]
  },
  {
   "cell_type": "code",
   "execution_count": 14,
   "id": "3244978c-755b-4ec4-b874-8b11024c1bc3",
   "metadata": {},
   "outputs": [
    {
     "data": {
      "text/plain": [
       "True"
      ]
     },
     "execution_count": 14,
     "metadata": {},
     "output_type": "execute_result"
    }
   ],
   "source": [
    "reverse(False)"
   ]
  },
  {
   "cell_type": "code",
   "execution_count": 15,
   "id": "cdcdc29c-007a-4d24-9d65-aab6299241e4",
   "metadata": {},
   "outputs": [
    {
     "data": {
      "text/plain": [
       "'boolean expected'"
      ]
     },
     "execution_count": 15,
     "metadata": {},
     "output_type": "execute_result"
    }
   ],
   "source": [
    "reverse(0)"
   ]
  },
  {
   "cell_type": "code",
   "execution_count": 16,
   "id": "f86dbecd-7e3a-4663-ab0a-cab423f3415c",
   "metadata": {},
   "outputs": [
    {
     "data": {
      "text/plain": [
       "'boolean expected'"
      ]
     },
     "execution_count": 16,
     "metadata": {},
     "output_type": "execute_result"
    }
   ],
   "source": [
    "reverse(None)"
   ]
  },
  {
   "cell_type": "markdown",
   "id": "fba5d3e5-f12b-4d88-9c0d-03f12454ade1",
   "metadata": {},
   "source": [
    "# Question3\n",
    "Create a function that returns the thickness (in meters) of a piece of paper after folding it n number of times. The paper starts off with a thickness of 0.5mm.\n"
   ]
  },
  {
   "cell_type": "code",
   "execution_count": 22,
   "id": "db5ec1b6-1067-4e10-8b5b-f06fd7793090",
   "metadata": {},
   "outputs": [],
   "source": [
    "def num_layers(int_x):\n",
    "    if int_x==0:\n",
    "        return str(0.5/1000)+\"m\"\n",
    "    else:\n",
    "        return str((2**(int_x-1))/1000)+\"m\""
   ]
  },
  {
   "cell_type": "code",
   "execution_count": 23,
   "id": "2984a012-2128-4ac9-b6dc-e49a04bd5dcc",
   "metadata": {},
   "outputs": [
    {
     "data": {
      "text/plain": [
       "'0.001m'"
      ]
     },
     "execution_count": 23,
     "metadata": {},
     "output_type": "execute_result"
    }
   ],
   "source": [
    "num_layers(1)"
   ]
  },
  {
   "cell_type": "code",
   "execution_count": 24,
   "id": "050f9fd7-c9ef-49cc-a57c-8d43d28dc961",
   "metadata": {},
   "outputs": [
    {
     "data": {
      "text/plain": [
       "'0.008m'"
      ]
     },
     "execution_count": 24,
     "metadata": {},
     "output_type": "execute_result"
    }
   ],
   "source": [
    "num_layers(4)"
   ]
  },
  {
   "cell_type": "code",
   "execution_count": 25,
   "id": "2f2da63f-eb49-4d3e-bcff-9477c1ad72bd",
   "metadata": {},
   "outputs": [
    {
     "data": {
      "text/plain": [
       "'1048.576m'"
      ]
     },
     "execution_count": 25,
     "metadata": {},
     "output_type": "execute_result"
    }
   ],
   "source": [
    "num_layers(21) "
   ]
  },
  {
   "cell_type": "markdown",
   "id": "4faea718-a80c-41a0-ad3f-63fa83c54091",
   "metadata": {},
   "source": [
    "# Question4\n",
    "Create a function that takes a single string as argument and returns an ordered list containing the indices of all capital letters in the string\n"
   ]
  },
  {
   "cell_type": "code",
   "execution_count": 26,
   "id": "92d68d46-118b-46c6-ad74-40d10194f1d8",
   "metadata": {},
   "outputs": [],
   "source": [
    "def index_of_caps(str_x):\n",
    "    ans=[]\n",
    "    for i in range(len(str_x)):\n",
    "        if str_x[i]==(str_x[i].upper()):\n",
    "            ans.append(i)\n",
    "    return ans"
   ]
  },
  {
   "cell_type": "code",
   "execution_count": 27,
   "id": "a86f4e27-2f5c-4865-8e43-18716ddf9300",
   "metadata": {},
   "outputs": [
    {
     "data": {
      "text/plain": [
       "[1, 3, 5]"
      ]
     },
     "execution_count": 27,
     "metadata": {},
     "output_type": "execute_result"
    }
   ],
   "source": [
    "index_of_caps(\"eDaBiT\") "
   ]
  },
  {
   "cell_type": "code",
   "execution_count": 28,
   "id": "e12e3b44-b2b7-4a1a-b516-5061f027672f",
   "metadata": {},
   "outputs": [
    {
     "data": {
      "text/plain": [
       "[1, 3, 4, 6]"
      ]
     },
     "execution_count": 28,
     "metadata": {},
     "output_type": "execute_result"
    }
   ],
   "source": [
    "index_of_caps(\"eQuINoX\")"
   ]
  },
  {
   "cell_type": "code",
   "execution_count": 29,
   "id": "85923b1a-2758-48b0-9c7c-f20582232907",
   "metadata": {},
   "outputs": [
    {
     "data": {
      "text/plain": [
       "[]"
      ]
     },
     "execution_count": 29,
     "metadata": {},
     "output_type": "execute_result"
    }
   ],
   "source": [
    "index_of_caps(\"determine\")"
   ]
  },
  {
   "cell_type": "code",
   "execution_count": 30,
   "id": "949c840a-8a3b-44dd-b077-63be95e8dbe8",
   "metadata": {},
   "outputs": [
    {
     "data": {
      "text/plain": [
       "[0, 1, 2, 3, 4, 5]"
      ]
     },
     "execution_count": 30,
     "metadata": {},
     "output_type": "execute_result"
    }
   ],
   "source": [
    "index_of_caps(\"STRIKE\") "
   ]
  },
  {
   "cell_type": "code",
   "execution_count": 31,
   "id": "cb487592-1a21-4df5-aa3b-1886dc74683e",
   "metadata": {},
   "outputs": [
    {
     "data": {
      "text/plain": [
       "[1]"
      ]
     },
     "execution_count": 31,
     "metadata": {},
     "output_type": "execute_result"
    }
   ],
   "source": [
    "index_of_caps(\"sUn\") "
   ]
  },
  {
   "cell_type": "markdown",
   "id": "8abe3f66-be43-4eac-8134-fff4b5c41fe7",
   "metadata": {},
   "source": [
    "# Question5\n",
    "Using list comprehensions, create a function that finds all even numbers from 1 to the given number.\n"
   ]
  },
  {
   "cell_type": "code",
   "execution_count": 32,
   "id": "9e9aa45d-86f1-441b-9b88-a0072583876a",
   "metadata": {},
   "outputs": [],
   "source": [
    "def find_even_nums(int_x):\n",
    "    ans_x=[x for x in range(1,int_x+1) if x%2==0]\n",
    "    return ans_x"
   ]
  },
  {
   "cell_type": "code",
   "execution_count": 33,
   "id": "7ae6a7ff-b937-404c-b530-188d74d8a604",
   "metadata": {},
   "outputs": [
    {
     "data": {
      "text/plain": [
       "[2, 4, 6, 8]"
      ]
     },
     "execution_count": 33,
     "metadata": {},
     "output_type": "execute_result"
    }
   ],
   "source": [
    "find_even_nums(8)"
   ]
  },
  {
   "cell_type": "code",
   "execution_count": 34,
   "id": "f7cd5e8e-3a5b-40c2-8b7a-6a8312107069",
   "metadata": {},
   "outputs": [
    {
     "data": {
      "text/plain": [
       "[2, 4]"
      ]
     },
     "execution_count": 34,
     "metadata": {},
     "output_type": "execute_result"
    }
   ],
   "source": [
    "find_even_nums(4) "
   ]
  },
  {
   "cell_type": "code",
   "execution_count": 35,
   "id": "416af5eb-c443-4ccf-ae09-c81ce4c82d74",
   "metadata": {},
   "outputs": [
    {
     "data": {
      "text/plain": [
       "[2]"
      ]
     },
     "execution_count": 35,
     "metadata": {},
     "output_type": "execute_result"
    }
   ],
   "source": [
    "find_even_nums(2) "
   ]
  },
  {
   "cell_type": "code",
   "execution_count": null,
   "id": "7e4123ca-b529-4d59-8e1e-41124e8d5629",
   "metadata": {},
   "outputs": [],
   "source": []
  }
 ],
 "metadata": {
  "kernelspec": {
   "display_name": "Python 3 (ipykernel)",
   "language": "python",
   "name": "python3"
  },
  "language_info": {
   "codemirror_mode": {
    "name": "ipython",
    "version": 3
   },
   "file_extension": ".py",
   "mimetype": "text/x-python",
   "name": "python",
   "nbconvert_exporter": "python",
   "pygments_lexer": "ipython3",
   "version": "3.9.12"
  }
 },
 "nbformat": 4,
 "nbformat_minor": 5
}
