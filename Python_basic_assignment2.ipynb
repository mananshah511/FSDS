{
 "cells": [
  {
   "cell_type": "markdown",
   "id": "00e09fba-ec09-4b37-999c-5e597ab3f1ab",
   "metadata": {},
   "source": [
    "1.What are the two values of the Boolean data type? How do you write them?\n",
    "True\n",
    "False"
   ]
  },
  {
   "cell_type": "markdown",
   "id": "7efe2ee1-8abd-43e9-8b3a-597e4676911e",
   "metadata": {},
   "source": [
    "2.What are the three different types of Boolean operators?\n",
    "AND\n",
    "OR\n",
    "NOT"
   ]
  },
  {
   "cell_type": "markdown",
   "id": "efd99dcf-ab31-4d03-97ae-7e797d3af0d7",
   "metadata": {},
   "source": [
    "3.Make a list of each Boolean operator's truth tables (i.e. every possible combination of Boolean values for the operator and what it evaluate ).\n",
    "AND:\n",
    "\n",
    "True AND True= True\n",
    "True AND False= False\n",
    "False AND False= False\n",
    "False AND True= False\n",
    "\n",
    "OR:\n",
    "\n",
    "True OR True= True\n",
    "True OR False= True\n",
    "False OR False= False\n",
    "False OR True= True\n",
    "\n",
    "NOT:\n",
    "\n",
    "NOT True= Flase\n",
    "NOT Flase= True"
   ]
  },
  {
   "cell_type": "markdown",
   "id": "c92424fe-417d-4066-a360-be0428bdb23e",
   "metadata": {},
   "source": [
    "4.What are the values of the following expressions?\n",
    "(5 > 4) and (3 == 5)  False\n",
    "not (5 > 4)    False\n",
    "(5 > 4) or (3 == 5)   True\n",
    "not ((5 > 4) or (3 == 5))  False\n",
    "(True and True) and (True == False)  False\n",
    "(not False) or (not True)  True\n"
   ]
  },
  {
   "cell_type": "markdown",
   "id": "d0b65ef6-db8c-4394-bb45-a58877bfe63d",
   "metadata": {},
   "source": [
    "5.What are the six comparison operators?\n",
    "\n",
    "== equal to\n",
    "!= not equal to\n",
    "> greater than\n",
    "< less than\n",
    ">= greater than or equal to\n",
    "<= less than or equal to"
   ]
  },
  {
   "cell_type": "markdown",
   "id": "abeb0d5f-9879-4947-8ec1-aa34440c6ca5",
   "metadata": {},
   "source": [
    "6.How do you tell the difference between the equal to and assignment operators?Describe a condition and when you would use one.\n",
    "Equal operator is used for comparson for example 5==4 will return False\n",
    "Assignment operator is used for assigning particular value to variable for example a=5 will make value of a to 5."
   ]
  },
  {
   "cell_type": "markdown",
   "id": "ecc571fd-f771-4c1f-8855-28e6399293bb",
   "metadata": {},
   "source": [
    "7.Identify the three blocks in this code:\n",
    "spam = 0\n",
    "if spam == 10:\n",
    "print('eggs')\n",
    "if spam > 5:\n",
    "print('bacon')\n",
    "else:\n",
    "print('ham')\n",
    "print('spam')\n",
    "print('spam')\n",
    "\n",
    "Right ans:\n",
    "\n",
    "spam = 0\n",
    "if spam == 10:\n",
    "    print('eggs')\n",
    "if spam > 5:\n",
    "    print('bacon')\n",
    "else:\n",
    "    print('ham')\n",
    "print('spam') \n",
    "print('spam')\n",
    "\n",
    "Last two statement colud be inside else block depending on condition\n"
   ]
  },
  {
   "cell_type": "markdown",
   "id": "d1f16723-f15a-47ed-b243-d244380d8f15",
   "metadata": {},
   "source": [
    "8.Write code that prints Hello if 1 is stored in spam, prints Howdy if 2 is stored in spam, and prints Greetings! if anything else is stored in spam."
   ]
  },
  {
   "cell_type": "code",
   "execution_count": 1,
   "id": "83210560-bf74-4fcc-b963-14b4baa8421e",
   "metadata": {},
   "outputs": [
    {
     "name": "stdout",
     "output_type": "stream",
     "text": [
      "Hello\n"
     ]
    }
   ],
   "source": [
    "spam=1\n",
    "if spam==1:\n",
    "    print(\"Hello\")\n",
    "elif spam==2:\n",
    "    print(\"Howdy\")\n",
    "else:\n",
    "    print(\"Greeting!\")"
   ]
  },
  {
   "cell_type": "markdown",
   "id": "4c23a429-7815-41f5-827f-27e419b48dd5",
   "metadata": {},
   "source": [
    "9.If your programme is stuck in an endless loop, what keys you’ll press?\n",
    "ctrl+c"
   ]
  },
  {
   "cell_type": "markdown",
   "id": "cdbb167c-03be-4ea4-be7f-bff57b886124",
   "metadata": {},
   "source": [
    "10.How can you tell the difference between break and continue?\n",
    "when we are using a loop, break will stop the loop if one particular condition met, on other hand continue will skip statment below it and pass control to loop again."
   ]
  },
  {
   "cell_type": "markdown",
   "id": "a9780c9c-7009-478e-a353-cafbe67bed8f",
   "metadata": {},
   "source": [
    "11.In a for loop, what is the difference between range(10), range(0, 10), and range(0, 10, 1)?\n",
    "All works same and have number from 0 to 9."
   ]
  },
  {
   "cell_type": "markdown",
   "id": "a90eb1cc-2cd1-4eaa-a4ca-f269f305dba9",
   "metadata": {},
   "source": [
    "12.Write a short program that prints the numbers 1 to 10 using a for loop. Then write an equivalent program that prints the numbers 1 to 10 using a while loop."
   ]
  },
  {
   "cell_type": "code",
   "execution_count": 6,
   "id": "12cba0d6-7714-47ce-a54c-71ff7acc4330",
   "metadata": {},
   "outputs": [
    {
     "name": "stdout",
     "output_type": "stream",
     "text": [
      "1\n",
      "2\n",
      "3\n",
      "4\n",
      "5\n",
      "6\n",
      "7\n",
      "8\n",
      "9\n",
      "10\n"
     ]
    }
   ],
   "source": [
    "for i in range(1,11):\n",
    "    print(i)"
   ]
  },
  {
   "cell_type": "code",
   "execution_count": 7,
   "id": "58bafe65-e391-4c85-bbc4-2a011f3b154c",
   "metadata": {},
   "outputs": [
    {
     "name": "stdout",
     "output_type": "stream",
     "text": [
      "1\n",
      "2\n",
      "3\n",
      "4\n",
      "5\n",
      "6\n",
      "7\n",
      "8\n",
      "9\n",
      "10\n"
     ]
    }
   ],
   "source": [
    "n=1\n",
    "while n<11:\n",
    "    print(n)\n",
    "    n+=1"
   ]
  },
  {
   "cell_type": "markdown",
   "id": "3fd25b30-5ce3-4860-b75e-eb850dd64426",
   "metadata": {},
   "source": [
    "13.If you had a function named bacon() inside a module named spam, how would you call it after importing spam?\n",
    "spam.bacon()"
   ]
  },
  {
   "cell_type": "code",
   "execution_count": null,
   "id": "9c88d707-1698-4ba6-ad81-0cc2cb8fec49",
   "metadata": {},
   "outputs": [],
   "source": []
  }
 ],
 "metadata": {
  "kernelspec": {
   "display_name": "Python 3 (ipykernel)",
   "language": "python",
   "name": "python3"
  },
  "language_info": {
   "codemirror_mode": {
    "name": "ipython",
    "version": 3
   },
   "file_extension": ".py",
   "mimetype": "text/x-python",
   "name": "python",
   "nbconvert_exporter": "python",
   "pygments_lexer": "ipython3",
   "version": "3.9.12"
  }
 },
 "nbformat": 4,
 "nbformat_minor": 5
}
