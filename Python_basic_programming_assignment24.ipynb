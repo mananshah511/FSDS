{
 "cells": [
  {
   "cell_type": "markdown",
   "id": "cd478a0c-b80c-477d-87eb-2364a563771b",
   "metadata": {},
   "source": [
    "# Question1\n",
    "Create a function that takes an integer and returns a list from 1 to the given number, where:\n",
    "1.If the number can be divided evenly by 4, amplify it by 10 (i.e. return 10 times the number).\n",
    "2.If the number cannot be divided evenly by 4, simply return the number.\n"
   ]
  },
  {
   "cell_type": "code",
   "execution_count": 12,
   "id": "2a67f913-d995-4d09-b9e3-8f7e226bf31d",
   "metadata": {},
   "outputs": [],
   "source": [
    "def amplify(int_x):\n",
    "    if type(int_x)!=int or int_x<2:\n",
    "        return \"Not a valid argument\"\n",
    "    ans=[x if x%4!=0 else x*10 for x in range(1,int_x+1)]\n",
    "    return ans"
   ]
  },
  {
   "cell_type": "code",
   "execution_count": 13,
   "id": "8f7b57b6-6424-4a6b-8bbd-26678ba97b11",
   "metadata": {},
   "outputs": [
    {
     "data": {
      "text/plain": [
       "[1, 2, 3, 40]"
      ]
     },
     "execution_count": 13,
     "metadata": {},
     "output_type": "execute_result"
    }
   ],
   "source": [
    "amplify(4)"
   ]
  },
  {
   "cell_type": "code",
   "execution_count": 15,
   "id": "a9c7dc62-ccaa-44d5-a344-b938a5c30f0c",
   "metadata": {},
   "outputs": [
    {
     "data": {
      "text/plain": [
       "[1, 2, 3]"
      ]
     },
     "execution_count": 15,
     "metadata": {},
     "output_type": "execute_result"
    }
   ],
   "source": [
    "amplify(3)"
   ]
  },
  {
   "cell_type": "code",
   "execution_count": 16,
   "id": "675aff7a-c342-4642-a3b1-2d2aa01b64f9",
   "metadata": {},
   "outputs": [
    {
     "data": {
      "text/plain": [
       "[1,\n",
       " 2,\n",
       " 3,\n",
       " 40,\n",
       " 5,\n",
       " 6,\n",
       " 7,\n",
       " 80,\n",
       " 9,\n",
       " 10,\n",
       " 11,\n",
       " 120,\n",
       " 13,\n",
       " 14,\n",
       " 15,\n",
       " 160,\n",
       " 17,\n",
       " 18,\n",
       " 19,\n",
       " 200,\n",
       " 21,\n",
       " 22,\n",
       " 23,\n",
       " 240,\n",
       " 25]"
      ]
     },
     "execution_count": 16,
     "metadata": {},
     "output_type": "execute_result"
    }
   ],
   "source": [
    "amplify(25)"
   ]
  },
  {
   "cell_type": "markdown",
   "id": "64bd5020-248b-4f22-aa08-cc4e56aca24d",
   "metadata": {},
   "source": [
    "# Question2\n",
    "Create a function that takes a list of numbers and return the number that's unique.\n"
   ]
  },
  {
   "cell_type": "code",
   "execution_count": 23,
   "id": "f113281c-ab50-4b51-aaa7-9ffb5c40bb5e",
   "metadata": {},
   "outputs": [],
   "source": [
    "def unique(list_x):\n",
    "    if type(list_x)!=list:\n",
    "        return \"Not a valid\"\n",
    "    list_x.sort()\n",
    "    if list_x[0]==list_x[1]:\n",
    "        return list_x[len(list_x)-1]\n",
    "    else:\n",
    "        return list_x[0]"
   ]
  },
  {
   "cell_type": "code",
   "execution_count": 24,
   "id": "4e5f112a-d0fa-4592-86cb-0803c860c9e4",
   "metadata": {},
   "outputs": [
    {
     "data": {
      "text/plain": [
       "0.77"
      ]
     },
     "execution_count": 24,
     "metadata": {},
     "output_type": "execute_result"
    }
   ],
   "source": [
    "unique([0, 0, 0.77, 0, 0]) "
   ]
  },
  {
   "cell_type": "code",
   "execution_count": 25,
   "id": "762c2ce0-7849-4fac-9666-31aec62cc0d9",
   "metadata": {},
   "outputs": [
    {
     "data": {
      "text/plain": [
       "7"
      ]
     },
     "execution_count": 25,
     "metadata": {},
     "output_type": "execute_result"
    }
   ],
   "source": [
    "unique([3, 3, 3, 7, 3, 3])"
   ]
  },
  {
   "cell_type": "code",
   "execution_count": 26,
   "id": "a4a9dc87-12b0-460b-997e-c54d09631cd1",
   "metadata": {},
   "outputs": [
    {
     "data": {
      "text/plain": [
       "0"
      ]
     },
     "execution_count": 26,
     "metadata": {},
     "output_type": "execute_result"
    }
   ],
   "source": [
    "unique([0, 1, 1, 1, 1, 1, 1, 1])"
   ]
  },
  {
   "cell_type": "markdown",
   "id": "52b6e804-f2a6-47c9-a9fe-affc102364a1",
   "metadata": {},
   "source": [
    "# Question3\n",
    "Your task is to create a Circle constructor that creates a circle with a radius provided by an argument. The circles constructed must have two getters getArea() (PIr^2) and getPerimeter() (2PI*r) which give both respective areas and perimeter (circumference).\n"
   ]
  },
  {
   "cell_type": "code",
   "execution_count": 53,
   "id": "2361c239-1bf4-485b-9806-ee13073f637c",
   "metadata": {},
   "outputs": [],
   "source": [
    "import math\n",
    "class Circle:\n",
    "    def __init__(self,r):\n",
    "        self.r=r\n",
    "        \n",
    "    def getArea(self):\n",
    "        self.area=(math.pi)*((self.r)**2)\n",
    "        return math.ceil(self.area)\n",
    "    def getPerimeter(self):\n",
    "        self.perimeter=(math.pi)*(self.r)*2\n",
    "        return math.ceil(self.perimeter)"
   ]
  },
  {
   "cell_type": "code",
   "execution_count": 54,
   "id": "127c3b23-a8bc-42f8-b97e-8dd678c4c3c2",
   "metadata": {},
   "outputs": [
    {
     "data": {
      "text/plain": [
       "381"
      ]
     },
     "execution_count": 54,
     "metadata": {},
     "output_type": "execute_result"
    }
   ],
   "source": [
    "circy = Circle(11)\n",
    "circy.getArea()"
   ]
  },
  {
   "cell_type": "code",
   "execution_count": 55,
   "id": "76cbdfe1-772c-4364-b667-567b5d1dc16a",
   "metadata": {},
   "outputs": [
    {
     "data": {
      "text/plain": [
       "28"
      ]
     },
     "execution_count": 55,
     "metadata": {},
     "output_type": "execute_result"
    }
   ],
   "source": [
    "circy = Circle(4.44)\n",
    "circy.getPerimeter()"
   ]
  },
  {
   "cell_type": "markdown",
   "id": "38626f28-2395-4b5a-8a8f-a71173c7a422",
   "metadata": {},
   "source": [
    "# Question4\n",
    "Create a function that takes a list of strings and return a list, sorted from shortest to longest.\n"
   ]
  },
  {
   "cell_type": "code",
   "execution_count": 30,
   "id": "632e5ebd-80c3-4929-81dd-a9aaa38df7de",
   "metadata": {},
   "outputs": [],
   "source": [
    "def custom_fun(len_x):\n",
    "    return len(len_x)\n",
    "def sort_by_length(int_x):\n",
    "    int_x.sort(key=custom_fun)\n",
    "    return int_x"
   ]
  },
  {
   "cell_type": "code",
   "execution_count": 31,
   "id": "288dcad2-683c-45d3-8274-41944c244bf8",
   "metadata": {},
   "outputs": [
    {
     "data": {
      "text/plain": [
       "['Apple', 'Google', 'Microsoft']"
      ]
     },
     "execution_count": 31,
     "metadata": {},
     "output_type": "execute_result"
    }
   ],
   "source": [
    "sort_by_length([\"Google\", \"Apple\", \"Microsoft\"])"
   ]
  },
  {
   "cell_type": "code",
   "execution_count": 32,
   "id": "54e63f96-cf10-4dda-b38f-d859eafee626",
   "metadata": {},
   "outputs": [
    {
     "data": {
      "text/plain": [
       "['Raphael', 'Leonardo', 'Donatello', 'Michelangelo']"
      ]
     },
     "execution_count": 32,
     "metadata": {},
     "output_type": "execute_result"
    }
   ],
   "source": [
    "sort_by_length([\"Leonardo\", \"Michelangelo\", \"Raphael\", \"Donatello\"])"
   ]
  },
  {
   "cell_type": "code",
   "execution_count": 33,
   "id": "8aa17315-f52c-4c5b-a34f-1a0251e8775b",
   "metadata": {},
   "outputs": [
    {
     "data": {
      "text/plain": [
       "['Jung', 'Turing', 'Einstein']"
      ]
     },
     "execution_count": 33,
     "metadata": {},
     "output_type": "execute_result"
    }
   ],
   "source": [
    "sort_by_length([\"Turing\", \"Einstein\", \"Jung\"])"
   ]
  },
  {
   "cell_type": "markdown",
   "id": "7e7bdd90-c941-41c0-a351-3792c0b0d891",
   "metadata": {},
   "source": [
    "# Question5\n",
    "Create a function that validates whether three given integers form a Pythagorean triplet. The sum of the squares of the two smallest integers must equal the square of the largest number to be validated.\n"
   ]
  },
  {
   "cell_type": "code",
   "execution_count": 37,
   "id": "996532a6-6d5d-4470-a96f-f9a2984e4214",
   "metadata": {},
   "outputs": [],
   "source": [
    "def is_triplet(a,b,c):\n",
    "    list_x=[]\n",
    "    list_x.append(a)\n",
    "    list_x.append(b)\n",
    "    list_x.append(c)\n",
    "    list_x.sort()\n",
    "    return ((list_x[0]**2)+(list_x[1]**2))==(list_x[2]**2)"
   ]
  },
  {
   "cell_type": "code",
   "execution_count": 38,
   "id": "62ebccfb-6ee4-4211-b606-f747e04605ab",
   "metadata": {},
   "outputs": [
    {
     "data": {
      "text/plain": [
       "True"
      ]
     },
     "execution_count": 38,
     "metadata": {},
     "output_type": "execute_result"
    }
   ],
   "source": [
    "is_triplet(3, 4, 5)"
   ]
  },
  {
   "cell_type": "code",
   "execution_count": 39,
   "id": "e616c141-6b42-4388-b901-951a9c9df12e",
   "metadata": {},
   "outputs": [
    {
     "data": {
      "text/plain": [
       "True"
      ]
     },
     "execution_count": 39,
     "metadata": {},
     "output_type": "execute_result"
    }
   ],
   "source": [
    "is_triplet(13, 5, 12)"
   ]
  },
  {
   "cell_type": "code",
   "execution_count": 40,
   "id": "61fd8cf9-3984-4017-81cf-c4b827f6117b",
   "metadata": {},
   "outputs": [
    {
     "data": {
      "text/plain": [
       "False"
      ]
     },
     "execution_count": 40,
     "metadata": {},
     "output_type": "execute_result"
    }
   ],
   "source": [
    "is_triplet(1, 2, 3) "
   ]
  },
  {
   "cell_type": "code",
   "execution_count": null,
   "id": "af3b1001-faac-437a-a046-f4163d45c816",
   "metadata": {},
   "outputs": [],
   "source": []
  }
 ],
 "metadata": {
  "kernelspec": {
   "display_name": "Python 3 (ipykernel)",
   "language": "python",
   "name": "python3"
  },
  "language_info": {
   "codemirror_mode": {
    "name": "ipython",
    "version": 3
   },
   "file_extension": ".py",
   "mimetype": "text/x-python",
   "name": "python",
   "nbconvert_exporter": "python",
   "pygments_lexer": "ipython3",
   "version": "3.9.12"
  }
 },
 "nbformat": 4,
 "nbformat_minor": 5
}
