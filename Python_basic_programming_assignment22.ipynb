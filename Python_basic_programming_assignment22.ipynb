{
 "cells": [
  {
   "cell_type": "markdown",
   "id": "cd516947-443b-438d-8389-31b69fdb4262",
   "metadata": {},
   "source": [
    "# Question1\n",
    "Create a function that takes three parameters where:\n",
    "•x is the start of the range (inclusive).\n",
    "•y is the end of the range (inclusive).\n",
    "•n is the divisor to be checked against.\n",
    "Return an ordered list with numbers in the range that are divisible by the third parameter n. Return an empty list if there are no numbers that are divisible by n.\n"
   ]
  },
  {
   "cell_type": "code",
   "execution_count": 5,
   "id": "40e04f8a-b787-4ce0-9e47-848c1c9b94c8",
   "metadata": {},
   "outputs": [],
   "source": [
    "def list_operation(x,y,n):\n",
    "    if type(x)!=int or type(y)!=int or type(n)!=int:\n",
    "        return \"Invalid argument passed\"\n",
    "    ans=[]\n",
    "    for i in range(x,y+1):\n",
    "        if i%n==0:\n",
    "            ans.append(i)\n",
    "    return ans"
   ]
  },
  {
   "cell_type": "code",
   "execution_count": 6,
   "id": "093edcaa-9639-4dd1-bacd-441f6511fb76",
   "metadata": {},
   "outputs": [
    {
     "data": {
      "text/plain": [
       "[3, 6, 9]"
      ]
     },
     "execution_count": 6,
     "metadata": {},
     "output_type": "execute_result"
    }
   ],
   "source": [
    "list_operation(1, 10, 3) "
   ]
  },
  {
   "cell_type": "code",
   "execution_count": 7,
   "id": "55b39611-91ba-489b-8b9e-c72c29ade284",
   "metadata": {},
   "outputs": [
    {
     "data": {
      "text/plain": [
       "[8]"
      ]
     },
     "execution_count": 7,
     "metadata": {},
     "output_type": "execute_result"
    }
   ],
   "source": [
    "list_operation(7, 9, 2) "
   ]
  },
  {
   "cell_type": "code",
   "execution_count": 8,
   "id": "c115fbfa-1808-49c5-aadd-9c23dbea8e82",
   "metadata": {},
   "outputs": [
    {
     "data": {
      "text/plain": [
       "[]"
      ]
     },
     "execution_count": 8,
     "metadata": {},
     "output_type": "execute_result"
    }
   ],
   "source": [
    "list_operation(15, 20, 7)"
   ]
  },
  {
   "cell_type": "markdown",
   "id": "b14c1e07-d413-45d1-8bda-b6010a8d618b",
   "metadata": {},
   "source": [
    "# Question2\n",
    "Create a function that takes in two lists and returns True if the second list follows the first list by one element, and False otherwise. In other words, determine if the second list is the first list shifted to the right by 1.\n"
   ]
  },
  {
   "cell_type": "code",
   "execution_count": 16,
   "id": "d7cb7c80-2f3c-4256-b5ec-59ae523ae09d",
   "metadata": {},
   "outputs": [],
   "source": [
    "def simon_says(list_x,list_y):\n",
    "    if len(list_x)!=len(list_y):\n",
    "        return \"two list are not of the same length\"\n",
    "    if len(list_x)<2 or len(list_y)<2:\n",
    "        return \"list size is less than two\"\n",
    "    for i in range(len(list_x)-1):\n",
    "        if list_x[i]!=list_y[i+1]:\n",
    "            return False\n",
    "    return True"
   ]
  },
  {
   "cell_type": "code",
   "execution_count": 17,
   "id": "f76cc4ed-564b-4b99-97f4-107373d68000",
   "metadata": {},
   "outputs": [
    {
     "data": {
      "text/plain": [
       "True"
      ]
     },
     "execution_count": 17,
     "metadata": {},
     "output_type": "execute_result"
    }
   ],
   "source": [
    "simon_says([1, 2], [5, 1])"
   ]
  },
  {
   "cell_type": "code",
   "execution_count": 18,
   "id": "48065871-ec9f-4902-82bc-67b7f1714304",
   "metadata": {},
   "outputs": [
    {
     "data": {
      "text/plain": [
       "False"
      ]
     },
     "execution_count": 18,
     "metadata": {},
     "output_type": "execute_result"
    }
   ],
   "source": [
    "simon_says([1, 2], [5, 5])"
   ]
  },
  {
   "cell_type": "code",
   "execution_count": 19,
   "id": "de67b5e0-e558-44b8-bfc2-eac36a653259",
   "metadata": {},
   "outputs": [
    {
     "data": {
      "text/plain": [
       "True"
      ]
     },
     "execution_count": 19,
     "metadata": {},
     "output_type": "execute_result"
    }
   ],
   "source": [
    "simon_says([1, 2, 3, 4, 5], [0, 1, 2, 3, 4])"
   ]
  },
  {
   "cell_type": "code",
   "execution_count": 20,
   "id": "2bdfb6e9-3879-471d-923b-55f49ab23bed",
   "metadata": {},
   "outputs": [
    {
     "data": {
      "text/plain": [
       "False"
      ]
     },
     "execution_count": 20,
     "metadata": {},
     "output_type": "execute_result"
    }
   ],
   "source": [
    "simon_says([1, 2, 3, 4, 5], [5, 5, 1, 2, 3]) "
   ]
  },
  {
   "cell_type": "code",
   "execution_count": 23,
   "id": "f7adfc78-3145-4188-bfb9-d0281ad109f4",
   "metadata": {},
   "outputs": [
    {
     "data": {
      "text/plain": [
       "'list size is less than two'"
      ]
     },
     "execution_count": 23,
     "metadata": {},
     "output_type": "execute_result"
    }
   ],
   "source": [
    "simon_says([1],[1])"
   ]
  },
  {
   "cell_type": "markdown",
   "id": "5051475f-fc40-41ff-9574-030da4487b4b",
   "metadata": {},
   "source": [
    "# Question3\n",
    "A group of friends have decided to start a secret society. The name will be the first letter of each of their names, sorted in alphabetical order.\n",
    "Create a function that takes in a list of names and returns the name of the secret society.\n"
   ]
  },
  {
   "cell_type": "code",
   "execution_count": 26,
   "id": "143e6af0-c452-4091-b116-a23f5235f948",
   "metadata": {},
   "outputs": [],
   "source": [
    "def society_name(list_x):\n",
    "    ans=[]\n",
    "    for i in range(len(list_x)):\n",
    "        ans.append(list_x[i][0])\n",
    "    ans.sort()\n",
    "    ans_str=\"\"\n",
    "    for i in range(len(ans)):\n",
    "        ans_str=ans_str+ans[i]\n",
    "    return ans_str"
   ]
  },
  {
   "cell_type": "code",
   "execution_count": 27,
   "id": "7bafefda-f27f-409e-85a1-59521aedc404",
   "metadata": {},
   "outputs": [
    {
     "data": {
      "text/plain": [
       "'AMS'"
      ]
     },
     "execution_count": 27,
     "metadata": {},
     "output_type": "execute_result"
    }
   ],
   "source": [
    "society_name([\"Adam\", \"Sarah\", \"Malcolm\"]) "
   ]
  },
  {
   "cell_type": "code",
   "execution_count": 28,
   "id": "9ce7fb86-8af4-4006-a159-2a31b78d44de",
   "metadata": {},
   "outputs": [
    {
     "data": {
      "text/plain": [
       "'CHLN'"
      ]
     },
     "execution_count": 28,
     "metadata": {},
     "output_type": "execute_result"
    }
   ],
   "source": [
    "society_name([\"Harry\", \"Newt\", \"Luna\", \"Cho\"])"
   ]
  },
  {
   "cell_type": "code",
   "execution_count": 29,
   "id": "9245b204-4d13-4dd2-8961-bfab04849285",
   "metadata": {},
   "outputs": [
    {
     "data": {
      "text/plain": [
       "'CJMPRR'"
      ]
     },
     "execution_count": 29,
     "metadata": {},
     "output_type": "execute_result"
    }
   ],
   "source": [
    "society_name([\"Phoebe\", \"Chandler\", \"Rachel\", \"Ross\", \"Monica\", \"Joey\"])"
   ]
  },
  {
   "cell_type": "markdown",
   "id": "8dfe245d-386a-4ba0-84aa-38cae920b1d0",
   "metadata": {},
   "source": [
    "# Question4\n",
    "An isogram is a word that has no duplicate letters. Create a function that takes a string and returns either True or False depending on whether or not it's an \"isogram\".\n"
   ]
  },
  {
   "cell_type": "code",
   "execution_count": 33,
   "id": "fda1a94c-f181-4f6b-89fa-aba6c5c68c87",
   "metadata": {},
   "outputs": [],
   "source": [
    "def is_isogram(str_x):\n",
    "    if type(str_x)!=str:\n",
    "        return \"Not  string\"\n",
    "    str_x=str_x.lower()\n",
    "    dict={}\n",
    "    for i in range(len(str_x)):\n",
    "        try:\n",
    "            if dict[str_x[i]]>0:\n",
    "                return False\n",
    "        except:\n",
    "            dict[str_x[i]]=1\n",
    "    return True"
   ]
  },
  {
   "cell_type": "code",
   "execution_count": 34,
   "id": "73af0ef3-aa23-40d5-95f0-aefe99c125c2",
   "metadata": {},
   "outputs": [
    {
     "data": {
      "text/plain": [
       "True"
      ]
     },
     "execution_count": 34,
     "metadata": {},
     "output_type": "execute_result"
    }
   ],
   "source": [
    "is_isogram(\"Algorism\")"
   ]
  },
  {
   "cell_type": "code",
   "execution_count": 35,
   "id": "1c60b4d1-3719-40e7-a8fe-6f2ca5679c1f",
   "metadata": {},
   "outputs": [
    {
     "data": {
      "text/plain": [
       "False"
      ]
     },
     "execution_count": 35,
     "metadata": {},
     "output_type": "execute_result"
    }
   ],
   "source": [
    "is_isogram(\"PasSword\")"
   ]
  },
  {
   "cell_type": "code",
   "execution_count": 36,
   "id": "a1608631-5ce8-4810-b150-40fd4a6b4677",
   "metadata": {},
   "outputs": [
    {
     "data": {
      "text/plain": [
       "False"
      ]
     },
     "execution_count": 36,
     "metadata": {},
     "output_type": "execute_result"
    }
   ],
   "source": [
    "is_isogram(\"Consecutive\")"
   ]
  },
  {
   "cell_type": "markdown",
   "id": "1c4365ea-cdcf-4b60-a92d-2230e96452cf",
   "metadata": {},
   "source": [
    "# Question5\n",
    "Create a function that takes a string and returns True or False, depending on whether the characters are in order or not.\n"
   ]
  },
  {
   "cell_type": "code",
   "execution_count": 39,
   "id": "35aa9da8-b8ca-47c2-8e99-65c357049403",
   "metadata": {},
   "outputs": [],
   "source": [
    "def is_in_order(str_x):\n",
    "    if(type(str_x)!=str):\n",
    "        return \"first argument is not valid\"\n",
    "    list_x=list(str_x)\n",
    "    list_x.sort()\n",
    "    ans_x=\"\"\n",
    "    for i in range(len(list_x)):\n",
    "        ans_x=ans_x+list_x[i]\n",
    "    if str_x==ans_x:\n",
    "        return True\n",
    "    else:\n",
    "        return False\n"
   ]
  },
  {
   "cell_type": "code",
   "execution_count": 40,
   "id": "66bcc6b5-2d15-4a33-bcc1-96e6368cee08",
   "metadata": {},
   "outputs": [
    {
     "data": {
      "text/plain": [
       "True"
      ]
     },
     "execution_count": 40,
     "metadata": {},
     "output_type": "execute_result"
    }
   ],
   "source": [
    "is_in_order(\"abc\")"
   ]
  },
  {
   "cell_type": "code",
   "execution_count": 41,
   "id": "990ee67a-fb1f-47f2-809d-9914c11d4708",
   "metadata": {},
   "outputs": [
    {
     "data": {
      "text/plain": [
       "False"
      ]
     },
     "execution_count": 41,
     "metadata": {},
     "output_type": "execute_result"
    }
   ],
   "source": [
    "is_in_order(\"edabit\") "
   ]
  },
  {
   "cell_type": "code",
   "execution_count": 42,
   "id": "a8b4ef7e-8225-43b9-a759-fb48a8449ea7",
   "metadata": {},
   "outputs": [
    {
     "data": {
      "text/plain": [
       "True"
      ]
     },
     "execution_count": 42,
     "metadata": {},
     "output_type": "execute_result"
    }
   ],
   "source": [
    "is_in_order(\"123\") "
   ]
  },
  {
   "cell_type": "code",
   "execution_count": 43,
   "id": "ea09eb2b-4479-4fe5-a6b0-db3d991642ab",
   "metadata": {},
   "outputs": [
    {
     "data": {
      "text/plain": [
       "True"
      ]
     },
     "execution_count": 43,
     "metadata": {},
     "output_type": "execute_result"
    }
   ],
   "source": [
    "is_in_order(\"xyzz\")"
   ]
  },
  {
   "cell_type": "code",
   "execution_count": null,
   "id": "8f112d0c-d354-4793-9e59-7b039ae17efb",
   "metadata": {},
   "outputs": [],
   "source": []
  }
 ],
 "metadata": {
  "kernelspec": {
   "display_name": "Python 3 (ipykernel)",
   "language": "python",
   "name": "python3"
  },
  "language_info": {
   "codemirror_mode": {
    "name": "ipython",
    "version": 3
   },
   "file_extension": ".py",
   "mimetype": "text/x-python",
   "name": "python",
   "nbconvert_exporter": "python",
   "pygments_lexer": "ipython3",
   "version": "3.9.12"
  }
 },
 "nbformat": 4,
 "nbformat_minor": 5
}
