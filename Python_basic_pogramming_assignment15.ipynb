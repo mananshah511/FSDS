{
 "cells": [
  {
   "cell_type": "markdown",
   "id": "6c5143da-77ef-4df8-812f-3fc155bf98dc",
   "metadata": {},
   "source": [
    "# Question 1:\n",
    "Please write a program using generator to print the numbers which can be divisible by 5 and 7 between 0 and n in comma separated form while n is input by console.\n",
    "Example:\n",
    "If the following n is given as input to the program:\n",
    "100\n",
    "Then, the output of the program should be:\n",
    "0,35,70\n"
   ]
  },
  {
   "cell_type": "code",
   "execution_count": 1,
   "id": "da29a90f-24da-4bc6-850e-6da0b3b9ef6e",
   "metadata": {},
   "outputs": [],
   "source": [
    "def fundiv(int_x):\n",
    "    for i in range(int_x+1):\n",
    "        if i%5==0 and i%7==0:\n",
    "            yield i"
   ]
  },
  {
   "cell_type": "code",
   "execution_count": 9,
   "id": "231e14a4-f5d6-48f3-8fe8-bf58fd3cb487",
   "metadata": {},
   "outputs": [
    {
     "name": "stdin",
     "output_type": "stream",
     "text": [
      "Please enter value of n 1000\n"
     ]
    },
    {
     "name": "stdout",
     "output_type": "stream",
     "text": [
      "0,35,70,105,140,175,210,245,280,315,350,385,420,455,490,525,560,595,630,665,700,735,770,805,840,875,910,945,980\n"
     ]
    }
   ],
   "source": [
    "n=int(input(\"Please enter value of n\"))\n",
    "ans=[]\n",
    "for i in fundiv(n):\n",
    "    ans.append(i)\n",
    "for i in range(len(ans)):\n",
    "    if i !=len(ans)-1:\n",
    "        print(ans[i],end=\",\")\n",
    "    else:\n",
    "        print(ans[i])"
   ]
  },
  {
   "cell_type": "markdown",
   "id": "fa32e87e-40f7-4476-9992-d0178f2f2629",
   "metadata": {},
   "source": [
    "# Question 2:\n",
    "Please write a program using generator to print the even numbers between 0 and n in comma separated form while n is input by console.\n",
    "Example:\n",
    "If the following n is given as input to the program:\n",
    "10\n",
    "Then, the output of the program should be:\n",
    "0,2,4,6,8,10\n"
   ]
  },
  {
   "cell_type": "code",
   "execution_count": 13,
   "id": "aff970fb-f7d6-4352-b454-d3069dadc0d7",
   "metadata": {},
   "outputs": [],
   "source": [
    "def prime(int_x):\n",
    "    for i in range(int_x):\n",
    "        for j in range(2,int(i/2)+1):\n",
    "            if i%j==0:\n",
    "                break\n",
    "        else:\n",
    "            yield i"
   ]
  },
  {
   "cell_type": "code",
   "execution_count": 18,
   "id": "8e038a16-4734-494b-a0f1-aa3464768acb",
   "metadata": {},
   "outputs": [
    {
     "name": "stdin",
     "output_type": "stream",
     "text": [
      "please enter value of n 100\n"
     ]
    },
    {
     "name": "stdout",
     "output_type": "stream",
     "text": [
      "0,1,2,3,5,7,11,13,17,19,23,29,31,37,41,43,47,53,59,61,67,71,73,79,83,89,97\n"
     ]
    }
   ],
   "source": [
    "n=int(input(\"please enter value of n\"))\n",
    "ans=[]\n",
    "for i in prime(n):\n",
    "    ans.append(i)\n",
    "for i in range(len(ans)):\n",
    "    if i!=len(ans)-1:\n",
    "        print(ans[i],end=',')\n",
    "    else:\n",
    "        print(ans[i])"
   ]
  },
  {
   "cell_type": "markdown",
   "id": "5d5b73f7-846b-46e6-9aec-f70b4f2e1953",
   "metadata": {},
   "source": [
    "# Question 3:\n",
    "The Fibonacci Sequence is computed based on the following formula:\n",
    "f(n)=0 if n=0\n",
    "f(n)=1 if n=1\n",
    "f(n)=f(n-1)+f(n-2) if n>1\n",
    "Please write a program using list comprehension to print the Fibonacci Sequence in comma separated form with a given n input by console.\n",
    "Example:\n",
    "If the following n is given as input to the program:\n",
    "7\n",
    "\n",
    "Then, the output of the program should be:\n",
    "0,1,1,2,3,5,8,13\n"
   ]
  },
  {
   "cell_type": "code",
   "execution_count": 63,
   "id": "fbe9dcf1-54c4-4284-a120-1b2e83b37964",
   "metadata": {},
   "outputs": [
    {
     "name": "stdin",
     "output_type": "stream",
     "text": [
      "Please enter value of n: 7\n"
     ]
    },
    {
     "name": "stdout",
     "output_type": "stream",
     "text": [
      "0,1,1,2,3,5,8,13\n"
     ]
    }
   ],
   "source": [
    "n=int(input(\"Please enter value of n:\"))\n",
    "ans=[0,1]\n",
    "x=[ans.append(ans[i-1]+ans[i-2]) for i in range(2,n+1)]\n",
    "for i in range(len(ans)):\n",
    "    if i!=len(ans)-1:\n",
    "        print(ans[i],end=',')\n",
    "    else:\n",
    "        print(ans[i])"
   ]
  },
  {
   "cell_type": "markdown",
   "id": "30a0a12d-e690-4b66-8f4c-05a5ae0cd3c4",
   "metadata": {},
   "source": [
    "# Question 4:\n",
    "Assuming that we have some email addresses in the \"username@companyname.com\" format, please write program to print the user name of a given email address. Both user names and company names are composed of letters only.\n",
    "Example:\n",
    "If the following email address is given as input to the program:\n",
    "john@google.com\n",
    "Then, the output of the program should be:\n",
    "john\n"
   ]
  },
  {
   "cell_type": "code",
   "execution_count": 65,
   "id": "47fc8e58-3228-4b48-a85f-62d8aa01a31c",
   "metadata": {},
   "outputs": [
    {
     "name": "stdin",
     "output_type": "stream",
     "text": [
      "Enter a email id manan@yahoo.com\n"
     ]
    },
    {
     "name": "stdout",
     "output_type": "stream",
     "text": [
      "manan\n"
     ]
    }
   ],
   "source": [
    "str_x=str(input(\"Enter a email id\"))\n",
    "list_x=list(str_x.split(\"@\"))\n",
    "print(list_x[0])"
   ]
  },
  {
   "cell_type": "markdown",
   "id": "c9a94a06-d766-468b-8073-e2c6caecc582",
   "metadata": {},
   "source": [
    "# Question 5:\n",
    "Define a class named Shape and its subclass Square. The Square class has an init function which takes a length as argument. Both classes have a area function which can print the area of the shape where Shape's area is 0 by default.\n"
   ]
  },
  {
   "cell_type": "code",
   "execution_count": 73,
   "id": "aa736e0e-1558-4bb7-b45c-7e020808cc7b",
   "metadata": {},
   "outputs": [],
   "source": [
    "class Shape:\n",
    "    def __init__(self,length):\n",
    "        self.length=length\n",
    "    def area(self):\n",
    "        print(0)\n",
    "class Square(Shape):\n",
    "    def area(self):\n",
    "        print(self.length*self.length)\n",
    "    "
   ]
  },
  {
   "cell_type": "code",
   "execution_count": 74,
   "id": "6c6deac2-8df5-4a7e-bc28-bf93d0070b55",
   "metadata": {},
   "outputs": [],
   "source": [
    "x=Square(4)"
   ]
  },
  {
   "cell_type": "code",
   "execution_count": 75,
   "id": "0420ee73-fb97-4265-a97b-c06f43ce8288",
   "metadata": {},
   "outputs": [
    {
     "name": "stdout",
     "output_type": "stream",
     "text": [
      "16\n"
     ]
    }
   ],
   "source": [
    "x.area()"
   ]
  },
  {
   "cell_type": "code",
   "execution_count": 76,
   "id": "6c40d3ef-c8f6-4bdd-8a76-e8f2eb026285",
   "metadata": {},
   "outputs": [],
   "source": [
    "X=Shape(4)"
   ]
  },
  {
   "cell_type": "code",
   "execution_count": 77,
   "id": "aa3b94a6-9d96-4d7a-900a-3512aa4ec2ed",
   "metadata": {},
   "outputs": [
    {
     "name": "stdout",
     "output_type": "stream",
     "text": [
      "0\n"
     ]
    }
   ],
   "source": [
    "X.area()"
   ]
  },
  {
   "cell_type": "code",
   "execution_count": null,
   "id": "294d1d80-b71c-41e4-b166-48307946a1b5",
   "metadata": {},
   "outputs": [],
   "source": []
  }
 ],
 "metadata": {
  "kernelspec": {
   "display_name": "Python 3 (ipykernel)",
   "language": "python",
   "name": "python3"
  },
  "language_info": {
   "codemirror_mode": {
    "name": "ipython",
    "version": 3
   },
   "file_extension": ".py",
   "mimetype": "text/x-python",
   "name": "python",
   "nbconvert_exporter": "python",
   "pygments_lexer": "ipython3",
   "version": "3.9.12"
  }
 },
 "nbformat": 4,
 "nbformat_minor": 5
}
