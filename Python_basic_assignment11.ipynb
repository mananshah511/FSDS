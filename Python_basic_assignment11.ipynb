{
 "cells": [
  {
   "cell_type": "markdown",
   "id": "25c2abfa-9840-4914-889b-a6f19c6cf1b5",
   "metadata": {},
   "source": [
    "1. Create an assert statement that throws an AssertionError if the variable spam is a negative integer."
   ]
  },
  {
   "cell_type": "code",
   "execution_count": 1,
   "id": "ca022272-5355-4df8-9ec6-e14acdf07877",
   "metadata": {},
   "outputs": [
    {
     "ename": "AssertionError",
     "evalue": "spam is a negative integer",
     "output_type": "error",
     "traceback": [
      "\u001b[0;31m---------------------------------------------------------------------------\u001b[0m",
      "\u001b[0;31mAssertionError\u001b[0m                            Traceback (most recent call last)",
      "Input \u001b[0;32mIn [1]\u001b[0m, in \u001b[0;36m<cell line: 2>\u001b[0;34m()\u001b[0m\n\u001b[1;32m      1\u001b[0m spam\u001b[38;5;241m=\u001b[39m\u001b[38;5;241m-\u001b[39m\u001b[38;5;241m1\u001b[39m\n\u001b[0;32m----> 2\u001b[0m \u001b[38;5;28;01massert\u001b[39;00m spam\u001b[38;5;241m>\u001b[39m\u001b[38;5;241m=\u001b[39m\u001b[38;5;241m0\u001b[39m,\u001b[38;5;124m'\u001b[39m\u001b[38;5;124mspam is a negative integer\u001b[39m\u001b[38;5;124m'\u001b[39m\n\u001b[1;32m      3\u001b[0m \u001b[38;5;28mprint\u001b[39m(spam)\n",
      "\u001b[0;31mAssertionError\u001b[0m: spam is a negative integer"
     ]
    }
   ],
   "source": [
    "spam=-1\n",
    "assert spam>=0,'spam is a negative integer'\n",
    "print(spam)"
   ]
  },
  {
   "cell_type": "markdown",
   "id": "250d4203-4422-491a-b776-ee6bb3e3d005",
   "metadata": {},
   "source": [
    "2. Write an assert statement that triggers an AssertionError if the variables eggs and bacon contain strings that are the same as each other, even if their cases are different (that is, 'hello' and 'hello' are considered the same, and 'goodbye' and 'GOODbye' are also considered the same)."
   ]
  },
  {
   "cell_type": "code",
   "execution_count": 2,
   "id": "60e30940-1b67-44f8-93fa-d328a9f161b5",
   "metadata": {},
   "outputs": [
    {
     "name": "stdout",
     "output_type": "stream",
     "text": [
      "goodbye GOODbye\n"
     ]
    }
   ],
   "source": [
    "eggs='goodbye'\n",
    "bacon='GOODbye'\n",
    "assert (eggs.lower())==(bacon.lower()), 'both are different'\n",
    "print(eggs,bacon)"
   ]
  },
  {
   "cell_type": "markdown",
   "id": "333b0192-8ea0-497e-b8a5-ba58138c7a6f",
   "metadata": {},
   "source": [
    "3. Create an assert statement that throws an AssertionError every time."
   ]
  },
  {
   "cell_type": "code",
   "execution_count": 3,
   "id": "45b1a164-27c4-4e71-824d-92521edec25f",
   "metadata": {},
   "outputs": [
    {
     "ename": "AssertionError",
     "evalue": "",
     "output_type": "error",
     "traceback": [
      "\u001b[0;31m---------------------------------------------------------------------------\u001b[0m",
      "\u001b[0;31mAssertionError\u001b[0m                            Traceback (most recent call last)",
      "Input \u001b[0;32mIn [3]\u001b[0m, in \u001b[0;36m<cell line: 1>\u001b[0;34m()\u001b[0m\n\u001b[0;32m----> 1\u001b[0m \u001b[38;5;28;01massert\u001b[39;00m \u001b[38;5;28;01mFalse\u001b[39;00m\n\u001b[1;32m      2\u001b[0m \u001b[38;5;28mprint\u001b[39m(\u001b[38;5;124m\"\u001b[39m\u001b[38;5;124mhello\u001b[39m\u001b[38;5;124m\"\u001b[39m)\n",
      "\u001b[0;31mAssertionError\u001b[0m: "
     ]
    }
   ],
   "source": [
    "assert False\n",
    "print(\"hello\")"
   ]
  },
  {
   "cell_type": "markdown",
   "id": "d38a48f7-31ee-4ac7-b563-d84850de1e29",
   "metadata": {},
   "source": [
    "4. What are the two lines that must be present in your software in order to call logging.debug()?"
   ]
  },
  {
   "cell_type": "code",
   "execution_count": 4,
   "id": "e1c685d2-bafd-4837-b47c-acd0cb6953c9",
   "metadata": {},
   "outputs": [],
   "source": [
    "import logging\n",
    "logging.basicConfig(level=logging.DEBUG)"
   ]
  },
  {
   "cell_type": "markdown",
   "id": "13251662-3d47-4658-b0b9-2a59a84c252d",
   "metadata": {},
   "source": [
    "5. What are the two lines that your program must have in order to have logging.debug() send a logging message to a file named programLog.txt?"
   ]
  },
  {
   "cell_type": "code",
   "execution_count": 5,
   "id": "b5ab65d3-9852-44be-bad9-2a744a063aca",
   "metadata": {},
   "outputs": [],
   "source": [
    "import logging\n",
    "logging.basicConfig(filename=\"programLog.txt\",level=logging.DEBUG)"
   ]
  },
  {
   "cell_type": "markdown",
   "id": "797529dc-f4d6-471e-b4e5-0db587b04df8",
   "metadata": {},
   "source": [
    "6. What are the five levels of logging?"
   ]
  },
  {
   "cell_type": "markdown",
   "id": "17ab110d-fe0f-424d-89b3-70fbfc5aec61",
   "metadata": {},
   "source": [
    "DEBUG\n",
    "ERROR\n",
    "WARNING\n",
    "CRITICAL\n",
    "INFO"
   ]
  },
  {
   "cell_type": "markdown",
   "id": "0440e9cf-7382-40da-83a3-52fa571f2ff1",
   "metadata": {},
   "source": [
    "7. What line of code would you add to your software to disable all logging messages?"
   ]
  },
  {
   "cell_type": "code",
   "execution_count": 6,
   "id": "d430595b-9d84-4382-b434-5b409ff89aae",
   "metadata": {},
   "outputs": [],
   "source": [
    "logging.disable(logging.CRITICAL)"
   ]
  },
  {
   "cell_type": "raw",
   "id": "0a53c238-0cc3-4087-a8be-b3b317cf26d0",
   "metadata": {},
   "source": [
    "8.Why is using logging messages better than using print() to display the same message?\n",
    "ans: Because in the production environment logging is much more useful for recording particular events, when and where they occurred. We can store logs in any file format. We can differentiate logs based on the criticality of the events."
   ]
  },
  {
   "cell_type": "raw",
   "id": "c26f65df-d484-46e1-94f5-1563263ec655",
   "metadata": {},
   "source": [
    "9. What are the differences between the Step Over, Step In, and Step Out buttons in the debugger?\n",
    "\n",
    "Step over method takes you to the next line of the caller and the current line is skipped even if methods to call on that line.\n",
    "Step in method shows you what is happening inside of the method.\n",
    "Step out method steps out and takes you to the caller method."
   ]
  },
  {
   "cell_type": "raw",
   "id": "19b56a74-0225-4dc8-a629-9ad9e9da64cf",
   "metadata": {},
   "source": [
    "10.After you click Continue, when will the debugger stop ?\n",
    "It will stop when it will reach breakout point."
   ]
  },
  {
   "cell_type": "raw",
   "id": "3fff59b0-4a31-4316-a8a0-a44f282c3a23",
   "metadata": {},
   "source": [
    "11. What is the concept of a breakpoint?\n",
    "Its usefull for the debugging and can be set manually at some interval by us."
   ]
  }
 ],
 "metadata": {
  "kernelspec": {
   "display_name": "Python 3 (ipykernel)",
   "language": "python",
   "name": "python3"
  },
  "language_info": {
   "codemirror_mode": {
    "name": "ipython",
    "version": 3
   },
   "file_extension": ".py",
   "mimetype": "text/x-python",
   "name": "python",
   "nbconvert_exporter": "python",
   "pygments_lexer": "ipython3",
   "version": "3.9.12"
  }
 },
 "nbformat": 4,
 "nbformat_minor": 5
}
