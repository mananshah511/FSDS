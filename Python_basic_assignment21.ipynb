{
 "cells": [
  {
   "cell_type": "markdown",
   "id": "05e78d25-179f-489e-8231-5172cf6ae47d",
   "metadata": {},
   "source": [
    "1. Add the current date to the text file today.txt as a string."
   ]
  },
  {
   "cell_type": "code",
   "execution_count": 3,
   "id": "a98d5013-9121-4aec-99e6-b728a9b63244",
   "metadata": {},
   "outputs": [],
   "source": [
    "from datetime import date\n",
    "f=open(\"today.txt\",\"w\")\n",
    "f.write(str(date.today()))\n",
    "f.close()"
   ]
  },
  {
   "cell_type": "markdown",
   "id": "88d28a81-cfd5-43a0-abad-4fc40d8a1c54",
   "metadata": {},
   "source": [
    "2. Read the text file today.txt into the string today_string"
   ]
  },
  {
   "cell_type": "code",
   "execution_count": 6,
   "id": "1eb6bc12-b090-452b-b3ea-4f725608d16c",
   "metadata": {},
   "outputs": [
    {
     "name": "stdout",
     "output_type": "stream",
     "text": [
      "2022-10-06\n"
     ]
    }
   ],
   "source": [
    "f=open(\"today.txt\",\"r\")\n",
    "today_string=f.read()\n",
    "print(today_string)\n",
    "f.close()"
   ]
  },
  {
   "cell_type": "markdown",
   "id": "38c47438-e4b7-4991-9de5-49e462047377",
   "metadata": {},
   "source": [
    "3. Parse the date from today_string."
   ]
  },
  {
   "cell_type": "code",
   "execution_count": 10,
   "id": "599616fc-c371-46d0-845a-329ce4176271",
   "metadata": {},
   "outputs": [
    {
     "data": {
      "text/plain": [
       "datetime.datetime(2022, 10, 6, 0, 0)"
      ]
     },
     "execution_count": 10,
     "metadata": {},
     "output_type": "execute_result"
    }
   ],
   "source": [
    "from datetime import datetime\n",
    "datetime.strptime(today_string,\"%Y-%m-%d\")"
   ]
  },
  {
   "cell_type": "markdown",
   "id": "a0fe21a9-0ea7-473a-a60b-65e3436e635a",
   "metadata": {},
   "source": [
    "4. List the files in your current directory"
   ]
  },
  {
   "cell_type": "code",
   "execution_count": 11,
   "id": "52c8a5c0-1610-4ec1-98ea-a10a0dc88d74",
   "metadata": {},
   "outputs": [
    {
     "name": "stdout",
     "output_type": "stream",
     "text": [
      "Python_basic_assignment16.ipynb  stats1.pdf  today.txt\n",
      "Python_basic_assignment17.ipynb  test2.log   Untitled1.ipynb\n",
      "Python_basic_assignment7.ipynb\t text.log    Untitled.ipynb\n"
     ]
    }
   ],
   "source": [
    "!ls"
   ]
  },
  {
   "cell_type": "markdown",
   "id": "83f83fd6-9e76-4e99-bdc4-3e32ad7fbd7b",
   "metadata": {},
   "source": [
    "5. Create a list of all of the files in your parent directory (minimum five files should be available)."
   ]
  },
  {
   "cell_type": "code",
   "execution_count": 12,
   "id": "bcd319e3-45cb-4ef4-ba9e-54d21aa4267b",
   "metadata": {},
   "outputs": [
    {
     "name": "stdout",
     "output_type": "stream",
     "text": [
      "['sample-zip-file.zip', 'Untitled8.ipynb', '.ipython', 'Python_basic_assignment6.ipynb', 'Python_basic_programming_assignment23.ipynb', 'Untitled7.ipynb', 'Python_basic_porgramming_assignment8.ipynb', '.local', 'Python_basic_programming_assignment1.ipynb', 'Python_basic_programming_assignment18.ipynb', 'Python_basic_programming_assignment16.ipynb', 'sample_changes.jpg', '.jupyter', 'Python_basic_programming_assignment11.ipynb', 'Python_basic_assignment5.ipynb', 'Python_basic_programming_assignment10.ipynb', 'Untitled1.ipynb', 'Python_basic_programming_assignment21.ipynb', 'Python_basic_pogramming_assignment12.ipynb', 'Python_basic_assignment1.ipynb', 'Untitled6.ipynb', 'Python_basic_programming_assignment6.ipynb', 'Python_basic_pogramming_assignment5.ipynb', 'Untitled5.ipynb', 'Python_basic_programming_assignment17.ipynb', 'Untitled4.ipynb', 'Python_basic_programming_assignment20.ipynb', 'sample.jpg', 'Python_basic_assignment22.ipynb', 'Python_basic_pogramming_assignment13.ipynb', 'Python_basic_programming_assignment22.ipynb', 'Untitled Folder 2', 'Python_basic_assignment2.ipynb', 'Python_basic_assignment3.ipynb', 'Untitled2.ipynb', 'allpdf', 'Python_basic_programming_assignment24.ipynb', '.bash_logout', 'Assignment002.ipynb', 'Untitled.ipynb', '.profile', 'Python_basic_pogramming_assignment14.ipynb', 'Python_basic_assignment14.ipynb', 'Python_basic_assignment4.ipynb', 'Python_basic_programming_assignment3.ipynb', 'stats1.pdf', 'Python_basic_programming_assignment19.ipynb', 'Untitled Folder 1', 'Python_basic_programming_assignment4.ipynb', 'Python_basic_assignment10.ipynb', '.cache', 'Python_basic_programming_assignment7.ipynb', 'Python_basic_programming_assignment25.ipynb', 'Python_basic_assignment23.ipynb', 'Untitled3.ipynb', 'Untitled Folder', '.bashrc', 'Python_basic_pogramming_assignment15.ipynb', 'Python_basic_assignment8.ipynb', '.ipynb_checkpoints', 'Python_basic_programming_assignment2.ipynb', 'Python_basic_programming_assignment9.ipynb', 'Python_basic_assignment9.ipynb']\n"
     ]
    }
   ],
   "source": [
    "import os\n",
    "l=[]\n",
    "for i in os.listdir(\"..\"):\n",
    "    l.append(i)\n",
    "print(l)"
   ]
  },
  {
   "cell_type": "markdown",
   "id": "5c648440-0c91-4486-bb53-c25bc7058805",
   "metadata": {},
   "source": [
    "6. Use multiprocessing to create three separate processes. Make each one wait a random number of seconds between one and five, print the current time, and then exit."
   ]
  },
  {
   "cell_type": "code",
   "execution_count": 58,
   "id": "445fbe60-0587-4c87-a6d0-2ea1bc4a963e",
   "metadata": {},
   "outputs": [
    {
     "name": "stdout",
     "output_type": "stream",
     "text": [
      "start 2022-10-06 06:47:54.988899\n",
      "One\n",
      "three\n",
      "end 2022-10-06 06:47:57.005198\n"
     ]
    }
   ],
   "source": [
    "import multiprocessing\n",
    "import random\n",
    "def one():\n",
    "    print(\"One\")\n",
    "def two():\n",
    "    for i in range(10000000000):\n",
    "        pass\n",
    "    print(\"Done\")\n",
    "def three():\n",
    "    print(\"three\")\n",
    "p1 = multiprocessing.Process(target=one)\n",
    "p2 = multiprocessing.Process(target=two)\n",
    "p3 = multiprocessing.Process(target=three)  \n",
    "\n",
    "now = datetime.datetime.now()\n",
    "print(\"start\",now)\n",
    "\n",
    "p1.start()\n",
    "p2.start()\n",
    "p3.start()\n",
    "\n",
    "\n",
    "p1.join(timeout=random.randint(1,5))\n",
    "p2.join(timeout=random.randint(1,5))\n",
    "p3.join(timeout=random.randint(1,5))\n",
    "\n",
    "now = datetime.datetime.now()\n",
    "print(\"end\",now)\n",
    "\n",
    "#p2 is time out mostoffthe time."
   ]
  },
  {
   "cell_type": "code",
   "execution_count": 33,
   "id": "5fbc3ff9-3950-4c76-a578-b941343bf578",
   "metadata": {},
   "outputs": [
    {
     "name": "stdout",
     "output_type": "stream",
     "text": [
      "2022-10-06 06:36:25.012691\n",
      "2022-10-06 06:36:28.934372\n"
     ]
    }
   ],
   "source": [
    "import datetime\n",
    "now = datetime.datetime.now()\n",
    "print(now)\n",
    "for i in range(100000000):\n",
    "    pass\n",
    "import datetime\n",
    "now = datetime.datetime.now()\n",
    "print(now)"
   ]
  },
  {
   "cell_type": "markdown",
   "id": "725dcaaf-5072-45e4-886e-195d56e454af",
   "metadata": {},
   "source": [
    "7. Create a date object of your day of birth."
   ]
  },
  {
   "cell_type": "code",
   "execution_count": 13,
   "id": "a0cdedb5-31dd-4748-88f3-f8287f72e1db",
   "metadata": {},
   "outputs": [],
   "source": [
    "from datetime import datetime\n",
    "x=datetime.strptime(\"1996-11-05\",\"%Y-%m-%d\")"
   ]
  },
  {
   "cell_type": "code",
   "execution_count": 14,
   "id": "e1b1a62c-4612-41ff-b530-795bfc307cdd",
   "metadata": {},
   "outputs": [
    {
     "data": {
      "text/plain": [
       "datetime.datetime"
      ]
     },
     "execution_count": 14,
     "metadata": {},
     "output_type": "execute_result"
    }
   ],
   "source": [
    "type(x)"
   ]
  },
  {
   "cell_type": "markdown",
   "id": "6e75c175-6bc1-4e95-941a-07343fd23c31",
   "metadata": {},
   "source": [
    "8. What day of the week was your day of birth?"
   ]
  },
  {
   "cell_type": "code",
   "execution_count": 3,
   "id": "090d42fb-09bd-4746-82ba-cd168fe2ee40",
   "metadata": {},
   "outputs": [
    {
     "name": "stdout",
     "output_type": "stream",
     "text": [
      "Tuesday\n"
     ]
    }
   ],
   "source": [
    "import datetime\n",
    "d=[\"Monday\", \"Tuesday\", \"Wednesday\",\"Thursday\", \"Friday\", \"Saturday\", \"Sunday\"]\n",
    "x=datetime.datetime(1996,11,5)\n",
    "ans=x.weekday()\n",
    "print(d[ans])"
   ]
  },
  {
   "cell_type": "markdown",
   "id": "c163fcd2-0b0a-49aa-83ba-3b90bb400145",
   "metadata": {},
   "source": [
    "9. When will you be (or when were you) 10,000 days old?"
   ]
  },
  {
   "cell_type": "code",
   "execution_count": 5,
   "id": "82bd3ae4-a26d-436b-bfbd-4132603c63f9",
   "metadata": {},
   "outputs": [
    {
     "name": "stdout",
     "output_type": "stream",
     "text": [
      "2024-03-23\n"
     ]
    }
   ],
   "source": [
    "import datetime\n",
    "x=datetime.datetime(1996,11,5)\n",
    "y=x+datetime.timedelta(days=10000)\n",
    "print(y.date())"
   ]
  }
 ],
 "metadata": {
  "kernelspec": {
   "display_name": "Python 3 (ipykernel)",
   "language": "python",
   "name": "python3"
  },
  "language_info": {
   "codemirror_mode": {
    "name": "ipython",
    "version": 3
   },
   "file_extension": ".py",
   "mimetype": "text/x-python",
   "name": "python",
   "nbconvert_exporter": "python",
   "pygments_lexer": "ipython3",
   "version": "3.9.12"
  }
 },
 "nbformat": 4,
 "nbformat_minor": 5
}
