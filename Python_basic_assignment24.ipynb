{
 "cells": [
  {
   "cell_type": "markdown",
   "id": "8e588502-bcbe-4032-bc5e-cbd3c52074ab",
   "metadata": {},
   "source": [
    "1. What is the relationship between def statements and lambda expressions ?"
   ]
  },
  {
   "cell_type": "raw",
   "id": "b54dbb20-68e4-4654-a756-002e1522e90d",
   "metadata": {},
   "source": [
    "def keyword and lambda keyword both are used for the function. We have to give a namespace and define a function while using the def keyword. Lambda does the same work and we don't need to define it in a namespace. def keyword returns nothing if the return statement is not mentioned in the block while lambda we do not need to use a return statement, it will return by default."
   ]
  },
  {
   "cell_type": "markdown",
   "id": "a726da25-79d3-4eba-9974-c924fccc7d96",
   "metadata": {},
   "source": [
    "2. What is the benefit of lambda?"
   ]
  },
  {
   "cell_type": "raw",
   "id": "4862276b-d2ef-4374-99de-8194b7b03eb3",
   "metadata": {},
   "source": [
    "lambda reduces the amount of code we have to write compared to the def keyword. Both can perform the same task, lambda can perform it in a single line of code. It is generally helpful when we don't need the reusability of the code. It is helpful in the map, reduce, and filter functions."
   ]
  },
  {
   "cell_type": "markdown",
   "id": "3378bc1f-a721-4367-b5ef-6cb8cf512e60",
   "metadata": {},
   "source": [
    "3. Compare and contrast map, filter, and reduce."
   ]
  },
  {
   "cell_type": "markdown",
   "id": "71d279bc-791b-441f-a2de-76f39dcbf1ae",
   "metadata": {},
   "source": [
    "the map provides output for whichever function is passed for every individual element.\n",
    "the filter provides output for whichever function is passed and if it's true.\n",
    "reduce provide output for the whole list on provided function sequence by sequence.\n",
    "All examples are shown below."
   ]
  },
  {
   "cell_type": "code",
   "execution_count": 13,
   "id": "2045bed8-bfe2-4883-9388-41b43336f4b1",
   "metadata": {},
   "outputs": [
    {
     "data": {
      "text/plain": [
       "[1, 4, 9, 16, 25]"
      ]
     },
     "execution_count": 13,
     "metadata": {},
     "output_type": "execute_result"
    }
   ],
   "source": [
    "#map\n",
    "def test(x):\n",
    "    return x**2\n",
    "list(map(test,[1,2,3,4,5]))"
   ]
  },
  {
   "cell_type": "code",
   "execution_count": 14,
   "id": "615d1877-f671-4457-9416-a3b2bffe3d52",
   "metadata": {},
   "outputs": [
    {
     "data": {
      "text/plain": [
       "[1, 2, 3, 4, 5]"
      ]
     },
     "execution_count": 14,
     "metadata": {},
     "output_type": "execute_result"
    }
   ],
   "source": [
    "#filter\n",
    "list(filter(test,[1,2,3,4,5]))"
   ]
  },
  {
   "cell_type": "code",
   "execution_count": 15,
   "id": "82551c5e-5980-4d4d-9dd3-f854066a38bc",
   "metadata": {},
   "outputs": [
    {
     "data": {
      "text/plain": [
       "720"
      ]
     },
     "execution_count": 15,
     "metadata": {},
     "output_type": "execute_result"
    }
   ],
   "source": [
    "#reduce\n",
    "import functools\n",
    "functools.reduce(lambda a,b:a*b,[1,2,3,4,5,6])"
   ]
  },
  {
   "cell_type": "markdown",
   "id": "6eb3a585-993c-4e4f-b9b4-4d6fbbad0f09",
   "metadata": {},
   "source": [
    "4. What are function annotations, and how are they used?"
   ]
  },
  {
   "cell_type": "raw",
   "id": "bb7757ef-a08f-40d7-81dd-43b02466afe1",
   "metadata": {},
   "source": [
    "Function annotations are different from python expressions. they evaluated at a compile time. It does not hold at a run time. It does not mean anything in python. It will be interpreted by a third-party library.\n",
    "\n",
    "It is used in functions for sample parameters, excess parameters, nested expression, and return type and can be undertsand by __annotations__."
   ]
  },
  {
   "cell_type": "markdown",
   "id": "e30129c7-b2c1-4ce7-90db-33e07ed97ba1",
   "metadata": {},
   "source": [
    "5. What are recursive functions, and how are they used?"
   ]
  },
  {
   "cell_type": "markdown",
   "id": "fecc1eab-4e6d-4053-ac03-ce4a47157ae4",
   "metadata": {},
   "source": [
    "Function calling itself is called a recursive function. It can be used by calling the same function inside the function itself.\n",
    "For ex:\n",
    "def fun(x):\n",
    "    if x==0:\n",
    "        return 0\n",
    "    return fun(x-1)   #recurive function"
   ]
  },
  {
   "cell_type": "markdown",
   "id": "bcd31f1b-8b7c-4ebf-8363-06e625558c16",
   "metadata": {},
   "source": [
    "6. What are some general design guidelines for coding functions?"
   ]
  },
  {
   "cell_type": "raw",
   "id": "4e9258b9-f010-49f9-bbe9-c6c25fab872d",
   "metadata": {},
   "source": [
    "Do not make the function longer than a page.\n",
    "The main function should not hold low-level design.\n",
    "Provide doc string with the info like what function does, its parameters, and return value.\n",
    "The line in the code should not be longer than 80 chars."
   ]
  },
  {
   "cell_type": "markdown",
   "id": "8f6edd81-bafa-4ece-82aa-0138e955b52e",
   "metadata": {},
   "source": [
    "7. Name three or more ways that functions can communicate results to a caller."
   ]
  },
  {
   "cell_type": "raw",
   "id": "2b8416db-feb2-40c3-9302-89d27587fe89",
   "metadata": {},
   "source": [
    "print\n",
    "yield\n",
    "return"
   ]
  }
 ],
 "metadata": {
  "kernelspec": {
   "display_name": "Python 3 (ipykernel)",
   "language": "python",
   "name": "python3"
  },
  "language_info": {
   "codemirror_mode": {
    "name": "ipython",
    "version": 3
   },
   "file_extension": ".py",
   "mimetype": "text/x-python",
   "name": "python",
   "nbconvert_exporter": "python",
   "pygments_lexer": "ipython3",
   "version": "3.9.12"
  }
 },
 "nbformat": 4,
 "nbformat_minor": 5
}
