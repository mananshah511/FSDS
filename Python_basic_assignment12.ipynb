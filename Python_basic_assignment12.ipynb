{
 "cells": [
  {
   "cell_type": "code",
   "execution_count": 1,
   "id": "407122bc-a452-45c1-885c-474367111dcc",
   "metadata": {},
   "outputs": [
    {
     "name": "stdout",
     "output_type": "stream",
     "text": [
      "Defaulting to user installation because normal site-packages is not writeable\n",
      "Requirement already satisfied: PyPDF2 in /home/manan511sh48ine/.local/lib/python3.9/site-packages (2.11.1)\n",
      "Requirement already satisfied: typing-extensions>=3.10.0.0 in /opt/anaconda3/lib/python3.9/site-packages (from PyPDF2) (4.3.0)\n"
     ]
    }
   ],
   "source": [
    "!pip install PyPDF2\n",
    "import PyPDF2 as pdf"
   ]
  },
  {
   "cell_type": "markdown",
   "id": "6d1ccf1e-8db0-4221-96db-c1a21658676c",
   "metadata": {},
   "source": [
    "1. In what modes should the PdfFileReader() and PdfFileWriter() File objects will be opened?"
   ]
  },
  {
   "cell_type": "code",
   "execution_count": 2,
   "id": "cb8e7c8f-9dbd-4d10-986d-cd9becaf20e8",
   "metadata": {},
   "outputs": [],
   "source": [
    "#read binray and write binray mode\n",
    "f=open('stats1.pdf','rb')\n",
    "f_o=pdf.PdfReader(f)"
   ]
  },
  {
   "cell_type": "markdown",
   "id": "a91a5df9-3d56-4a35-96fe-f79b4a37cb6b",
   "metadata": {},
   "source": [
    "2. From a PdfFileReader object, how do you get a Page object for page 5?"
   ]
  },
  {
   "cell_type": "code",
   "execution_count": 3,
   "id": "fa49fbb6-1ac3-4922-a774-809968656bed",
   "metadata": {},
   "outputs": [],
   "source": [
    "f=open('stats1.pdf','rb')\n",
    "f_o=pdf.PdfReader(f)         #PDFFIleReader object\n",
    "pageobject=f_o.getPage(5)    #Page object"
   ]
  },
  {
   "cell_type": "markdown",
   "id": "64a0659f-1e3f-487a-b2f3-b20d36a68cd8",
   "metadata": {},
   "source": [
    "3. What PdfFileReader variable stores the number of pages in the PDF document?"
   ]
  },
  {
   "cell_type": "code",
   "execution_count": 4,
   "id": "39e740bc-df17-45f8-8277-a2161271494c",
   "metadata": {},
   "outputs": [
    {
     "data": {
      "text/plain": [
       "18"
      ]
     },
     "execution_count": 4,
     "metadata": {},
     "output_type": "execute_result"
    }
   ],
   "source": [
    "#numPages\n",
    "f=open('stats1.pdf','rb')\n",
    "f_o=pdf.PdfReader(f)         #PDFFIleReader object\n",
    "pageobject=f_o.getPage(5)    #Page object\n",
    "f_o.numPages"
   ]
  },
  {
   "cell_type": "markdown",
   "id": "158f6563-f78d-4547-931f-54e7f7194656",
   "metadata": {},
   "source": [
    "4. If a PdfFileReader object’s PDF is encrypted with the password swordfish, what must you do before you can obtain Page objects from it?"
   ]
  },
  {
   "cell_type": "code",
   "execution_count": null,
   "id": "ffc09918-28a9-4c8f-8892-80aee364d19e",
   "metadata": {},
   "outputs": [],
   "source": [
    "#we have to decrypt it using password before making page object\n",
    "f=open('encrypt_file.pdf','rb')\n",
    "f_o=pdf.PdfReader(f)\n",
    "f_o.decrypt(\"swordfish\")"
   ]
  },
  {
   "cell_type": "markdown",
   "id": "7f5c9b61-0a2e-4292-8e37-ab22c8fb2299",
   "metadata": {},
   "source": [
    "5. What methods do you use to rotate a page?"
   ]
  },
  {
   "cell_type": "raw",
   "id": "979fe5db-9f6f-400c-a4bc-c4c17d4124d6",
   "metadata": {},
   "source": [
    "rotateClockwise() method is used."
   ]
  },
  {
   "cell_type": "markdown",
   "id": "4ed22958-db9b-4403-b2bb-08be4d038374",
   "metadata": {},
   "source": [
    "6. What is the difference between a Run object and a Paragraph object?"
   ]
  },
  {
   "cell_type": "code",
   "execution_count": 4,
   "id": "1f76c524-58d5-48e6-8fd6-16fe9fb5f45b",
   "metadata": {},
   "outputs": [
    {
     "name": "stdout",
     "output_type": "stream",
     "text": [
      "Defaulting to user installation because normal site-packages is not writeable\n",
      "Collecting python-docx\n",
      "  Downloading python-docx-0.8.11.tar.gz (5.6 MB)\n",
      "\u001b[K     |████████████████████████████████| 5.6 MB 29.2 MB/s eta 0:00:01\n",
      "\u001b[?25hRequirement already satisfied: lxml>=2.3.2 in /opt/anaconda3/lib/python3.9/site-packages (from python-docx) (4.9.1)\n",
      "Building wheels for collected packages: python-docx\n",
      "  Building wheel for python-docx (setup.py) ... \u001b[?25ldone\n",
      "\u001b[?25h  Created wheel for python-docx: filename=python_docx-0.8.11-py3-none-any.whl size=184507 sha256=20839958ee81a790f8db235c03f3e9959de645f2dcf886b9009efc5159fd2fa2\n",
      "  Stored in directory: /home/manan511sh48ine/.cache/pip/wheels/83/8b/7c/09ae60c42c7ba4ed2dddaf2b8b9186cb105255856d6ed3dba5\n",
      "Successfully built python-docx\n",
      "Installing collected packages: python-docx\n",
      "Successfully installed python-docx-0.8.11\n"
     ]
    }
   ],
   "source": [
    "!pip install python-docx "
   ]
  },
  {
   "cell_type": "code",
   "execution_count": 23,
   "id": "4e112846-6cf9-4b57-b441-bd7c59937d81",
   "metadata": {},
   "outputs": [
    {
     "name": "stdout",
     "output_type": "stream",
     "text": [
      "90\n",
      "Paragraph:: There is support for images, tables, lists, footnotes, endnotes, links, dropcaps and various types of text and paragraph level formatting.\n",
      "run object text 1:: There is support for images, tables, lists, footnotes, endnotes, \n",
      "run object text 2:: links, dropcaps and \n"
     ]
    }
   ],
   "source": [
    "import docx\n",
    "x=docx.Document('demo.docx')\n",
    "print(len(x.paragraphs))     #No of paragraphs and its paragraph object\n",
    "print(\"Paragraph::\",x.paragraphs[2].text)\n",
    "print(\"run object text 1::\",x.paragraphs[2].runs[0].text)  #run object from paraagraph based on diff. criteria\n",
    "print(\"run object text 2::\",x.paragraphs[2].runs[1].text)"
   ]
  },
  {
   "cell_type": "markdown",
   "id": "63f89132-13b2-4fd1-a303-26b72046ca45",
   "metadata": {},
   "source": [
    "7. How do you obtain a list of Paragraph objects for a Document object that’s stored in a variable named doc?"
   ]
  },
  {
   "cell_type": "code",
   "execution_count": 27,
   "id": "b831f81f-7db8-4494-8d10-2d6bc5ef1a32",
   "metadata": {},
   "outputs": [
    {
     "data": {
      "text/plain": [
       "[<docx.text.paragraph.Paragraph at 0x7f3a6f323490>,\n",
       " <docx.text.paragraph.Paragraph at 0x7f3a6f323370>,\n",
       " <docx.text.paragraph.Paragraph at 0x7f3a6f3fa730>,\n",
       " <docx.text.paragraph.Paragraph at 0x7f3a6f3fa370>,\n",
       " <docx.text.paragraph.Paragraph at 0x7f3a6f3fa0d0>,\n",
       " <docx.text.paragraph.Paragraph at 0x7f3a6f2c0070>,\n",
       " <docx.text.paragraph.Paragraph at 0x7f3a6f2c00d0>,\n",
       " <docx.text.paragraph.Paragraph at 0x7f3a6f2c0190>,\n",
       " <docx.text.paragraph.Paragraph at 0x7f3a6f2c0130>,\n",
       " <docx.text.paragraph.Paragraph at 0x7f3a6f33ab50>,\n",
       " <docx.text.paragraph.Paragraph at 0x7f3a6f33ac10>,\n",
       " <docx.text.paragraph.Paragraph at 0x7f3a6f33abe0>,\n",
       " <docx.text.paragraph.Paragraph at 0x7f3a6f33ac40>,\n",
       " <docx.text.paragraph.Paragraph at 0x7f3a6f33ac70>,\n",
       " <docx.text.paragraph.Paragraph at 0x7f3a6f33ad30>,\n",
       " <docx.text.paragraph.Paragraph at 0x7f3a6f33ad90>,\n",
       " <docx.text.paragraph.Paragraph at 0x7f3a6f33adf0>,\n",
       " <docx.text.paragraph.Paragraph at 0x7f3a6f33aee0>,\n",
       " <docx.text.paragraph.Paragraph at 0x7f3a6f33aeb0>,\n",
       " <docx.text.paragraph.Paragraph at 0x7f3a6f33af10>,\n",
       " <docx.text.paragraph.Paragraph at 0x7f3a6f33afa0>,\n",
       " <docx.text.paragraph.Paragraph at 0x7f3a6f302340>,\n",
       " <docx.text.paragraph.Paragraph at 0x7f3a6f302130>,\n",
       " <docx.text.paragraph.Paragraph at 0x7f3a6f3f8ee0>,\n",
       " <docx.text.paragraph.Paragraph at 0x7f3a6f3f89d0>,\n",
       " <docx.text.paragraph.Paragraph at 0x7f3a6f3f8f70>,\n",
       " <docx.text.paragraph.Paragraph at 0x7f3a6f3f8b20>,\n",
       " <docx.text.paragraph.Paragraph at 0x7f3a6f3f88e0>,\n",
       " <docx.text.paragraph.Paragraph at 0x7f3a6f3f8d90>,\n",
       " <docx.text.paragraph.Paragraph at 0x7f3a6f3f8610>,\n",
       " <docx.text.paragraph.Paragraph at 0x7f3a6f3f8dc0>,\n",
       " <docx.text.paragraph.Paragraph at 0x7f3a6f3f8a00>,\n",
       " <docx.text.paragraph.Paragraph at 0x7f3a6f3f88b0>,\n",
       " <docx.text.paragraph.Paragraph at 0x7f3a6f3f8ca0>,\n",
       " <docx.text.paragraph.Paragraph at 0x7f3a6f3f8a60>,\n",
       " <docx.text.paragraph.Paragraph at 0x7f3a6f3f8be0>,\n",
       " <docx.text.paragraph.Paragraph at 0x7f3a6f3f8af0>,\n",
       " <docx.text.paragraph.Paragraph at 0x7f3a6f3f8bb0>,\n",
       " <docx.text.paragraph.Paragraph at 0x7f3a6f3f8c10>,\n",
       " <docx.text.paragraph.Paragraph at 0x7f3a6f3f8b50>,\n",
       " <docx.text.paragraph.Paragraph at 0x7f3a6f3f8ac0>,\n",
       " <docx.text.paragraph.Paragraph at 0x7f3a6f3f8e20>,\n",
       " <docx.text.paragraph.Paragraph at 0x7f3a6f3f8a30>,\n",
       " <docx.text.paragraph.Paragraph at 0x7f3a6f3108e0>,\n",
       " <docx.text.paragraph.Paragraph at 0x7f3a6f310220>,\n",
       " <docx.text.paragraph.Paragraph at 0x7f3a6f310a90>,\n",
       " <docx.text.paragraph.Paragraph at 0x7f3a6f310820>,\n",
       " <docx.text.paragraph.Paragraph at 0x7f3a6f310670>,\n",
       " <docx.text.paragraph.Paragraph at 0x7f3a6f310640>,\n",
       " <docx.text.paragraph.Paragraph at 0x7f3a6f389370>,\n",
       " <docx.text.paragraph.Paragraph at 0x7f3a6f389310>,\n",
       " <docx.text.paragraph.Paragraph at 0x7f3a6f332c70>,\n",
       " <docx.text.paragraph.Paragraph at 0x7f3a6f332af0>,\n",
       " <docx.text.paragraph.Paragraph at 0x7f3a6f332a60>,\n",
       " <docx.text.paragraph.Paragraph at 0x7f3a6f332c10>,\n",
       " <docx.text.paragraph.Paragraph at 0x7f3a6f316220>,\n",
       " <docx.text.paragraph.Paragraph at 0x7f3a6f316490>,\n",
       " <docx.text.paragraph.Paragraph at 0x7f3a6f3c8130>,\n",
       " <docx.text.paragraph.Paragraph at 0x7f3a6f3c8400>,\n",
       " <docx.text.paragraph.Paragraph at 0x7f3a6f3c8a30>,\n",
       " <docx.text.paragraph.Paragraph at 0x7f3a6f3c8370>,\n",
       " <docx.text.paragraph.Paragraph at 0x7f3a6f3c8be0>,\n",
       " <docx.text.paragraph.Paragraph at 0x7f3a6f3c8070>,\n",
       " <docx.text.paragraph.Paragraph at 0x7f3a6f2c85e0>,\n",
       " <docx.text.paragraph.Paragraph at 0x7f3a6f2c8640>,\n",
       " <docx.text.paragraph.Paragraph at 0x7f3a6f2c86a0>,\n",
       " <docx.text.paragraph.Paragraph at 0x7f3a6f2c8700>,\n",
       " <docx.text.paragraph.Paragraph at 0x7f3a6f2c8760>,\n",
       " <docx.text.paragraph.Paragraph at 0x7f3a6f2c87c0>,\n",
       " <docx.text.paragraph.Paragraph at 0x7f3a6f2c8820>,\n",
       " <docx.text.paragraph.Paragraph at 0x7f3a6f2c8880>,\n",
       " <docx.text.paragraph.Paragraph at 0x7f3a6f2c88e0>,\n",
       " <docx.text.paragraph.Paragraph at 0x7f3a6f2c8940>,\n",
       " <docx.text.paragraph.Paragraph at 0x7f3a6f2c89a0>,\n",
       " <docx.text.paragraph.Paragraph at 0x7f3a6f2c8a00>,\n",
       " <docx.text.paragraph.Paragraph at 0x7f3a6f2c8a60>,\n",
       " <docx.text.paragraph.Paragraph at 0x7f3a6f2c8ac0>,\n",
       " <docx.text.paragraph.Paragraph at 0x7f3a6f2c8b20>,\n",
       " <docx.text.paragraph.Paragraph at 0x7f3a6f32ee80>,\n",
       " <docx.text.paragraph.Paragraph at 0x7f3a6f2c8b80>,\n",
       " <docx.text.paragraph.Paragraph at 0x7f3a6f2c8be0>,\n",
       " <docx.text.paragraph.Paragraph at 0x7f3a6f2c8c40>,\n",
       " <docx.text.paragraph.Paragraph at 0x7f3a6f2c8ca0>,\n",
       " <docx.text.paragraph.Paragraph at 0x7f3a6f2c8d00>,\n",
       " <docx.text.paragraph.Paragraph at 0x7f3a6f2c8d60>,\n",
       " <docx.text.paragraph.Paragraph at 0x7f3a6f2c8dc0>,\n",
       " <docx.text.paragraph.Paragraph at 0x7f3a6f2c8e20>,\n",
       " <docx.text.paragraph.Paragraph at 0x7f3a6f2c8e80>,\n",
       " <docx.text.paragraph.Paragraph at 0x7f3a6f2c8ee0>,\n",
       " <docx.text.paragraph.Paragraph at 0x7f3a6f2c8f40>]"
      ]
     },
     "execution_count": 27,
     "metadata": {},
     "output_type": "execute_result"
    }
   ],
   "source": [
    "import docx\n",
    "x=docx.Document('demo.docx')   #used demo instead of doc\n",
    "y=list(x.paragraphs) \n",
    "y   #list of paragraph object"
   ]
  },
  {
   "cell_type": "markdown",
   "id": "5dce268a-4d60-40c3-a188-4e43ce67adf8",
   "metadata": {},
   "source": [
    "8. What type of object has bold, underline, italic, strike, and outline variables?"
   ]
  },
  {
   "cell_type": "code",
   "execution_count": 33,
   "id": "607684b3-ffe8-4234-b080-237b480afbe9",
   "metadata": {},
   "outputs": [
    {
     "data": {
      "text/plain": [
       "docx.text.run.Run"
      ]
     },
     "execution_count": 33,
     "metadata": {},
     "output_type": "execute_result"
    }
   ],
   "source": [
    "import docx\n",
    "x=docx.Document('demo.docx')\n",
    "y=list(x.paragraphs) \n",
    "newtext=y[0].add_run(\"Hello\")\n",
    "newtext.bold=True\n",
    "type(newtext)   #run object has"
   ]
  },
  {
   "cell_type": "markdown",
   "id": "32032db1-875b-49dc-aab9-d2f80d164488",
   "metadata": {},
   "source": [
    "9. What is the difference between False, True, and None for the bold variable?"
   ]
  },
  {
   "cell_type": "raw",
   "id": "84a126ad-81eb-4b3c-8146-d7e8eb31011d",
   "metadata": {},
   "source": [
    "False= Not bold \n",
    "True= bold\n",
    "None= Not applicable"
   ]
  },
  {
   "cell_type": "markdown",
   "id": "205cb51f-ca47-42e8-8494-4815614c8c8c",
   "metadata": {},
   "source": [
    "10. How do you create a Document object for a new Word document?"
   ]
  },
  {
   "cell_type": "code",
   "execution_count": 37,
   "id": "98774976-f798-44c6-803a-b08ed8772edd",
   "metadata": {},
   "outputs": [
    {
     "data": {
      "text/plain": [
       "docx.document.Document"
      ]
     },
     "execution_count": 37,
     "metadata": {},
     "output_type": "execute_result"
    }
   ],
   "source": [
    "import docx\n",
    "doc=docx.Document('demo.docx')\n",
    "type(doc)    #document object"
   ]
  },
  {
   "cell_type": "markdown",
   "id": "e98c51bf-8db1-448e-a7a7-bae31b1e57d1",
   "metadata": {},
   "source": [
    "11. How do you add a paragraph with the text 'Hello, there!' to a Document object stored in a variable named doc?"
   ]
  },
  {
   "cell_type": "code",
   "execution_count": 41,
   "id": "016b54bd-d670-47ee-b817-005b8e8fe490",
   "metadata": {},
   "outputs": [
    {
     "data": {
      "text/plain": [
       "<docx.text.paragraph.Paragraph at 0x7f3a6f3c64f0>"
      ]
     },
     "execution_count": 41,
     "metadata": {},
     "output_type": "execute_result"
    }
   ],
   "source": [
    "import docx\n",
    "doc=docx.Document('demo.docx')   \n",
    "doc.add_paragraph(\"Hello, there!\")"
   ]
  },
  {
   "cell_type": "markdown",
   "id": "6398318d-af55-46e2-bcdc-04cd096dbe46",
   "metadata": {},
   "source": [
    "12. What integers represent the levels of headings available in Word documents?"
   ]
  },
  {
   "cell_type": "raw",
   "id": "7454c3f6-3275-4ada-b020-c8dc6e3b7240",
   "metadata": {},
   "source": [
    "0 to 5\n",
    "0 is for title heading\n",
    "1 main heading\n",
    "..\n",
    "4 low level heading"
   ]
  },
  {
   "cell_type": "code",
   "execution_count": null,
   "id": "3d0f250a-5b55-49ee-8b9f-f765761fc29f",
   "metadata": {},
   "outputs": [],
   "source": []
  }
 ],
 "metadata": {
  "kernelspec": {
   "display_name": "Python 3 (ipykernel)",
   "language": "python",
   "name": "python3"
  },
  "language_info": {
   "codemirror_mode": {
    "name": "ipython",
    "version": 3
   },
   "file_extension": ".py",
   "mimetype": "text/x-python",
   "name": "python",
   "nbconvert_exporter": "python",
   "pygments_lexer": "ipython3",
   "version": "3.9.12"
  }
 },
 "nbformat": 4,
 "nbformat_minor": 5
}
