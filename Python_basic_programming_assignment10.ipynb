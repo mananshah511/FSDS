{
 "cells": [
  {
   "cell_type": "markdown",
   "id": "9f8ee506-c13c-483a-901e-92f620e2165f",
   "metadata": {},
   "source": [
    "# 1.Write a Python program to find sum of elements in list?"
   ]
  },
  {
   "cell_type": "code",
   "execution_count": 2,
   "id": "7aa96537-e117-48ea-81a1-c04d77c1e2d0",
   "metadata": {},
   "outputs": [
    {
     "name": "stdin",
     "output_type": "stream",
     "text": [
      "Enter numbers seprated by space 1 2 3 4 5 6 7 8 9 10\n"
     ]
    },
    {
     "name": "stdout",
     "output_type": "stream",
     "text": [
      "sum of given numbers is: 55\n"
     ]
    }
   ],
   "source": [
    "str_x=input(\"Enter numbers seprated by space\")\n",
    "list_x=str_x.split()\n",
    "ans_x=0\n",
    "for i in range(len(list_x)):\n",
    "    ans_x=ans_x+int(list_x[i])\n",
    "print(\"sum of given numbers is: {}\".format(ans_x))"
   ]
  },
  {
   "cell_type": "markdown",
   "id": "7943fbe0-a1d4-4c4a-8c8d-19b1f7bea1dd",
   "metadata": {},
   "source": [
    "# 2.Write a Python program to  Multiply all numbers in the list?"
   ]
  },
  {
   "cell_type": "code",
   "execution_count": 3,
   "id": "dce8b7a0-d4cb-425c-8817-d89328695e69",
   "metadata": {},
   "outputs": [
    {
     "name": "stdin",
     "output_type": "stream",
     "text": [
      "Enter numbers seprated by space 1 2 3 4 \n"
     ]
    },
    {
     "name": "stdout",
     "output_type": "stream",
     "text": [
      "multiplication of given numbers is: 24\n"
     ]
    }
   ],
   "source": [
    "str_x=input(\"Enter numbers seprated by space\")\n",
    "list_x=str_x.split()\n",
    "ans_x=1\n",
    "for i in range(len(list_x)):\n",
    "    ans_x=ans_x*int(list_x[i])\n",
    "print(\"multiplication of given numbers is: {}\".format(ans_x))"
   ]
  },
  {
   "cell_type": "markdown",
   "id": "e8bc8cb4-4dbb-45c1-826f-ba4cf13026a7",
   "metadata": {},
   "source": [
    "# 3.Write a Python program to find smallest number in a list?"
   ]
  },
  {
   "cell_type": "code",
   "execution_count": 5,
   "id": "84227bd7-5ab2-4d4c-9806-32720f685d9f",
   "metadata": {},
   "outputs": [
    {
     "name": "stdin",
     "output_type": "stream",
     "text": [
      "Enter numbers seprated by space 5 6 7 2 3 4 1 4 5 6 \n"
     ]
    },
    {
     "name": "stdout",
     "output_type": "stream",
     "text": [
      "smallest of given numbers is: 1\n"
     ]
    }
   ],
   "source": [
    "str_x=input(\"Enter numbers seprated by space\")\n",
    "list_x=str_x.split()\n",
    "for i in range(len(list_x)):\n",
    "    list_x[i]=int(list_x[i])\n",
    "list_x.sort()\n",
    "print(\"smallest of given numbers is: {}\".format(list_x[0]))"
   ]
  },
  {
   "cell_type": "markdown",
   "id": "0cbf58a6-6a89-4c94-8d70-9dbac1a0f79a",
   "metadata": {},
   "source": [
    "# 4.Write a Python program to find largest number in a list?"
   ]
  },
  {
   "cell_type": "code",
   "execution_count": 8,
   "id": "dd682444-76f2-48c1-a05e-9076117ded1d",
   "metadata": {},
   "outputs": [
    {
     "name": "stdin",
     "output_type": "stream",
     "text": [
      "Enter numbers seprated by space 1 2 3 4 5 6 7 8 99 9 10\n"
     ]
    },
    {
     "name": "stdout",
     "output_type": "stream",
     "text": [
      "largest of given numbers is: 99\n"
     ]
    }
   ],
   "source": [
    "str_x=input(\"Enter numbers seprated by space\")\n",
    "list_x=str_x.split()\n",
    "for i in range(len(list_x)):\n",
    "    list_x[i]=int(list_x[i])\n",
    "list_x.sort()\n",
    "print(\"largest of given numbers is: {}\".format(list_x[len(list_x)-1]))"
   ]
  },
  {
   "cell_type": "markdown",
   "id": "848b527e-c545-41a9-9895-12c86035c09f",
   "metadata": {},
   "source": [
    "# 5.Write a Python program to find second largest number in a list?"
   ]
  },
  {
   "cell_type": "code",
   "execution_count": 9,
   "id": "30822fc9-6e90-49a5-a589-f6dba427b0c9",
   "metadata": {},
   "outputs": [
    {
     "name": "stdin",
     "output_type": "stream",
     "text": [
      "Enter numbers seprated by space 1 3 55 66 77 3 4 \n"
     ]
    },
    {
     "name": "stdout",
     "output_type": "stream",
     "text": [
      "second largest of given numbers is: 66\n"
     ]
    }
   ],
   "source": [
    "str_x=input(\"Enter numbers seprated by space\")\n",
    "list_x=str_x.split()\n",
    "for i in range(len(list_x)):\n",
    "    list_x[i]=int(list_x[i])\n",
    "list_x.sort()\n",
    "print(\"second largest of given numbers is: {}\".format(list_x[len(list_x)-2]))"
   ]
  },
  {
   "cell_type": "markdown",
   "id": "ce436604-9b28-4459-b612-8cee65108472",
   "metadata": {},
   "source": [
    "# 6.Write a Python program to find N largest elements from a list?"
   ]
  },
  {
   "cell_type": "code",
   "execution_count": 12,
   "id": "9cb79e28-7ad1-4471-8fc5-1f742824f89a",
   "metadata": {},
   "outputs": [
    {
     "name": "stdin",
     "output_type": "stream",
     "text": [
      "Enter numbers seprated by space 66 77 88 99\n",
      "Enter number of largest elements required(less then actual numbers) 2\n"
     ]
    },
    {
     "name": "stdout",
     "output_type": "stream",
     "text": [
      "2 largest numbers are:\n",
      "99\n",
      "88\n"
     ]
    }
   ],
   "source": [
    "str_x=input(\"Enter numbers seprated by space\")\n",
    "N=int(input(\"Enter number of largest elements required(less then actual numbers)\"))\n",
    "list_x=str_x.split()\n",
    "for i in range(len(list_x)):\n",
    "    list_x[i]=int(list_x[i])\n",
    "list_x.sort(reverse=True)\n",
    "print(\"{} largest numbers are:\".format(N))\n",
    "for i in range(N):\n",
    "    print(list_x[i])"
   ]
  },
  {
   "cell_type": "markdown",
   "id": "770c7ce6-35fe-4802-ad20-f92677435c45",
   "metadata": {},
   "source": [
    "# 7.Write a Python program to print even numbers in a list?"
   ]
  },
  {
   "cell_type": "code",
   "execution_count": 14,
   "id": "4c3a0448-63e3-46df-8caf-720fff09216f",
   "metadata": {},
   "outputs": [
    {
     "name": "stdin",
     "output_type": "stream",
     "text": [
      "Enter numbers seprated by space 1 2 3 4 5 6 7 8 9\n"
     ]
    },
    {
     "name": "stdout",
     "output_type": "stream",
     "text": [
      "Even numbers from given list are:\n",
      "2 4 6 8 "
     ]
    }
   ],
   "source": [
    "str_x=input(\"Enter numbers seprated by space\")\n",
    "list_x=str_x.split()\n",
    "print(\"Even numbers from given list are:\")\n",
    "for i in range(len(list_x)):\n",
    "    if int(list_x[i])%2==0:\n",
    "        print(list_x[i],end=' ')\n",
    "    "
   ]
  },
  {
   "cell_type": "markdown",
   "id": "adace72a-f27f-4aac-8d13-bbd47403c3cb",
   "metadata": {},
   "source": [
    "# 8.Write a Python program to print odd numbers in a List?"
   ]
  },
  {
   "cell_type": "code",
   "execution_count": 16,
   "id": "98f08d94-3ea1-4abb-8edd-40e42fb970d0",
   "metadata": {},
   "outputs": [
    {
     "name": "stdin",
     "output_type": "stream",
     "text": [
      "Enter numbers seprated by space 1  2\n"
     ]
    },
    {
     "name": "stdout",
     "output_type": "stream",
     "text": [
      "Odd numbers from given list are:\n",
      "1 "
     ]
    }
   ],
   "source": [
    "str_x=input(\"Enter numbers seprated by space\")\n",
    "list_x=str_x.split()\n",
    "print(\"Odd numbers from given list are:\")\n",
    "for i in range(len(list_x)):\n",
    "    if int(list_x[i])%2!=0:\n",
    "        print(list_x[i],end=' ')\n",
    "    "
   ]
  },
  {
   "cell_type": "markdown",
   "id": "0eb73b93-5bfe-40c3-a046-2f1e49b53704",
   "metadata": {},
   "source": [
    "# 9.Write a Python program to Remove empty List from List?"
   ]
  },
  {
   "cell_type": "code",
   "execution_count": 28,
   "id": "9ce03ca5-ccc6-45cd-ab0a-01991fccd18a",
   "metadata": {},
   "outputs": [
    {
     "name": "stdout",
     "output_type": "stream",
     "text": [
      "[1, 2, 3, 4, 5]\n"
     ]
    }
   ],
   "source": [
    "list_x=[1,2,3,[],4,[],5]\n",
    "ans_x=[]\n",
    "for i in range(len(list_x)):\n",
    "    if list_x[i]!=[]:\n",
    "        ans_x.append(list_x[i])\n",
    "print(ans_x)"
   ]
  },
  {
   "cell_type": "markdown",
   "id": "99f9042f-0419-4c96-9d08-7f254cda1e9a",
   "metadata": {},
   "source": [
    "# 10.Write a Python program to Cloning or Copying a list?"
   ]
  },
  {
   "cell_type": "code",
   "execution_count": null,
   "id": "803df1bb-dfd7-4845-896d-f9bfe1ac7d54",
   "metadata": {},
   "outputs": [],
   "source": [
    "list_x=['hello',1,]"
   ]
  },
  {
   "cell_type": "markdown",
   "id": "3f771fd4-a931-431f-9eca-b5ce26041228",
   "metadata": {},
   "source": [
    "# 11.\tWrite a Python program to Count occurrences of an element in a list?"
   ]
  },
  {
   "cell_type": "code",
   "execution_count": 23,
   "id": "c6faf830-66b0-4450-a292-2294a4f1fff1",
   "metadata": {},
   "outputs": [
    {
     "name": "stdin",
     "output_type": "stream",
     "text": [
      "Enter numbers seprated by space 1 1 1 1 2 2 2 3 3 5 3 2 1\n"
     ]
    },
    {
     "name": "stdout",
     "output_type": "stream",
     "text": [
      "Count of 1 in the list is : 5\n",
      "Count of 2 in the list is : 4\n",
      "Count of 3 in the list is : 3\n",
      "Count of 5 in the list is : 1\n"
     ]
    }
   ],
   "source": [
    "str_x=input(\"Enter numbers seprated by space\")\n",
    "list_x=str_x.split()\n",
    "dict_x={}\n",
    "for i in range(len(list_x)):\n",
    "    try:\n",
    "        dict_x[int(list_x[i])]+=1\n",
    "    except:\n",
    "        dict_x[int(list_x[i])]=1\n",
    "for i in range(len(list_x)):\n",
    "    if dict_x[int(list_x[i])]>0:\n",
    "        print(\"Count of {} in the list is : {}\".format(list_x[i],dict_x[int(list_x[i])]))\n",
    "        dict_x[int(list_x[i])]=0"
   ]
  },
  {
   "cell_type": "code",
   "execution_count": null,
   "id": "37fd3bb3-4008-4717-977e-650403ac2136",
   "metadata": {},
   "outputs": [],
   "source": []
  }
 ],
 "metadata": {
  "kernelspec": {
   "display_name": "Python 3 (ipykernel)",
   "language": "python",
   "name": "python3"
  },
  "language_info": {
   "codemirror_mode": {
    "name": "ipython",
    "version": 3
   },
   "file_extension": ".py",
   "mimetype": "text/x-python",
   "name": "python",
   "nbconvert_exporter": "python",
   "pygments_lexer": "ipython3",
   "version": "3.9.12"
  }
 },
 "nbformat": 4,
 "nbformat_minor": 5
}
