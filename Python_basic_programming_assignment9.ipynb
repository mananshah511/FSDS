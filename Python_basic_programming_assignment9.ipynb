{
 "cells": [
  {
   "cell_type": "markdown",
   "id": "bb806af6-94de-4e94-997d-21e42603ac8c",
   "metadata": {},
   "source": [
    "# 1.Write a Python program to check if the given number is a Disarium Number?"
   ]
  },
  {
   "cell_type": "code",
   "execution_count": 17,
   "id": "6df32e6a-2e89-471d-a511-1f729b90e66a",
   "metadata": {},
   "outputs": [
    {
     "name": "stdin",
     "output_type": "stream",
     "text": [
      "Please enter a number 89\n"
     ]
    },
    {
     "name": "stdout",
     "output_type": "stream",
     "text": [
      "Disarium Number\n"
     ]
    }
   ],
   "source": [
    "Num=str(input(\"Please enter a number\"))\n",
    "ans=0\n",
    "for i in range(len(Num)):\n",
    "    ans=ans+int(Num[i])**(i+1)\n",
    "if ans==int(Num):\n",
    "    print(\"Disarium Number\")\n",
    "else:\n",
    "    print(\"Not a Disarium Number\")"
   ]
  },
  {
   "cell_type": "markdown",
   "id": "dc1d7eaf-1298-4d8d-9957-2baf4a7b27ba",
   "metadata": {},
   "source": [
    "# 2.Write a Python program to print all disarium numbers between 1 to 100?"
   ]
  },
  {
   "cell_type": "code",
   "execution_count": 14,
   "id": "186b3ab9-402e-496b-8b39-80501b7f88b1",
   "metadata": {},
   "outputs": [
    {
     "name": "stdout",
     "output_type": "stream",
     "text": [
      "1\n",
      "2\n",
      "3\n",
      "4\n",
      "5\n",
      "6\n",
      "7\n",
      "8\n",
      "9\n",
      "89\n"
     ]
    }
   ],
   "source": [
    "for i in range(1,101):\n",
    "    Num=str(i)\n",
    "    ans=0\n",
    "    for i in range(len(Num)):\n",
    "        ans=ans+int(Num[i])**(i+1)\n",
    "    if ans==int(Num):\n",
    "        print(ans)"
   ]
  },
  {
   "cell_type": "markdown",
   "id": "c9f557b9-8015-4c81-b3a1-3bd98da946d6",
   "metadata": {},
   "source": [
    "# 3.Write a Python program to check if the given number is Happy Number?"
   ]
  },
  {
   "cell_type": "code",
   "execution_count": 25,
   "id": "df180a16-8023-4b89-810a-8f80dd1d1591",
   "metadata": {},
   "outputs": [
    {
     "name": "stdin",
     "output_type": "stream",
     "text": [
      "Enter a number 4\n"
     ]
    },
    {
     "name": "stdout",
     "output_type": "stream",
     "text": [
      "Not a happy number\n"
     ]
    }
   ],
   "source": [
    "Num=str(input(\"Enter a number\"))\n",
    "flag=0\n",
    "while(int(Num)>9 or flag==0):\n",
    "    flag=1\n",
    "    ans=0\n",
    "    for i in range(len(Num)):\n",
    "        ans=ans+int(Num[i])**2\n",
    "    Num=str(ans)\n",
    "if int(Num)==1:\n",
    "    print(\"Happy number\")\n",
    "else:\n",
    "    print(\"Not a happy number\")"
   ]
  },
  {
   "cell_type": "markdown",
   "id": "92c3b118-a243-4695-a5aa-90df61562194",
   "metadata": {},
   "source": [
    "# 4.Write a Python program to print all happy numbers between 1 and 100?"
   ]
  },
  {
   "cell_type": "code",
   "execution_count": 26,
   "id": "48cdf8b6-9775-466b-a335-8a252a87a5d3",
   "metadata": {},
   "outputs": [
    {
     "name": "stdout",
     "output_type": "stream",
     "text": [
      "1\n",
      "7\n",
      "10\n",
      "13\n",
      "19\n",
      "23\n",
      "28\n",
      "31\n",
      "32\n",
      "44\n",
      "49\n",
      "68\n",
      "70\n",
      "79\n",
      "82\n",
      "86\n",
      "91\n",
      "94\n",
      "97\n",
      "100\n"
     ]
    }
   ],
   "source": [
    "for j in range(1,101):\n",
    "    Num=str(j)\n",
    "    flag=0\n",
    "    while(int(Num)>9 or flag==0):\n",
    "        flag=1\n",
    "        ans=0\n",
    "        for i in range(len(Num)):\n",
    "            ans=ans+int(Num[i])**2\n",
    "        Num=str(ans)\n",
    "    if int(Num)==1:\n",
    "        print(j)"
   ]
  },
  {
   "cell_type": "markdown",
   "id": "cc6e6ffc-73da-40d9-a795-45d1d5145a04",
   "metadata": {},
   "source": [
    "# 5.Write a Python program to determine whether the given number is a Harshad Number?"
   ]
  },
  {
   "cell_type": "code",
   "execution_count": 33,
   "id": "3ff7298b-f174-4bc6-b278-00a15e81c5f7",
   "metadata": {},
   "outputs": [
    {
     "name": "stdin",
     "output_type": "stream",
     "text": [
      "Please eneter a number 6804\n"
     ]
    },
    {
     "name": "stdout",
     "output_type": "stream",
     "text": [
      "Harshad Number\n"
     ]
    }
   ],
   "source": [
    "Num=str(input(\"Please eneter a number\"))\n",
    "div=0\n",
    "for i in range(len(Num)):\n",
    "    div=div+int(Num[i])\n",
    "if int(Num)%div==0:\n",
    "    print(\"Harshad Number\")\n",
    "else:\n",
    "    print(\"Not a Harshad Number\")"
   ]
  },
  {
   "cell_type": "markdown",
   "id": "3828be93-e543-45cc-9f52-c7e118b54e95",
   "metadata": {},
   "source": [
    "# 6.Write a Python program to print all pronic numbers between 1 and 100?"
   ]
  },
  {
   "cell_type": "code",
   "execution_count": 36,
   "id": "331645a8-cfbb-4de0-b094-dad1db451c3a",
   "metadata": {},
   "outputs": [
    {
     "name": "stdout",
     "output_type": "stream",
     "text": [
      "2\n",
      "6\n",
      "12\n",
      "20\n",
      "30\n",
      "42\n",
      "56\n",
      "72\n",
      "90\n"
     ]
    }
   ],
   "source": [
    "for Num in range(1,101):\n",
    "    for i in range(1,int(Num/2)+1):\n",
    "        if Num%i==0 and (i+1)*i==Num:\n",
    "            print(Num)\n",
    "            break"
   ]
  },
  {
   "cell_type": "code",
   "execution_count": null,
   "id": "0924e7ca-6d46-4bb1-afc6-e03fc414cf72",
   "metadata": {},
   "outputs": [],
   "source": []
  }
 ],
 "metadata": {
  "kernelspec": {
   "display_name": "Python 3 (ipykernel)",
   "language": "python",
   "name": "python3"
  },
  "language_info": {
   "codemirror_mode": {
    "name": "ipython",
    "version": 3
   },
   "file_extension": ".py",
   "mimetype": "text/x-python",
   "name": "python",
   "nbconvert_exporter": "python",
   "pygments_lexer": "ipython3",
   "version": "3.9.12"
  }
 },
 "nbformat": 4,
 "nbformat_minor": 5
}
