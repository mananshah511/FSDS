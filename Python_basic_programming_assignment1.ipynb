{
 "cells": [
  {
   "cell_type": "markdown",
   "id": "9662e6c8-dd31-464c-bf30-703cb9da8bc2",
   "metadata": {},
   "source": [
    "# 1.Write a Python program to print \"Hello Python\"?"
   ]
  },
  {
   "cell_type": "code",
   "execution_count": 47,
   "id": "80439cde-ec99-405c-be03-8816215510ed",
   "metadata": {},
   "outputs": [
    {
     "name": "stdout",
     "output_type": "stream",
     "text": [
      "Hello Python\n"
     ]
    }
   ],
   "source": [
    "print(\"Hello Python\")"
   ]
  },
  {
   "cell_type": "markdown",
   "id": "7ffe4f17-2959-48c6-a95e-7801d4c03380",
   "metadata": {},
   "source": [
    "# 2.Write a Python program to do arithmetical operations addition and division.?"
   ]
  },
  {
   "cell_type": "code",
   "execution_count": 50,
   "id": "e93b97c2-1ba4-400b-be2e-a117652bf2df",
   "metadata": {},
   "outputs": [
    {
     "name": "stdin",
     "output_type": "stream",
     "text": [
      "please provide which opeations you want to perform(addition or division): addition\n",
      "Enter any numbers you want to do addition with coma(ex: 1,2,567,-56,6.2): 1,2,3,4,5,6,7,8,9,10\n"
     ]
    },
    {
     "name": "stdout",
     "output_type": "stream",
     "text": [
      "addition of given numbers is:55.0\n"
     ]
    }
   ],
   "source": [
    "op = input(\"please provide which opeations you want to perform(addition or division):\")\n",
    "if op=='addition':\n",
    "    x=(input('Enter any numbers you want to do addition with coma(ex: 1,2,567,-56,6.2):'))\n",
    "    x=x.split(\",\")\n",
    "    ans=0\n",
    "    for i in range(len(x)):\n",
    "        ans=ans+float(x[i])\n",
    "    print('addition of given numbers is:{}'.format(ans))\n",
    "elif op=='division':\n",
    "    a=int(input('please enter first number'))\n",
    "    b=int(input('please enter second number'))\n",
    "    c=a/b\n",
    "    d=a//b\n",
    "    print('float division is: {}'.format(c))\n",
    "    print('integer division is: {}'.format(d))\n",
    "else:\n",
    "    print('invalid input')"
   ]
  },
  {
   "cell_type": "markdown",
   "id": "683f7a29-fbc2-4051-9b55-ce30acd2cf03",
   "metadata": {},
   "source": [
    "# 3.Write a Python program to find the area of a triangle?"
   ]
  },
  {
   "cell_type": "code",
   "execution_count": 51,
   "id": "3e835e1c-4594-4071-b541-5558bdcbd082",
   "metadata": {},
   "outputs": [
    {
     "name": "stdin",
     "output_type": "stream",
     "text": [
      "Enter value of first side: 6\n",
      "Enter value of second side: 7\n",
      "Enter value of third side: 11\n"
     ]
    },
    {
     "name": "stdout",
     "output_type": "stream",
     "text": [
      "area of triangle is:18.973665961010276\n"
     ]
    }
   ],
   "source": [
    "x=float(input(\"Enter value of first side:\"))\n",
    "y=float(input(\"Enter value of second side:\"))\n",
    "z=float(input(\"Enter value of third side:\"))\n",
    "\n",
    "s=(x+y+z)/2\n",
    "ans=(s*(s-x)*(s-y)*(s-z))**(1/2)\n",
    "\n",
    "print(\"area of triangle is:{}\".format(ans))\n"
   ]
  },
  {
   "cell_type": "markdown",
   "id": "f79ea215-134d-4871-a974-b459122422b5",
   "metadata": {},
   "source": [
    "# 4.Write a Python program to swap two variables?"
   ]
  },
  {
   "cell_type": "code",
   "execution_count": null,
   "id": "6f4b9601-bbee-4a6a-9474-a457ef8a5f9d",
   "metadata": {},
   "outputs": [
    {
     "name": "stdin",
     "output_type": "stream",
     "text": [
      "please enter value of first variable: hello\n"
     ]
    }
   ],
   "source": [
    "a=input('please enter value of first variable:')\n",
    "b=input('please enter value of second variable:')\n",
    "\n",
    "temp=a\n",
    "a=b\n",
    "b=temp\n",
    "\n",
    "print('after swapping value of first variable is {} and value of second variable is {}'.format(a,b))"
   ]
  },
  {
   "cell_type": "markdown",
   "id": "0b64ecf0-1eb1-48f0-bea5-2b30f0ce273c",
   "metadata": {},
   "source": [
    "# 5.Write a Python program to generate a random number?"
   ]
  },
  {
   "cell_type": "code",
   "execution_count": 38,
   "id": "b7939566-ed22-4ff6-9008-c0d6a7885043",
   "metadata": {},
   "outputs": [
    {
     "name": "stdout",
     "output_type": "stream",
     "text": [
      "random number is:0.4312360063670164\n"
     ]
    }
   ],
   "source": [
    "import random as r\n",
    "print('random number is:{}'.format(r.random()))"
   ]
  }
 ],
 "metadata": {
  "kernelspec": {
   "display_name": "Python 3 (ipykernel)",
   "language": "python",
   "name": "python3"
  },
  "language_info": {
   "codemirror_mode": {
    "name": "ipython",
    "version": 3
   },
   "file_extension": ".py",
   "mimetype": "text/x-python",
   "name": "python",
   "nbconvert_exporter": "python",
   "pygments_lexer": "ipython3",
   "version": "3.9.12"
  }
 },
 "nbformat": 4,
 "nbformat_minor": 5
}
