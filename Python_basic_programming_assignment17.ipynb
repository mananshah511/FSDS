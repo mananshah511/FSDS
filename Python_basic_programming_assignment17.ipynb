{
 "cells": [
  {
   "cell_type": "markdown",
   "id": "cdec09f9-46d4-4467-bbdd-242a1428bf63",
   "metadata": {},
   "source": [
    "# Question1. \n",
    "Create a function that takes three arguments a, b, c and returns the sum of the numbers that are evenly divided by c from the range a, b inclusive."
   ]
  },
  {
   "cell_type": "code",
   "execution_count": 7,
   "id": "fc444504-4917-4ef1-bf8c-baacd1d6e553",
   "metadata": {},
   "outputs": [],
   "source": [
    "def evenly_divisible(a,b,c):\n",
    "    ans_x=[x for x in range(a,b+1) if x%c==0]\n",
    "    return sum(ans_x)"
   ]
  },
  {
   "cell_type": "code",
   "execution_count": 8,
   "id": "3c512531-d29a-4ecd-9106-8a360199e6b3",
   "metadata": {},
   "outputs": [
    {
     "data": {
      "text/plain": [
       "30"
      ]
     },
     "execution_count": 8,
     "metadata": {},
     "output_type": "execute_result"
    }
   ],
   "source": [
    "evenly_divisible(1, 10, 2) "
   ]
  },
  {
   "cell_type": "code",
   "execution_count": 9,
   "id": "36bcb896-e255-4f8e-af97-8aff72ac0ebd",
   "metadata": {},
   "outputs": [
    {
     "data": {
      "text/plain": [
       "0"
      ]
     },
     "execution_count": 9,
     "metadata": {},
     "output_type": "execute_result"
    }
   ],
   "source": [
    "evenly_divisible(1, 10, 20)"
   ]
  },
  {
   "cell_type": "code",
   "execution_count": 27,
   "id": "5e6fa4d9-bb5f-40e5-8a0e-8089ffd7dc6d",
   "metadata": {},
   "outputs": [
    {
     "data": {
      "text/plain": [
       "18"
      ]
     },
     "execution_count": 27,
     "metadata": {},
     "output_type": "execute_result"
    }
   ],
   "source": [
    "evenly_divisible(1, 10, 3)"
   ]
  },
  {
   "cell_type": "markdown",
   "id": "1001ffd2-1450-4319-a8d6-5f01510813f0",
   "metadata": {},
   "source": [
    "# Question2. Create a function that returns True if a given inequality expression is correct and False otherwise."
   ]
  },
  {
   "cell_type": "code",
   "execution_count": 28,
   "id": "f0a848a8-e054-4903-95e4-039de6755433",
   "metadata": {},
   "outputs": [],
   "source": [
    "def correct_signs(str_x):\n",
    "    return eval(str_x)"
   ]
  },
  {
   "cell_type": "code",
   "execution_count": 29,
   "id": "b375552f-3e1e-45ae-8858-939e88ee5a6f",
   "metadata": {},
   "outputs": [
    {
     "data": {
      "text/plain": [
       "True"
      ]
     },
     "execution_count": 29,
     "metadata": {},
     "output_type": "execute_result"
    }
   ],
   "source": [
    "correct_signs(\"3 < 7 < 11\")"
   ]
  },
  {
   "cell_type": "code",
   "execution_count": 30,
   "id": "10a6f977-d1f7-42bf-9aab-7aa7d16d13ea",
   "metadata": {},
   "outputs": [
    {
     "data": {
      "text/plain": [
       "False"
      ]
     },
     "execution_count": 30,
     "metadata": {},
     "output_type": "execute_result"
    }
   ],
   "source": [
    "correct_signs(\"13 > 44 > 33 > 1\") "
   ]
  },
  {
   "cell_type": "code",
   "execution_count": 31,
   "id": "a608a3bc-cd2d-40f6-9056-a4a311aab2ad",
   "metadata": {},
   "outputs": [
    {
     "data": {
      "text/plain": [
       "True"
      ]
     },
     "execution_count": 31,
     "metadata": {},
     "output_type": "execute_result"
    }
   ],
   "source": [
    "correct_signs(\"1 < 2 < 6 < 9 > 3\")"
   ]
  },
  {
   "cell_type": "markdown",
   "id": "70d473a5-df75-4a8f-889a-871ffad9158d",
   "metadata": {},
   "source": [
    "# Question3 \n",
    "Create a function that replaces all the vowels in a string with a specified character."
   ]
  },
  {
   "cell_type": "code",
   "execution_count": 14,
   "id": "19d0dff4-fd83-4b56-b5c1-5cb0c817b542",
   "metadata": {},
   "outputs": [],
   "source": [
    "def replace_vowels(str_x,x):\n",
    "    for i in range(len(str_x)):\n",
    "        if str_x[i].lower()=='a' or str_x[i].lower()=='i' or str_x[i].lower()=='e' or str_x[i].lower()=='o' or str_x[i].lower()=='u':\n",
    "            str_x=str_x.replace(str_x[i],x)\n",
    "    return str_x"
   ]
  },
  {
   "cell_type": "code",
   "execution_count": 15,
   "id": "df35364a-0697-4975-badb-6fbd2ca05590",
   "metadata": {},
   "outputs": [
    {
     "data": {
      "text/plain": [
       "'th# ##rdv#rk'"
      ]
     },
     "execution_count": 15,
     "metadata": {},
     "output_type": "execute_result"
    }
   ],
   "source": [
    "replace_vowels(\"the aardvark\", \"#\")"
   ]
  },
  {
   "cell_type": "code",
   "execution_count": 16,
   "id": "fb31ebb3-7d00-4a51-85cc-8beb95e990a6",
   "metadata": {},
   "outputs": [
    {
     "data": {
      "text/plain": [
       "'m?nn?? m??s?'"
      ]
     },
     "execution_count": 16,
     "metadata": {},
     "output_type": "execute_result"
    }
   ],
   "source": [
    "replace_vowels(\"minnie mouse\", \"?\")"
   ]
  },
  {
   "cell_type": "code",
   "execution_count": 17,
   "id": "32b786c5-bf77-431b-ac40-9ad1d23443c2",
   "metadata": {},
   "outputs": [
    {
     "data": {
      "text/plain": [
       "'sh*k*sp**r*'"
      ]
     },
     "execution_count": 17,
     "metadata": {},
     "output_type": "execute_result"
    }
   ],
   "source": [
    "replace_vowels(\"shakespeare\", \"*\")"
   ]
  },
  {
   "cell_type": "markdown",
   "id": "b8fea324-9c98-4fc7-b7a6-38070fe507e0",
   "metadata": {},
   "source": [
    "# Question4. Write a function that calculates the factorial of a number recursively."
   ]
  },
  {
   "cell_type": "code",
   "execution_count": 18,
   "id": "3837ef92-3eda-418d-b0aa-3d4fd99242d5",
   "metadata": {},
   "outputs": [],
   "source": [
    "def factorial(int_x):\n",
    "    if int_x==1:\n",
    "        return 1\n",
    "    elif int_x==0:\n",
    "        return 0\n",
    "    else:\n",
    "        return int_x*factorial(int_x-1)\n",
    "        "
   ]
  },
  {
   "cell_type": "code",
   "execution_count": 19,
   "id": "d6efa0c3-1016-42dd-ac2a-3a50e9a53d00",
   "metadata": {},
   "outputs": [
    {
     "data": {
      "text/plain": [
       "120"
      ]
     },
     "execution_count": 19,
     "metadata": {},
     "output_type": "execute_result"
    }
   ],
   "source": [
    "factorial(5)"
   ]
  },
  {
   "cell_type": "code",
   "execution_count": 20,
   "id": "72423eea-7b7f-47a5-a931-952520174d1e",
   "metadata": {},
   "outputs": [
    {
     "data": {
      "text/plain": [
       "6"
      ]
     },
     "execution_count": 20,
     "metadata": {},
     "output_type": "execute_result"
    }
   ],
   "source": [
    "factorial(3)"
   ]
  },
  {
   "cell_type": "code",
   "execution_count": 21,
   "id": "2845742e-4d40-4976-a821-64fec7f15839",
   "metadata": {},
   "outputs": [
    {
     "data": {
      "text/plain": [
       "1"
      ]
     },
     "execution_count": 21,
     "metadata": {},
     "output_type": "execute_result"
    }
   ],
   "source": [
    "factorial(1)"
   ]
  },
  {
   "cell_type": "code",
   "execution_count": 22,
   "id": "663c62a0-8a09-4ba3-8e54-7179676ba299",
   "metadata": {},
   "outputs": [
    {
     "data": {
      "text/plain": [
       "0"
      ]
     },
     "execution_count": 22,
     "metadata": {},
     "output_type": "execute_result"
    }
   ],
   "source": [
    "factorial(0)"
   ]
  },
  {
   "cell_type": "markdown",
   "id": "08b8dee9-6dc6-48b9-bcc0-9b2b24c76aaf",
   "metadata": {},
   "source": [
    "# Question 5\n",
    "Hamming distance is the number of characters that differ between two strings.\n",
    "To illustrate:\n",
    "String1: \"abcbba\"\n",
    "String2: \"abcbda\"\n",
    "\n",
    "Hamming Distance: 1 - \"b\" vs. \"d\" is the only difference.\n",
    "Create a function that computes the hamming distance between two strings.\n"
   ]
  },
  {
   "cell_type": "code",
   "execution_count": 23,
   "id": "5f39737e-cfa5-4ecd-a35d-f1598ae55a7b",
   "metadata": {},
   "outputs": [],
   "source": [
    "def hamming_distance(str_x,str_y):\n",
    "    ans=0\n",
    "    for i in range(len(str_x)):\n",
    "        if str_x[i]!=str_y[i]:\n",
    "            ans+=1\n",
    "    return ans"
   ]
  },
  {
   "cell_type": "code",
   "execution_count": 24,
   "id": "25d296ed-09f3-4a00-8dee-be365948ebbe",
   "metadata": {},
   "outputs": [
    {
     "data": {
      "text/plain": [
       "5"
      ]
     },
     "execution_count": 24,
     "metadata": {},
     "output_type": "execute_result"
    }
   ],
   "source": [
    "hamming_distance(\"abcde\", \"bcdef\")"
   ]
  },
  {
   "cell_type": "code",
   "execution_count": 25,
   "id": "1557d647-3582-4130-b200-d4e6271744e0",
   "metadata": {},
   "outputs": [
    {
     "data": {
      "text/plain": [
       "0"
      ]
     },
     "execution_count": 25,
     "metadata": {},
     "output_type": "execute_result"
    }
   ],
   "source": [
    "hamming_distance(\"abcde\", \"abcde\")"
   ]
  },
  {
   "cell_type": "code",
   "execution_count": 26,
   "id": "8e4c774f-3e58-472c-8518-60323e1d649c",
   "metadata": {},
   "outputs": [
    {
     "data": {
      "text/plain": [
       "1"
      ]
     },
     "execution_count": 26,
     "metadata": {},
     "output_type": "execute_result"
    }
   ],
   "source": [
    "hamming_distance(\"strong\", \"strung\")"
   ]
  },
  {
   "cell_type": "code",
   "execution_count": null,
   "id": "78708b58-cce9-45a1-8e49-1cc8530a4954",
   "metadata": {},
   "outputs": [],
   "source": []
  }
 ],
 "metadata": {
  "kernelspec": {
   "display_name": "Python 3 (ipykernel)",
   "language": "python",
   "name": "python3"
  },
  "language_info": {
   "codemirror_mode": {
    "name": "ipython",
    "version": 3
   },
   "file_extension": ".py",
   "mimetype": "text/x-python",
   "name": "python",
   "nbconvert_exporter": "python",
   "pygments_lexer": "ipython3",
   "version": "3.9.12"
  }
 },
 "nbformat": 4,
 "nbformat_minor": 5
}
