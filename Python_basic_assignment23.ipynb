{
 "cells": [
  {
   "cell_type": "raw",
   "id": "3979678c-4756-459a-8ad8-64c7c329b4e9",
   "metadata": {},
   "source": [
    "1. What is the result of the code, and why?\n",
    ">>> def func(a, b=6, c=8):\n",
    "print(a, b, c)\n",
    ">>> func(1, 2) \n",
    "\n",
    "result: 1,2,8\n",
    "Reason: func(1,2) will make value of a=1 b=2 and as c is not passed defult value 9 will be considered."
   ]
  },
  {
   "cell_type": "raw",
   "id": "4265961c-33bc-4dcb-982e-31ba639cd308",
   "metadata": {},
   "source": [
    "2. What is the result of this code, and why?\n",
    ">>> def func(a, b, c=5):\n",
    "print(a, b, c)\n",
    ">>> func(1, c=3, b=2)\n",
    "\n",
    "\n",
    "reslt=1,2,3\n",
    "Reason= func(1,c=3,b=2) will take a=1, b=2 and c=3 and print a,b,c."
   ]
  },
  {
   "cell_type": "raw",
   "id": "92db6f2b-e862-4097-a73c-9b052048f710",
   "metadata": {},
   "source": [
    "3. How about this code: what is its result, and why?\n",
    ">>> def func(a, *pargs):\n",
    "print(a, pargs)\n",
    ">>> func(1, 2, 3)\n",
    "\n",
    "\n",
    "result=1 (2,3)\n",
    "reason=func(1,2,3) will take a=1 and 2,3 as pargs and print a and pargs."
   ]
  },
  {
   "cell_type": "raw",
   "id": "a32b9b15-d027-4cc0-964b-1a66864c7a5f",
   "metadata": {},
   "source": [
    "4. What does this code print, and why?\n",
    ">>> def func(a, **kargs):\n",
    "print(a, kargs)\n",
    ">>> func(a=1, c=3, b=2)\n",
    "\n",
    "result=1 {'c': 3, 'b': 2}\n",
    "reason= func call will take a=1 and c=3, b=2 as a **kargs and print it."
   ]
  },
  {
   "cell_type": "raw",
   "id": "080405b6-a432-40a5-8357-272168fa0674",
   "metadata": {},
   "source": [
    "5. What gets printed by this, and explain?\n",
    ">>> def func(a, b, c=8, d=5): print(a, b, c, d)\n",
    ">>> func(1, *(5, 6))\n",
    "\n",
    "result= 1 5 6 5\n",
    "Reason= func call will take a=1 b and c as 5,6 as it passed with * argument and d will take defult value 5 as its not passed."
   ]
  },
  {
   "cell_type": "raw",
   "id": "70332cf0-5b85-46b4-9d23-64a4bf9f109f",
   "metadata": {},
   "source": [
    "6. what is the result of this, and explain?\n",
    ">>> def func(a, b, c): a = 2; b[0] = 'x'; c['a'] = 'y'\n",
    ">>> l=1; m=[1]; n={'a':0}\n",
    ">>> func(l, m, n)\n",
    ">>> l, m, n\n",
    "\n",
    "\n",
    "result=(1, ['x'], {'a': 'y'})\n",
    "Reason= value of l will 1 as it is but inside function value of m and n will be chnaged as they are mutable list and dict, so inside changes in them reflect outside also."
   ]
  }
 ],
 "metadata": {
  "kernelspec": {
   "display_name": "Python 3 (ipykernel)",
   "language": "python",
   "name": "python3"
  },
  "language_info": {
   "codemirror_mode": {
    "name": "ipython",
    "version": 3
   },
   "file_extension": ".py",
   "mimetype": "text/x-python",
   "name": "python",
   "nbconvert_exporter": "python",
   "pygments_lexer": "ipython3",
   "version": "3.9.12"
  }
 },
 "nbformat": 4,
 "nbformat_minor": 5
}
