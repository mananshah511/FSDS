{
 "cells": [
  {
   "cell_type": "markdown",
   "id": "490343fe-e64f-4563-922f-ce35dcbfa1d7",
   "metadata": {},
   "source": [
    "# 1.Write a Python program to find words which are greater than given length k?"
   ]
  },
  {
   "cell_type": "code",
   "execution_count": 43,
   "id": "946d6af1-ebc7-411b-8240-1524d8106627",
   "metadata": {},
   "outputs": [
    {
     "name": "stdin",
     "output_type": "stream",
     "text": [
      "please enter string hello how are you buddy\n",
      "please enter a length k 3\n"
     ]
    },
    {
     "name": "stdout",
     "output_type": "stream",
     "text": [
      "words which are greater than k:\n",
      "hello buddy "
     ]
    }
   ],
   "source": [
    "X=str(input(\"please enter string\")).split(\" \")\n",
    "k=int(input(\"please enter a length k\"))\n",
    "print(\"words which are greater than k:\")\n",
    "for i in range(len(X)):\n",
    "    if len(X[i])>k:\n",
    "        print(X[i],end=' ')"
   ]
  },
  {
   "cell_type": "markdown",
   "id": "8c56c497-c7e2-47b9-afff-388eafd0c9ef",
   "metadata": {},
   "source": [
    "# 2.Write a Python program for removing i-th character from a string?"
   ]
  },
  {
   "cell_type": "code",
   "execution_count": 51,
   "id": "52b8113b-c292-4481-b868-ec872d07f40a",
   "metadata": {},
   "outputs": [
    {
     "name": "stdin",
     "output_type": "stream",
     "text": [
      "please enter string hello\n",
      "Please enter a value of i(first character assumed to be 0th) 2\n"
     ]
    },
    {
     "data": {
      "text/plain": [
       "'helo'"
      ]
     },
     "execution_count": 51,
     "metadata": {},
     "output_type": "execute_result"
    }
   ],
   "source": [
    "X=str(input(\"please enter string\"))\n",
    "i=int(input(\"Please enter a value of i(first character assumed to be 0th)\"))\n",
    "X=X.replace(X[i],'',1)\n",
    "X"
   ]
  },
  {
   "cell_type": "markdown",
   "id": "dd549b74-f2cd-4544-9573-a2fcbe4f1dda",
   "metadata": {},
   "source": [
    "# 3.Write a Python program to split and join a string?"
   ]
  },
  {
   "cell_type": "code",
   "execution_count": 59,
   "id": "b57ce4a9-5265-40f7-bf04-c9f643fbd0eb",
   "metadata": {},
   "outputs": [
    {
     "name": "stdin",
     "output_type": "stream",
     "text": [
      "please enter string hello how are you\n"
     ]
    },
    {
     "name": "stdout",
     "output_type": "stream",
     "text": [
      "after split: ['hello', 'how', 'are', 'you']\n",
      "after join: hello how are you\n"
     ]
    }
   ],
   "source": [
    "X=str(input(\"please enter string\"))\n",
    "X=X.split(\" \")\n",
    "print(\"after split:\",X)\n",
    "X=\" \".join(X)\n",
    "print(\"after join:\",X)"
   ]
  },
  {
   "cell_type": "markdown",
   "id": "bea284ba-6f95-4c2c-ab90-74045bfe1056",
   "metadata": {},
   "source": [
    "# 4.Write a Python to check if a given string is binary string or not?"
   ]
  },
  {
   "cell_type": "code",
   "execution_count": 7,
   "id": "05c74652-79ce-4a7d-8044-a6071a6c51a4",
   "metadata": {},
   "outputs": [
    {
     "name": "stdin",
     "output_type": "stream",
     "text": [
      "Enter a string: 0000111\n"
     ]
    },
    {
     "name": "stdout",
     "output_type": "stream",
     "text": [
      "Binary string\n"
     ]
    }
   ],
   "source": [
    "str_x=str(input(\"Enter a string:\"))\n",
    "flag=0\n",
    "for i in range(len(str_x)):\n",
    "    if str_x[i]!='0' and str_x[i]!='1':\n",
    "        flag=1\n",
    "        print(\"Not a binary string\")\n",
    "        break \n",
    "if flag==0:\n",
    "    print(\"Binary string\")"
   ]
  },
  {
   "cell_type": "markdown",
   "id": "81e40df4-72b8-4201-b86e-22cec6db06b2",
   "metadata": {},
   "source": [
    "# 5.Write a Python program to find uncommon words from two Strings?"
   ]
  },
  {
   "cell_type": "code",
   "execution_count": 71,
   "id": "b3223c1e-878e-4987-a16b-03ad5e2feba1",
   "metadata": {},
   "outputs": [
    {
     "name": "stdin",
     "output_type": "stream",
     "text": [
      "please enter a first string hello how are you?\n",
      "please enter a second string hello how is your day?\n"
     ]
    },
    {
     "name": "stdout",
     "output_type": "stream",
     "text": [
      "Uncommon words are:\n",
      "['are', 'you?', 'is', 'your', 'day?']\n"
     ]
    }
   ],
   "source": [
    "str_x=str(input(\"please enter a first string\")).split()\n",
    "str_y=str(input(\"please enter a second string\")).split()\n",
    "dict_x={}\n",
    "dict_y={}\n",
    "for i in range(len(str_x)):\n",
    "    dict_x[str_x[i]]=1\n",
    "for i in range(len(str_y)):\n",
    "    dict_y[str_y[i]]=1\n",
    "ans=[]\n",
    "for i in range(len(str_x)):\n",
    "    try:\n",
    "        if dict_y[str_x[i]]==1:\n",
    "            pass\n",
    "    except:\n",
    "        ans.append(str_x[i])\n",
    "for i in range(len(str_y)):\n",
    "    try:\n",
    "        if dict_x[str_y[i]]==1:\n",
    "            pass\n",
    "    except:\n",
    "        ans.append(str_y[i])\n",
    "        \n",
    "print(\"Uncommon words are:\")\n",
    "print(ans)"
   ]
  },
  {
   "cell_type": "code",
   "execution_count": 69,
   "id": "9fe23edd-13a5-4080-8f87-b38b328836db",
   "metadata": {},
   "outputs": [
    {
     "data": {
      "text/plain": [
       "['hello', 'manan']"
      ]
     },
     "execution_count": 69,
     "metadata": {},
     "output_type": "execute_result"
    }
   ],
   "source": [
    "ans"
   ]
  },
  {
   "cell_type": "markdown",
   "id": "a8ba22d4-2f6b-4817-bf92-36e4da16a396",
   "metadata": {},
   "source": [
    "# 6.\tWrite a Python to find all duplicate characters in string?"
   ]
  },
  {
   "cell_type": "code",
   "execution_count": 15,
   "id": "a9751d14-1023-4866-9f80-07c72384d0d8",
   "metadata": {},
   "outputs": [
    {
     "name": "stdin",
     "output_type": "stream",
     "text": [
      "Enter a string: manan\n"
     ]
    },
    {
     "name": "stdout",
     "output_type": "stream",
     "text": [
      "Duplicate characters are:\n",
      "a n "
     ]
    }
   ],
   "source": [
    "str_x=str(input(\"Enter a string:\"))\n",
    "dict_x={}\n",
    "ans_x=[]\n",
    "for i in range(len(str_x)):\n",
    "    try:\n",
    "        if dict_x[str_x[i]]>0:\n",
    "            ans_x.append(str_x[i])\n",
    "    except:\n",
    "        dict_x[str_x[i]]=1\n",
    "print(\"Duplicate characters are:\")\n",
    "for i in range(len(ans_x)):\n",
    "    print(ans_x[i],end=' ')"
   ]
  },
  {
   "cell_type": "markdown",
   "id": "af22ab28-56a2-4500-9cf7-650b15719347",
   "metadata": {},
   "source": [
    "# 7.Write a Python Program to check if a string contains any special character?"
   ]
  },
  {
   "cell_type": "code",
   "execution_count": 32,
   "id": "dac43777-214c-4562-99f4-4724b3975142",
   "metadata": {},
   "outputs": [
    {
     "name": "stdin",
     "output_type": "stream",
     "text": [
      "Enter a string: hello/manan\n"
     ]
    },
    {
     "name": "stdout",
     "output_type": "stream",
     "text": [
      "contain special character\n"
     ]
    }
   ],
   "source": [
    "str_x=str(input(\"Enter a string:\"))\n",
    "flag=0\n",
    "lst_sp=['!','@','#','$','%','^','&','*','(',')','-','_','+','=','{','}','[',']',':',';','<',',','.','>','?','/','*','-','+']\n",
    "for i in range(len(str_x)):\n",
    "    #print(str_x[i])\n",
    "    if str_x[i] in lst_sp:\n",
    "        flag=1\n",
    "        print(\"contain special character\")\n",
    "        break\n",
    "if flag==0:\n",
    "    print(\"does not contain special character\")"
   ]
  },
  {
   "cell_type": "code",
   "execution_count": null,
   "id": "5c2673a0-8208-4ed4-9b52-43ad754e611d",
   "metadata": {},
   "outputs": [],
   "source": []
  }
 ],
 "metadata": {
  "kernelspec": {
   "display_name": "Python 3 (ipykernel)",
   "language": "python",
   "name": "python3"
  },
  "language_info": {
   "codemirror_mode": {
    "name": "ipython",
    "version": 3
   },
   "file_extension": ".py",
   "mimetype": "text/x-python",
   "name": "python",
   "nbconvert_exporter": "python",
   "pygments_lexer": "ipython3",
   "version": "3.9.12"
  }
 },
 "nbformat": 4,
 "nbformat_minor": 5
}
