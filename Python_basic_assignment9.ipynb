{
 "cells": [
  {
   "cell_type": "markdown",
   "id": "2d1d190d-d5ac-41d7-99c1-51196c56a90d",
   "metadata": {},
   "source": [
    "1.To what does a relative path refer?\n",
    "ans: relative path refers to a path which is realtive to current working directory."
   ]
  },
  {
   "cell_type": "markdown",
   "id": "98088848-d7cd-4a89-8487-5719eb5e29b9",
   "metadata": {},
   "source": [
    "2.What does an absolute path start with your operating system?\n",
    "ans : its start with C:\\"
   ]
  },
  {
   "cell_type": "markdown",
   "id": "406923e2-7779-4b86-adb4-6bb3adb0c582",
   "metadata": {},
   "source": [
    "3.What do the functions os.getcwd() and os.chdir() do?\n",
    "ans:\n",
    "getcwd() will provide current working directory.\n",
    "os.chdir() will change the working directory."
   ]
  },
  {
   "cell_type": "markdown",
   "id": "64af49ce-c3be-4a3e-850f-ec83b7af57ee",
   "metadata": {},
   "source": [
    "4.What are the . and .. folders?\n",
    "ans: . refers to current folder and .. refers to its parent folder."
   ]
  },
  {
   "cell_type": "markdown",
   "id": "903ac9bf-dbcb-4192-bef4-52971cd92fa7",
   "metadata": {},
   "source": [
    "5.In C:\\bacon\\eggs\\spam.txt, which part is the dir name, and which part is the base name?\n",
    "ans:\n",
    "dir name:C:\\bacon\\eggs\n",
    "base name: spam.txt"
   ]
  },
  {
   "cell_type": "markdown",
   "id": "10fce235-924b-440f-a2f5-ad78268c5c45",
   "metadata": {},
   "source": [
    "6.What are the three “mode” arguments that can be passed to the open() function?\n",
    "ans: read('r'),write('w') and append('a') mode are passed to open() function."
   ]
  },
  {
   "cell_type": "markdown",
   "id": "97e78215-fcf8-4f2c-9a8b-4865bdc261e3",
   "metadata": {},
   "source": [
    "7.What happens if an existing file is opened in write mode?\n",
    "ans: data inside that file is deleted and new values will be written to file."
   ]
  },
  {
   "cell_type": "markdown",
   "id": "0b7f6789-7c35-4cee-8edf-0a99ffd469bf",
   "metadata": {},
   "source": [
    "8.How do you tell the difference between read() and readlines()?\n",
    "ans: read() takes whole file value for the reading(string), while readlines() read line by line value of the file(list of strings)."
   ]
  },
  {
   "cell_type": "markdown",
   "id": "2e3097f2-3aec-4a21-b3cd-7a33b55464f0",
   "metadata": {},
   "source": [
    "9.What data structure does a shelf value resemble?\n",
    "dictionary"
   ]
  }
 ],
 "metadata": {
  "kernelspec": {
   "display_name": "Python 3 (ipykernel)",
   "language": "python",
   "name": "python3"
  },
  "language_info": {
   "codemirror_mode": {
    "name": "ipython",
    "version": 3
   },
   "file_extension": ".py",
   "mimetype": "text/x-python",
   "name": "python",
   "nbconvert_exporter": "python",
   "pygments_lexer": "ipython3",
   "version": "3.9.12"
  }
 },
 "nbformat": 4,
 "nbformat_minor": 5
}
