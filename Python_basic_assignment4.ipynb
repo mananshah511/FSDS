{
 "cells": [
  {
   "cell_type": "markdown",
   "id": "ae75ca72-f619-4e73-bad0-ac11cdf5e520",
   "metadata": {},
   "source": [
    "1.What exactly is []?\n",
    "Its is used to initiate an empty list"
   ]
  },
  {
   "cell_type": "markdown",
   "id": "b6256bdc-49c4-4501-8fcd-4f0b6e7eae8f",
   "metadata": {},
   "source": [
    "2.In a list of values stored in a variable called spam, how would you assign the value 'hello' as the third value? (Assume [2, 4, 6, 8, 10] are in spam.)\n",
    "spam.insert(3,\"hello\")   (assuming at a 3rd index)"
   ]
  },
  {
   "cell_type": "markdown",
   "id": "a801a0c6-5638-4e2e-bc70-734d88665cef",
   "metadata": {},
   "source": [
    "# Let's pretend the spam includes the list ['a', 'b', 'c', 'd'] for the next three queries."
   ]
  },
  {
   "cell_type": "markdown",
   "id": "a698a3f1-0d52-4545-b6dd-9bd0ad482c4c",
   "metadata": {},
   "source": [
    "3.What is the value of spam[int(int('3' * 2) / 11)]?\n",
    "spam[3] which is 'd'"
   ]
  },
  {
   "cell_type": "markdown",
   "id": "9a90c130-2369-480d-a207-15889d3b2f26",
   "metadata": {},
   "source": [
    "4.What is the value of spam[-1]?\n",
    "spam[-1]='d'"
   ]
  },
  {
   "cell_type": "markdown",
   "id": "f9787805-aa2a-4cd2-bdbd-67e365b2e8bc",
   "metadata": {},
   "source": [
    "5.What is the value of spam[:2]?\n",
    "spam[:2]=['a' , 'b']"
   ]
  },
  {
   "cell_type": "markdown",
   "id": "2668e473-e0bc-4460-8018-c3ba559fdec4",
   "metadata": {},
   "source": [
    "# Let's pretend bacon has the list [3.14, 'cat,' 11, 'cat,' True] for the next three questions."
   ]
  },
  {
   "cell_type": "markdown",
   "id": "e884f9f5-a269-4ae1-86b4-b01cfceb0b4a",
   "metadata": {},
   "source": [
    "6.What is the value of bacon.index('cat')?\n",
    "bacon.index('cat')=1"
   ]
  },
  {
   "cell_type": "markdown",
   "id": "679a0309-60ff-4715-b910-19324d243d7d",
   "metadata": {},
   "source": [
    "7.How does bacon.append(99) change the look of the list value in bacon?\n",
    "new list will be [3.14, 'cat', 11, 'cat', 'True', 99]"
   ]
  },
  {
   "cell_type": "markdown",
   "id": "a8f71d7d-7476-4da6-b720-563209750a23",
   "metadata": {},
   "source": [
    "8.How does bacon.remove('cat') change the look of the list in bacon?\n",
    "[3.14, 11, 'cat', True, 99]"
   ]
  },
  {
   "cell_type": "markdown",
   "id": "fae9f924-8a37-4345-9a7e-8d066e06794d",
   "metadata": {},
   "source": [
    "9.What are the list concatenation and list replication operators?\n",
    "list concatenation operator is + which concate two list\n",
    "list replication operator is * which replicate list n times"
   ]
  },
  {
   "cell_type": "markdown",
   "id": "56feabe4-9dd0-4252-bbcb-a56c7b6459e2",
   "metadata": {},
   "source": [
    "10.What is difference between the list methods append() and insert()?\n",
    "append add element at the end of the list\n",
    "insert add element at index which we have mentioned"
   ]
  },
  {
   "cell_type": "markdown",
   "id": "2125f083-b245-49b5-976a-7ebd3b578841",
   "metadata": {},
   "source": [
    "11.What are the two methods for removing items from a list?\n",
    "remove()\n",
    "pop()"
   ]
  },
  {
   "cell_type": "markdown",
   "id": "f08ad346-8abe-4d30-92bb-feb3a5517224",
   "metadata": {},
   "source": [
    "12.Describe how list values and string values are identical.\n",
    "Both are sequence type element and both are accessed via index of particular position."
   ]
  },
  {
   "cell_type": "markdown",
   "id": "1eb9433b-4ae9-4e57-83df-48b7878b33f2",
   "metadata": {},
   "source": [
    "13.What's the difference between tuples and lists?\n",
    "tuples are immutable while lists are mutable that is main difference between both.\n",
    "list notation is [] , while tuple notation is ()"
   ]
  },
  {
   "cell_type": "markdown",
   "id": "6ba4aa39-5d0c-4c80-99df-22d67d861e9d",
   "metadata": {},
   "source": [
    "14.How do you type a tuple value that only contains the integer 42?\n",
    "t=(42,)"
   ]
  },
  {
   "cell_type": "markdown",
   "id": "a34b7616-a227-4bd6-a09e-65f791a31f98",
   "metadata": {},
   "source": [
    "15.How do you get a list value's tuple form? How do you get a tuple value's list form?\n",
    "lets say we have a tuple t so we can get list form by list(t).\n",
    "lets say we have a list l so we can get tuple form by tuple(l)"
   ]
  },
  {
   "cell_type": "markdown",
   "id": "f4d5d205-a9d1-4b60-b78a-b703fa8d7ac0",
   "metadata": {},
   "source": [
    "16.Variables that \"contain\" list values are not necessarily lists themselves. Instead, what do they contain?\n",
    "Reference to the list values."
   ]
  },
  {
   "cell_type": "markdown",
   "id": "4fd77389-70fd-4cf9-8eba-22688fbdd8c7",
   "metadata": {},
   "source": [
    "17.How do you distinguish between copy.copy() and copy.deepcopy()?\n",
    "copy.copy() is shallow copy, so after copying both are poinitng to same location, change in one location will reflect to other too.\n",
    "\n",
    "copy.deepcopy() is deep copy, so after copying new object is created, both works individual. Changes in one part does not reflect to others."
   ]
  },
  {
   "cell_type": "code",
   "execution_count": null,
   "id": "45a19d74-4535-4ca5-bba3-4cb3f3241dea",
   "metadata": {},
   "outputs": [],
   "source": []
  }
 ],
 "metadata": {
  "kernelspec": {
   "display_name": "Python 3 (ipykernel)",
   "language": "python",
   "name": "python3"
  },
  "language_info": {
   "codemirror_mode": {
    "name": "ipython",
    "version": 3
   },
   "file_extension": ".py",
   "mimetype": "text/x-python",
   "name": "python",
   "nbconvert_exporter": "python",
   "pygments_lexer": "ipython3",
   "version": "3.9.12"
  }
 },
 "nbformat": 4,
 "nbformat_minor": 5
}
