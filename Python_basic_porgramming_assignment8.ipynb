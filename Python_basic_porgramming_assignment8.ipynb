{
 "cells": [
  {
   "cell_type": "markdown",
   "id": "67d0881a-aa6e-407c-acc3-cb2dc24fe0cd",
   "metadata": {},
   "source": [
    "# 1.Write a Python Program to Add Two Matrices?"
   ]
  },
  {
   "cell_type": "code",
   "execution_count": 19,
   "id": "6e8f3508-4774-4c12-80bd-b7625cffb707",
   "metadata": {},
   "outputs": [
    {
     "name": "stdout",
     "output_type": "stream",
     "text": [
      "sum: [[6 8]\n",
      " [4 7]]\n"
     ]
    }
   ],
   "source": [
    "import numpy as np\n",
    "X=np.array([[1,2],[3,5]])\n",
    "Y=np.array([[5,6],[1,2]])\n",
    "print(\"sum:\",np.add(X,Y))"
   ]
  },
  {
   "cell_type": "markdown",
   "id": "766d4359-9682-48af-a6e3-7ec8c7495db6",
   "metadata": {},
   "source": [
    "# 2.Write a Python Program to Multiply Two Matrices?"
   ]
  },
  {
   "cell_type": "code",
   "execution_count": 22,
   "id": "a86ce940-b244-4bcf-91b7-bce514668be6",
   "metadata": {},
   "outputs": [
    {
     "data": {
      "text/plain": [
       "array([[ 7, 10],\n",
       "       [20, 28]])"
      ]
     },
     "execution_count": 22,
     "metadata": {},
     "output_type": "execute_result"
    }
   ],
   "source": [
    "import numpy as np\n",
    "X=np.array([[1,2],[3,5]])\n",
    "Y=np.array([[5,6],[1,2]])\n",
    "np.matmul(X,Y)"
   ]
  },
  {
   "cell_type": "markdown",
   "id": "ae2adadc-de5e-4202-9726-111ee7aa1ad8",
   "metadata": {},
   "source": [
    "# 3.Write a Python Program to Transpose a Matrix?"
   ]
  },
  {
   "cell_type": "code",
   "execution_count": 20,
   "id": "cb14f016-7944-453c-b1dc-e8622225bc1b",
   "metadata": {},
   "outputs": [
    {
     "data": {
      "text/plain": [
       "array([[1, 3],\n",
       "       [2, 5]])"
      ]
     },
     "execution_count": 20,
     "metadata": {},
     "output_type": "execute_result"
    }
   ],
   "source": [
    "import numpy as np\n",
    "X=np.array([[1,2],[3,5]])\n",
    "X.transpose()"
   ]
  },
  {
   "cell_type": "code",
   "execution_count": 15,
   "id": "6ca0fd53-f09d-466f-8399-907338f39fca",
   "metadata": {},
   "outputs": [
    {
     "data": {
      "text/plain": [
       "[0, 0, 0]"
      ]
     },
     "execution_count": 15,
     "metadata": {},
     "output_type": "execute_result"
    }
   ],
   "source": [
    "temp_list"
   ]
  },
  {
   "cell_type": "markdown",
   "id": "7186e628-421a-4c4d-bf6a-3ff0c90ddec7",
   "metadata": {},
   "source": [
    "# 4.Write a Python Program to Sort Words in Alphabetic Order?"
   ]
  },
  {
   "cell_type": "code",
   "execution_count": 2,
   "id": "793c5a9c-4ca4-41ad-9164-d98b38c5312d",
   "metadata": {},
   "outputs": [
    {
     "name": "stdin",
     "output_type": "stream",
     "text": [
      "Enter a string hello how are you? how is your day\n"
     ]
    },
    {
     "name": "stdout",
     "output_type": "stream",
     "text": [
      "sorted words are:\n",
      "are\n",
      "day\n",
      "hello\n",
      "how\n",
      "how\n",
      "is\n",
      "you?\n",
      "your\n"
     ]
    }
   ],
   "source": [
    "list_x=list(str(input(\"Enter a string\")).split(\" \"))\n",
    "list_x.sort()\n",
    "print(\"sorted words are:\")\n",
    "for i in range(len(list_x)):\n",
    "    print(list_x[i])"
   ]
  },
  {
   "cell_type": "markdown",
   "id": "d3b83d27-8664-48e2-ba03-a2a6b6b51510",
   "metadata": {},
   "source": [
    "# 5.Write a Python Program to Remove Punctuation From a String?"
   ]
  },
  {
   "cell_type": "code",
   "execution_count": 11,
   "id": "6c0ef3ba-11f0-404a-bf11-cf432ce7b755",
   "metadata": {},
   "outputs": [
    {
     "name": "stdin",
     "output_type": "stream",
     "text": [
      "Enter a string hell0,how are you and your day?\n"
     ]
    },
    {
     "name": "stdout",
     "output_type": "stream",
     "text": [
      "string after removing punctuation hell0how are you and your day\n"
     ]
    }
   ],
   "source": [
    "import string\n",
    "pun=string.punctuation\n",
    "str_x=str(input(\"Enter a string\"))\n",
    "x=[i for i in str_x if i not in pun]\n",
    "print(\"string after removing punctuation\",\"\".join(x))"
   ]
  },
  {
   "cell_type": "code",
   "execution_count": null,
   "id": "44540164-5221-4357-8b9c-2d108538487b",
   "metadata": {},
   "outputs": [],
   "source": []
  }
 ],
 "metadata": {
  "kernelspec": {
   "display_name": "Python 3 (ipykernel)",
   "language": "python",
   "name": "python3"
  },
  "language_info": {
   "codemirror_mode": {
    "name": "ipython",
    "version": 3
   },
   "file_extension": ".py",
   "mimetype": "text/x-python",
   "name": "python",
   "nbconvert_exporter": "python",
   "pygments_lexer": "ipython3",
   "version": "3.9.12"
  }
 },
 "nbformat": 4,
 "nbformat_minor": 5
}
