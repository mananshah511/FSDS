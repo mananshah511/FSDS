{
 "cells": [
  {
   "cell_type": "markdown",
   "id": "cec63cf1-e916-4dbf-acc9-308af0c04520",
   "metadata": {},
   "source": [
    "# 1.Write a Python Program to Display Fibonacci Sequence Using Recursion?"
   ]
  },
  {
   "cell_type": "code",
   "execution_count": 11,
   "id": "510c46a4-4324-4dfe-96a5-44866d9875fa",
   "metadata": {},
   "outputs": [],
   "source": [
    "def fibonacci(int_x):\n",
    "    if int_x==1:\n",
    "        return 1\n",
    "    if int_x==0:\n",
    "        return 0\n",
    "    else:\n",
    "        return fibonacci(int_x-2)+fibonacci(int_x-1)"
   ]
  },
  {
   "cell_type": "code",
   "execution_count": 18,
   "id": "71d7813b-b5a3-4840-8849-8106e0cb0615",
   "metadata": {},
   "outputs": [
    {
     "name": "stdin",
     "output_type": "stream",
     "text": [
      "Please enter a number 10\n"
     ]
    },
    {
     "name": "stdout",
     "output_type": "stream",
     "text": [
      "0 1 1 2 3 5 8 13 21 34 "
     ]
    }
   ],
   "source": [
    "Num=int(input(\"Please enter a number\"))\n",
    "if Num<0:\n",
    "    print(\"please enter postive number\")\n",
    "else:\n",
    "    for i in range(Num):\n",
    "        print(fibonacci(i),end=' ')"
   ]
  },
  {
   "cell_type": "markdown",
   "id": "e81b6b60-346a-446f-8a33-85720baa0bb0",
   "metadata": {},
   "source": [
    "# 2.Write a Python Program to Find Factorial of Number Using Recursion?"
   ]
  },
  {
   "cell_type": "code",
   "execution_count": 19,
   "id": "618a5aa0-c0e2-4a7a-8d2b-cd20c07b5db6",
   "metadata": {},
   "outputs": [],
   "source": [
    "def factorial(int_x):\n",
    "    if int_x==1:\n",
    "        return 1\n",
    "    elif int_x==0:\n",
    "        return 0\n",
    "    else:\n",
    "        return int_x*factorial(int_x-1)\n",
    "        "
   ]
  },
  {
   "cell_type": "code",
   "execution_count": 30,
   "id": "7dbc3921-12a4-427d-9b68-98ff9a0ead0b",
   "metadata": {},
   "outputs": [
    {
     "name": "stdin",
     "output_type": "stream",
     "text": [
      "please enter a number 10\n"
     ]
    },
    {
     "name": "stdout",
     "output_type": "stream",
     "text": [
      "3628800\n"
     ]
    }
   ],
   "source": [
    "Num=int(input(\"please enter a number\"))\n",
    "if Num<0:\n",
    "    print(\"please enter a postive number\")\n",
    "else:\n",
    "    print(factorial(Num))"
   ]
  },
  {
   "cell_type": "markdown",
   "id": "7599fefb-4788-4b53-95ce-2ea63dd00d07",
   "metadata": {},
   "source": [
    "# 3.Write a Python Program to calculate your Body Mass Index?"
   ]
  },
  {
   "cell_type": "code",
   "execution_count": 34,
   "id": "77f744d6-fb97-4086-b9b5-773613b9d0e7",
   "metadata": {},
   "outputs": [
    {
     "name": "stdin",
     "output_type": "stream",
     "text": [
      "Please enetr your weight in kilogram 60\n",
      "Please enter your height in meter 1.52\n"
     ]
    },
    {
     "name": "stdout",
     "output_type": "stream",
     "text": [
      "Your BMI is:25.969529085872576\n"
     ]
    }
   ],
   "source": [
    "W=float(input(\"Please enetr your weight in kilogram\"))\n",
    "H=float(input(\"Please enter your height in meter\"))\n",
    "BMI=(W/(H*H))\n",
    "print(\"Your BMI is:{}\".format(BMI))"
   ]
  },
  {
   "cell_type": "markdown",
   "id": "20e70ad6-7048-45e2-afd3-e785da007715",
   "metadata": {},
   "source": [
    "# 4.Write a Python Program to calculate the natural logarithm of any number?"
   ]
  },
  {
   "cell_type": "code",
   "execution_count": 44,
   "id": "a0204b1b-d59f-4d70-a464-b17bd90de71b",
   "metadata": {},
   "outputs": [
    {
     "name": "stdin",
     "output_type": "stream",
     "text": [
      "Please eneter a number 10\n"
     ]
    },
    {
     "name": "stdout",
     "output_type": "stream",
     "text": [
      "Natural log is:2.302585092994046\n"
     ]
    }
   ],
   "source": [
    "import math\n",
    "Num=float(input(\"Please eneter a number\"))\n",
    "if Num<=0:\n",
    "    print(\"Please enter a positive number\")\n",
    "else:\n",
    "    print(\"Natural log is:{}\".format(math.log(Num)))"
   ]
  },
  {
   "cell_type": "markdown",
   "id": "69cfc45e-ca4f-499a-b63b-38b643521820",
   "metadata": {},
   "source": [
    "# 5.Write a Python Program for cube sum of first n natural numbers?"
   ]
  },
  {
   "cell_type": "code",
   "execution_count": null,
   "id": "b3750bad-afa2-44e8-bed3-dbb907bfa9ed",
   "metadata": {},
   "outputs": [],
   "source": [
    "Num=int(input(\"Please enter a number\"))\n",
    "ans=((Num*(Num+1))/2)**2\n",
    "print(\"\")"
   ]
  }
 ],
 "metadata": {
  "kernelspec": {
   "display_name": "Python 3 (ipykernel)",
   "language": "python",
   "name": "python3"
  },
  "language_info": {
   "codemirror_mode": {
    "name": "ipython",
    "version": 3
   },
   "file_extension": ".py",
   "mimetype": "text/x-python",
   "name": "python",
   "nbconvert_exporter": "python",
   "pygments_lexer": "ipython3",
   "version": "3.9.12"
  }
 },
 "nbformat": 4,
 "nbformat_minor": 5
}
