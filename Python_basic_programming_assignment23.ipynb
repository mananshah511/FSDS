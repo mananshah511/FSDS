{
 "cells": [
  {
   "cell_type": "markdown",
   "id": "2bd59d37-903e-43c0-b868-559a209ea9fe",
   "metadata": {},
   "source": [
    "# Question 1\n",
    "Create a function that takes a number as an argument and returns True or False depending on whether the number is symmetrical or not. A number is symmetrical when it is the same as its reverse.\n"
   ]
  },
  {
   "cell_type": "code",
   "execution_count": 1,
   "id": "77cdae43-c2ce-4263-821b-12a16d6d58fd",
   "metadata": {},
   "outputs": [],
   "source": [
    "def is_symmetrical(int_x):\n",
    "    if type(int_x)!=int:\n",
    "        return \"Not a number\"\n",
    "    list_x=list(str(int_x))\n",
    "    list_y=list_x[::-1]\n",
    "    return list_x==list_y"
   ]
  },
  {
   "cell_type": "code",
   "execution_count": 2,
   "id": "54fabbd8-7a25-49f9-890e-152c0237e68a",
   "metadata": {},
   "outputs": [
    {
     "data": {
      "text/plain": [
       "True"
      ]
     },
     "execution_count": 2,
     "metadata": {},
     "output_type": "execute_result"
    }
   ],
   "source": [
    "is_symmetrical(7227)"
   ]
  },
  {
   "cell_type": "code",
   "execution_count": 3,
   "id": "ad65773d-097c-45a8-b79f-ccb58cdf2447",
   "metadata": {},
   "outputs": [
    {
     "data": {
      "text/plain": [
       "False"
      ]
     },
     "execution_count": 3,
     "metadata": {},
     "output_type": "execute_result"
    }
   ],
   "source": [
    "is_symmetrical(12567)"
   ]
  },
  {
   "cell_type": "code",
   "execution_count": 4,
   "id": "d0129373-c9fb-4eee-b168-4473603dfe0c",
   "metadata": {},
   "outputs": [
    {
     "data": {
      "text/plain": [
       "True"
      ]
     },
     "execution_count": 4,
     "metadata": {},
     "output_type": "execute_result"
    }
   ],
   "source": [
    "is_symmetrical(44444444)"
   ]
  },
  {
   "cell_type": "code",
   "execution_count": 5,
   "id": "53856eae-02eb-4bfb-89bb-60e39ee114c1",
   "metadata": {},
   "outputs": [
    {
     "data": {
      "text/plain": [
       "False"
      ]
     },
     "execution_count": 5,
     "metadata": {},
     "output_type": "execute_result"
    }
   ],
   "source": [
    "is_symmetrical(9939) "
   ]
  },
  {
   "cell_type": "code",
   "execution_count": 6,
   "id": "89e4060c-42c9-4400-9062-2bd495f916e1",
   "metadata": {},
   "outputs": [
    {
     "data": {
      "text/plain": [
       "True"
      ]
     },
     "execution_count": 6,
     "metadata": {},
     "output_type": "execute_result"
    }
   ],
   "source": [
    "is_symmetrical(1112111)"
   ]
  },
  {
   "cell_type": "markdown",
   "id": "8eaf4976-ad8f-4b4a-9c26-7d17b65298da",
   "metadata": {},
   "source": [
    "# Question 2\n",
    "Given a string of numbers separated by a comma and space, return the product of the numbers.\n"
   ]
  },
  {
   "cell_type": "code",
   "execution_count": 7,
   "id": "fc6fd55b-184d-44fa-aff8-d306678aa03b",
   "metadata": {},
   "outputs": [],
   "source": [
    "def multiply_nums(str_x):\n",
    "    if type(str_x)!=str:\n",
    "        return \"Not a valid string\"\n",
    "    str_y=str_x.split(\", \")\n",
    "    ans=1\n",
    "    for i in range(len(str_y)):\n",
    "        ans=ans*int(str_y[i])\n",
    "    return ans"
   ]
  },
  {
   "cell_type": "code",
   "execution_count": 8,
   "id": "73af5ad2-49ae-4bfd-a111-3f2b1b0e81e4",
   "metadata": {},
   "outputs": [
    {
     "data": {
      "text/plain": [
       "6"
      ]
     },
     "execution_count": 8,
     "metadata": {},
     "output_type": "execute_result"
    }
   ],
   "source": [
    "multiply_nums(\"2, 3\")"
   ]
  },
  {
   "cell_type": "code",
   "execution_count": 9,
   "id": "9e8c8994-2d70-4556-bc93-4d1bb5d944a7",
   "metadata": {},
   "outputs": [
    {
     "data": {
      "text/plain": [
       "24"
      ]
     },
     "execution_count": 9,
     "metadata": {},
     "output_type": "execute_result"
    }
   ],
   "source": [
    "multiply_nums(\"1, 2, 3, 4\")"
   ]
  },
  {
   "cell_type": "code",
   "execution_count": 10,
   "id": "2af29e33-d17f-420b-8f8f-7d2d2d1a65d4",
   "metadata": {},
   "outputs": [
    {
     "data": {
      "text/plain": [
       "0"
      ]
     },
     "execution_count": 10,
     "metadata": {},
     "output_type": "execute_result"
    }
   ],
   "source": [
    "multiply_nums(\"54, 75, 453, 0\") "
   ]
  },
  {
   "cell_type": "code",
   "execution_count": 11,
   "id": "a3b49300-a727-412d-a447-bb9553fb1a23",
   "metadata": {},
   "outputs": [
    {
     "data": {
      "text/plain": [
       "-20"
      ]
     },
     "execution_count": 11,
     "metadata": {},
     "output_type": "execute_result"
    }
   ],
   "source": [
    "multiply_nums(\"10, -2\") "
   ]
  },
  {
   "cell_type": "markdown",
   "id": "209c6649-da9f-46e9-a9b2-a0fe0f8b83eb",
   "metadata": {},
   "source": [
    "# Question 3\n",
    "Create a function that squares every digit of a number.\n"
   ]
  },
  {
   "cell_type": "code",
   "execution_count": 14,
   "id": "23431f50-7ea6-472b-91cd-a879cd471673",
   "metadata": {},
   "outputs": [],
   "source": [
    "def square_digits(int_x):\n",
    "    list_x=list(str(int_x))\n",
    "    ans=\"\"\n",
    "    for i in range(len(list_x)):\n",
    "        temp=int(list_x[i])**2\n",
    "        ans=ans+str(temp)\n",
    "    return int(ans)"
   ]
  },
  {
   "cell_type": "code",
   "execution_count": 15,
   "id": "54fd02f1-f900-4c99-a0a5-0a5ab4f80252",
   "metadata": {},
   "outputs": [
    {
     "data": {
      "text/plain": [
       "811181"
      ]
     },
     "execution_count": 15,
     "metadata": {},
     "output_type": "execute_result"
    }
   ],
   "source": [
    "square_digits(9119) "
   ]
  },
  {
   "cell_type": "code",
   "execution_count": 16,
   "id": "7736bb50-6063-413f-9cde-e9c9ca07cd92",
   "metadata": {},
   "outputs": [
    {
     "data": {
      "text/plain": [
       "416649"
      ]
     },
     "execution_count": 16,
     "metadata": {},
     "output_type": "execute_result"
    }
   ],
   "source": [
    "square_digits(2483)"
   ]
  },
  {
   "cell_type": "code",
   "execution_count": 17,
   "id": "de0ff63c-3957-43d5-a26e-089d187fd544",
   "metadata": {},
   "outputs": [
    {
     "data": {
      "text/plain": [
       "9414"
      ]
     },
     "execution_count": 17,
     "metadata": {},
     "output_type": "execute_result"
    }
   ],
   "source": [
    "square_digits(3212)"
   ]
  },
  {
   "cell_type": "markdown",
   "id": "c2225cdf-7e08-48f3-8266-799bb7f23004",
   "metadata": {},
   "source": [
    "# Question 4\n",
    "Create a function that sorts a list and removes all duplicate items from it\n"
   ]
  },
  {
   "cell_type": "code",
   "execution_count": 22,
   "id": "87cadcae-b2fb-4ea5-804c-bf915fc29932",
   "metadata": {},
   "outputs": [],
   "source": [
    "def setify(list_x):\n",
    "    if type(list_x)!=list:\n",
    "        return \"Not a valid\"\n",
    "    if len(list_x)==0:\n",
    "        return list_x\n",
    "    list_x.sort()\n",
    "    set_x=set(list_x)\n",
    "    return set_x"
   ]
  },
  {
   "cell_type": "code",
   "execution_count": 23,
   "id": "790669fd-c2a3-47d5-bb2c-2b5ce305ba0c",
   "metadata": {},
   "outputs": [
    {
     "data": {
      "text/plain": [
       "{1, 3, 5}"
      ]
     },
     "execution_count": 23,
     "metadata": {},
     "output_type": "execute_result"
    }
   ],
   "source": [
    "setify([1, 3, 3, 5, 5])"
   ]
  },
  {
   "cell_type": "code",
   "execution_count": 24,
   "id": "db7aed52-a0c0-468d-9d9b-57c165d9f16f",
   "metadata": {},
   "outputs": [
    {
     "data": {
      "text/plain": [
       "{1, 2, 3}"
      ]
     },
     "execution_count": 24,
     "metadata": {},
     "output_type": "execute_result"
    }
   ],
   "source": [
    "setify([3, 3, 3, 2, 1]) "
   ]
  },
  {
   "cell_type": "code",
   "execution_count": 25,
   "id": "e86ca8ed-c6b3-4e59-803f-4bcf68b37b06",
   "metadata": {},
   "outputs": [
    {
     "data": {
      "text/plain": [
       "{4}"
      ]
     },
     "execution_count": 25,
     "metadata": {},
     "output_type": "execute_result"
    }
   ],
   "source": [
    "setify([4, 4, 4, 4]) "
   ]
  },
  {
   "cell_type": "code",
   "execution_count": 26,
   "id": "fa4e725a-ac72-47bb-8ef5-ea931b97b8eb",
   "metadata": {},
   "outputs": [
    {
     "data": {
      "text/plain": [
       "{5, 7, 8, 9, 10, 15}"
      ]
     },
     "execution_count": 26,
     "metadata": {},
     "output_type": "execute_result"
    }
   ],
   "source": [
    "setify([5, 7, 8, 9, 10, 15]) "
   ]
  },
  {
   "cell_type": "markdown",
   "id": "e633dd9b-591c-44d3-b287-616bc9d0eeda",
   "metadata": {},
   "source": [
    "# Question 5\n",
    "Create a function that returns the mean of all digits.\n"
   ]
  },
  {
   "cell_type": "code",
   "execution_count": 34,
   "id": "0be639e5-c97c-4b0e-94dc-2f06f3e6a0f6",
   "metadata": {},
   "outputs": [],
   "source": [
    "def mean(int_x):\n",
    "    if type(int_x)!=int:\n",
    "        return \"Not a valid input\"\n",
    "    list_x=list(str(int_x))\n",
    "    sum_x=0\n",
    "    for i in range(len(list_x)):\n",
    "        sum_x=sum_x+int(list_x[i])\n",
    "    return int(sum_x/len(list_x))"
   ]
  },
  {
   "cell_type": "code",
   "execution_count": 35,
   "id": "af2bdff9-27d0-4feb-8c2a-afe52846fa6a",
   "metadata": {},
   "outputs": [
    {
     "data": {
      "text/plain": [
       "3"
      ]
     },
     "execution_count": 35,
     "metadata": {},
     "output_type": "execute_result"
    }
   ],
   "source": [
    "mean(42)"
   ]
  },
  {
   "cell_type": "code",
   "execution_count": 36,
   "id": "6524f91f-9b92-46e7-9f50-822733344dd7",
   "metadata": {},
   "outputs": [
    {
     "data": {
      "text/plain": [
       "3"
      ]
     },
     "execution_count": 36,
     "metadata": {},
     "output_type": "execute_result"
    }
   ],
   "source": [
    "mean(12345)"
   ]
  },
  {
   "cell_type": "code",
   "execution_count": 37,
   "id": "754d5472-3476-4b55-b74a-929e9df01e7a",
   "metadata": {},
   "outputs": [
    {
     "data": {
      "text/plain": [
       "6"
      ]
     },
     "execution_count": 37,
     "metadata": {},
     "output_type": "execute_result"
    }
   ],
   "source": [
    "mean(666)"
   ]
  },
  {
   "cell_type": "code",
   "execution_count": null,
   "id": "fc5fe18f-d2c0-432d-8fe8-589776fa18e8",
   "metadata": {},
   "outputs": [],
   "source": []
  }
 ],
 "metadata": {
  "kernelspec": {
   "display_name": "Python 3 (ipykernel)",
   "language": "python",
   "name": "python3"
  },
  "language_info": {
   "codemirror_mode": {
    "name": "ipython",
    "version": 3
   },
   "file_extension": ".py",
   "mimetype": "text/x-python",
   "name": "python",
   "nbconvert_exporter": "python",
   "pygments_lexer": "ipython3",
   "version": "3.9.12"
  }
 },
 "nbformat": 4,
 "nbformat_minor": 5
}
