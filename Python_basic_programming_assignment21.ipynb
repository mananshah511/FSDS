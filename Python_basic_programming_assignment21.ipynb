{
 "cells": [
  {
   "cell_type": "markdown",
   "id": "c416280e-6bb5-4145-bd3b-372daf298f9e",
   "metadata": {},
   "source": [
    "# Question1\n",
    "Write a function that takes a list and a number as arguments. Add the number to the end of the list, then remove the first element of the list. The function should then return the updated list.\n"
   ]
  },
  {
   "cell_type": "code",
   "execution_count": 23,
   "id": "adce08bf-29b9-4d3f-a4d8-da9e1a156542",
   "metadata": {},
   "outputs": [],
   "source": [
    "def next_in_line(list_x,num_x):\n",
    "    if(type(list_x)!=list):\n",
    "        return \"first argument is not valid\"\n",
    "    if(type(num_x)!=int):\n",
    "        return \"second argument is not valid\"\n",
    "    if(len(list_x)==0):\n",
    "        return \"No list has been selected\"\n",
    "    list_x.pop(0)\n",
    "    list_x.append(num_x)\n",
    "    return list_x"
   ]
  },
  {
   "cell_type": "code",
   "execution_count": 26,
   "id": "b8672b1c-4944-4dbf-8d16-af21b1c97106",
   "metadata": {},
   "outputs": [
    {
     "data": {
      "text/plain": [
       "[6, 7, 8, 9, 1]"
      ]
     },
     "execution_count": 26,
     "metadata": {},
     "output_type": "execute_result"
    }
   ],
   "source": [
    "next_in_line([5, 6, 7, 8, 9], 1)"
   ]
  },
  {
   "cell_type": "code",
   "execution_count": 27,
   "id": "6ae0442a-a694-489b-939c-d0ebd4bc9a40",
   "metadata": {},
   "outputs": [
    {
     "data": {
      "text/plain": [
       "[6, 3, 23, 17, 10]"
      ]
     },
     "execution_count": 27,
     "metadata": {},
     "output_type": "execute_result"
    }
   ],
   "source": [
    "next_in_line([7, 6, 3, 23, 17], 10) "
   ]
  },
  {
   "cell_type": "code",
   "execution_count": 28,
   "id": "027a74fc-0582-4a22-ac2b-028946a9e019",
   "metadata": {},
   "outputs": [
    {
     "data": {
      "text/plain": [
       "[10, 20, 42, 6]"
      ]
     },
     "execution_count": 28,
     "metadata": {},
     "output_type": "execute_result"
    }
   ],
   "source": [
    "next_in_line([1, 10, 20, 42 ], 6) "
   ]
  },
  {
   "cell_type": "code",
   "execution_count": 30,
   "id": "83646557-5b59-43bd-bbaf-dbcc08b31087",
   "metadata": {},
   "outputs": [
    {
     "data": {
      "text/plain": [
       "'No list has been selected'"
      ]
     },
     "execution_count": 30,
     "metadata": {},
     "output_type": "execute_result"
    }
   ],
   "source": [
    "next_in_line([], 6)"
   ]
  },
  {
   "cell_type": "markdown",
   "id": "1e2d6e80-82aa-4979-9bd0-82c2951b4ecd",
   "metadata": {},
   "source": [
    "# Question2\n",
    "Create the function that takes a list of dictionaries and returns the sum of people's budgets\n"
   ]
  },
  {
   "cell_type": "code",
   "execution_count": 54,
   "id": "db8b6651-2d43-4b27-b36d-5d46348777fd",
   "metadata": {},
   "outputs": [],
   "source": [
    "def get_budgets(list_x):\n",
    "    if(type(list_x)!=list):\n",
    "        return \"first argument is not valid\"\n",
    "    if(len(list_x)==0):\n",
    "        return \"No list has been selected\"\n",
    "    ans=0\n",
    "    #print(len(list_x))\n",
    "    for i in range(len(list_x)):\n",
    "        try:\n",
    "            #print(list_x[i][\"budget\"])\n",
    "            ans=ans+list_x[i][\"budget\"]\n",
    "        except:\n",
    "            continue\n",
    "    return ans"
   ]
  },
  {
   "cell_type": "code",
   "execution_count": 55,
   "id": "30fa3ed8-7f5a-4639-b86e-2924154fa543",
   "metadata": {},
   "outputs": [
    {
     "data": {
      "text/plain": [
       "65700"
      ]
     },
     "execution_count": 55,
     "metadata": {},
     "output_type": "execute_result"
    }
   ],
   "source": [
    "get_budgets([\n",
    "  { \"name\": \"John\", \"age\": 21, \"budget\": 23000 },\n",
    "  { \"name\": \"Steve\",  \"age\": 32, \"budget\": 40000 },\n",
    "  { \"name\": \"Martin\",  \"age\": 16, \"budget\": 2700 }\n",
    "]) \n"
   ]
  },
  {
   "cell_type": "code",
   "execution_count": 57,
   "id": "b9c28de0-5eb6-49cf-948a-8adc5137cdbb",
   "metadata": {},
   "outputs": [
    {
     "data": {
      "text/plain": [
       "65700"
      ]
     },
     "execution_count": 57,
     "metadata": {},
     "output_type": "execute_result"
    }
   ],
   "source": [
    "get_budgets([\n",
    "  { \"name\": \"John\", \"age\": 21, \"budget\": 23000 },\n",
    "  { \"name\": \"Steve\",  \"age\": 32, \"budget\": 40000 },\n",
    "  { \"name\": \"Martin\",  \"age\": 16, \"budget\": 2700 },\n",
    "    { \"name\": \"Martin\",  \"age\": 16}\n",
    "]) \n"
   ]
  },
  {
   "cell_type": "code",
   "execution_count": 58,
   "id": "7af74467-5501-4eac-9b00-96572c6e194e",
   "metadata": {},
   "outputs": [
    {
     "data": {
      "text/plain": [
       "62600"
      ]
     },
     "execution_count": 58,
     "metadata": {},
     "output_type": "execute_result"
    }
   ],
   "source": [
    "get_budgets([\n",
    "  { \"name\": \"John\",  \"age\": 21, \"budget\": 29000 },\n",
    "  { \"name\": \"Steve\",  \"age\": 32, \"budget\": 32000 },\n",
    "  { \"name\": \"Martin\",  \"age\": 16, \"budget\": 1600 }\n",
    "]) \n"
   ]
  },
  {
   "cell_type": "markdown",
   "id": "eeb0568d-288a-4234-829f-fdced51c4afd",
   "metadata": {},
   "source": [
    "# Question3\n",
    "Create a function that takes a string and returns a string with its letters in alphabetical order.\n"
   ]
  },
  {
   "cell_type": "code",
   "execution_count": 73,
   "id": "d7251239-d8f1-4655-94b2-09ef04b1a225",
   "metadata": {},
   "outputs": [],
   "source": [
    "def alphabet_soup(str_x):\n",
    "    if(type(str_x)!=str):\n",
    "        return \"first argument is not valid\"\n",
    "    list_x=list(str_x)\n",
    "    list_x.sort()\n",
    "    ans_x=\"\"\n",
    "    for i in range(len(list_x)):\n",
    "        ans_x=ans_x+list_x[i]\n",
    "    return ans_x"
   ]
  },
  {
   "cell_type": "code",
   "execution_count": 80,
   "id": "13cff8e8-f312-4e8e-ac79-68b661336c6e",
   "metadata": {},
   "outputs": [
    {
     "data": {
      "text/plain": [
       "'ehllo'"
      ]
     },
     "execution_count": 80,
     "metadata": {},
     "output_type": "execute_result"
    }
   ],
   "source": [
    "alphabet_soup(\"hello\")"
   ]
  },
  {
   "cell_type": "code",
   "execution_count": 76,
   "id": "aee3170d-b7e4-4495-ac30-6637b691e174",
   "metadata": {},
   "outputs": [
    {
     "data": {
      "text/plain": [
       "'abdeit'"
      ]
     },
     "execution_count": 76,
     "metadata": {},
     "output_type": "execute_result"
    }
   ],
   "source": [
    "alphabet_soup(\"edabit\")"
   ]
  },
  {
   "cell_type": "code",
   "execution_count": 77,
   "id": "d075d30b-5c4d-45b3-a8ec-b563fde6fee0",
   "metadata": {},
   "outputs": [
    {
     "data": {
      "text/plain": [
       "'acehkr'"
      ]
     },
     "execution_count": 77,
     "metadata": {},
     "output_type": "execute_result"
    }
   ],
   "source": [
    "alphabet_soup(\"hacker\")"
   ]
  },
  {
   "cell_type": "code",
   "execution_count": 78,
   "id": "a87109c8-84aa-4b50-b5a1-f65fa958195a",
   "metadata": {},
   "outputs": [
    {
     "data": {
      "text/plain": [
       "'eegk'"
      ]
     },
     "execution_count": 78,
     "metadata": {},
     "output_type": "execute_result"
    }
   ],
   "source": [
    "alphabet_soup(\"geek\")"
   ]
  },
  {
   "cell_type": "code",
   "execution_count": 79,
   "id": "28c55941-5125-43c6-83cf-a576699f1dd6",
   "metadata": {},
   "outputs": [
    {
     "data": {
      "text/plain": [
       "'aacijprstv'"
      ]
     },
     "execution_count": 79,
     "metadata": {},
     "output_type": "execute_result"
    }
   ],
   "source": [
    "alphabet_soup(\"javascript\")"
   ]
  },
  {
   "cell_type": "code",
   "execution_count": 81,
   "id": "f37c8c5b-9bc2-449c-bd51-1cfdcfece06f",
   "metadata": {},
   "outputs": [
    {
     "data": {
      "text/plain": [
       "' '"
      ]
     },
     "execution_count": 81,
     "metadata": {},
     "output_type": "execute_result"
    }
   ],
   "source": [
    "alphabet_soup(\" \")"
   ]
  },
  {
   "cell_type": "markdown",
   "id": "86f3c38c-1114-4a3c-b582-67c686da8494",
   "metadata": {},
   "source": [
    "# Question4\n",
    "Suppose that you invest $10,000 for 10 years at an interest rate of 6% compounded monthly. What will be the value of your investment at the end of the 10 year period?\n",
    "Create a function that accepts the principal p, the term in years t, the interest rate r, and the number of compounding periods per year n. The function returns the value at the end of term rounded to the nearest cent.\n"
   ]
  },
  {
   "cell_type": "code",
   "execution_count": 89,
   "id": "64a9dab7-6c7b-4262-931f-94666430de1f",
   "metadata": {},
   "outputs": [],
   "source": [
    "def compound_interest(P,t,R,n):\n",
    "    return P*((1+(R/n))**(t*n))"
   ]
  },
  {
   "cell_type": "code",
   "execution_count": 90,
   "id": "0c14d83c-c172-4d2c-be47-ef1c1ea63e2e",
   "metadata": {},
   "outputs": [
    {
     "data": {
      "text/plain": [
       "18193.9673403229"
      ]
     },
     "execution_count": 90,
     "metadata": {},
     "output_type": "execute_result"
    }
   ],
   "source": [
    "compound_interest(10000, 10, 0.06, 12)"
   ]
  },
  {
   "cell_type": "code",
   "execution_count": 91,
   "id": "4d948146-bd2c-4274-b19e-0b12f051f1db",
   "metadata": {},
   "outputs": [
    {
     "data": {
      "text/plain": [
       "105.0"
      ]
     },
     "execution_count": 91,
     "metadata": {},
     "output_type": "execute_result"
    }
   ],
   "source": [
    "compound_interest(100, 1, 0.05, 1)"
   ]
  },
  {
   "cell_type": "markdown",
   "id": "68e350e5-5098-4bf6-bbd1-d4904490c2b3",
   "metadata": {},
   "source": [
    "# Question5\n",
    "Write a function that takes a list of elements and returns only the integers.\n"
   ]
  },
  {
   "cell_type": "code",
   "execution_count": 82,
   "id": "dbb5ddcc-a2ef-4345-9e33-a95f11a842c4",
   "metadata": {},
   "outputs": [],
   "source": [
    "def return_only_integer(list_x):\n",
    "    if(type(list_x)!=list):\n",
    "        return \"first argument is not valid\"\n",
    "    if(len(list_x)==0):\n",
    "        return \"No list has been selected\"\n",
    "    ans_x=[]\n",
    "    for i in range(len(list_x)):\n",
    "        if type(list_x[i])==int:\n",
    "            ans_x.append(list_x[i])\n",
    "    return ans_x"
   ]
  },
  {
   "cell_type": "code",
   "execution_count": 83,
   "id": "b0d1a14a-0924-402a-b30c-35d722c4d063",
   "metadata": {},
   "outputs": [
    {
     "data": {
      "text/plain": [
       "[9, 2, 16]"
      ]
     },
     "execution_count": 83,
     "metadata": {},
     "output_type": "execute_result"
    }
   ],
   "source": [
    "return_only_integer([9, 2, \"space\", \"car\", \"lion\", 16])"
   ]
  },
  {
   "cell_type": "code",
   "execution_count": 84,
   "id": "f9f23507-aa8a-4872-96af-57e01b2622bf",
   "metadata": {},
   "outputs": [
    {
     "data": {
      "text/plain": [
       "[81, 123]"
      ]
     },
     "execution_count": 84,
     "metadata": {},
     "output_type": "execute_result"
    }
   ],
   "source": [
    "return_only_integer([\"hello\", 81, \"basketball\", 123, \"fox\"]) "
   ]
  },
  {
   "cell_type": "code",
   "execution_count": 86,
   "id": "0311849e-f933-43dd-b693-d313e4338f3b",
   "metadata": {},
   "outputs": [
    {
     "data": {
      "text/plain": [
       "[10, 56, 20, 3]"
      ]
     },
     "execution_count": 86,
     "metadata": {},
     "output_type": "execute_result"
    }
   ],
   "source": [
    "return_only_integer([10, \"121\", 56, 20, \"car\", 3, \"lion\"])"
   ]
  },
  {
   "cell_type": "code",
   "execution_count": 88,
   "id": "afe9d75c-f0b6-4aa8-9444-3c096b30f5e3",
   "metadata": {},
   "outputs": [
    {
     "data": {
      "text/plain": [
       "[1]"
      ]
     },
     "execution_count": 88,
     "metadata": {},
     "output_type": "execute_result"
    }
   ],
   "source": [
    "return_only_integer([\"String\",  True,  3.3,  1])"
   ]
  },
  {
   "cell_type": "code",
   "execution_count": null,
   "id": "1fe476d1-3f4a-47d2-9369-f71da05f445c",
   "metadata": {},
   "outputs": [],
   "source": []
  }
 ],
 "metadata": {
  "kernelspec": {
   "display_name": "Python 3 (ipykernel)",
   "language": "python",
   "name": "python3"
  },
  "language_info": {
   "codemirror_mode": {
    "name": "ipython",
    "version": 3
   },
   "file_extension": ".py",
   "mimetype": "text/x-python",
   "name": "python",
   "nbconvert_exporter": "python",
   "pygments_lexer": "ipython3",
   "version": "3.9.12"
  }
 },
 "nbformat": 4,
 "nbformat_minor": 5
}
