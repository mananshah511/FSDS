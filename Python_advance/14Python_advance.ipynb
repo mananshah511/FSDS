{
 "cells": [
  {
   "cell_type": "markdown",
   "id": "ab7c368e-0dad-41e5-9897-eb084fa4902c",
   "metadata": {},
   "source": [
    "Q1. Is an assignment operator like += only for show? Is it possible that it would lead to faster results at the runtime?"
   ]
  },
  {
   "cell_type": "code",
   "execution_count": 2,
   "id": "5041fc35-0cd7-42c4-bb1b-45101a07e8a2",
   "metadata": {},
   "outputs": [
    {
     "name": "stdout",
     "output_type": "stream",
     "text": [
      "38.72819744516164\n",
      "40.05134562635794\n"
     ]
    }
   ],
   "source": [
    "import timeit\n",
    "t=timeit.Timer(\"a += 1\", \"a = 0\")\n",
    "print(t.timeit(number=1000000000))\n",
    "t=timeit.Timer(\"a = a + 1\", \"a = 0\")\n",
    "print(t.timeit(number=1000000000))"
   ]
  },
  {
   "cell_type": "raw",
   "id": "38b3a7de-e0be-458f-8393-c039d58ec4cc",
   "metadata": {},
   "source": [
    "I have experimented with different numbers, for the very large number we can say += is a little faster, but the different is very negligible."
   ]
  },
  {
   "cell_type": "markdown",
   "id": "f3940347-8ccc-4293-b1b9-2558437ace64",
   "metadata": {},
   "source": [
    "Q2. What is the smallest number of statements you'd have to write in most programming languages to replace the Python expression a, b = a + b, a?"
   ]
  },
  {
   "cell_type": "raw",
   "id": "3a6e38f2-e680-41c7-8be8-c3e792e5cef9",
   "metadata": {},
   "source": [
    "In other programming languages or python we have to write three statements\n",
    "temp=a\n",
    "a=a+b\n",
    "b=temp"
   ]
  },
  {
   "cell_type": "markdown",
   "id": "33118c87-d5db-415c-9e42-4f43a427f53a",
   "metadata": {},
   "source": [
    "Q3. In Python, what is the most effective way to set a list of 100 integers to 0?"
   ]
  },
  {
   "cell_type": "code",
   "execution_count": 12,
   "id": "475b733d-c518-4f9c-bf2b-000dcef15cdf",
   "metadata": {},
   "outputs": [],
   "source": [
    "lst=[0]*100 #most effective way"
   ]
  },
  {
   "cell_type": "markdown",
   "id": "eb8f5d60-0139-443d-878d-8cbaf3cd6391",
   "metadata": {},
   "source": [
    "Q4. What is the most effective way to initialise a list of 99 integers that repeats the sequence 1, 2, 3? S If necessary, show step-by-step instructions on how to accomplish this."
   ]
  },
  {
   "cell_type": "code",
   "execution_count": 15,
   "id": "25cb83b9-b0d0-4706-aa11-bcea496b3cca",
   "metadata": {},
   "outputs": [],
   "source": [
    "lst=[1,2,3]*33      #most effective way"
   ]
  },
  {
   "cell_type": "markdown",
   "id": "076b5915-0345-4621-8fb0-9173b7adcc25",
   "metadata": {},
   "source": [
    "Q5. If you're using IDLE to run a Python application, explain how to print a multidimensional list as efficiently?"
   ]
  },
  {
   "cell_type": "code",
   "execution_count": 16,
   "id": "3b3be1b4-e5d6-4c6e-a658-9c64166d28fb",
   "metadata": {},
   "outputs": [
    {
     "name": "stdout",
     "output_type": "stream",
     "text": [
      "1\n",
      "2\n",
      "3\n",
      "4\n"
     ]
    }
   ],
   "source": [
    "lst=[[1,2],[3,4]]\n",
    "for i in range(len(lst)):\n",
    "    for j in range(len(lst[i])):\n",
    "        print(lst[i][j])"
   ]
  },
  {
   "cell_type": "markdown",
   "id": "3c19763e-5724-438d-a352-96767d872265",
   "metadata": {},
   "source": [
    "Q6. Is it possible to use list comprehension with a string? If so, how can you go about doing it?"
   ]
  },
  {
   "cell_type": "code",
   "execution_count": 19,
   "id": "109e17ad-c619-441a-84d9-622f62172a05",
   "metadata": {},
   "outputs": [
    {
     "data": {
      "text/plain": [
       "['H', 'e', 'l', 'l', 'o']"
      ]
     },
     "execution_count": 19,
     "metadata": {},
     "output_type": "execute_result"
    }
   ],
   "source": [
    "#yes\n",
    "x=[i for i in 'Hello']\n",
    "x"
   ]
  },
  {
   "cell_type": "markdown",
   "id": "07487dde-c0ed-4250-ba68-bbcf8cc7c9bf",
   "metadata": {},
   "source": [
    "Q7. From the command line, how do you get support with a user-written Python programme? Is this possible from inside IDLE?"
   ]
  },
  {
   "cell_type": "raw",
   "id": "3c5393d4-48cc-423d-bca7-b40c2a2fe2f4",
   "metadata": {},
   "source": [
    "From the command line, we can run and get support from a user-written python program (the location should be the same). Yes, it's possible to run inside IDLE."
   ]
  },
  {
   "cell_type": "markdown",
   "id": "5d644432-f4a6-4437-8464-a158b81402f9",
   "metadata": {},
   "source": [
    "Q8. Functions are said to be “first-class objects” in Python but not in most other languages, such as C++ or Java. What can you do in Python with a function (callable object) that you can't do in C or C++?"
   ]
  },
  {
   "cell_type": "raw",
   "id": "376f199c-0fa9-4608-8e6e-0f37a7d34a4d",
   "metadata": {},
   "source": [
    "The function is an instance of an object.\n",
    "Store the function as a variable.\n",
    "Pass function into another function.\n",
    "Return function from a function."
   ]
  },
  {
   "cell_type": "markdown",
   "id": "a14eb62e-5535-437a-923c-14eff55d5f8e",
   "metadata": {},
   "source": [
    "Q9. How do you distinguish between a wrapper, a wrapped feature, and a decorator?"
   ]
  },
  {
   "cell_type": "raw",
   "id": "44d0681c-bf8d-41e0-adbd-70a35f6434b3",
   "metadata": {},
   "source": [
    "The wrapper is also known as a decorator, it is helpful to change the behavior of a function or class. Decorators allow us to wrap another function to extend the behavior of the wrapped function, without permanently modifying it"
   ]
  },
  {
   "cell_type": "markdown",
   "id": "289f0a91-e910-48bc-a46e-ef99a862df9b",
   "metadata": {},
   "source": [
    "Q10. If a function is a generator function, what does it return?"
   ]
  },
  {
   "cell_type": "raw",
   "id": "37e2912c-688c-4e8c-a2aa-5ecd6a9cd2bf",
   "metadata": {},
   "source": [
    "iterator object"
   ]
  },
  {
   "cell_type": "markdown",
   "id": "c1a0dcc0-cafe-409d-bcd3-a4e51ccdd6d5",
   "metadata": {},
   "source": [
    "Q11. What is the one improvement that must be made to a function in order for it to become a generator function in the Python language?"
   ]
  },
  {
   "cell_type": "raw",
   "id": "12b69e84-f952-4274-8322-74ef264ad6d1",
   "metadata": {},
   "source": [
    "replace return statement with yield statment."
   ]
  },
  {
   "cell_type": "markdown",
   "id": "079ec4e1-a8a7-46ab-92b3-12354bb79359",
   "metadata": {},
   "source": [
    "Q12. Identify at least one benefit of generators."
   ]
  },
  {
   "cell_type": "raw",
   "id": "965c7380-8e94-40ee-a5a9-998db6879bda",
   "metadata": {},
   "source": [
    "Reduce memory and improve scalability."
   ]
  }
 ],
 "metadata": {
  "kernelspec": {
   "display_name": "Python 3 (ipykernel)",
   "language": "python",
   "name": "python3"
  },
  "language_info": {
   "codemirror_mode": {
    "name": "ipython",
    "version": 3
   },
   "file_extension": ".py",
   "mimetype": "text/x-python",
   "name": "python",
   "nbconvert_exporter": "python",
   "pygments_lexer": "ipython3",
   "version": "3.9.12"
  }
 },
 "nbformat": 4,
 "nbformat_minor": 5
}
