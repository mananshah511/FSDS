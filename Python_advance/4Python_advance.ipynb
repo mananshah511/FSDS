{
 "cells": [
  {
   "cell_type": "markdown",
   "id": "de2ac124-467d-4410-86a4-5271bc544670",
   "metadata": {},
   "source": [
    "Q1. Which two operator overloading methods can you use in your classes to support iteration?"
   ]
  },
  {
   "cell_type": "code",
   "execution_count": 23,
   "id": "8bef3ff1-24bd-4b02-823c-1171f97fbbfa",
   "metadata": {},
   "outputs": [],
   "source": [
    "#__iter__ and __next__\n",
    "class abc:\n",
    "    def __init__(self,name):\n",
    "        self.name=name\n",
    "    def __iter__(self):\n",
    "        self.x=0\n",
    "        return self\n",
    "    def __next__(self):\n",
    "        if self.x<len(self.name):\n",
    "            ans=self.name[self.x]\n",
    "            self.x+=1\n",
    "            return ans\n",
    "ABC=abc(\"Manan\")"
   ]
  },
  {
   "cell_type": "code",
   "execution_count": 24,
   "id": "c39b11c2-0d2c-4d2c-b59d-196bb2964658",
   "metadata": {},
   "outputs": [],
   "source": [
    "i=iter(ABC)"
   ]
  },
  {
   "cell_type": "code",
   "execution_count": 25,
   "id": "65b7971a-4234-4059-908a-31476e875918",
   "metadata": {},
   "outputs": [
    {
     "data": {
      "text/plain": [
       "'M'"
      ]
     },
     "execution_count": 25,
     "metadata": {},
     "output_type": "execute_result"
    }
   ],
   "source": [
    "next(i)"
   ]
  },
  {
   "cell_type": "code",
   "execution_count": 26,
   "id": "c533290a-a8cd-443a-a467-75109badbe33",
   "metadata": {},
   "outputs": [
    {
     "data": {
      "text/plain": [
       "'a'"
      ]
     },
     "execution_count": 26,
     "metadata": {},
     "output_type": "execute_result"
    }
   ],
   "source": [
    "next(i)"
   ]
  },
  {
   "cell_type": "markdown",
   "id": "82bad901-77b9-40e7-9fb5-da99c8c35f1d",
   "metadata": {},
   "source": [
    "Q2. In what contexts do the two operator overloading methods manage printing?"
   ]
  },
  {
   "cell_type": "code",
   "execution_count": 41,
   "id": "788adb6b-1346-417a-8673-7eddca9c6fc6",
   "metadata": {},
   "outputs": [
    {
     "name": "stdout",
     "output_type": "stream",
     "text": [
      "How are you?\n"
     ]
    },
    {
     "data": {
      "text/plain": [
       "Hello"
      ]
     },
     "execution_count": 41,
     "metadata": {},
     "output_type": "execute_result"
    }
   ],
   "source": [
    "#__repr__ and __str__ manage printing,repr’s goal is to be unambiguous and str’s is to be readable.\n",
    "class abc:\n",
    "    def __repr__(self):\n",
    "        return \"Hello\"\n",
    "    def __str__(self):\n",
    "        return \"How are you?\"\n",
    "ABC=abc()\n",
    "print(ABC)\n",
    "ABC"
   ]
  },
  {
   "cell_type": "markdown",
   "id": "b90403ff-558c-42bb-91d0-79cf30e1809e",
   "metadata": {},
   "source": [
    "Q3. In a class, how do you intercept slice operations?"
   ]
  },
  {
   "cell_type": "code",
   "execution_count": 44,
   "id": "fb45761e-05ff-43e7-8ae1-adbb878c9022",
   "metadata": {},
   "outputs": [
    {
     "name": "stdout",
     "output_type": "stream",
     "text": [
      "HlO\n"
     ]
    }
   ],
   "source": [
    "#__getitem__ method and slice constructor is used.\n",
    "x='HellO'.__getitem__(slice(0,10,2)) \n",
    "print(x)"
   ]
  },
  {
   "cell_type": "markdown",
   "id": "dc7abdbd-7fb7-4301-bf74-6bf53f18d668",
   "metadata": {},
   "source": [
    "Q4. In a class, how do you capture in-place addition?"
   ]
  },
  {
   "cell_type": "code",
   "execution_count": 53,
   "id": "fb1365bd-4e51-443b-8855-b03fad1ddb35",
   "metadata": {},
   "outputs": [],
   "source": [
    "class abc:\n",
    "    def __init__(self,marks):\n",
    "        self.marks=marks\n",
    "    def __iadd__(self,o):\n",
    "        self.marks=self.marks+o.marks\n",
    "        return self.marks"
   ]
  },
  {
   "cell_type": "code",
   "execution_count": 54,
   "id": "31e6e731-95c8-4d2f-a3cc-cfb8f671a15f",
   "metadata": {},
   "outputs": [
    {
     "data": {
      "text/plain": [
       "92"
      ]
     },
     "execution_count": 54,
     "metadata": {},
     "output_type": "execute_result"
    }
   ],
   "source": [
    "obj1=abc(49)\n",
    "obj2=abc(43)\n",
    "obj1+=obj2\n",
    "obj1"
   ]
  },
  {
   "cell_type": "markdown",
   "id": "2f6f0189-0bbd-4150-ae21-9e8f0e7a2c7b",
   "metadata": {},
   "source": [
    "Q5. When is it appropriate to use operator overloading?"
   ]
  },
  {
   "cell_type": "raw",
   "id": "80389eb8-b877-4a67-a781-733320556c35",
   "metadata": {},
   "source": [
    "When we need the same method for a different purpose for a different scene, we can use operator overloading"
   ]
  }
 ],
 "metadata": {
  "kernelspec": {
   "display_name": "Python 3 (ipykernel)",
   "language": "python",
   "name": "python3"
  },
  "language_info": {
   "codemirror_mode": {
    "name": "ipython",
    "version": 3
   },
   "file_extension": ".py",
   "mimetype": "text/x-python",
   "name": "python",
   "nbconvert_exporter": "python",
   "pygments_lexer": "ipython3",
   "version": "3.9.12"
  }
 },
 "nbformat": 4,
 "nbformat_minor": 5
}
