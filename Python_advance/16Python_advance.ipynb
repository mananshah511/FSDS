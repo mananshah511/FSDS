{
 "cells": [
  {
   "cell_type": "markdown",
   "id": "de5838c1-cda6-4876-9e53-c4c89f615401",
   "metadata": {},
   "source": [
    "Q1. What is the benefit of regular expressions?"
   ]
  },
  {
   "cell_type": "raw",
   "id": "15511c6d-9bc9-47f9-ba35-07f1f884a087",
   "metadata": {},
   "source": [
    "Regular expression helps find the pattern from the string in the easiest possible way."
   ]
  },
  {
   "cell_type": "markdown",
   "id": "aa5fae7b-071b-45e3-8154-697b3fd656f5",
   "metadata": {},
   "source": [
    "Q2. Describe the difference between the effects of \"(ab)c+\" and \"a(bc)+.\" Which of these, if any, is the unqualified pattern \"abc+\"?"
   ]
  },
  {
   "cell_type": "raw",
   "id": "e5b1c45b-45bb-44b0-83d1-f5187a43a04c",
   "metadata": {},
   "source": [
    "Both are valid patterns and both will return anything that is abc(anything).. in 1st ab is the group while in 2nd bc is the group."
   ]
  },
  {
   "cell_type": "markdown",
   "id": "8dbf8e4a-c91d-4bd9-9a66-f1a80a352d41",
   "metadata": {},
   "source": [
    "Q3. How much do you need to use the following sentence while using regular expressions?\n",
    "import re"
   ]
  },
  {
   "cell_type": "raw",
   "id": "3f43b427-bd01-4d01-a05d-70bce5f8482e",
   "metadata": {},
   "source": [
    "One time before making regular expression"
   ]
  },
  {
   "cell_type": "markdown",
   "id": "b6f96566-0aca-4b6e-852d-8a4940004da0",
   "metadata": {},
   "source": [
    "Q4. Which characters have special significance in square brackets when expressing a range, and under what circumstances?"
   ]
  },
  {
   "cell_type": "raw",
   "id": "92963476-356c-4273-9957-7d04f4e3620c",
   "metadata": {},
   "source": [
    "'.','^','$','+'.. etc character have special significance in raw string. We can use \\ to use them as normal characters."
   ]
  },
  {
   "cell_type": "markdown",
   "id": "bfb60517-ecec-42f5-95d3-0e7b1bc64c84",
   "metadata": {},
   "source": [
    "Q5. How does compiling a regular-expression object benefit you?"
   ]
  },
  {
   "cell_type": "raw",
   "id": "61a07375-95ef-46e2-b397-0c8f70c59e0f",
   "metadata": {},
   "source": [
    "Its easy to search pattern after writing and compiling regular-expression object"
   ]
  },
  {
   "cell_type": "markdown",
   "id": "f9ff4fa5-1ea7-4252-8cf0-27f0dad718b3",
   "metadata": {},
   "source": [
    "Q6. What are some examples of how to use the match object returned by re.match and re.search?"
   ]
  },
  {
   "cell_type": "code",
   "execution_count": 54,
   "id": "05b9d999-e5b2-4107-adfb-19f2252cf627",
   "metadata": {},
   "outputs": [
    {
     "name": "stdout",
     "output_type": "stream",
     "text": [
      "abcaaxyz\n",
      "abcaaxyz\n"
     ]
    }
   ],
   "source": [
    "import re\n",
    "x=re.compile(r'^(abc)a*(xyz)$')\n",
    "y=x.match(\"abcaaxyz\")   #match object\n",
    "print(y.string)          #use of object\n",
    "y=x.search(\"abcaaxyz\")   #match object\n",
    "print(y.string)         #use of object"
   ]
  },
  {
   "cell_type": "markdown",
   "id": "6677c22f-2e4b-4d59-90c4-091e734d2db2",
   "metadata": {},
   "source": [
    "Q7. What is the difference between using a vertical bar (|) as an alteration and using square brackets as a character set?"
   ]
  },
  {
   "cell_type": "raw",
   "id": "94d2acf4-7d83-44d9-b91a-b9b28f4a360d",
   "metadata": {},
   "source": [
    "Vertical bar search exactly pattern for example below it will find bat or cat, but not b, a, or bo. Square brackets find all possible matches in the string like b,o,t, bt, bo, etc."
   ]
  },
  {
   "cell_type": "code",
   "execution_count": 71,
   "id": "4acc1a4c-5ab9-4790-8e51-a0a06e1b901b",
   "metadata": {},
   "outputs": [],
   "source": [
    "import re\n",
    "x=re.compile(r'(bot|cat)')\n",
    "for i in x.finditer('bo'):\n",
    "    print(i)"
   ]
  },
  {
   "cell_type": "code",
   "execution_count": 72,
   "id": "62e00d3e-91fc-4c07-9f55-253a87ca8c1e",
   "metadata": {},
   "outputs": [
    {
     "name": "stdout",
     "output_type": "stream",
     "text": [
      "<re.Match object; span=(0, 1), match='b'>\n",
      "<re.Match object; span=(1, 2), match='o'>\n"
     ]
    }
   ],
   "source": [
    "import re\n",
    "x=re.compile(r'[bot]')\n",
    "for i in x.finditer('bo'):\n",
    "    print(i)"
   ]
  },
  {
   "cell_type": "markdown",
   "id": "82904b22-c678-4033-b27a-eb182c49ccf0",
   "metadata": {},
   "source": [
    "Q8. In regular-expression search patterns, why is it necessary to use the raw-string indicator (r)? In   replacement strings?"
   ]
  },
  {
   "cell_type": "raw",
   "id": "880fc63c-7277-4820-a587-8ce7e0a63878",
   "metadata": {},
   "source": [
    "Yes its needed as pattern search can use '.','$','^' as special meaning inside and we don't have to use escape character, backlashes."
   ]
  },
  {
   "cell_type": "code",
   "execution_count": null,
   "id": "b3f51a80-f93e-424f-9e91-c55f8df0147b",
   "metadata": {},
   "outputs": [],
   "source": []
  }
 ],
 "metadata": {
  "kernelspec": {
   "display_name": "Python 3 (ipykernel)",
   "language": "python",
   "name": "python3"
  },
  "language_info": {
   "codemirror_mode": {
    "name": "ipython",
    "version": 3
   },
   "file_extension": ".py",
   "mimetype": "text/x-python",
   "name": "python",
   "nbconvert_exporter": "python",
   "pygments_lexer": "ipython3",
   "version": "3.9.12"
  }
 },
 "nbformat": 4,
 "nbformat_minor": 5
}
