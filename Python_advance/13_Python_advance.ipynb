{
 "cells": [
  {
   "cell_type": "raw",
   "id": "60ddc907-af35-4409-9cf1-a8915fa7d7ed",
   "metadata": {},
   "source": [
    "Q1. Can you create a programme or function that employs both positive and negative indexing? Is there any repercussion if you do so?\n",
    "All the list,string etc have both positive and negative indexing. positive starts with 0 and negetive starts with -1 from the end. No such repercussion."
   ]
  },
  {
   "cell_type": "code",
   "execution_count": 8,
   "id": "9266c61c-fd3a-4482-be2f-3a115d860633",
   "metadata": {},
   "outputs": [
    {
     "name": "stdout",
     "output_type": "stream",
     "text": [
      "2\n",
      "5\n"
     ]
    }
   ],
   "source": [
    "list_x=[1,2,3,4,5]\n",
    "print(list_x[1])\n",
    "print(list_x[-1])"
   ]
  },
  {
   "cell_type": "raw",
   "id": "b50ce8a4-0894-45ee-a753-931aa668621a",
   "metadata": {},
   "source": [
    "Q2. What is the most effective way of starting with 1,000 elements in a Python list? Assume that all\n",
    "elements should be set to the same value."
   ]
  },
  {
   "cell_type": "code",
   "execution_count": 10,
   "id": "029c7192-27c3-4944-bd9b-62078d34899a",
   "metadata": {},
   "outputs": [],
   "source": [
    "list_x=[\"Hello\"]*1000     #fastest way"
   ]
  },
  {
   "cell_type": "raw",
   "id": "14d4139c-21dd-44b9-ab70-cd55071be544",
   "metadata": {},
   "source": [
    "Q3. How do you slice a list to get any other part while missing the rest? (For example, suppose you want to make a new list with the elements first, third, fifth, seventh, and so on.)"
   ]
  },
  {
   "cell_type": "code",
   "execution_count": 11,
   "id": "5e55756b-510a-403a-bacf-d38ec9257514",
   "metadata": {},
   "outputs": [
    {
     "name": "stdout",
     "output_type": "stream",
     "text": [
      "[1, 3, 5, 7, 9]\n"
     ]
    }
   ],
   "source": [
    "list_x=[1,2,3,4,5,6,7,8,9,10]\n",
    "print(list_x[::2])"
   ]
  },
  {
   "cell_type": "raw",
   "id": "7281e6cc-a9fe-445e-bdd6-c036ac748a43",
   "metadata": {},
   "source": [
    "Q4. Explain the distinctions between indexing and slicing.\n",
    "indexing provide element at particular position, it takes positive or negetive element.\n",
    "slicing provide sequence of elemets or character, it takes starting position, ending position and number os steps."
   ]
  },
  {
   "cell_type": "code",
   "execution_count": 13,
   "id": "5ba72068-0dd1-4dde-950c-075b065cafce",
   "metadata": {},
   "outputs": [
    {
     "name": "stdout",
     "output_type": "stream",
     "text": [
      "8\n",
      "[1, 2, 3, 4, 5, 6, 7]\n"
     ]
    }
   ],
   "source": [
    "list_x=[1,2,3,4,5,6,7,8,9,10]\n",
    "print(list_x[-3])      #indexing\n",
    "print(list_x[0:7:1])   #slicing"
   ]
  },
  {
   "cell_type": "raw",
   "id": "2c3f0bed-6d5c-40e0-aa8a-5a80a6c6983b",
   "metadata": {},
   "source": [
    "Q5. What happens if one of the slicing expression's indexes is out of range?\n",
    "It will ignore which ever indexes is out of range, and perform as usual operations of slicing."
   ]
  },
  {
   "cell_type": "code",
   "execution_count": 15,
   "id": "baff01da-c24a-4375-b873-dfe4742d4f24",
   "metadata": {},
   "outputs": [
    {
     "data": {
      "text/plain": [
       "[1, 2, 3]"
      ]
     },
     "execution_count": 15,
     "metadata": {},
     "output_type": "execute_result"
    }
   ],
   "source": [
    "list_x=[1,2,3]     \n",
    "list_x[0:40]       #after 2nd index it will go out of range but we will get result till last element as out of range is ignored."
   ]
  },
  {
   "cell_type": "raw",
   "id": "dacf9cc6-66f5-449d-93d0-c7328bc33507",
   "metadata": {},
   "source": [
    "Q6. If you pass a list to a function, and if you want the function to be able to change the values of the list—so that the list is different after the function returns—what action should you avoid?"
   ]
  },
  {
   "cell_type": "code",
   "execution_count": 39,
   "id": "2f427e66-8ce9-41ea-b7a9-26d8670f85bd",
   "metadata": {},
   "outputs": [
    {
     "data": {
      "text/plain": [
       "[5, 6, 7, 8]"
      ]
     },
     "execution_count": 39,
     "metadata": {},
     "output_type": "execute_result"
    }
   ],
   "source": [
    "def fun(list_x):\n",
    "    list_x[:]=[5,6,7,8]           #this is right way to assign if we want to change entire list\n",
    "    #list_x=[5,6,7,8]               #this will not change the list and should be avoided\n",
    "    return list_x\n",
    "list_x=[1,2,3]\n",
    "fun(list_x)\n",
    "list_x"
   ]
  },
  {
   "cell_type": "raw",
   "id": "17147fcb-9d41-4b9f-9ff2-7a11453b6a8d",
   "metadata": {},
   "source": [
    "Q7. What is the concept of an unbalanced matrix?\n",
    "Row and coulmns are not equal in unbalanced matrix."
   ]
  },
  {
   "cell_type": "raw",
   "id": "995ace2e-52d0-4bcd-b19c-98ae1ec07068",
   "metadata": {},
   "source": [
    "Q8. Why is it necessary to use either list comprehension or a loop to create arbitrarily large matrices?\n",
    "Its easy to create large matrices using list comprehension or loop. Its easy and avoid manual error."
   ]
  }
 ],
 "metadata": {
  "kernelspec": {
   "display_name": "Python 3 (ipykernel)",
   "language": "python",
   "name": "python3"
  },
  "language_info": {
   "codemirror_mode": {
    "name": "ipython",
    "version": 3
   },
   "file_extension": ".py",
   "mimetype": "text/x-python",
   "name": "python",
   "nbconvert_exporter": "python",
   "pygments_lexer": "ipython3",
   "version": "3.9.12"
  }
 },
 "nbformat": 4,
 "nbformat_minor": 5
}
