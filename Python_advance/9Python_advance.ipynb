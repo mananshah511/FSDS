{
 "cells": [
  {
   "cell_type": "markdown",
   "id": "e80ad4f4-a7e1-428d-94cb-d5f6723655b4",
   "metadata": {},
   "source": [
    "Q1. In Python 3.X, what are the names and functions of string object types?"
   ]
  },
  {
   "cell_type": "raw",
   "id": "8a3bb6d5-d4c4-43c9-b4e0-e7dae2e58fe4",
   "metadata": {},
   "source": [
    "capitalize()\tConverts the first character to upper case\n",
    "casefold()\tConverts string into lower case\n",
    "center()\tReturns a centered string\n",
    "count()\tReturns the number of times a specified value occurs in a string\n",
    "encode()\tReturns an encoded version of the string\n",
    "endswith()\tReturns true if the string ends with the specified value\n",
    "expandtabs()\tSets the tab size of the string\n",
    "find()\tSearches the string for a specified value and returns the position of where it was found\n",
    "format()\tFormats specified values in a string\n",
    "format_map()\tFormats specified values in a string\n",
    "index()\tSearches the string for a specified value and returns the position of where it was found\n",
    "isalnum()\tReturns True if all characters in the string are alphanumeric\n",
    "isalpha()\tReturns True if all characters in the string are in the alphabet\n",
    "isascii()\tReturns True if all characters in the string are ascii characters\n",
    "isdecimal()\tReturns True if all characters in the string are decimals\n",
    "isdigit()\tReturns True if all characters in the string are digits\n",
    "isidentifier()\tReturns True if the string is an identifier\n",
    "islower()\tReturns True if all characters in the string are lower case\n",
    "isnumeric()\tReturns True if all characters in the string are numeric\n",
    "isprintable()\tReturns True if all characters in the string are printable\n",
    "isspace()\tReturns True if all characters in the string are whitespaces\n",
    "istitle()\tReturns True if the string follows the rules of a title\n",
    "isupper()\tReturns True if all characters in the string are upper case\n",
    "join()\tConverts the elements of an iterable into a string\n",
    "ljust()\tReturns a left justified version of the string\n",
    "lower()\tConverts a string into lower case\n",
    "lstrip()\tReturns a left trim version of the string\n",
    "maketrans()\tReturns a translation table to be used in translations\n",
    "partition()\tReturns a tuple where the string is parted into three parts\n",
    "replace()\tReturns a string where a specified value is replaced with a specified value\n",
    "rfind()\tSearches the string for a specified value and returns the last position of where it was found\n",
    "rindex()\tSearches the string for a specified value and returns the last position of where it was found\n",
    "rjust()\tReturns a right justified version of the string\n",
    "rpartition()\tReturns a tuple where the string is parted into three parts\n",
    "rsplit()\tSplits the string at the specified separator, and returns a list\n",
    "rstrip()\tReturns a right trim version of the string\n",
    "split()\tSplits the string at the specified separator, and returns a list\n",
    "splitlines()\tSplits the string at line breaks and returns a list\n",
    "startswith()\tReturns true if the string starts with the specified value\n",
    "strip()\tReturns a trimmed version of the string\n",
    "swapcase()\tSwaps cases, lower case becomes upper case and vice versa\n",
    "title()\tConverts the first character of each word to upper case\n",
    "translate()\tReturns a translated string\n",
    "upper()\tConverts a string into upper case\n",
    "zfill()\tFills the string with a specified number of 0 values at the beginning"
   ]
  },
  {
   "cell_type": "markdown",
   "id": "85cdd58b-47ba-4cfd-9ae7-da79fa115605",
   "metadata": {},
   "source": [
    "Q2. How do the string forms in Python 3.X vary in terms of operations?"
   ]
  },
  {
   "cell_type": "raw",
   "id": "6e9f7d3e-b3d6-4af0-88c8-37b8dfe0d27a",
   "metadata": {},
   "source": [
    "in Python 2.X str type is ASCII and in python 3.X str type is unicode. in Python 2.X str, unicode are different and in python 3 both are same."
   ]
  },
  {
   "cell_type": "markdown",
   "id": "1a4b50ad-42f2-4c16-9d3c-5dcc2151e9d6",
   "metadata": {},
   "source": [
    "Q3. In 3.X, how do you put non-ASCII Unicode characters in a string?"
   ]
  },
  {
   "cell_type": "code",
   "execution_count": 7,
   "id": "c9ece314-833d-4f0c-b436-63d584ccc2c8",
   "metadata": {},
   "outputs": [
    {
     "name": "stdout",
     "output_type": "stream",
     "text": [
      "તમે કેમ છો?Manan\n"
     ]
    }
   ],
   "source": [
    "a=u\"તમે કેમ છો?Manan\"  #unicoding\n",
    "print(a)"
   ]
  },
  {
   "cell_type": "markdown",
   "id": "c4177cc0-1656-4dcb-94ed-53a03777010d",
   "metadata": {},
   "source": [
    "Q4. In Python 3.X, what are the key differences between text-mode and binary-mode files?"
   ]
  },
  {
   "cell_type": "raw",
   "id": "7227a20b-9289-41b9-a21a-3bd1d5fb080a",
   "metadata": {},
   "source": [
    "Text mode has characters in a human-readable format, while binary mode doesn't have a readable format."
   ]
  },
  {
   "cell_type": "markdown",
   "id": "40c96226-6fe8-45cb-bf88-77273dbd96ed",
   "metadata": {},
   "source": [
    "Q5. How can you interpret a Unicode text file containing text encoded in a different encoding than\n",
    "your platform&#39;s default?"
   ]
  },
  {
   "cell_type": "raw",
   "id": "4c52be24-2fe3-4057-8e97-30419d8421c5",
   "metadata": {},
   "source": [
    "text.decode() and text.encode() is used."
   ]
  },
  {
   "cell_type": "markdown",
   "id": "54258d8e-8df2-4b2b-99ec-fd53caa10e8e",
   "metadata": {},
   "source": [
    "Q6. What is the best way to make a Unicode text file in a particular encoding format?"
   ]
  },
  {
   "cell_type": "raw",
   "id": "d15da571-6cda-475c-8d97-4cafc9fb1402",
   "metadata": {},
   "source": [
    "text.encode(\"UTF-8/any other mode\")"
   ]
  },
  {
   "cell_type": "markdown",
   "id": "01ab4b6f-42cd-4cf0-988e-be7a7c77dc20",
   "metadata": {},
   "source": [
    "Q7. What qualifies ASCII text as a form of Unicode text?"
   ]
  },
  {
   "cell_type": "raw",
   "id": "ffbe5d45-a8d1-4744-88bd-bb603dbbfbd6",
   "metadata": {},
   "source": [
    "First 128 letters of Unicode points to ASCII. "
   ]
  },
  {
   "cell_type": "markdown",
   "id": "e6d448c0-53c1-463f-99ec-e6597b4070a1",
   "metadata": {},
   "source": [
    "Q8. How much of an effect does the change in string types in Python 3.X have on your code?"
   ]
  },
  {
   "cell_type": "raw",
   "id": "97b0a2bd-95d5-4333-94e6-1d8ea36db5f9",
   "metadata": {},
   "source": [
    "In python 3.x all string are unicode by defult, so adding new language, symbol wont effect like in python 2.x"
   ]
  },
  {
   "cell_type": "code",
   "execution_count": null,
   "id": "169cb067-05b1-4ab0-8700-3d2932e95529",
   "metadata": {},
   "outputs": [],
   "source": []
  }
 ],
 "metadata": {
  "kernelspec": {
   "display_name": "Python 3 (ipykernel)",
   "language": "python",
   "name": "python3"
  },
  "language_info": {
   "codemirror_mode": {
    "name": "ipython",
    "version": 3
   },
   "file_extension": ".py",
   "mimetype": "text/x-python",
   "name": "python",
   "nbconvert_exporter": "python",
   "pygments_lexer": "ipython3",
   "version": "3.10.6"
  }
 },
 "nbformat": 4,
 "nbformat_minor": 5
}
