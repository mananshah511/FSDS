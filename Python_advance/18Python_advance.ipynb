{
 "cells": [
  {
   "cell_type": "markdown",
   "id": "16595a84-01fe-4af4-9217-688d78902ef1",
   "metadata": {},
   "source": [
    "Q1. Describe the differences between text and binary files in a single paragraph."
   ]
  },
  {
   "cell_type": "raw",
   "id": "84879316-b239-4156-a4bc-9800b6a4aeea",
   "metadata": {},
   "source": [
    "Text files contain human-readable characters and can be accessed by any text editor while binary files contain data that can be read by humans and we need specific programs or software to read it."
   ]
  },
  {
   "cell_type": "markdown",
   "id": "0d4e1b1a-1694-4418-8be2-108251e4aacd",
   "metadata": {},
   "source": [
    "Q2. What are some scenarios where using text files will be the better option? When would you like to\n",
    "use binary files instead of text files?"
   ]
  },
  {
   "cell_type": "raw",
   "id": "b6a18c83-0d13-4d20-bd05-0893a0dacedc",
   "metadata": {},
   "source": [
    "Text files have fewer chances of getting corrupted, changes can be easily done and undone, and files can easily be accessed using any text editor. When we want better security then binary files are the better option, even a single change can corrupt a file and it can be easily accessible."
   ]
  },
  {
   "cell_type": "markdown",
   "id": "19feae15-ce7b-429b-97af-58d29d24a265",
   "metadata": {},
   "source": [
    "Q3. What are some of the issues with using binary operations to read and write a Python integer\n",
    "directly to disc?"
   ]
  },
  {
   "cell_type": "raw",
   "id": "70a09379-6718-4c90-bbd2-42f60889b598",
   "metadata": {},
   "source": [
    "We will get value error while trying to perform operation, as its treated as string characters."
   ]
  },
  {
   "cell_type": "markdown",
   "id": "0ed3e634-60e7-4085-bfe8-87684dd92a5c",
   "metadata": {},
   "source": [
    "Q4. Describe a benefit of using the with keyword instead of explicitly opening a file."
   ]
  },
  {
   "cell_type": "raw",
   "id": "0a4cb824-b20d-44b4-ae44-0bc938e99632",
   "metadata": {},
   "source": [
    "With will, explicitly take care of closing the file and managing resocurses."
   ]
  },
  {
   "cell_type": "markdown",
   "id": "d8d87332-f8c1-48e4-9f94-5185ef407917",
   "metadata": {},
   "source": [
    "Q5. Does Python have the trailing newline while reading a line of text? Does Python append a\n",
    "newline when you write a line of text?"
   ]
  },
  {
   "cell_type": "raw",
   "id": "26f83885-e9dd-4fd3-9ed9-151480a3ac35",
   "metadata": {},
   "source": [
    "Yes, when we read a file that has line-by-line text then a new line is there. Python does not append a new line when we have simple text like \"hello\", or \"bob\", we have to use \\n there for the new line, multi quoted strings have the new line, and it's appended automatically in python new line."
   ]
  },
  {
   "cell_type": "markdown",
   "id": "2d43d870-1289-46af-8012-a4db5cfc5c31",
   "metadata": {},
   "source": [
    "Q6. What file operations enable for random-access operation?"
   ]
  },
  {
   "cell_type": "raw",
   "id": "1636f6f2-4e00-4715-9217-100fce08a426",
   "metadata": {},
   "source": [
    "passing random int into seek or tell, using random.choice, linecache, nnap etc."
   ]
  },
  {
   "cell_type": "markdown",
   "id": "1775ab2f-c35a-428c-abf9-08505c7fdba7",
   "metadata": {},
   "source": [
    "Q7. When do you think you&#39;ll use the struct package the most?"
   ]
  },
  {
   "cell_type": "raw",
   "id": "bb2a0591-4d5c-4216-b0c1-9203922e9fd3",
   "metadata": {},
   "source": [
    "Its used for converting python datatype into binary data type of C."
   ]
  },
  {
   "cell_type": "markdown",
   "id": "56f04cd9-de3d-4977-b423-c289af4fb34f",
   "metadata": {},
   "source": [
    "Q8. When is pickling the best option?"
   ]
  },
  {
   "cell_type": "raw",
   "id": "0d593955-5413-4d07-b9d3-ad545b57ea53",
   "metadata": {},
   "source": [
    "When we need to convert python object or data to bytes to store in database or file then pickling is best option."
   ]
  },
  {
   "cell_type": "markdown",
   "id": "1772bec1-3099-4ea2-8846-3f910d678117",
   "metadata": {},
   "source": [
    "Q9. When will it be best to use the shelve package?"
   ]
  },
  {
   "cell_type": "markdown",
   "id": "97fed5f1-f65d-4cc9-a7c1-23e49d7d78db",
   "metadata": {},
   "source": [
    "It's used for storing databases, it can be accessed by keys like dictionaries."
   ]
  },
  {
   "cell_type": "markdown",
   "id": "489e3305-7ab7-4ba9-a161-8a36d59e3444",
   "metadata": {},
   "source": [
    "Q10. What is a special restriction when using the shelve package, as opposed to using other data\n",
    "dictionaries?"
   ]
  },
  {
   "cell_type": "raw",
   "id": "cb6c0ad4-39da-43bd-8460-295a04d7cac5",
   "metadata": {},
   "source": [
    "Keys to the object must be string."
   ]
  }
 ],
 "metadata": {
  "kernelspec": {
   "display_name": "Python 3 (ipykernel)",
   "language": "python",
   "name": "python3"
  },
  "language_info": {
   "codemirror_mode": {
    "name": "ipython",
    "version": 3
   },
   "file_extension": ".py",
   "mimetype": "text/x-python",
   "name": "python",
   "nbconvert_exporter": "python",
   "pygments_lexer": "ipython3",
   "version": "3.10.6"
  }
 },
 "nbformat": 4,
 "nbformat_minor": 5
}
