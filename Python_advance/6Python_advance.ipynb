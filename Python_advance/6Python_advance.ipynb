{
 "cells": [
  {
   "cell_type": "raw",
   "id": "7e3db8b7-fd3f-4d10-bab5-3f7c5c805b22",
   "metadata": {},
   "source": [
    "Q1. Describe three applications for exception processing.\n",
    "Trying to read a file that does not exist.\n",
    "Dividing a number by zero\n",
    "Trying to access an index of the list that is out of bounds."
   ]
  },
  {
   "cell_type": "raw",
   "id": "b8545b54-b369-48db-be1c-7fd211e7e0f2",
   "metadata": {},
   "source": [
    "Q2. What happens if you don't do something extra to treat an exception?\n",
    "If we don't do something extra to treat an exception then sometimes due to one small error(which we don't even know in the advance) or one use case that might fail will raise an error and the whole execution of the code will be stopped due to that."
   ]
  },
  {
   "cell_type": "raw",
   "id": "5bddfc2d-ca54-4d39-8a45-d61af8f8e9fc",
   "metadata": {},
   "source": [
    "Q3. What are your options for recovering from an exception in your script?\n",
    "Write your code in try, except block, generic except block will handle all exception.\n",
    "\n",
    "We can make user defined exception using exception as a super class."
   ]
  },
  {
   "cell_type": "raw",
   "id": "6367c28e-6f3d-4bc3-a847-cc15c7e81163",
   "metadata": {},
   "source": [
    "Q4. Describe two methods for triggering exceptions in your script.\n",
    "Use raise keyword to raise an exception\n",
    "User assert statement to raise an exception"
   ]
  },
  {
   "cell_type": "code",
   "execution_count": 9,
   "id": "5ff6ba0b-e1a6-44fb-a110-cde6e62192e9",
   "metadata": {},
   "outputs": [
    {
     "ename": "AssertionError",
     "evalue": "a is 5",
     "output_type": "error",
     "traceback": [
      "\u001b[0;31m---------------------------------------------------------------------------\u001b[0m",
      "\u001b[0;31mAssertionError\u001b[0m                            Traceback (most recent call last)",
      "Input \u001b[0;32mIn [9]\u001b[0m, in \u001b[0;36m<cell line: 2>\u001b[0;34m()\u001b[0m\n\u001b[1;32m      1\u001b[0m a\u001b[38;5;241m=\u001b[39m\u001b[38;5;241m5\u001b[39m                             \u001b[38;5;66;03m#assert\u001b[39;00m\n\u001b[0;32m----> 2\u001b[0m \u001b[38;5;28;01massert\u001b[39;00m a\u001b[38;5;241m!=\u001b[39m\u001b[38;5;241m5\u001b[39m,\u001b[38;5;124m\"\u001b[39m\u001b[38;5;124ma is 5\u001b[39m\u001b[38;5;124m\"\u001b[39m\n",
      "\u001b[0;31mAssertionError\u001b[0m: a is 5"
     ]
    }
   ],
   "source": [
    "a=5                             #assert\n",
    "assert a!=5,\"a is 5\""
   ]
  },
  {
   "cell_type": "code",
   "execution_count": 10,
   "id": "f44d6def-7c7e-4e69-9254-da93f43b67fa",
   "metadata": {},
   "outputs": [
    {
     "ename": "ValueError",
     "evalue": "a is not hello",
     "output_type": "error",
     "traceback": [
      "\u001b[0;31m---------------------------------------------------------------------------\u001b[0m",
      "\u001b[0;31mValueError\u001b[0m                                Traceback (most recent call last)",
      "Input \u001b[0;32mIn [10]\u001b[0m, in \u001b[0;36m<cell line: 2>\u001b[0;34m()\u001b[0m\n\u001b[1;32m      1\u001b[0m a\u001b[38;5;241m=\u001b[39m\u001b[38;5;124m\"\u001b[39m\u001b[38;5;124mHello\u001b[39m\u001b[38;5;124m\"\u001b[39m                                       \u001b[38;5;66;03m#raise\u001b[39;00m\n\u001b[1;32m      2\u001b[0m \u001b[38;5;28;01mif\u001b[39;00m a\u001b[38;5;241m!=\u001b[39m\u001b[38;5;241m5\u001b[39m:\n\u001b[0;32m----> 3\u001b[0m     \u001b[38;5;28;01mraise\u001b[39;00m \u001b[38;5;167;01mValueError\u001b[39;00m(\u001b[38;5;124m\"\u001b[39m\u001b[38;5;124ma is not hello\u001b[39m\u001b[38;5;124m\"\u001b[39m)\n",
      "\u001b[0;31mValueError\u001b[0m: a is not hello"
     ]
    }
   ],
   "source": [
    "a=\"Hello\"                                       #raise\n",
    "if a!=5:\n",
    "    raise ValueError(\"a is not hello\")"
   ]
  },
  {
   "cell_type": "raw",
   "id": "5c925edb-06b3-4408-a68e-a66d315ca03e",
   "metadata": {},
   "source": [
    "Q5. Identify two methods for specifying actions to be executed at termination time, regardless of whether or not an exception exists.\n",
    "Else\n",
    "Finally"
   ]
  }
 ],
 "metadata": {
  "kernelspec": {
   "display_name": "Python 3 (ipykernel)",
   "language": "python",
   "name": "python3"
  },
  "language_info": {
   "codemirror_mode": {
    "name": "ipython",
    "version": 3
   },
   "file_extension": ".py",
   "mimetype": "text/x-python",
   "name": "python",
   "nbconvert_exporter": "python",
   "pygments_lexer": "ipython3",
   "version": "3.9.12"
  }
 },
 "nbformat": 4,
 "nbformat_minor": 5
}
