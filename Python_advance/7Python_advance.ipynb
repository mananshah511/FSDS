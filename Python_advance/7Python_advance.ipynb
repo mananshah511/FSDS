{
 "cells": [
  {
   "cell_type": "raw",
   "id": "f3e2acbc-02f4-461d-b24e-4e77e1da894a",
   "metadata": {},
   "source": [
    "Q1. What is the purpose of the try statement?\n",
    "In our code whichever part we expect an error, we can put it in the try statement. If an error arises except block will handle it. So try statement will allow us to execute and test code with an error."
   ]
  },
  {
   "cell_type": "raw",
   "id": "bb1f687e-4cef-4e9d-9cc1-e1e488ec1788",
   "metadata": {},
   "source": [
    "Q2. What are the two most popular try statement variations?\n",
    "try-except\n",
    "try-except else\n",
    "try-except finally"
   ]
  },
  {
   "cell_type": "raw",
   "id": "028c910f-7038-4e24-936a-f75c130eb74c",
   "metadata": {},
   "source": [
    "Q3. What is the purpose of the raise statement?\n",
    "We can raise an exception by ourselves using the raise statement."
   ]
  },
  {
   "cell_type": "raw",
   "id": "aa35abbc-a02d-4323-833e-167632cc282b",
   "metadata": {},
   "source": [
    "Q4. What does the assert statement do, and what other statement is it like?\n",
    "It will raise an assertion error if the condition is false, otherwise, the code will run fine.\n",
    "| assert_stmt\n",
    "| assignment_stmt\n",
    "| augmented_assignment_stmt\n",
    "| annotated_assignment_stmt\n",
    "| pass_stmt\n",
    "| del_stmt\n",
    "| return_stmt\n",
    "| yield_stmt\n",
    "| raise_stmt\n",
    "| break_stmt\n",
    "| continue_stmt\n",
    "| import_stmt\n",
    "| future_stmt\n",
    "| global_stmt\n",
    "| nonlocal_stmt"
   ]
  },
  {
   "cell_type": "raw",
   "id": "9f95d5b1-2821-4d73-b036-376109fea5e7",
   "metadata": {},
   "source": [
    "Q5. What is the purpose of the with/as argument, and what other statement is it like?\n",
    "with/as an argument is useful to manage resources related to file opening, closing, and streaming. It will manage it cleaner and more efficient way.\n",
    "| while_stmt\n",
    "| for_stmt\n",
    "| try_stmt\n",
    "| with_stmt\n",
    "| match_stmt\n",
    "| funcdef\n",
    "| classdef\n",
    "| async_with_stmt\n",
    "| async_for_stmt\n",
    "| async_funcdef"
   ]
  },
  {
   "cell_type": "code",
   "execution_count": null,
   "id": "081ffd74-e8e5-439b-8c26-43509e593e77",
   "metadata": {},
   "outputs": [],
   "source": []
  }
 ],
 "metadata": {
  "kernelspec": {
   "display_name": "Python 3 (ipykernel)",
   "language": "python",
   "name": "python3"
  },
  "language_info": {
   "codemirror_mode": {
    "name": "ipython",
    "version": 3
   },
   "file_extension": ".py",
   "mimetype": "text/x-python",
   "name": "python",
   "nbconvert_exporter": "python",
   "pygments_lexer": "ipython3",
   "version": "3.9.12"
  }
 },
 "nbformat": 4,
 "nbformat_minor": 5
}
