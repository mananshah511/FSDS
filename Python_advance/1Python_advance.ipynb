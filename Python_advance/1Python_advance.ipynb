{
 "cells": [
  {
   "cell_type": "raw",
   "id": "f158cbdc-90b8-45e5-9c13-bcdd28237bbe",
   "metadata": {},
   "source": [
    "Q1. What is the purpose of Python's OOP?\n",
    "OOP is an object-oriented programming approach focusing on developing code that can be reused. Its focus on class, instance, object, inheritance, polymorphism, abstraction, encapsulation etc."
   ]
  },
  {
   "cell_type": "raw",
   "id": "40cc86eb-655d-4446-add9-8aa6818ab821",
   "metadata": {},
   "source": [
    "Q2. Where does an inheritance search look for an attribute?\n",
    "First in the object instance\n",
    "second in the class instance\n",
    "Third in the superclass\n",
    "if more than one superclass then left to the right is given higher priority."
   ]
  },
  {
   "cell_type": "raw",
   "id": "d8975ee6-96f0-4906-a57a-64e947610351",
   "metadata": {},
   "source": [
    "Q3. How do you distinguish between a class object and an instance object?\n",
    "a class object is a blueprint while an instance object is when a new object is created and it takes attributes from the class object."
   ]
  },
  {
   "cell_type": "code",
   "execution_count": 4,
   "id": "60f87443-7574-406e-9d2c-b8b1130ea571",
   "metadata": {},
   "outputs": [],
   "source": [
    "class xyz:             #this is class object\n",
    "    def __init__(self,a):\n",
    "        self.a=a\n",
    "        \n",
    "XYZ=xyz(5)            #this is instance of the object"
   ]
  },
  {
   "cell_type": "markdown",
   "id": "547e95b3-0c63-4e8f-afbd-5e119540c727",
   "metadata": {},
   "source": [
    "Q4. What makes the first argument in a class’s method function special?\n",
    "The first argument in the python class method function refers to the object itself, we can say it's a pointer to the object. Generally 'self' is used as the first argument in the class's method which is useful to point parameters to object."
   ]
  },
  {
   "cell_type": "raw",
   "id": "2b6ce4dc-0c2e-4be7-a740-1646c5dbcda8",
   "metadata": {},
   "source": [
    "Q5. What is the purpose of the __init__ method?\n",
    "__init__ method is a constructor in the class and is useful to initialize the attribute of the class to the particular object."
   ]
  },
  {
   "cell_type": "markdown",
   "id": "0e9ec464-d48c-482b-81e8-cfd2d85c3386",
   "metadata": {},
   "source": [
    "Q6. What is the process for creating a class instance?"
   ]
  },
  {
   "cell_type": "code",
   "execution_count": 1,
   "id": "a37dbe2b-056f-497e-a80d-89fb55edfde7",
   "metadata": {},
   "outputs": [],
   "source": [
    "class Shape:\n",
    "    pass\n",
    "circle=Shape() #this will create instance of the class Shape"
   ]
  },
  {
   "cell_type": "markdown",
   "id": "979beb66-6c5d-44c0-a848-f1fda22bbcb0",
   "metadata": {},
   "source": [
    "Q7. What is the process for creating a class?"
   ]
  },
  {
   "cell_type": "code",
   "execution_count": 2,
   "id": "bda14682-331c-4239-b0cf-f222e1069fb4",
   "metadata": {},
   "outputs": [],
   "source": [
    "class xyz:           #this will create class named xyz\n",
    "    pass"
   ]
  },
  {
   "cell_type": "markdown",
   "id": "1c56208f-4b93-4df5-aed7-0410baf65935",
   "metadata": {},
   "source": [
    "Q8. How would you define the superclasses of a class?"
   ]
  },
  {
   "cell_type": "code",
   "execution_count": 3,
   "id": "87e646ac-3977-49c9-8706-e3e7ff1c7b29",
   "metadata": {},
   "outputs": [],
   "source": [
    "class xyz:\n",
    "    pass\n",
    "class abc(xyz): #this will define xyz as a super class of the class abc\n",
    "    pass"
   ]
  },
  {
   "cell_type": "code",
   "execution_count": null,
   "id": "a2c8ca81-b591-4f60-815d-cac18893213a",
   "metadata": {},
   "outputs": [],
   "source": []
  }
 ],
 "metadata": {
  "kernelspec": {
   "display_name": "Python 3 (ipykernel)",
   "language": "python",
   "name": "python3"
  },
  "language_info": {
   "codemirror_mode": {
    "name": "ipython",
    "version": 3
   },
   "file_extension": ".py",
   "mimetype": "text/x-python",
   "name": "python",
   "nbconvert_exporter": "python",
   "pygments_lexer": "ipython3",
   "version": "3.9.12"
  }
 },
 "nbformat": 4,
 "nbformat_minor": 5
}
