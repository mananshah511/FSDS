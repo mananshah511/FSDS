{
 "cells": [
  {
   "cell_type": "raw",
   "id": "cbd0548b-9136-4861-b5dc-59715ea3bd58",
   "metadata": {},
   "source": [
    "Q1. What is the relationship between classes and modules?\n",
    "Classes are kind of a blueprint that contains attributes, methods, etc. We have to create the object of that class to gain that functionality. We can create one or more classes in one .py file. Modules are .py files inside packages. All modules can be used in one single file which contains classes we have defined and all of their functions. So by using a module we can use different classes inside our file."
   ]
  },
  {
   "cell_type": "raw",
   "id": "5f38175c-1b08-4575-83dd-add9095d1a46",
   "metadata": {},
   "source": [
    "Q2. How do you make instances and classes?"
   ]
  },
  {
   "cell_type": "code",
   "execution_count": 2,
   "id": "fd6724b7-1271-4ddc-ae6e-9adfa6fe3560",
   "metadata": {},
   "outputs": [],
   "source": [
    "class abc:                          #classes\n",
    "    def __init__(self,a):\n",
    "        self.a=a\n",
    "ABC=abc(5)                          #instance of class "
   ]
  },
  {
   "cell_type": "raw",
   "id": "ac99fe7f-61d1-4bcd-882e-30b5bce9b632",
   "metadata": {},
   "source": [
    "Q3. Where and how should be class attributes created?\n",
    "created inside class body, shown example below."
   ]
  },
  {
   "cell_type": "code",
   "execution_count": 4,
   "id": "33c910ff-1af4-4371-bc5c-880dab5276dc",
   "metadata": {},
   "outputs": [
    {
     "data": {
      "text/plain": [
       "5"
      ]
     },
     "execution_count": 4,
     "metadata": {},
     "output_type": "execute_result"
    }
   ],
   "source": [
    "class abc:\n",
    "    a=5                  #class attribute\n",
    "ABC=abc()\n",
    "ABC.a"
   ]
  },
  {
   "cell_type": "raw",
   "id": "56901a9c-84a7-4336-9c10-bf2d2d85ece4",
   "metadata": {},
   "source": [
    "Q4. Where and how are instance attributes created?\n",
    "created inside constructor __init__ method, shown example below."
   ]
  },
  {
   "cell_type": "code",
   "execution_count": 6,
   "id": "e29ca3d8-d83d-410d-8902-b56c96f2b6c2",
   "metadata": {},
   "outputs": [
    {
     "data": {
      "text/plain": [
       "5"
      ]
     },
     "execution_count": 6,
     "metadata": {},
     "output_type": "execute_result"
    }
   ],
   "source": [
    "class abc:\n",
    "    def __init__(self,a):\n",
    "        self.a=a          #instance attributes\n",
    "ABC=abc(5)\n",
    "ABC.a"
   ]
  },
  {
   "cell_type": "raw",
   "id": "b5029bbf-225e-4547-88dd-f5f5a6f75ec9",
   "metadata": {},
   "source": [
    "Q5. What does the term \"self\" in a Python class mean?\n",
    "self is a naming convention followed in python. It's used as a first argument in the __init__(constructor). It is used to reference the object itself."
   ]
  },
  {
   "cell_type": "markdown",
   "id": "9ea9d4c6-f1f8-46cb-b388-7344b0136e55",
   "metadata": {},
   "source": [
    "Q6. How does a Python class handle operator overloading?\n",
    "Python handle operator overloading by magic method of the operator. For example:"
   ]
  },
  {
   "cell_type": "code",
   "execution_count": 10,
   "id": "9bf00109-d5e8-4f51-a554-ab5180926b8b",
   "metadata": {},
   "outputs": [
    {
     "name": "stdout",
     "output_type": "stream",
     "text": [
      "11\n",
      "HelloWorld\n"
     ]
    }
   ],
   "source": [
    "class abc:\n",
    "    def __init__(self,a):\n",
    "        self.a=a\n",
    "    def __add__(self,b):\n",
    "        return self.a+b.a\n",
    "x=abc(5)\n",
    "y=abc(6)\n",
    "print(x+y)\n",
    "x=abc(\"Hello\")\n",
    "y=abc(\"World\")\n",
    "print(x+y)"
   ]
  },
  {
   "cell_type": "markdown",
   "id": "6271d961-0b27-42db-9bd2-0b543236f196",
   "metadata": {},
   "source": [
    "Q7. When do you consider allowing operator overloading of your classes?\n",
    "When we want the same operator to handle different functions(like the addition of numbers, and strings) then we should consider allowing operator overloading."
   ]
  },
  {
   "cell_type": "raw",
   "id": "bcb566b7-84f9-4c0a-bc02-a0ad80d9fe0a",
   "metadata": {},
   "source": [
    "Q8. What is the most popular form of operator overloading?\n",
    "__add__\n",
    "__sub__\n",
    "__mul__\n",
    "__floordiv__"
   ]
  },
  {
   "cell_type": "raw",
   "id": "76fe5c1e-3140-49ab-9bf5-1c7ab9455f52",
   "metadata": {},
   "source": [
    "Q9. What are the two most important concepts to grasp in order to comprehend Python OOP code?\n",
    "class and object"
   ]
  },
  {
   "cell_type": "code",
   "execution_count": null,
   "id": "3d0b0816-429f-472f-8dc7-829d2c2976ef",
   "metadata": {},
   "outputs": [],
   "source": []
  }
 ],
 "metadata": {
  "kernelspec": {
   "display_name": "Python 3 (ipykernel)",
   "language": "python",
   "name": "python3"
  },
  "language_info": {
   "codemirror_mode": {
    "name": "ipython",
    "version": 3
   },
   "file_extension": ".py",
   "mimetype": "text/x-python",
   "name": "python",
   "nbconvert_exporter": "python",
   "pygments_lexer": "ipython3",
   "version": "3.9.12"
  }
 },
 "nbformat": 4,
 "nbformat_minor": 5
}
