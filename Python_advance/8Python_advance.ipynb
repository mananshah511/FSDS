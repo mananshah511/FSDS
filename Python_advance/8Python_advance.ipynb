{
 "cells": [
  {
   "cell_type": "markdown",
   "id": "479729f9-44a9-4c12-8aba-1b853d28a0c6",
   "metadata": {},
   "source": [
    "Q1. What are the two latest user-defined exception constraints in Python 3.X?"
   ]
  },
  {
   "cell_type": "raw",
   "id": "e6cdbaaa-9790-4977-87fc-c01f1702beca",
   "metadata": {},
   "source": [
    "raise and assert"
   ]
  },
  {
   "cell_type": "markdown",
   "id": "9e97c1e2-a9b3-4214-956e-d237addcb877",
   "metadata": {},
   "source": [
    "Q2. How are class-based exceptions that have been raised matched to handlers?"
   ]
  },
  {
   "cell_type": "code",
   "execution_count": 1,
   "id": "e0fd7a68-83bd-4807-9c8a-3ada356438de",
   "metadata": {},
   "outputs": [
    {
     "ename": "NegetiveValueError",
     "evalue": "We got negetive value",
     "output_type": "error",
     "traceback": [
      "\u001b[0;31m---------------------------------------------------------------------------\u001b[0m",
      "\u001b[0;31mNegetiveValueError\u001b[0m                        Traceback (most recent call last)",
      "Cell \u001b[0;32mIn [1], line 7\u001b[0m\n\u001b[1;32m      5\u001b[0m a\u001b[38;5;241m=\u001b[39m\u001b[38;5;241m-\u001b[39m\u001b[38;5;241m10\u001b[39m\n\u001b[1;32m      6\u001b[0m \u001b[38;5;28;01mif\u001b[39;00m a\u001b[38;5;241m<\u001b[39m\u001b[38;5;241m0\u001b[39m:\n\u001b[0;32m----> 7\u001b[0m     \u001b[38;5;28;01mraise\u001b[39;00m NegetiveValueError(\u001b[38;5;124m\"\u001b[39m\u001b[38;5;124mWe got negetive value\u001b[39m\u001b[38;5;124m\"\u001b[39m)\n",
      "\u001b[0;31mNegetiveValueError\u001b[0m: We got negetive value"
     ]
    }
   ],
   "source": [
    "#inherited by base class Exception\n",
    "class NegetiveValueError(Exception):\n",
    "    def __init__(self,error):\n",
    "        self.error=error\n",
    "a=-10\n",
    "if a<0:\n",
    "    raise NegetiveValueError(\"We got negetive value\")"
   ]
  },
  {
   "cell_type": "markdown",
   "id": "0cb4a69d-9dd9-45f9-a040-eb0cf62b98fd",
   "metadata": {},
   "source": [
    "Q3. Describe two methods for attaching context information to exception artefacts."
   ]
  },
  {
   "cell_type": "raw",
   "id": "1fb796f9-cc9c-4f74-932f-087564a5285e",
   "metadata": {},
   "source": [
    "process() method of LoggerAdapter and exception() method."
   ]
  },
  {
   "cell_type": "markdown",
   "id": "101419b5-55fc-4321-8eaf-6998b58a6ad5",
   "metadata": {},
   "source": [
    "Q4. Describe two methods for specifying the text of an exception object&#39;s error message."
   ]
  },
  {
   "cell_type": "raw",
   "id": "ff8d097b-ab04-4d3f-b5bd-5f056f39a725",
   "metadata": {},
   "source": [
    "In try , except block get exception as e and print e will show error.\n",
    "Apart from that raise keyword is also used."
   ]
  },
  {
   "cell_type": "markdown",
   "id": "a998052e-bb7a-44dd-9c1e-bfc49639fec6",
   "metadata": {},
   "source": [
    "Q5. Why do you no longer use string-based exceptions?"
   ]
  },
  {
   "cell_type": "raw",
   "id": "f81f07d4-5278-4a6c-ad05-43448f7561ea",
   "metadata": {},
   "source": [
    "It will catch all exception of the programme. Thats why it is not used."
   ]
  },
  {
   "cell_type": "code",
   "execution_count": null,
   "id": "023b26bd-b9a2-4eda-a8f5-cddff38485af",
   "metadata": {},
   "outputs": [],
   "source": []
  }
 ],
 "metadata": {
  "kernelspec": {
   "display_name": "Python 3 (ipykernel)",
   "language": "python",
   "name": "python3"
  },
  "language_info": {
   "codemirror_mode": {
    "name": "ipython",
    "version": 3
   },
   "file_extension": ".py",
   "mimetype": "text/x-python",
   "name": "python",
   "nbconvert_exporter": "python",
   "pygments_lexer": "ipython3",
   "version": "3.10.6"
  }
 },
 "nbformat": 4,
 "nbformat_minor": 5
}
