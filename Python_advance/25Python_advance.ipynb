{
 "cells": [
  {
   "cell_type": "markdown",
   "id": "4281b37a-6781-4103-8108-14aae1444494",
   "metadata": {},
   "source": [
    "Q1. What is the distinction between a numpy array and a pandas data frame? Is there a way to\n",
    "convert between the two if there is?"
   ]
  },
  {
   "cell_type": "raw",
   "id": "259c7fc7-4976-4d1c-b52d-75e631148768",
   "metadata": {},
   "source": [
    "Pandas is an easy, flexible library based on numpy which provides tools for data analysis and data series while numpy is a high-speed library that is used for multi-dim. operations on array and data.\n",
    "DataFrame.to_numpy convert pandas dataframe to numpy and pd.DataFrame convert numpy to pandas dataframe."
   ]
  },
  {
   "cell_type": "markdown",
   "id": "a2bc61e3-8d11-4286-bffc-2c0044e1ef71",
   "metadata": {},
   "source": [
    "Q2. What can go wrong when an user enters in a stock-ticker symbol, and how do you handle it?"
   ]
  },
  {
   "cell_type": "raw",
   "id": "6a7a8123-4ca5-4255-8132-e1b8a4a22fef",
   "metadata": {},
   "source": [
    "stock-ticker symbols are not static and can be changed on stock delist, merger, or name change. We can handle it by storing past records of a symbol."
   ]
  },
  {
   "cell_type": "markdown",
   "id": "03a5e944-1b46-4026-a22e-2eaa8302bd95",
   "metadata": {},
   "source": [
    "Q3. Identify some of the plotting techniques that are used to produce a stock-market chart."
   ]
  },
  {
   "cell_type": "raw",
   "id": "b52caf96-aabe-4ab8-a7bf-7ed8c739c1eb",
   "metadata": {},
   "source": [
    "plotly and mplfinance type library can be used."
   ]
  },
  {
   "cell_type": "markdown",
   "id": "f4d9c2e1-dce4-48b7-80fc-175a0a0f394d",
   "metadata": {},
   "source": [
    "Q4. Why is it essential to print a legend on a stock market chart?"
   ]
  },
  {
   "cell_type": "raw",
   "id": "b307f64e-67ad-4df0-a583-a8f762680938",
   "metadata": {},
   "source": [
    "It's useful for the comparison of different stocks."
   ]
  },
  {
   "cell_type": "markdown",
   "id": "4a8c7c6d-f5a9-4ec5-a1c9-133bbea4b7ab",
   "metadata": {},
   "source": [
    "Q5. What is the best way to limit the length of a pandas data frame to less than a year?"
   ]
  },
  {
   "cell_type": "raw",
   "id": "a0a6414a-6ec8-4c50-a7d8-ede33bf47916",
   "metadata": {},
   "source": [
    "Using start,end date or choosing range of particular date."
   ]
  },
  {
   "cell_type": "markdown",
   "id": "1292b5cb-b42e-4cf4-97fe-574b86ffc366",
   "metadata": {},
   "source": [
    "Q6. What is the definition of a 180-day moving average?"
   ]
  },
  {
   "cell_type": "raw",
   "id": "d7df635b-58f0-4bde-99f5-ba83cf838a0a",
   "metadata": {},
   "source": [
    "Trends over last 180 days."
   ]
  },
  {
   "cell_type": "code",
   "execution_count": null,
   "id": "2a626e59-5bca-4976-9445-9fa84f07d965",
   "metadata": {},
   "outputs": [],
   "source": []
  }
 ],
 "metadata": {
  "kernelspec": {
   "display_name": "Python 3 (ipykernel)",
   "language": "python",
   "name": "python3"
  },
  "language_info": {
   "codemirror_mode": {
    "name": "ipython",
    "version": 3
   },
   "file_extension": ".py",
   "mimetype": "text/x-python",
   "name": "python",
   "nbconvert_exporter": "python",
   "pygments_lexer": "ipython3",
   "version": "3.10.6"
  }
 },
 "nbformat": 4,
 "nbformat_minor": 5
}
