{
 "cells": [
  {
   "cell_type": "markdown",
   "id": "d80e2feb-f99f-43da-8043-7438317449ce",
   "metadata": {},
   "source": [
    "Q1. Explain the difference between greedy and non-greedy syntax with visual terms in as few words\n",
    "as possible. What is the bare minimum effort required to transform a greedy pattern into a non-greedy\n",
    "one? What characters or characters can you introduce or change?"
   ]
  },
  {
   "cell_type": "code",
   "execution_count": 22,
   "id": "7687967b-7e40-4621-8f19-384ea1f7bf3d",
   "metadata": {},
   "outputs": [
    {
     "name": "stdout",
     "output_type": "stream",
     "text": [
      "['abcdewdnskdjskc']\n",
      "['abc']\n"
     ]
    }
   ],
   "source": [
    "# '?' will make greedy to non-greedy\n",
    "import re\n",
    "text=\"abcdewdnskdjskc\"\n",
    "x=re.compile('a.*c')   #greedy\n",
    "print(x.findall(text))\n",
    "x=re.compile('a.*?c')  #not greedy\n",
    "print(x.findall(text))"
   ]
  },
  {
   "cell_type": "markdown",
   "id": "826a0931-6d61-4812-bb54-50eaa67808f9",
   "metadata": {},
   "source": [
    "Q2. When exactly does greedy versus non-greedy make a difference?  What if you&#39;re looking for a\n",
    "non-greedy match but the only one available is greedy?"
   ]
  },
  {
   "cell_type": "raw",
   "id": "23c96258-3f41-440a-ba9e-6b59dec03b41",
   "metadata": {},
   "source": [
    "when we have a short length match available, but we have used a greedy pattern then it will search for a longer one and return the longest one. If we are looking for a non-greedy, but only greedy pattern there then it will be returned."
   ]
  },
  {
   "cell_type": "markdown",
   "id": "ed4a307e-e80a-459b-a18c-e42435fe702f",
   "metadata": {},
   "source": [
    "Q3. In a simple match of a string, which looks only for one match and does not do any replacement, is\n",
    "the use of a nontagged group likely to make any practical difference?"
   ]
  },
  {
   "cell_type": "code",
   "execution_count": 41,
   "id": "409145e8-6e9c-44dd-a174-4377b97ecfef",
   "metadata": {},
   "outputs": [
    {
     "name": "stdout",
     "output_type": "stream",
     "text": [
      "Manan\n",
      "Manan\n"
     ]
    }
   ],
   "source": [
    "#it wont make any difference.\n",
    "import re\n",
    "text=\"Manan,123\"\n",
    "x=re.search(\"(\\w*)(\\d*)\",text)\n",
    "print(x.group())\n",
    "print(x.group(0))"
   ]
  },
  {
   "cell_type": "markdown",
   "id": "338b9ca9-6f6f-4a1f-8d46-aa72ea44baee",
   "metadata": {},
   "source": [
    "Q4. Describe a scenario in which using a nontagged category would have a significant impact on the\n",
    "program&#39;s outcomes."
   ]
  },
  {
   "cell_type": "code",
   "execution_count": 2,
   "id": "75312174-0b2d-4b77-a311-700e2e3685d1",
   "metadata": {},
   "outputs": [
    {
     "name": "stdout",
     "output_type": "stream",
     "text": [
      "('Manan', '123')\n"
     ]
    }
   ],
   "source": [
    "#difference. & is missed\n",
    "import re\n",
    "text=\"Manan&123\"\n",
    "x=re.search(\"(\\w*)\\&(\\d*)\",text)\n",
    "print(x.groups())"
   ]
  },
  {
   "cell_type": "markdown",
   "id": "966f0014-f19f-4861-a5e0-1f82ac0f658a",
   "metadata": {},
   "source": [
    "Q5. Unlike a normal regex pattern, a look-ahead condition does not consume the characters it\n",
    "examines. Describe a situation in which this could make a difference in the results of your\n",
    "programme."
   ]
  },
  {
   "cell_type": "code",
   "execution_count": 5,
   "id": "2a8ae158-00d4-4f46-9023-4b06088c9f44",
   "metadata": {},
   "outputs": [
    {
     "name": "stdout",
     "output_type": "stream",
     "text": [
      "None\n",
      "<re.Match object; span=(0, 2), match='MM'>\n"
     ]
    }
   ],
   "source": [
    "import re\n",
    "text=\"MM1\"\n",
    "x=re.search(\"(\\w\\w)(?=[a-z])\",text)\n",
    "print(x)\n",
    "x=re.search(\"(\\w\\w)(?=[\\d])\",text)\n",
    "print(x)"
   ]
  },
  {
   "cell_type": "markdown",
   "id": "c19defec-f524-49ff-b55f-5cd4171ebac8",
   "metadata": {},
   "source": [
    "Q6. In standard expressions, what is the difference between positive look-ahead and negative look-\n",
    "ahead?"
   ]
  },
  {
   "cell_type": "raw",
   "id": "3ad0226b-21dc-4e12-9b0b-fa3322713432",
   "metadata": {},
   "source": [
    "positive look-ahead check after pattern and negetive-look ahead check before pattern."
   ]
  },
  {
   "cell_type": "markdown",
   "id": "fdb76ddc-bf36-4ff1-8060-fb76e99cff29",
   "metadata": {},
   "source": [
    "Q7. What is the benefit of referring to groups by name rather than by number in a standard\n",
    "expression?"
   ]
  },
  {
   "cell_type": "raw",
   "id": "c0926406-906a-4d12-970b-b27052115cb6",
   "metadata": {},
   "source": [
    "increase user readability."
   ]
  },
  {
   "cell_type": "markdown",
   "id": "fa03529f-2a42-45c5-beba-dde7e716f643",
   "metadata": {},
   "source": [
    "Q8. Can you identify repeated items within a target string using named groups, as in &quot;The cow\n",
    "jumped over the moon&quot;?"
   ]
  },
  {
   "cell_type": "code",
   "execution_count": 24,
   "id": "c596766f-3585-46ce-ab64-a2ef78a13a0f",
   "metadata": {},
   "outputs": [
    {
     "data": {
      "text/plain": [
       "['The', 'the']"
      ]
     },
     "execution_count": 24,
     "metadata": {},
     "output_type": "execute_result"
    }
   ],
   "source": [
    "import re\n",
    "text=\"The cow jumped over the moon\"\n",
    "x=re.compile('(?P<THE>the)',re.IGNORECASE)\n",
    "x.findall(text)"
   ]
  },
  {
   "cell_type": "markdown",
   "id": "78286ee7-7984-4ada-bcad-823350b793a8",
   "metadata": {},
   "source": [
    "Q9. When parsing a string, what is at least one thing that the Scanner interface does for you that the\n",
    "re.findall feature does not?"
   ]
  },
  {
   "cell_type": "raw",
   "id": "90f166cf-c6cc-47ab-b042-85afb33a2e9c",
   "metadata": {},
   "source": [
    "re.search() only find first occurence while re.findall() find everthing."
   ]
  },
  {
   "cell_type": "markdown",
   "id": "c927b242-1009-4cb0-884f-cdb15369b346",
   "metadata": {},
   "source": [
    "Q10. Does a scanner object have to be named scanner?"
   ]
  },
  {
   "cell_type": "raw",
   "id": "eafc9767-741e-4bcc-a58d-9cab40b2565b",
   "metadata": {},
   "source": [
    "No, we can give different name"
   ]
  },
  {
   "cell_type": "code",
   "execution_count": null,
   "id": "7fa013c1-5e9f-4a76-93d2-e5476b6a9618",
   "metadata": {},
   "outputs": [],
   "source": []
  }
 ],
 "metadata": {
  "kernelspec": {
   "display_name": "Python 3 (ipykernel)",
   "language": "python",
   "name": "python3"
  },
  "language_info": {
   "codemirror_mode": {
    "name": "ipython",
    "version": 3
   },
   "file_extension": ".py",
   "mimetype": "text/x-python",
   "name": "python",
   "nbconvert_exporter": "python",
   "pygments_lexer": "ipython3",
   "version": "3.10.6"
  }
 },
 "nbformat": 4,
 "nbformat_minor": 5
}
