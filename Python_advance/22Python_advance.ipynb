{
 "cells": [
  {
   "cell_type": "markdown",
   "id": "c9fad740",
   "metadata": {},
   "source": [
    "Q1. What are the benefits of the built-in array package, if any?"
   ]
  },
  {
   "cell_type": "raw",
   "id": "571c586e",
   "metadata": {},
   "source": [
    "array provides many basic functions like list, but the main advantage is it's used when we want to provide some restriction in terms of security and it uses less memory then python list."
   ]
  },
  {
   "cell_type": "markdown",
   "id": "d71a9be6",
   "metadata": {},
   "source": [
    "Q2. What are some of the array package's limitations?"
   ]
  },
  {
   "cell_type": "raw",
   "id": "b7dd8165",
   "metadata": {},
   "source": [
    "We have to use the same type of element which is the main limitation compared to the list. The function of the array is not flexible like a list."
   ]
  },
  {
   "cell_type": "markdown",
   "id": "db56d097",
   "metadata": {},
   "source": [
    "Q3. Describe the main differences between the array and numpy packages."
   ]
  },
  {
   "cell_type": "raw",
   "id": "537b1144",
   "metadata": {},
   "source": [
    "The array supports basic operation while numpy supports advanced operation most efficiently.\n",
    "The array is slower while numpy is faster.\n",
    "Parallel operation is not supported in the array while supported in numpy."
   ]
  },
  {
   "cell_type": "markdown",
   "id": "a4159f38",
   "metadata": {},
   "source": [
    "Q4. Explain the distinctions between the empty, ones, and zeros functions."
   ]
  },
  {
   "cell_type": "raw",
   "id": "19acf60c",
   "metadata": {},
   "source": [
    "Empty does not initialize an array, it's faster while ones and zeros set values to one and zero."
   ]
  },
  {
   "cell_type": "code",
   "execution_count": 3,
   "id": "a20e5e72",
   "metadata": {},
   "outputs": [
    {
     "data": {
      "text/plain": [
       "array([[9.33697783e-312, 6.95332756e-310],\n",
       "       [4.94065646e-324,             nan]])"
      ]
     },
     "execution_count": 3,
     "metadata": {},
     "output_type": "execute_result"
    }
   ],
   "source": [
    "import numpy as np\n",
    "np.empty((2,2))"
   ]
  },
  {
   "cell_type": "code",
   "execution_count": 4,
   "id": "c7293d44",
   "metadata": {},
   "outputs": [
    {
     "data": {
      "text/plain": [
       "array([[0., 0.],\n",
       "       [0., 0.]])"
      ]
     },
     "execution_count": 4,
     "metadata": {},
     "output_type": "execute_result"
    }
   ],
   "source": [
    "np.zeros((2,2))"
   ]
  },
  {
   "cell_type": "code",
   "execution_count": 5,
   "id": "d613f313",
   "metadata": {},
   "outputs": [
    {
     "data": {
      "text/plain": [
       "array([[1., 1.],\n",
       "       [1., 1.]])"
      ]
     },
     "execution_count": 5,
     "metadata": {},
     "output_type": "execute_result"
    }
   ],
   "source": [
    "np.ones((2,2))"
   ]
  },
  {
   "cell_type": "markdown",
   "id": "1bea243b",
   "metadata": {},
   "source": [
    "Q5. In the fromfunction function, which is used to construct new arrays, what is the role of the callable argument?"
   ]
  },
  {
   "cell_type": "raw",
   "id": "bd53b327",
   "metadata": {},
   "source": [
    "the callable argument is called with an N parameter where N is the shape of the rank. It represents the coordinate of the array."
   ]
  },
  {
   "cell_type": "markdown",
   "id": "c7505e46",
   "metadata": {},
   "source": [
    "Q6. What happens when a numpy array is combined with a single-value operand (a scalar, such as an int or a floating-point value) through addition, as in the expression A + n?"
   ]
  },
  {
   "cell_type": "raw",
   "id": "202f53a0",
   "metadata": {},
   "source": [
    "its broadcast addition and n will be added to all values of A."
   ]
  },
  {
   "cell_type": "code",
   "execution_count": 6,
   "id": "f7743ea4",
   "metadata": {},
   "outputs": [
    {
     "data": {
      "text/plain": [
       "array([[6., 6.],\n",
       "       [6., 6.]])"
      ]
     },
     "execution_count": 6,
     "metadata": {},
     "output_type": "execute_result"
    }
   ],
   "source": [
    "import numpy as np\n",
    "A=np.ones((2,2))\n",
    "A+5"
   ]
  },
  {
   "cell_type": "markdown",
   "id": "ce3bfc95",
   "metadata": {},
   "source": [
    "Q7. Can array-to-scalar operations use combined operation-assign operators (such as += or *=)? What is the outcome?"
   ]
  },
  {
   "cell_type": "raw",
   "id": "5920bfef",
   "metadata": {},
   "source": [
    "it will perform an operation on all the elements."
   ]
  },
  {
   "cell_type": "code",
   "execution_count": 7,
   "id": "e760a4d0",
   "metadata": {},
   "outputs": [
    {
     "name": "stdout",
     "output_type": "stream",
     "text": [
      "[[5. 5.]\n",
      " [5. 5.]]\n"
     ]
    }
   ],
   "source": [
    "import numpy as np\n",
    "A=np.ones((2,2))\n",
    "A+=4\n",
    "print(A)"
   ]
  },
  {
   "cell_type": "markdown",
   "id": "8a916a48",
   "metadata": {},
   "source": [
    "Q8. Does a numpy array contain fixed-length strings? What happens if you allocate a longer string to one of these arrays?"
   ]
  },
  {
   "cell_type": "code",
   "execution_count": 15,
   "id": "2f274637",
   "metadata": {},
   "outputs": [
    {
     "data": {
      "text/plain": [
       "array([['M', '']], dtype='<U1')"
      ]
     },
     "execution_count": 15,
     "metadata": {},
     "output_type": "execute_result"
    }
   ],
   "source": [
    "s=np.empty((1,2),dtype='str')\n",
    "s[0][0]='Manan'\n",
    "s"
   ]
  },
  {
   "cell_type": "raw",
   "id": "ffc6cbe9",
   "metadata": {},
   "source": [
    "It has a fixed length of 1 when using dtype='str' and if allocate longer string it will be truncated"
   ]
  },
  {
   "cell_type": "markdown",
   "id": "4750cffd",
   "metadata": {},
   "source": [
    "\n",
    "Q9. What happens when you combine two numpy arrays using an operation like addition (+) or multiplication (*)? What are the conditions for combining two numpy arrays?\n"
   ]
  },
  {
   "cell_type": "code",
   "execution_count": 20,
   "id": "2394e218",
   "metadata": {},
   "outputs": [
    {
     "name": "stdout",
     "output_type": "stream",
     "text": [
      "[[1. 1.]\n",
      " [1. 1.]]\n",
      "[[0. 0.]\n",
      " [0. 0.]]\n"
     ]
    }
   ],
   "source": [
    "x=np.ones((1,2))\n",
    "y=np.zeros((2,2))\n",
    "print(x+y)\n",
    "print(x*y)"
   ]
  },
  {
   "cell_type": "raw",
   "id": "4c679546",
   "metadata": {},
   "source": [
    "Element wise + or * will be performed if a shape is the same. If not the same then broadcasted to one or another array"
   ]
  },
  {
   "cell_type": "markdown",
   "id": "5a9c25f9",
   "metadata": {},
   "source": [
    "Q10. What is the best way to use a Boolean array to mask another array?"
   ]
  },
  {
   "cell_type": "code",
   "execution_count": 25,
   "id": "4b288c8d",
   "metadata": {},
   "outputs": [
    {
     "data": {
      "text/plain": [
       "array([[1, 3, 5],\n",
       "       [1, 3, 5]])"
      ]
     },
     "execution_count": 25,
     "metadata": {},
     "output_type": "execute_result"
    }
   ],
   "source": [
    "a=np.array((True,False,True,False,True))\n",
    "b=np.array(((1,2,3,4,5),(1,2,3,4,5)))\n",
    "b[:,a]"
   ]
  },
  {
   "cell_type": "markdown",
   "id": "29246c6d",
   "metadata": {},
   "source": [
    "Q11. What are three different ways to get the standard deviation of a wide collection of data using both standard Python and its packages? Sort the three of them by how quickly they execute."
   ]
  },
  {
   "cell_type": "code",
   "execution_count": 47,
   "id": "ba5daa9d",
   "metadata": {},
   "outputs": [],
   "source": [
    "import time\n",
    "import statistics\n",
    "import numpy as np\n",
    "import pandas as pd\n",
    "a=np.linspace(1,10000)"
   ]
  },
  {
   "cell_type": "code",
   "execution_count": 48,
   "id": "a1c6789e",
   "metadata": {},
   "outputs": [
    {
     "name": "stdout",
     "output_type": "stream",
     "text": [
      "std 2974.677959008069\n",
      "0.0029954910278320312\n"
     ]
    }
   ],
   "source": [
    "s=time.time()\n",
    "print(\"std\",statistics.stdev(a))\n",
    "e=time.time()\n",
    "print(e-s)"
   ]
  },
  {
   "cell_type": "code",
   "execution_count": 49,
   "id": "f99f2e42",
   "metadata": {},
   "outputs": [
    {
     "name": "stdout",
     "output_type": "stream",
     "text": [
      "std 2944.7809393250704\n",
      "0.0010020732879638672\n"
     ]
    }
   ],
   "source": [
    "s=time.time()\n",
    "print(\"std\",numpy.std(a))\n",
    "e=time.time()\n",
    "print(e-s)"
   ]
  },
  {
   "cell_type": "code",
   "execution_count": 50,
   "id": "088422e5",
   "metadata": {},
   "outputs": [
    {
     "name": "stdout",
     "output_type": "stream",
     "text": [
      "std 0    2974.677959\n",
      "dtype: float64\n",
      "0.0039975643157958984\n"
     ]
    }
   ],
   "source": [
    "a=pd.DataFrame(a)\n",
    "s=time.time()\n",
    "print(\"std\",pd.DataFrame.std(a))\n",
    "e=time.time()\n",
    "print(e-s)"
   ]
  },
  {
   "cell_type": "raw",
   "id": "61780da5",
   "metadata": {},
   "source": [
    "#sort\n",
    "numpy\n",
    "stats\n",
    "pandas"
   ]
  },
  {
   "cell_type": "markdown",
   "id": "fe6325c8",
   "metadata": {},
   "source": [
    "12. What is the dimensionality of a Boolean mask-generated array?"
   ]
  },
  {
   "cell_type": "raw",
   "id": "81054c11",
   "metadata": {},
   "source": [
    "One dim array with elements which satisfy condition."
   ]
  }
 ],
 "metadata": {
  "kernelspec": {
   "display_name": "Python 3 (ipykernel)",
   "language": "python",
   "name": "python3"
  },
  "language_info": {
   "codemirror_mode": {
    "name": "ipython",
    "version": 3
   },
   "file_extension": ".py",
   "mimetype": "text/x-python",
   "name": "python",
   "nbconvert_exporter": "python",
   "pygments_lexer": "ipython3",
   "version": "3.9.12"
  }
 },
 "nbformat": 4,
 "nbformat_minor": 5
}
