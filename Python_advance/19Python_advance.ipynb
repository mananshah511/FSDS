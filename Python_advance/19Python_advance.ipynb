{
 "cells": [
  {
   "cell_type": "markdown",
   "id": "ce64253f-4cef-42d5-9c6b-f70aabbec4d8",
   "metadata": {},
   "source": [
    "Q1. Define the relationship between a class and its instances. Is it a one-to-one or a one-to-many\n",
    "partnership, for example?"
   ]
  },
  {
   "cell_type": "code",
   "execution_count": 2,
   "id": "64297397-31b8-4745-b1ee-3546955dfbc6",
   "metadata": {},
   "outputs": [],
   "source": [
    "class xyz:     #class\n",
    "    pass\n",
    "XYZ=xyz()      #instances\n",
    "ABC=xyz()      #instances"
   ]
  },
  {
   "cell_type": "raw",
   "id": "f6d1496c-a526-450c-bdb2-bc5730756b15",
   "metadata": {},
   "source": [
    "one class has many instances, and one instance belongs to one class at a time, so it's  one to many partnerships, an example is shown above."
   ]
  },
  {
   "cell_type": "markdown",
   "id": "c253e05d-4659-4642-bd99-90d8c6a9809d",
   "metadata": {},
   "source": [
    "Q2. What kind of data is held only in an instance?"
   ]
  },
  {
   "cell_type": "raw",
   "id": "b57ac247-95f8-4a1d-b664-ed48ad2dd9cf",
   "metadata": {},
   "source": [
    "the instance holds a reference to one or more variables, methods, constructors, etc."
   ]
  },
  {
   "cell_type": "markdown",
   "id": "b769ec43-8fbd-46a2-b2ba-c59fc021869c",
   "metadata": {},
   "source": [
    "Q3. What kind of knowledge is stored in a class?"
   ]
  },
  {
   "cell_type": "raw",
   "id": "a3d7f4f6-cb2e-4dd9-90a3-60d1c2ad5e25",
   "metadata": {},
   "source": [
    "The class holds variables, and methods, basically it's like a blueprint."
   ]
  },
  {
   "cell_type": "markdown",
   "id": "74fa11b8-bb7a-4c89-acbf-fefff2b40f3c",
   "metadata": {},
   "source": [
    "Q4. What exactly is a method, and how is it different from a regular function?"
   ]
  },
  {
   "cell_type": "raw",
   "id": "119b1c33-36fa-4159-b022-14e3fcb88faf",
   "metadata": {},
   "source": [
    "Both are the same, but the function defined inside a class is called a method, while without class its a regular function."
   ]
  },
  {
   "cell_type": "markdown",
   "id": "84148d22-d6ae-43b2-84a3-2618469fbc25",
   "metadata": {},
   "source": [
    "Q5. Is inheritance supported in Python, and if so, what is the syntax?"
   ]
  },
  {
   "cell_type": "code",
   "execution_count": 4,
   "id": "a6a9a323-fd7e-48a1-9a42-ef1a60d59bb8",
   "metadata": {},
   "outputs": [],
   "source": [
    "#yes its supported in python.\n",
    "class xyz:\n",
    "    pass\n",
    "class xyz_child(xyz):   #inheritance\n",
    "    pass"
   ]
  },
  {
   "cell_type": "markdown",
   "id": "10309ae9-a2f7-41be-9941-cf2688b8cc30",
   "metadata": {},
   "source": [
    "Q6. How much encapsulation (making instance or class variables private) does Python support?"
   ]
  },
  {
   "cell_type": "code",
   "execution_count": 18,
   "id": "80f7052d-772c-4f7c-9a53-aa2f5e8937d5",
   "metadata": {},
   "outputs": [
    {
     "name": "stdout",
     "output_type": "stream",
     "text": [
      "5\n",
      "6\n"
     ]
    }
   ],
   "source": [
    "class xyz:\n",
    "    def __init__(self,a,b):\n",
    "        self._a=a\n",
    "        self.__b=b\n",
    "XYZ=xyz(5,6)\n",
    "print(XYZ._a)\n",
    "print(XYZ._xyz__b)   #encapsulation "
   ]
  },
  {
   "cell_type": "markdown",
   "id": "de8c3763-30e4-4604-a5a4-419e6f5d51e8",
   "metadata": {},
   "source": [
    "Q7. How do you distinguish between a class variable and an instance variable?"
   ]
  },
  {
   "cell_type": "code",
   "execution_count": 21,
   "id": "8c8936a9-c40a-4eb8-91ca-1a3cfd3879b5",
   "metadata": {},
   "outputs": [
    {
     "name": "stdout",
     "output_type": "stream",
     "text": [
      "5\n",
      "10\n"
     ]
    }
   ],
   "source": [
    "class xyz:\n",
    "    a=5   #class variable\n",
    "    def __init__(self,b):\n",
    "        self.b=b     #instance variable\n",
    "XYZ=xyz(10)\n",
    "print(XYZ.a)\n",
    "print(XYZ.b)"
   ]
  },
  {
   "cell_type": "markdown",
   "id": "5291e21c-24b8-494d-802d-1dab27377f36",
   "metadata": {},
   "source": [
    "Q8. When, if ever, can self be included in a class&#39;s method definitions?"
   ]
  },
  {
   "cell_type": "code",
   "execution_count": 22,
   "id": "34c3f1c5-3552-46b6-ac7c-320d821c921c",
   "metadata": {},
   "outputs": [],
   "source": [
    "#self is used for instance of the class. Attributes and methods can be accessed using self inside a class.\n",
    "class xyz:\n",
    "    def __init__(self,a):\n",
    "        self.a=a\n",
    "    def hello(self):\n",
    "        return self.a"
   ]
  },
  {
   "cell_type": "markdown",
   "id": "b9ca500c-90ef-45b3-a214-3857586414ba",
   "metadata": {},
   "source": [
    "Q9. What is the difference between the _ _add_ _ and the _ _radd_ _ methods?"
   ]
  },
  {
   "cell_type": "raw",
   "id": "a8d2b1a8-1a3c-4936-8a2d-84ea5d799cad",
   "metadata": {},
   "source": [
    "add perform addition and radd perform reverse addition, when x+y is called add method might fail because of improper implementioned and no return type, in that case, radd is used."
   ]
  },
  {
   "cell_type": "markdown",
   "id": "ecedd43a-a0e5-440e-89e7-3f1d6458f4c6",
   "metadata": {},
   "source": [
    "Q10. When is it necessary to use a reflection method? When do you not need it, even though you\n",
    "support the operation in question?"
   ]
  },
  {
   "cell_type": "raw",
   "id": "0f22144d-8dec-4d33-a227-ce3e158478cb",
   "metadata": {},
   "source": [
    "It's useful to check the type of the attribute of the object which is passed as parameters in the function. "
   ]
  },
  {
   "cell_type": "code",
   "execution_count": 23,
   "id": "d2d6e370-f7e6-451d-bb7c-f76271615292",
   "metadata": {},
   "outputs": [
    {
     "data": {
      "text/plain": [
       "True"
      ]
     },
     "execution_count": 23,
     "metadata": {},
     "output_type": "execute_result"
    }
   ],
   "source": [
    "class A:     \n",
    "    pass\n",
    "class B(A):\n",
    "    pass\n",
    "type(A()) is A"
   ]
  },
  {
   "cell_type": "code",
   "execution_count": 24,
   "id": "aec8fe2f-65b7-4af7-838d-cf8c1b9833c3",
   "metadata": {},
   "outputs": [
    {
     "data": {
      "text/plain": [
       "False"
      ]
     },
     "execution_count": 24,
     "metadata": {},
     "output_type": "execute_result"
    }
   ],
   "source": [
    "type(B()) is A"
   ]
  },
  {
   "cell_type": "code",
   "execution_count": 26,
   "id": "0813a476-8758-4713-a231-f06d3e2203e5",
   "metadata": {},
   "outputs": [
    {
     "name": "stdout",
     "output_type": "stream",
     "text": [
      "False\n",
      "True\n"
     ]
    }
   ],
   "source": [
    "print(type(B()) is A)\n",
    "print(isinstance(B(), A))  #its should be false but we get true so we need reflection"
   ]
  },
  {
   "cell_type": "markdown",
   "id": "2bb3b9a5-1145-4b21-8aea-b78a79544cf4",
   "metadata": {},
   "source": [
    "Q11. What is the _ _iadd_ _ method called?"
   ]
  },
  {
   "cell_type": "code",
   "execution_count": 41,
   "id": "27d9bfda-ed3b-4d3b-afa1-a6fac8b244f5",
   "metadata": {},
   "outputs": [],
   "source": [
    "#inplace addition, here i have chnaged it\n",
    "class xyz:\n",
    "    def __init__(self,a):\n",
    "        self.a=a\n",
    "    def __iadd__(self,obj):\n",
    "        self.a=self.a-obj   #modified behaviour\n",
    "        return self.a"
   ]
  },
  {
   "cell_type": "code",
   "execution_count": 42,
   "id": "848b65ee-2843-42ac-b6e2-41feca368690",
   "metadata": {},
   "outputs": [
    {
     "data": {
      "text/plain": [
       "0"
      ]
     },
     "execution_count": 42,
     "metadata": {},
     "output_type": "execute_result"
    }
   ],
   "source": [
    "x1=xyz(5)\n",
    "x1+=5\n",
    "x1"
   ]
  },
  {
   "cell_type": "markdown",
   "id": "70c26fa6-7955-4c67-83f2-8a69dd2517d0",
   "metadata": {},
   "source": [
    "Q12. Is the _ _init_ _ method inherited by subclasses? What do you do if you need to customize its\n",
    "behavior within a subclass?"
   ]
  },
  {
   "cell_type": "code",
   "execution_count": 50,
   "id": "e909c304-f393-4343-9bfd-3e2fe8642374",
   "metadata": {},
   "outputs": [
    {
     "name": "stdout",
     "output_type": "stream",
     "text": [
      "7\n",
      "10\n"
     ]
    }
   ],
   "source": [
    "#yes its inherited by subclass. we need to use super to customize it\n",
    "class xyz:\n",
    "    def __init__(self,a):\n",
    "        self.a=a\n",
    "class abc(xyz):\n",
    "    def __init__(self,a,b):\n",
    "        self.b=b\n",
    "        super().__init__(a)\n",
    "    \n",
    "x1=xyz(5)\n",
    "x2=abc(10,7)\n",
    "print(x2.b)\n",
    "print(x2.a)"
   ]
  },
  {
   "cell_type": "code",
   "execution_count": null,
   "id": "fd6f606c-c2c1-4de7-9fcb-6bb3b954501d",
   "metadata": {},
   "outputs": [],
   "source": []
  }
 ],
 "metadata": {
  "kernelspec": {
   "display_name": "Python 3 (ipykernel)",
   "language": "python",
   "name": "python3"
  },
  "language_info": {
   "codemirror_mode": {
    "name": "ipython",
    "version": 3
   },
   "file_extension": ".py",
   "mimetype": "text/x-python",
   "name": "python",
   "nbconvert_exporter": "python",
   "pygments_lexer": "ipython3",
   "version": "3.10.6"
  }
 },
 "nbformat": 4,
 "nbformat_minor": 5
}
