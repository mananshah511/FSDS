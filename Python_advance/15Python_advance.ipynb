{
 "cells": [
  {
   "cell_type": "markdown",
   "id": "3a6d41ed-7271-434d-9855-d167109ad400",
   "metadata": {},
   "source": [
    "1.\tWhat are the new features added in Python 3.8 version?"
   ]
  },
  {
   "cell_type": "raw",
   "id": "f1bc2ab4-9b97-4ec4-beeb-9068c5053799",
   "metadata": {},
   "source": [
    "Assignment expressions.\n",
    "Positional-only parameters.\n",
    "Parallel filesystem cache for compiled bytecode files.\n",
    "Debug build uses the same ABI as release build.\n",
    "f-strings support = for self-documenting expressions and debugging.\n",
    "PEP 578: Python Runtime Audit Hooks.\n",
    "PEP 587: Python Initialization Configuration."
   ]
  },
  {
   "cell_type": "markdown",
   "id": "0dd0797b-29e5-4f56-ba1e-d1bced7381cf",
   "metadata": {},
   "source": [
    "2.\tWhat is monkey patching in Python?"
   ]
  },
  {
   "cell_type": "raw",
   "id": "d17329af-d689-45e7-af5a-c90d010f639f",
   "metadata": {},
   "source": [
    "Its dynamic modifiction of class or module at a run-time."
   ]
  },
  {
   "cell_type": "code",
   "execution_count": 10,
   "id": "6a8bd510-263a-4a66-9d37-1cb035aefee9",
   "metadata": {},
   "outputs": [
    {
     "data": {
      "text/plain": [
       "'Monkey patching is done and called'"
      ]
     },
     "execution_count": 10,
     "metadata": {},
     "output_type": "execute_result"
    }
   ],
   "source": [
    "class xyz:\n",
    "    def func(self):\n",
    "        return \"function of XYZ is called\"\n",
    "def monk_func(self):\n",
    "    return \"Monkey patching is done and called\"\n",
    "xyz.func=monk_func\n",
    "XYZ=xyz()\n",
    "XYZ.func()"
   ]
  },
  {
   "cell_type": "markdown",
   "id": "b02150a3-9b1a-443d-8900-63b02190829b",
   "metadata": {},
   "source": [
    "3.\tWhat is the difference between a shallow copy and deep copy?"
   ]
  },
  {
   "cell_type": "raw",
   "id": "44f46f11-5980-4315-8b1e-b745d275ca2f",
   "metadata": {},
   "source": [
    "Changes made in shallow copy will be reflected in the original copy while changes made in deep copy do not reflect in the original copy."
   ]
  },
  {
   "cell_type": "markdown",
   "id": "b4dee0df-a675-4248-9191-29a44d087fdf",
   "metadata": {},
   "source": [
    "4.\tWhat is the maximum possible length of an identifier?"
   ]
  },
  {
   "cell_type": "raw",
   "id": "6288ef87-6c9a-4991-93a3-439e7f17969d",
   "metadata": {},
   "source": [
    "No such limit, but fro PEP-8 standard it should be 79 char long."
   ]
  },
  {
   "cell_type": "markdown",
   "id": "aa2e71af-c304-4ab0-bb30-babc30eaddd8",
   "metadata": {},
   "source": [
    "5.\tWhat is generator comprehension?"
   ]
  },
  {
   "cell_type": "raw",
   "id": "170646ca-a960-4776-adf9-e7a1dc92b107",
   "metadata": {},
   "source": [
    "Its simple way to write generator function."
   ]
  },
  {
   "cell_type": "code",
   "execution_count": 20,
   "id": "f416486d-7b6c-40d5-9a5e-eaead0d0aabb",
   "metadata": {},
   "outputs": [],
   "source": [
    "x=(i+2 for i in range(100))   #simple generator comprehension"
   ]
  },
  {
   "cell_type": "code",
   "execution_count": null,
   "id": "94718f05-5195-4e9d-8b94-0e0adf847db5",
   "metadata": {},
   "outputs": [],
   "source": []
  }
 ],
 "metadata": {
  "kernelspec": {
   "display_name": "Python 3 (ipykernel)",
   "language": "python",
   "name": "python3"
  },
  "language_info": {
   "codemirror_mode": {
    "name": "ipython",
    "version": 3
   },
   "file_extension": ".py",
   "mimetype": "text/x-python",
   "name": "python",
   "nbconvert_exporter": "python",
   "pygments_lexer": "ipython3",
   "version": "3.9.12"
  }
 },
 "nbformat": 4,
 "nbformat_minor": 5
}
