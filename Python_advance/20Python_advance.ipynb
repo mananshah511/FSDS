{
 "cells": [
  {
   "cell_type": "markdown",
   "id": "d092f150",
   "metadata": {},
   "source": [
    "1. Compare and contrast the float and Decimal classes' benefits and drawbacks."
   ]
  },
  {
   "cell_type": "raw",
   "id": "cd6434c8",
   "metadata": {},
   "source": [
    "Both store numeric values.\n",
    "\n",
    "Float is faster while decimal is slower.\n",
    "\n",
    "Float provides approx values while decimal does not.\n",
    "\n",
    "Decimal has a precision issue but it benefits most of the time.\n",
    "\n",
    "In terms of performance decimal over power float."
   ]
  },
  {
   "cell_type": "markdown",
   "id": "dfa42b42",
   "metadata": {},
   "source": [
    "2. Decimal('1.200') and Decimal('1.2') are two objects to consider. In what sense are these the same object? Are these just two ways of representing the exact same value, or do they correspond to different internal states?"
   ]
  },
  {
   "cell_type": "raw",
   "id": "ca77a9c6",
   "metadata": {},
   "source": [
    "Both are the same in terms of value and have a difference in terms of precision."
   ]
  },
  {
   "cell_type": "markdown",
   "id": "efb5df66",
   "metadata": {},
   "source": [
    "3. What happens if the equality of Decimal('1.200') and Decimal('1.2') is checked?"
   ]
  },
  {
   "cell_type": "code",
   "execution_count": 5,
   "id": "a5e69497",
   "metadata": {},
   "outputs": [],
   "source": [
    "It will be True."
   ]
  },
  {
   "cell_type": "markdown",
   "id": "ce78f951",
   "metadata": {},
   "source": [
    "4. Why is it preferable to start a Decimal object with a string rather than a floating-point value?"
   ]
  },
  {
   "cell_type": "code",
   "execution_count": 17,
   "id": "7fd19770",
   "metadata": {},
   "outputs": [
    {
     "data": {
      "text/plain": [
       "Decimal('0.200000000000000011102230246251565404236316680908203125')"
      ]
     },
     "execution_count": 17,
     "metadata": {},
     "output_type": "execute_result"
    }
   ],
   "source": [
    "#it will cause precision issue while making from float, in string it wont create issue.\n",
    "import decimal\n",
    "decimal.Decimal(0.2)"
   ]
  },
  {
   "cell_type": "markdown",
   "id": "6466a9ed",
   "metadata": {},
   "source": [
    "5. In an arithmetic phrase, how simple is it to combine Decimal objects with integers?"
   ]
  },
  {
   "cell_type": "code",
   "execution_count": 18,
   "id": "c3baaa23",
   "metadata": {},
   "outputs": [
    {
     "data": {
      "text/plain": [
       "Decimal('10.220')"
      ]
     },
     "execution_count": 18,
     "metadata": {},
     "output_type": "execute_result"
    }
   ],
   "source": [
    "import decimal\n",
    "x=decimal.Decimal('0.220')\n",
    "x+10"
   ]
  },
  {
   "cell_type": "markdown",
   "id": "ed018852",
   "metadata": {},
   "source": [
    "6. Can Decimal objects and floating-point values be combined easily?"
   ]
  },
  {
   "cell_type": "code",
   "execution_count": 20,
   "id": "607f10d4",
   "metadata": {},
   "outputs": [
    {
     "ename": "TypeError",
     "evalue": "unsupported operand type(s) for +: 'decimal.Decimal' and 'float'",
     "output_type": "error",
     "traceback": [
      "\u001b[1;31m---------------------------------------------------------------------------\u001b[0m",
      "\u001b[1;31mTypeError\u001b[0m                                 Traceback (most recent call last)",
      "Input \u001b[1;32mIn [20]\u001b[0m, in \u001b[0;36m<cell line: 4>\u001b[1;34m()\u001b[0m\n\u001b[0;32m      2\u001b[0m \u001b[38;5;28;01mimport\u001b[39;00m \u001b[38;5;21;01mdecimal\u001b[39;00m\n\u001b[0;32m      3\u001b[0m x\u001b[38;5;241m=\u001b[39mdecimal\u001b[38;5;241m.\u001b[39mDecimal(\u001b[38;5;124m'\u001b[39m\u001b[38;5;124m0.220\u001b[39m\u001b[38;5;124m'\u001b[39m)\n\u001b[1;32m----> 4\u001b[0m \u001b[43mx\u001b[49m\u001b[38;5;241;43m+\u001b[39;49m\u001b[38;5;241;43m10.22\u001b[39;49m\n",
      "\u001b[1;31mTypeError\u001b[0m: unsupported operand type(s) for +: 'decimal.Decimal' and 'float'"
     ]
    }
   ],
   "source": [
    "#No it will cause error\n",
    "import decimal\n",
    "x=decimal.Decimal('0.220')\n",
    "x+10.22"
   ]
  },
  {
   "cell_type": "markdown",
   "id": "175148a0",
   "metadata": {},
   "source": [
    "7. Using the Fraction class but not the Decimal class, give an example of a quantity that can be expressed with absolute precision"
   ]
  },
  {
   "cell_type": "code",
   "execution_count": 25,
   "id": "a7d74c53",
   "metadata": {},
   "outputs": [
    {
     "data": {
      "text/plain": [
       "Fraction(2476979795053773, 4503599627370496)"
      ]
     },
     "execution_count": 25,
     "metadata": {},
     "output_type": "execute_result"
    }
   ],
   "source": [
    "from fractions import Fraction\n",
    "Fraction(0.55)"
   ]
  },
  {
   "cell_type": "markdown",
   "id": "53b7e69c",
   "metadata": {},
   "source": [
    "8. Describe a quantity that can be accurately expressed by the Decimal or Fraction classes but not by a floating-point value."
   ]
  },
  {
   "cell_type": "code",
   "execution_count": 40,
   "id": "71500ad2",
   "metadata": {},
   "outputs": [
    {
     "name": "stdout",
     "output_type": "stream",
     "text": [
      "0.19999999999999996\n",
      "0.2\n",
      "900719925474099/4503599627370496\n"
     ]
    }
   ],
   "source": [
    "print(float(1.2-1.0))              #not accurate\n",
    "print(decimal.Decimal(str(1.2))-decimal.Decimal(str(1.0)))  #accurate\n",
    "print(Fraction(1.2)-Fraction(1.0))   #accurate"
   ]
  },
  {
   "cell_type": "markdown",
   "id": "2148c023",
   "metadata": {},
   "source": [
    "Q9.Consider the following two fraction objects: Fraction(1, 2) and Fraction(1, 2). (5, 10). Is the internal state of these two objects the same? Why do you think that is?"
   ]
  },
  {
   "cell_type": "raw",
   "id": "0899cd1d",
   "metadata": {},
   "source": [
    "Yes, both will be reduced to the same value and internal state, and the object will be different based on a different assignment."
   ]
  },
  {
   "cell_type": "markdown",
   "id": "71041f40",
   "metadata": {},
   "source": [
    "Q10. How do the Fraction class and the integer type (int) relate to each other? Containment or inheritance?"
   ]
  },
  {
   "cell_type": "code",
   "execution_count": null,
   "id": "c445f3d9",
   "metadata": {},
   "outputs": [],
   "source": [
    "Fractions contain int as its two arguments."
   ]
  }
 ],
 "metadata": {
  "kernelspec": {
   "display_name": "Python 3 (ipykernel)",
   "language": "python",
   "name": "python3"
  },
  "language_info": {
   "codemirror_mode": {
    "name": "ipython",
    "version": 3
   },
   "file_extension": ".py",
   "mimetype": "text/x-python",
   "name": "python",
   "nbconvert_exporter": "python",
   "pygments_lexer": "ipython3",
   "version": "3.9.12"
  }
 },
 "nbformat": 4,
 "nbformat_minor": 5
}
