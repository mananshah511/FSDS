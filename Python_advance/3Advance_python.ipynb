{
 "cells": [
  {
   "cell_type": "markdown",
   "id": "80799d1e-1406-4c68-901d-f08f8d6bc88b",
   "metadata": {},
   "source": [
    "1. What is the concept of an abstract superclass?"
   ]
  },
  {
   "cell_type": "raw",
   "id": "6b43916e-e61d-499b-97b7-b7a30b71d95a",
   "metadata": {},
   "source": [
    "Abstract class contains a blueprint of the class, it contains the method but not its implementation. an abstract class can be derived from an abstract super class. An example is shown below."
   ]
  },
  {
   "cell_type": "code",
   "execution_count": 2,
   "id": "cbdace41-b21f-4ed9-afbb-843be9e8253c",
   "metadata": {},
   "outputs": [],
   "source": [
    "from abc import ABC,abstractmethod\n",
    "class find_area(ABC):\n",
    "    @abstractmethod\n",
    "    def area(self):\n",
    "        pass"
   ]
  },
  {
   "cell_type": "markdown",
   "id": "22721ef2-de94-4abc-a3cb-f41d65a26cc9",
   "metadata": {},
   "source": [
    "2. What happens when a class statement's top level contains a basic assignment statement?"
   ]
  },
  {
   "cell_type": "raw",
   "id": "e5085843-d4ff-407c-a3ce-c3a6005e379e",
   "metadata": {},
   "source": [
    "Its called class or static variable. It can be used by all objectsof that class."
   ]
  },
  {
   "cell_type": "code",
   "execution_count": 6,
   "id": "8cdab6fc-218d-460c-a983-47c47e1b7119",
   "metadata": {},
   "outputs": [
    {
     "name": "stdout",
     "output_type": "stream",
     "text": [
      "Hello\n",
      "How are you?\n"
     ]
    }
   ],
   "source": [
    "class XYZ:\n",
    "    name=\"Hello\"\n",
    "xyz=XYZ()\n",
    "print(xyz.name)\n",
    "XYZ.name='How are you?'\n",
    "print(xyz.name)"
   ]
  },
  {
   "cell_type": "markdown",
   "id": "1787fd0a-02d6-4d35-9468-9c9d68fc2872",
   "metadata": {},
   "source": [
    "3. Why does a class need to manually call a superclass's __init__ method?"
   ]
  },
  {
   "cell_type": "raw",
   "id": "ae65aad6-c5c7-4bd7-be71-30571d784459",
   "metadata": {},
   "source": [
    "It is because if child class has init method it will override, thats why we need to call it manually using super keyword."
   ]
  },
  {
   "cell_type": "code",
   "execution_count": 28,
   "id": "108d264a-f626-49a7-a1c2-ca5849c2fd5c",
   "metadata": {},
   "outputs": [],
   "source": [
    "class abc:\n",
    "    def __init__(self,name):\n",
    "        self.name=name\n",
    "class xyz(abc):\n",
    "    def __init__(self,name):\n",
    "        super().__init__(name)\n",
    "XYZ=xyz(\"hello\")"
   ]
  },
  {
   "cell_type": "markdown",
   "id": "6af6a15b-1c9d-4fa1-96bb-0dcd91681e89",
   "metadata": {},
   "source": [
    "4. How can you augment, instead of completely replacing, an inherited method?"
   ]
  },
  {
   "cell_type": "code",
   "execution_count": 27,
   "id": "f12db7c3-f4dc-4073-ab82-f368bd83aa20",
   "metadata": {},
   "outputs": [],
   "source": [
    "class Spam:\n",
    "    def update(self):\n",
    "        print('updating spam!')\n",
    "\n",
    "class SpamLite(Spam):\n",
    "    def update(self):\n",
    "        print('this spam is lite!')\n",
    "        Spam.update(self)   #augment instead of replacing all"
   ]
  },
  {
   "cell_type": "markdown",
   "id": "bbd9dcbc-c23d-4a18-8992-58de45793316",
   "metadata": {},
   "source": [
    "5. How is the local scope of a class different from that of a function?"
   ]
  },
  {
   "cell_type": "raw",
   "id": "922c29c3-bc11-4e1c-b1cc-b35a0e5502dc",
   "metadata": {},
   "source": [
    "In function scope of the variable is valid in function block only. While in class its valid inside a class and also access via . operator via class object"
   ]
  }
 ],
 "metadata": {
  "kernelspec": {
   "display_name": "Python 3 (ipykernel)",
   "language": "python",
   "name": "python3"
  },
  "language_info": {
   "codemirror_mode": {
    "name": "ipython",
    "version": 3
   },
   "file_extension": ".py",
   "mimetype": "text/x-python",
   "name": "python",
   "nbconvert_exporter": "python",
   "pygments_lexer": "ipython3",
   "version": "3.9.12"
  }
 },
 "nbformat": 4,
 "nbformat_minor": 5
}
