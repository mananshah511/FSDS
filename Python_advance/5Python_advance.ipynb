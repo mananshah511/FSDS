{
 "cells": [
  {
   "cell_type": "markdown",
   "id": "9a9a8f3a-8c5b-4f78-96ba-669093e37b4a",
   "metadata": {},
   "source": [
    "Q1. What is the meaning of multiple inheritance?"
   ]
  },
  {
   "cell_type": "code",
   "execution_count": 4,
   "id": "1edbfe73-129c-48bf-abd2-fbca334e334e",
   "metadata": {},
   "outputs": [],
   "source": [
    "#base calss is derived from two or more class, its called multiple inheritance.\n",
    "class X:\n",
    "    pass\n",
    "class Y:\n",
    "    pass\n",
    "class Z(X,Y):\n",
    "    pass"
   ]
  },
  {
   "cell_type": "markdown",
   "id": "59350bed-90df-4f8c-b85b-ca0aa38659b5",
   "metadata": {},
   "source": [
    "Q2. What is the concept of delegation?"
   ]
  },
  {
   "cell_type": "code",
   "execution_count": 13,
   "id": "ca9952f3-639f-4d0c-a73b-c88630dc35f7",
   "metadata": {},
   "outputs": [],
   "source": [
    "#delegation is oops techinique which helps method resuability/modification via new class.\n",
    "class Fan:\n",
    "    def fan_start(self):\n",
    "        return \"fan is started\"\n",
    "class Room:\n",
    "    def __init__(self):\n",
    "        self.fan=Fan()\n",
    "    #delegation\n",
    "    def fan_start(self):\n",
    "        return self.fan.fan_start()"
   ]
  },
  {
   "cell_type": "code",
   "execution_count": 14,
   "id": "a86d6373-4cb8-4160-bb62-0a82917e46c0",
   "metadata": {},
   "outputs": [
    {
     "data": {
      "text/plain": [
       "'fan is started'"
      ]
     },
     "execution_count": 14,
     "metadata": {},
     "output_type": "execute_result"
    }
   ],
   "source": [
    "Hall_room=Room()\n",
    "Hall_room.fan_start()"
   ]
  },
  {
   "cell_type": "markdown",
   "id": "affe8dd2-1cff-4548-80e9-f0b7f4d63977",
   "metadata": {},
   "source": [
    "Q3. What is the concept of composition?"
   ]
  },
  {
   "cell_type": "code",
   "execution_count": 15,
   "id": "c41861dd-96dc-4d94-a2d3-d83c75964960",
   "metadata": {},
   "outputs": [],
   "source": [
    "#class that reference to one or more object of different class as instance variable.\n",
    "class A:\n",
    "    pass\n",
    "class B:\n",
    "    obj=A()  #composition   "
   ]
  },
  {
   "cell_type": "markdown",
   "id": "1fcdf320-e0cb-4ec1-af69-c4d2e73b0366",
   "metadata": {},
   "source": [
    "Q4. What are bound methods and how do we use them?"
   ]
  },
  {
   "cell_type": "code",
   "execution_count": 17,
   "id": "88583ed3-b8af-4868-a22f-3e0d24aae68a",
   "metadata": {},
   "outputs": [
    {
     "data": {
      "text/plain": [
       "<bound method A.area of <__main__.A object at 0x7f48fcc5c5e0>>"
      ]
     },
     "execution_count": 17,
     "metadata": {},
     "output_type": "execute_result"
    }
   ],
   "source": [
    "class A:\n",
    "    def area(self):\n",
    "        return \"area\"\n",
    "a=A()\n",
    "a.area   #bound method"
   ]
  },
  {
   "cell_type": "markdown",
   "id": "3a21e706-7c3e-44f2-8da9-d26fe8fa5f94",
   "metadata": {},
   "source": [
    "Q5. What is the purpose of pseudoprivate attributes?"
   ]
  },
  {
   "cell_type": "code",
   "execution_count": 21,
   "id": "950e8bea-8712-4e47-b783-aad596d16ae0",
   "metadata": {},
   "outputs": [],
   "source": [
    "class A:\n",
    "    def __init__(self,name):\n",
    "        self.__name=name   #pseudo private, provide privacy for some level.\n",
    "a=A(\"Manan\")"
   ]
  },
  {
   "cell_type": "code",
   "execution_count": null,
   "id": "e2ed48f1-b4df-4665-840b-ac002255fdd2",
   "metadata": {},
   "outputs": [],
   "source": []
  }
 ],
 "metadata": {
  "kernelspec": {
   "display_name": "Python 3 (ipykernel)",
   "language": "python",
   "name": "python3"
  },
  "language_info": {
   "codemirror_mode": {
    "name": "ipython",
    "version": 3
   },
   "file_extension": ".py",
   "mimetype": "text/x-python",
   "name": "python",
   "nbconvert_exporter": "python",
   "pygments_lexer": "ipython3",
   "version": "3.10.6"
  }
 },
 "nbformat": 4,
 "nbformat_minor": 5
}
