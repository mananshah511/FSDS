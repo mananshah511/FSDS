{
 "cells": [
  {
   "cell_type": "markdown",
   "id": "87aa260b-3322-42f6-b34b-b34913e2c1ad",
   "metadata": {},
   "source": [
    "Q1. What is the concept of a metaclass?"
   ]
  },
  {
   "cell_type": "raw",
   "id": "9b43eb39-b282-4a9d-a638-a2ae7f17bf46",
   "metadata": {},
   "source": [
    "Metaclass is a class which define how class can behave. Class itself is an instace of the metaclass."
   ]
  },
  {
   "cell_type": "markdown",
   "id": "2b53c385-baaf-4ab6-8596-dcbd3c78c588",
   "metadata": {},
   "source": [
    "Q2. What is the best way to declare a class&#39;s metaclass?"
   ]
  },
  {
   "cell_type": "code",
   "execution_count": 1,
   "id": "3c02c8eb-e4da-4a50-b2f7-6ce197eedd8f",
   "metadata": {},
   "outputs": [],
   "source": [
    "class one(type):\n",
    "    pass\n",
    "class two(metaclass=one):\n",
    "    pass"
   ]
  },
  {
   "cell_type": "code",
   "execution_count": 2,
   "id": "80ab1fb8-da99-4efa-9019-9f43cbb93203",
   "metadata": {},
   "outputs": [
    {
     "name": "stdout",
     "output_type": "stream",
     "text": [
      "<class 'type'>\n",
      "<class '__main__.one'>\n"
     ]
    }
   ],
   "source": [
    "print(type(one))\n",
    "print(type(two))"
   ]
  },
  {
   "cell_type": "markdown",
   "id": "bbae03c5-1fb2-46b2-87f1-1e58db761f90",
   "metadata": {},
   "source": [
    "Q3. How do class decorators overlap with metaclasses for handling classes?"
   ]
  },
  {
   "cell_type": "raw",
   "id": "ea7d999e-8881-4b7b-9fff-b0e4ce772073",
   "metadata": {},
   "source": [
    "Using __new__ method."
   ]
  },
  {
   "cell_type": "markdown",
   "id": "586f7e29-9344-4647-be7e-e231fdbe2782",
   "metadata": {},
   "source": [
    "Q4. How do class decorators overlap with metaclasses for handling instances?"
   ]
  },
  {
   "cell_type": "raw",
   "id": "c13ac685-09e5-452f-970a-9334ea9261ea",
   "metadata": {},
   "source": [
    "Using __init__ method."
   ]
  }
 ],
 "metadata": {
  "kernelspec": {
   "display_name": "Python 3 (ipykernel)",
   "language": "python",
   "name": "python3"
  },
  "language_info": {
   "codemirror_mode": {
    "name": "ipython",
    "version": 3
   },
   "file_extension": ".py",
   "mimetype": "text/x-python",
   "name": "python",
   "nbconvert_exporter": "python",
   "pygments_lexer": "ipython3",
   "version": "3.10.6"
  }
 },
 "nbformat": 4,
 "nbformat_minor": 5
}
