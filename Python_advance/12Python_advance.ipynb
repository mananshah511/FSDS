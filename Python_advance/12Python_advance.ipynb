{
 "cells": [
  {
   "cell_type": "raw",
   "id": "d75bd919-b378-42fa-aa27-6bd4ffcd22c4",
   "metadata": {},
   "source": [
    "Q1. Does assigning a value to a string's indexed character violate Python's string immutability?\n",
    "Yes it will violate string imutability"
   ]
  },
  {
   "cell_type": "raw",
   "id": "f288a9df-0ccc-4be4-a6f4-0eb495afb840",
   "metadata": {},
   "source": [
    "Q2. Does using the += operator to concatenate strings violate Python's string immutability? Why or why not?\n",
    "No, it does not violate string immutability. Because after += operation it will refer to new object."
   ]
  },
  {
   "cell_type": "raw",
   "id": "09b2de52-9ec0-4e91-84f4-c7d916bb4a2f",
   "metadata": {},
   "source": [
    "Q3. In Python, how many different ways are there to index a character?\n",
    "Two ways, positive index and negetive index"
   ]
  },
  {
   "cell_type": "raw",
   "id": "df8db557-7d77-4848-ac27-68e2a2a1ce35",
   "metadata": {},
   "source": [
    "Q4. What is the relationship between indexing and slicing?\n",
    "Indexing will provide exact elements based on the position provided. While slicing will provide a substring based on the start, end, and steps provided. We can get the exact value in slicing like an index, but we can't get substring like slicing in the index."
   ]
  },
  {
   "cell_type": "raw",
   "id": "77a48b2f-9eb1-4afb-8c25-814786234782",
   "metadata": {},
   "source": [
    "Q5. What is an indexed character's exact data type? What is the data form of a slicing-generated substring?\n",
    "Both have datatype as 'str'"
   ]
  },
  {
   "cell_type": "raw",
   "id": "c7713f8b-f200-43ca-9544-569c9aec18e9",
   "metadata": {},
   "source": [
    "Q6. What is the relationship between string and character \"types\" in Python?\n",
    "Python does not have character type, any character or sequence of character refers to the type str which is string datatype."
   ]
  },
  {
   "cell_type": "raw",
   "id": "2be60be0-9d31-4a9a-80c5-f7a617a82641",
   "metadata": {},
   "source": [
    "Q7. Identify at least two operators and one method that allow you to combine one or more smaller strings to create a larger string."
   ]
  },
  {
   "cell_type": "raw",
   "id": "7a39b440-a135-463e-93c6-fc600b390564",
   "metadata": {},
   "source": [
    "Operators   +   %\n",
    "Method   join"
   ]
  },
  {
   "cell_type": "code",
   "execution_count": 30,
   "id": "f6480192-47b3-4738-bb26-4b70dbac088c",
   "metadata": {},
   "outputs": [
    {
     "data": {
      "text/plain": [
       "'HelloWorld'"
      ]
     },
     "execution_count": 30,
     "metadata": {},
     "output_type": "execute_result"
    }
   ],
   "source": [
    "a=\"Hello\"\n",
    "b=\"World\"\n",
    "a+b"
   ]
  },
  {
   "cell_type": "code",
   "execution_count": 31,
   "id": "ee1a32e3-bd86-45ce-8262-1a8e37052d0e",
   "metadata": {},
   "outputs": [
    {
     "data": {
      "text/plain": [
       "'HelloWorld'"
      ]
     },
     "execution_count": 31,
     "metadata": {},
     "output_type": "execute_result"
    }
   ],
   "source": [
    "\"%s%s\"%(a,b)"
   ]
  },
  {
   "cell_type": "code",
   "execution_count": 32,
   "id": "04fab8a1-5098-4c4d-bbd4-d60569ff0866",
   "metadata": {},
   "outputs": [
    {
     "data": {
      "text/plain": [
       "'HelloWorld'"
      ]
     },
     "execution_count": 32,
     "metadata": {},
     "output_type": "execute_result"
    }
   ],
   "source": [
    "\"\".join([a,b])"
   ]
  },
  {
   "cell_type": "raw",
   "id": "780b7c3c-1e84-46c2-be12-4c895889fd37",
   "metadata": {},
   "source": [
    "Q8. What is the benefit of first checking the target string with in or not in before using the index method to find a substring?"
   ]
  },
  {
   "cell_type": "raw",
   "id": "35dac929-b3b8-425f-b9a5-7a6012d88f22",
   "metadata": {},
   "source": [
    "in/not method will make sure that the substring is present in the target string or not. If it returns false then the index method to find that string will throw a value error."
   ]
  },
  {
   "cell_type": "code",
   "execution_count": 33,
   "id": "536e9301-ec22-466f-91eb-64f0936ac068",
   "metadata": {},
   "outputs": [
    {
     "name": "stdout",
     "output_type": "stream",
     "text": [
      "True\n",
      "6\n"
     ]
    }
   ],
   "source": [
    "a=\"Hello World\"\n",
    "b=\"Wo\"\n",
    "print(b in a)\n",
    "print(a.index(b))"
   ]
  },
  {
   "cell_type": "code",
   "execution_count": 34,
   "id": "a96be056-3620-436d-b193-e503e01c5cd0",
   "metadata": {},
   "outputs": [
    {
     "name": "stdout",
     "output_type": "stream",
     "text": [
      "False\n"
     ]
    },
    {
     "ename": "ValueError",
     "evalue": "substring not found",
     "output_type": "error",
     "traceback": [
      "\u001b[0;31m---------------------------------------------------------------------------\u001b[0m",
      "\u001b[0;31mValueError\u001b[0m                                Traceback (most recent call last)",
      "Input \u001b[0;32mIn [34]\u001b[0m, in \u001b[0;36m<cell line: 4>\u001b[0;34m()\u001b[0m\n\u001b[1;32m      2\u001b[0m b\u001b[38;5;241m=\u001b[39m\u001b[38;5;124m\"\u001b[39m\u001b[38;5;124mW0\u001b[39m\u001b[38;5;124m\"\u001b[39m\n\u001b[1;32m      3\u001b[0m \u001b[38;5;28mprint\u001b[39m(b \u001b[38;5;129;01min\u001b[39;00m a)\n\u001b[0;32m----> 4\u001b[0m \u001b[38;5;28mprint\u001b[39m(\u001b[43ma\u001b[49m\u001b[38;5;241;43m.\u001b[39;49m\u001b[43mindex\u001b[49m\u001b[43m(\u001b[49m\u001b[43mb\u001b[49m\u001b[43m)\u001b[49m)\n",
      "\u001b[0;31mValueError\u001b[0m: substring not found"
     ]
    }
   ],
   "source": [
    "a=\"Hello World\"\n",
    "b=\"W0\"\n",
    "print(b in a)\n",
    "print(a.index(b))"
   ]
  },
  {
   "cell_type": "raw",
   "id": "63ff50f6-bfa8-49d8-9af3-723b4288bbdf",
   "metadata": {},
   "source": [
    "Q9. Which operators and built-in string methods produce simple Boolean (true/false) results?"
   ]
  },
  {
   "cell_type": "raw",
   "id": "8924eb00-00af-40a1-b15b-d7c29aa76f04",
   "metadata": {},
   "source": [
    "is\n",
    "not\n",
    "isalnum()\n",
    "isalpha()\n",
    "isascii()\n",
    "isdecimal()\n",
    "isdigit()\n",
    "isidentifier()\n",
    "islower()\n",
    "isnumeric()\n",
    "isprintable()\n",
    "isspace()\n",
    "istitle()\n",
    "isupper()"
   ]
  },
  {
   "cell_type": "code",
   "execution_count": null,
   "id": "be14bba3-f907-4bfe-b448-e20e539fe6ed",
   "metadata": {},
   "outputs": [],
   "source": []
  }
 ],
 "metadata": {
  "kernelspec": {
   "display_name": "Python 3 (ipykernel)",
   "language": "python",
   "name": "python3"
  },
  "language_info": {
   "codemirror_mode": {
    "name": "ipython",
    "version": 3
   },
   "file_extension": ".py",
   "mimetype": "text/x-python",
   "name": "python",
   "nbconvert_exporter": "python",
   "pygments_lexer": "ipython3",
   "version": "3.9.12"
  }
 },
 "nbformat": 4,
 "nbformat_minor": 5
}
