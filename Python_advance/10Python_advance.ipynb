{
 "cells": [
  {
   "cell_type": "markdown",
   "id": "c7107d80-77b6-4361-9804-7262d6acfe4b",
   "metadata": {},
   "source": [
    "Q1. What is the difference between __getattr__ and __getattribute__?"
   ]
  },
  {
   "cell_type": "code",
   "execution_count": 1,
   "id": "e1b711d5-c973-43f4-b853-eae082241614",
   "metadata": {},
   "outputs": [
    {
     "name": "stdout",
     "output_type": "stream",
     "text": [
      "5\n",
      "attribute you are trying to access is not found\n"
     ]
    }
   ],
   "source": [
    "class A:\n",
    "    def __init__(self,a):\n",
    "        self.a=a\n",
    "    def __getattr__(self,attribute):\n",
    "        return \"attribute you are trying to access is not found\"\n",
    "obj=A(5)\n",
    "print(obj.a)\n",
    "print(obj.name)"
   ]
  },
  {
   "cell_type": "code",
   "execution_count": 2,
   "id": "e3bbfee4-34d6-45b2-8b53-e604058c777b",
   "metadata": {},
   "outputs": [
    {
     "name": "stdout",
     "output_type": "stream",
     "text": [
      "attribute you are trying to access is not found\n",
      "attribute you are trying to access is not found\n"
     ]
    }
   ],
   "source": [
    "class A:\n",
    "    def __init__(self,a):\n",
    "        self.a=a\n",
    "    def __getattribute__(self,attribute):\n",
    "        return \"attribute you are trying to access is not found\"\n",
    "obj=A(5)\n",
    "print(obj.a)\n",
    "print(obj.name)"
   ]
  },
  {
   "cell_type": "raw",
   "id": "1d30d330-951a-4736-a224-644b9dac4136",
   "metadata": {},
   "source": [
    "In the first example we can see that __getattr__ method, first try to look for the attribute(a), and yes its available then it will print the value of a. Then it is trying to access the variable name from the same class and object, but there is no attribute called name, so simply __getattr__ function is called and return in a way we have defined it(\"attribute you are trying to access is not found\")\n",
    "\n",
    "In the second example, we can see that __getattribute__ method, won't check if the attribute is there or not it will directly return as we have defined it. So for 'a' and 'name,' it will return \"attribute you are trying to access is not found\"."
   ]
  },
  {
   "cell_type": "markdown",
   "id": "9e2b656d-6605-4c2e-b8c2-ad26bb8ae5f0",
   "metadata": {},
   "source": [
    "Q2. What is the difference between properties and descriptors?"
   ]
  },
  {
   "cell_type": "raw",
   "id": "a1077e47-c40f-4d9f-9e2a-6c9b70f0626e",
   "metadata": {},
   "source": [
    "We can define custom get, and set methods using __get__() and __set__() methods, and that method can be called using another call it is called descriptors.\n",
    "We can make our custom method for getting, setting, and passing it into the same class in the property method its called property. It is also called descriptors using the property method. So basically every property is the description."
   ]
  },
  {
   "cell_type": "markdown",
   "id": "f11065ab-da6a-4e2a-965d-6c4b39a92551",
   "metadata": {},
   "source": [
    "Q3. What are the key differences in functionality between __getattr__ and __getattribute__, as well as\n",
    "properties and descriptors?"
   ]
  },
  {
   "cell_type": "code",
   "execution_count": 20,
   "id": "3ec4c1a1-5f1c-45c9-b1c2-3bdfd40070ff",
   "metadata": {},
   "outputs": [
    {
     "name": "stdout",
     "output_type": "stream",
     "text": [
      "5\n",
      "attribute you are trying to access is not found\n"
     ]
    }
   ],
   "source": [
    "#__getattr__\n",
    "class A:\n",
    "    def __init__(self,a):\n",
    "        self.a=a\n",
    "    def __getattr__(self,attribute):\n",
    "        return \"attribute you are trying to access is not found\"\n",
    "obj=A(5)\n",
    "print(obj.a)\n",
    "print(obj.name)"
   ]
  },
  {
   "cell_type": "code",
   "execution_count": 19,
   "id": "daad5cb8-ebde-4df3-8264-f61c71dc31f5",
   "metadata": {},
   "outputs": [
    {
     "name": "stdout",
     "output_type": "stream",
     "text": [
      "attribute you are trying to access is not found\n",
      "attribute you are trying to access is not found\n"
     ]
    }
   ],
   "source": [
    "#__getattribute__\n",
    "class A:\n",
    "    def __init__(self,a):\n",
    "        self.a=a\n",
    "    def __getattribute__(self,attribute):\n",
    "        return \"attribute you are trying to access is not found\"\n",
    "obj=A(5)\n",
    "print(obj.a)\n",
    "print(obj.name)"
   ]
  },
  {
   "cell_type": "code",
   "execution_count": 40,
   "id": "377ce14c-2716-4f20-ae80-c67599dbb671",
   "metadata": {},
   "outputs": [
    {
     "name": "stdout",
     "output_type": "stream",
     "text": [
      "set method is called\n",
      "get method is called\n",
      "Geeks\n"
     ]
    }
   ],
   "source": [
    "#descriptors\n",
    "class abc:\n",
    "    def __init__(self, name=\"\"):\n",
    "        self.name = name\n",
    "    def __get__(self,x,y):\n",
    "        print(\"get method is called\")\n",
    "        return self.name\n",
    "    def __set__(self,x,name):\n",
    "        self.name=name\n",
    "        print(\"set method is called\")\n",
    "class xyz():\n",
    "    name=abc()\n",
    "    \n",
    "g = xyz()\n",
    "g.name = \"Geeks\"\n",
    "print(g.name)"
   ]
  },
  {
   "cell_type": "code",
   "execution_count": 59,
   "id": "55b34757-b424-4c37-be0e-ad78b1ede388",
   "metadata": {},
   "outputs": [
    {
     "name": "stdout",
     "output_type": "stream",
     "text": [
      "get method is called\n",
      "Manan\n",
      "set method is called\n",
      "get method is called\n",
      "Hello\n"
     ]
    }
   ],
   "source": [
    "#property\n",
    "class abc:\n",
    "    def __init__(self, name):\n",
    "        self._name = name\n",
    "    def getv(self):\n",
    "        print(\"get method is called\")\n",
    "        return self._name\n",
    "    def setv(self,name):\n",
    "        self._name=name\n",
    "        print(\"set method is called\")\n",
    "        \n",
    "    name=property(getv,setv)\n",
    "\n",
    "g=abc(\"Manan\")\n",
    "print(g.getv())\n",
    "g.name=\"Hello\"\n",
    "print(g.getv())"
   ]
  },
  {
   "cell_type": "code",
   "execution_count": null,
   "id": "3d1745d0-a6cb-44e9-8c22-5dbce5d68c2c",
   "metadata": {},
   "outputs": [],
   "source": []
  }
 ],
 "metadata": {
  "kernelspec": {
   "display_name": "Python 3 (ipykernel)",
   "language": "python",
   "name": "python3"
  },
  "language_info": {
   "codemirror_mode": {
    "name": "ipython",
    "version": 3
   },
   "file_extension": ".py",
   "mimetype": "text/x-python",
   "name": "python",
   "nbconvert_exporter": "python",
   "pygments_lexer": "ipython3",
   "version": "3.9.12"
  }
 },
 "nbformat": 4,
 "nbformat_minor": 5
}
