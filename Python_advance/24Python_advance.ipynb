{
 "cells": [
  {
   "cell_type": "markdown",
   "id": "8bd8c7fa-10bc-4b74-a846-4edecd267ca3",
   "metadata": {},
   "source": [
    "Q1. Is it permissible to use several import statements to import the same module? What would the\n",
    "goal be? Can you think of a situation where it would be beneficial?"
   ]
  },
  {
   "cell_type": "raw",
   "id": "2236b42b-c8d5-4924-98d9-a72d7cf4b3f2",
   "metadata": {},
   "source": [
    "We can import the same module multiple times, if it's already loaded then we will only get the reference. It can be beneficial when we only want one part of the package instead of the whole module itself."
   ]
  },
  {
   "cell_type": "code",
   "execution_count": 1,
   "id": "a814365c-9772-4f71-a007-4e9245064370",
   "metadata": {},
   "outputs": [],
   "source": [
    "import matplotlib.pyplot as plt\n",
    "import matplotlib.colors as clr"
   ]
  },
  {
   "cell_type": "markdown",
   "id": "98ac352f-2a5a-47c9-8504-831343edaeca",
   "metadata": {},
   "source": [
    "Q2. What are some of a module&#39;s characteristics? (Name at least one.)"
   ]
  },
  {
   "cell_type": "raw",
   "id": "5723ae4d-e9eb-4bbc-8474-bcb707c21245",
   "metadata": {},
   "source": [
    "Module logic can be written and stored in a different file and used as a library in the new program."
   ]
  },
  {
   "cell_type": "markdown",
   "id": "4f2656e9-6b6a-4ffe-8ca3-2401381c0225",
   "metadata": {},
   "source": [
    "Q3. Circular importing, such as when two modules import each other, can lead to dependencies and\n",
    "bugs that aren&#39;t visible. How can you go about creating a program that avoids mutual importing?"
   ]
  },
  {
   "cell_type": "raw",
   "id": "1dbf967d-9f8a-4785-84fe-c1df63fabfa7",
   "metadata": {},
   "source": [
    "We can solve this dependency by either merging two modules and making a common module or we can import module1 to modul2 or vice verse to solve it."
   ]
  },
  {
   "cell_type": "markdown",
   "id": "669d9a08-1569-48ae-9cf0-b24aa36ca1ec",
   "metadata": {},
   "source": [
    "Q4. Why is _ _all_ _ in Python?"
   ]
  },
  {
   "cell_type": "raw",
   "id": "115b2ab9-f0fd-4a28-a053-84a339cdd6d0",
   "metadata": {},
   "source": [
    "it provides list of all public object of particular module."
   ]
  },
  {
   "cell_type": "markdown",
   "id": "427b2715-7fba-48ae-b377-90a24e88e8f9",
   "metadata": {},
   "source": [
    "Q5. In what situation is it useful to refer to the _ _name_ _ attribute or the string &#39;_ _main_ _&#39;?"
   ]
  },
  {
   "cell_type": "raw",
   "id": "ce0d2c9c-1f5b-4c0d-b923-b71af10b8514",
   "metadata": {},
   "source": [
    "When file was run manually and not imported _name_='_main_' is usefull."
   ]
  },
  {
   "cell_type": "markdown",
   "id": "1093e541-5b1c-4346-a158-343c1236504a",
   "metadata": {},
   "source": [
    "Q6. What are some of the benefits of attaching a program counter to the RPN interpreter\n",
    "application, which interprets an RPN script line by line?"
   ]
  },
  {
   "cell_type": "raw",
   "id": "d170f955-90e3-4428-94d6-fec6082eaecd",
   "metadata": {},
   "source": [
    "As the mathematical expression is converted to postfix/prefix, it will lead to less error and more accuracy."
   ]
  }
 ],
 "metadata": {
  "kernelspec": {
   "display_name": "Python 3 (ipykernel)",
   "language": "python",
   "name": "python3"
  },
  "language_info": {
   "codemirror_mode": {
    "name": "ipython",
    "version": 3
   },
   "file_extension": ".py",
   "mimetype": "text/x-python",
   "name": "python",
   "nbconvert_exporter": "python",
   "pygments_lexer": "ipython3",
   "version": "3.10.6"
  }
 },
 "nbformat": 4,
 "nbformat_minor": 5
}
