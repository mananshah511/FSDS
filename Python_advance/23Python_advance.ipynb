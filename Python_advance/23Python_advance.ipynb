{
 "cells": [
  {
   "cell_type": "markdown",
   "id": "dad69785-9d9a-41cf-b797-f8a42df893a2",
   "metadata": {},
   "source": [
    "Q1. If you have any, what are your choices for increasing the comparison between different figures on\n",
    "the same graph?"
   ]
  },
  {
   "cell_type": "raw",
   "id": "79453859-ffed-414d-a9f7-2d08835abba4",
   "metadata": {},
   "source": [
    "We can use the subplot module from matplotlib.pyplot module which can help in the comparison between graphs."
   ]
  },
  {
   "cell_type": "markdown",
   "id": "c0c1f236-a3cb-40c8-a2d6-64061138eb4e",
   "metadata": {},
   "source": [
    "Q2. Can you explain the benefit of compound interest over a higher rate of interest that does not\n",
    "compound after reading this chapter?"
   ]
  },
  {
   "cell_type": "raw",
   "id": "0570b89f-3950-4868-a39d-5eaa1c3611ad",
   "metadata": {},
   "source": [
    "compound interest always is beneficial, as we get interest after some period then again we get interest on the same principal plus interest and that grows very fast compared to fixed higher interest rates."
   ]
  },
  {
   "cell_type": "markdown",
   "id": "9e9de2ab-4b6a-4cd8-907d-c859ef0df963",
   "metadata": {},
   "source": [
    "Q3. What is a histogram, exactly? Name a numpy method for creating such a graph."
   ]
  },
  {
   "cell_type": "raw",
   "id": "104048da-71ed-4a2f-b84f-0f1f99774184",
   "metadata": {},
   "source": [
    "The histogram is the frequency of data distribution in the graphical form. numpy.The histogram () method is there."
   ]
  },
  {
   "cell_type": "markdown",
   "id": "c6778545-b22d-48ba-b758-bef1fe84546e",
   "metadata": {},
   "source": [
    "Q4. If necessary, how do you change the aspect ratios between the X and Y axes?"
   ]
  },
  {
   "cell_type": "code",
   "execution_count": null,
   "id": "de54c7e7-1afd-463c-8692-64d39e4f4758",
   "metadata": {},
   "outputs": [],
   "source": [
    "Using set_aspect() method of matplotlib.pyplot."
   ]
  },
  {
   "cell_type": "markdown",
   "id": "fb56778a-89cd-4962-8385-cbe320042778",
   "metadata": {},
   "source": [
    "Q5. Compare and contrast the three types of array multiplication between two numpy arrays: dot\n",
    "product, outer product, and regular multiplication of two numpy arrays."
   ]
  },
  {
   "cell_type": "code",
   "execution_count": 3,
   "id": "e7488086-0dc1-4491-938a-02fde53b93d7",
   "metadata": {},
   "outputs": [],
   "source": [
    "import numpy as np\n",
    "a=np.array([[1,2],[3,4]])\n",
    "b=np.array([[1,1],[3,3]])"
   ]
  },
  {
   "cell_type": "code",
   "execution_count": 4,
   "id": "53b8c8fe-9bab-4a5d-a1e5-9ab48453775f",
   "metadata": {},
   "outputs": [
    {
     "data": {
      "text/plain": [
       "array([[1, 2],\n",
       "       [3, 4]])"
      ]
     },
     "execution_count": 4,
     "metadata": {},
     "output_type": "execute_result"
    }
   ],
   "source": [
    "a"
   ]
  },
  {
   "cell_type": "code",
   "execution_count": 5,
   "id": "047ba4ab-e0c5-4a88-9f6b-a6071efb2a9a",
   "metadata": {},
   "outputs": [
    {
     "data": {
      "text/plain": [
       "array([[1, 1],\n",
       "       [3, 3]])"
      ]
     },
     "execution_count": 5,
     "metadata": {},
     "output_type": "execute_result"
    }
   ],
   "source": [
    "b"
   ]
  },
  {
   "cell_type": "code",
   "execution_count": 6,
   "id": "811fdb66-e9cd-4209-84f5-dfa3cdcb4243",
   "metadata": {},
   "outputs": [
    {
     "data": {
      "text/plain": [
       "array([[ 7,  7],\n",
       "       [15, 15]])"
      ]
     },
     "execution_count": 6,
     "metadata": {},
     "output_type": "execute_result"
    }
   ],
   "source": [
    "a.dot(b)            #matrix multiplication"
   ]
  },
  {
   "cell_type": "code",
   "execution_count": 7,
   "id": "57b06075-a0b7-4632-9d9b-d85f72614529",
   "metadata": {},
   "outputs": [
    {
     "data": {
      "text/plain": [
       "array([[ 1,  2],\n",
       "       [ 9, 12]])"
      ]
     },
     "execution_count": 7,
     "metadata": {},
     "output_type": "execute_result"
    }
   ],
   "source": [
    "a*b       #elemenet wise ultiplication"
   ]
  },
  {
   "cell_type": "code",
   "execution_count": 8,
   "id": "b72dafd2-af18-4b55-b871-512fd1778ac3",
   "metadata": {},
   "outputs": [
    {
     "data": {
      "text/plain": [
       "array([[ 1,  1,  3,  3],\n",
       "       [ 2,  2,  6,  6],\n",
       "       [ 3,  3,  9,  9],\n",
       "       [ 4,  4, 12, 12]])"
      ]
     },
     "execution_count": 8,
     "metadata": {},
     "output_type": "execute_result"
    }
   ],
   "source": [
    "np.outer(a,b)   #every element of a multiply each element of b and so on"
   ]
  },
  {
   "cell_type": "markdown",
   "id": "b687ebce-e093-45d5-84ab-24c40f317964",
   "metadata": {},
   "source": [
    "Q6. Before you buy a home, which numpy function will you use to measure your monthly mortgage\n",
    "payment?"
   ]
  },
  {
   "cell_type": "raw",
   "id": "97afd5c6-381a-4806-9cc6-cfe69524d9c3",
   "metadata": {},
   "source": [
    "pmt(rate, nper, pv) is used where rate is interest rate, nper is no of month, pv is total ammount."
   ]
  },
  {
   "cell_type": "markdown",
   "id": "0734217c-eaf7-469c-b722-af0c47af4456",
   "metadata": {},
   "source": [
    "Q7. Can string data be stored in numpy arrays? If so, list at least one restriction that applies to this\n",
    "data."
   ]
  },
  {
   "cell_type": "raw",
   "id": "d3fbbbdb-444f-4fd2-ae7a-e004a6176360",
   "metadata": {},
   "source": [
    "Yes it can be stored, but it has limitation of length."
   ]
  }
 ],
 "metadata": {
  "kernelspec": {
   "display_name": "Python 3 (ipykernel)",
   "language": "python",
   "name": "python3"
  },
  "language_info": {
   "codemirror_mode": {
    "name": "ipython",
    "version": 3
   },
   "file_extension": ".py",
   "mimetype": "text/x-python",
   "name": "python",
   "nbconvert_exporter": "python",
   "pygments_lexer": "ipython3",
   "version": "3.10.6"
  }
 },
 "nbformat": 4,
 "nbformat_minor": 5
}
