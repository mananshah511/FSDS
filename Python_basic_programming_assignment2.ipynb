{
 "cells": [
  {
   "cell_type": "markdown",
   "id": "3d021659-a152-4fd4-ba22-1e5e45785217",
   "metadata": {},
   "source": [
    "# 1.Write a Python program to convert kilometers to miles?"
   ]
  },
  {
   "cell_type": "code",
   "execution_count": 2,
   "id": "21bff37b-90dd-4c6a-8afb-bfeb165c4789",
   "metadata": {},
   "outputs": [
    {
     "name": "stdin",
     "output_type": "stream",
     "text": [
      "please enter kilometers value: 5\n"
     ]
    },
    {
     "name": "stdout",
     "output_type": "stream",
     "text": [
      "value in miles is: 3.11\n"
     ]
    }
   ],
   "source": [
    "X=float(input(\"please enter kilometers value:\"))\n",
    "print(\"value in miles is:\",round(X*0.621371,2))"
   ]
  },
  {
   "cell_type": "markdown",
   "id": "8157bb60-2261-483d-9954-3f7ed71c42d9",
   "metadata": {},
   "source": [
    "# 2.Write a Python program to convert Celsius to Fahrenheit?"
   ]
  },
  {
   "cell_type": "code",
   "execution_count": 4,
   "id": "0e302a6c-08e7-45e2-a1c7-cdc1551aa48c",
   "metadata": {},
   "outputs": [
    {
     "name": "stdin",
     "output_type": "stream",
     "text": [
      "please enter value in celsius: 2\n"
     ]
    },
    {
     "name": "stdout",
     "output_type": "stream",
     "text": [
      "value in Fahrenheit: 35.6\n"
     ]
    }
   ],
   "source": [
    "X=float(input(\"please enter value in celsius:\"))\n",
    "print(\"value in Fahrenheit:\",round(X*(9/5)+32,2))"
   ]
  },
  {
   "cell_type": "markdown",
   "id": "abe1cfde-9394-4dc6-b8de-6cbfbaec6aae",
   "metadata": {},
   "source": [
    "# 3.Write a Python program to display calendar?"
   ]
  },
  {
   "cell_type": "code",
   "execution_count": 10,
   "id": "ee2c015b-720f-45dc-a589-6a99d146844a",
   "metadata": {},
   "outputs": [
    {
     "name": "stdin",
     "output_type": "stream",
     "text": [
      "please enter a year: 2014\n",
      "please enter a month: 4\n"
     ]
    },
    {
     "name": "stdout",
     "output_type": "stream",
     "text": [
      "calendar of given month and year is:      April 2014\n",
      "Mo Tu We Th Fr Sa Su\n",
      "    1  2  3  4  5  6\n",
      " 7  8  9 10 11 12 13\n",
      "14 15 16 17 18 19 20\n",
      "21 22 23 24 25 26 27\n",
      "28 29 30\n",
      "\n"
     ]
    }
   ],
   "source": [
    "import calendar\n",
    "year=int(input(\"please enter a year:\"))\n",
    "month=int(input(\"please enter a month:\"))\n",
    "print(\"calendar of given month and year is:\",calendar.month(year, month))"
   ]
  },
  {
   "cell_type": "markdown",
   "id": "f7f9f480-7624-4aeb-9e98-c18bca019c60",
   "metadata": {},
   "source": [
    "# 4.Write a Python program to solve quadratic equation?"
   ]
  },
  {
   "cell_type": "code",
   "execution_count": 16,
   "id": "36a64035-9779-4e6b-aaaa-f7ece8246991",
   "metadata": {},
   "outputs": [
    {
     "name": "stdin",
     "output_type": "stream",
     "text": [
      "Enter value of a(not zero and real number) 1\n",
      "Enter value of b(real number) 5\n",
      "Enter value of c(real number) 6\n"
     ]
    },
    {
     "name": "stdout",
     "output_type": "stream",
     "text": [
      "Two solutions are: -3.0 -2.0\n"
     ]
    }
   ],
   "source": [
    "import math\n",
    "a=float(input(\"Enter value of a(not zero and real number)\"))\n",
    "b=float(input(\"Enter value of b(real number)\"))\n",
    "c=float(input(\"Enter value of c(real number)\"))\n",
    "ans1=(-b-math.sqrt((b**2)-(4*a*c)))/(2*a)\n",
    "ans2=(-b+math.sqrt((b**2)-(4*a*c)))/(2*a)\n",
    "print(\"Two solutions are:\",ans1,ans2)"
   ]
  },
  {
   "cell_type": "markdown",
   "id": "376b2d88-2e14-411c-8256-bb8e1c707f1f",
   "metadata": {},
   "source": [
    "# 5.Write a Python program to swap two variables without temp variable?"
   ]
  },
  {
   "cell_type": "code",
   "execution_count": 11,
   "id": "773ec586-48ed-4e38-9fa6-a845fa64577c",
   "metadata": {},
   "outputs": [
    {
     "name": "stdin",
     "output_type": "stream",
     "text": [
      "please enter value of first variable 5\n",
      "please enter value of second variable 3\n"
     ]
    },
    {
     "name": "stdout",
     "output_type": "stream",
     "text": [
      "value after swapping is: (3, 5)\n"
     ]
    }
   ],
   "source": [
    "a=int(input(\"please enter value of first variable\"))\n",
    "b=int(input(\"please enter value of second variable\"))\n",
    "a=a+b\n",
    "b=a-b\n",
    "a=a-b\n",
    "print(\"value after swapping is:\",(a,b))"
   ]
  },
  {
   "cell_type": "code",
   "execution_count": null,
   "id": "e27e5e45-f37c-4ffa-8c87-aeee8c964448",
   "metadata": {},
   "outputs": [],
   "source": []
  }
 ],
 "metadata": {
  "kernelspec": {
   "display_name": "Python 3 (ipykernel)",
   "language": "python",
   "name": "python3"
  },
  "language_info": {
   "codemirror_mode": {
    "name": "ipython",
    "version": 3
   },
   "file_extension": ".py",
   "mimetype": "text/x-python",
   "name": "python",
   "nbconvert_exporter": "python",
   "pygments_lexer": "ipython3",
   "version": "3.9.12"
  }
 },
 "nbformat": 4,
 "nbformat_minor": 5
}
