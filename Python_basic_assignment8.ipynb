{
 "cells": [
  {
   "cell_type": "markdown",
   "id": "7c3fb63a-1ef2-41ac-9bad-5ab50827427d",
   "metadata": {},
   "source": [
    "1.Is the Python Standard Library included with PyInputPlus?\n",
    "ans: 'PyInputPlus' is not included in python standard library, we have to install it manually"
   ]
  },
  {
   "cell_type": "markdown",
   "id": "66826f93-9db1-460d-a264-f369601580c7",
   "metadata": {},
   "source": [
    "2.Why is PyInputPlus commonly imported with import pyinputplus as pypi?\n",
    "ans: import pyinputplus will import this module, after we install it. As pypi is just short form for easy use in our code."
   ]
  },
  {
   "cell_type": "markdown",
   "id": "0ca75cca-ae54-48e2-8546-937ff210a7f6",
   "metadata": {},
   "source": [
    "3.How do you distinguish between inputInt() and inputFloat(), \n",
    "ans: inputint() takes only integer(1,2,3,4..etc) as a input and inputFloat() takes decimal values,numbers(2,3.5 etc) as a input. "
   ]
  },
  {
   "cell_type": "markdown",
   "id": "222b3636-2b64-4dd1-a0f0-73405d0662b4",
   "metadata": {},
   "source": [
    "4.Using PyInputPlus, how do you ensure that the user enters a whole number between 0 and 99?\n",
    "ans: pyip.inputInt(min=0,max=99)"
   ]
  },
  {
   "cell_type": "markdown",
   "id": "293d2a30-c842-4bbe-bbce-0d885052f2d8",
   "metadata": {},
   "source": [
    "5.What is transferred to the keyword arguments allowRegexes and blockRegexes?\n",
    "ans: allowRegexes will allow list of regex string addition of input type, while blockRegexes will block it. "
   ]
  },
  {
   "cell_type": "markdown",
   "id": "ca127c75-e06a-4f72-b37c-5d6845741904",
   "metadata": {},
   "source": [
    "6.If a blank input is entered three times, what does inputStr(limit=3) do?\n",
    "ans: RetryLimitException exception is occured."
   ]
  },
  {
   "cell_type": "markdown",
   "id": "99011dd0-b699-4f60-bafb-4469b535ce7e",
   "metadata": {},
   "source": [
    "7.If blank input is entered three times, what does inputStr(limit=3, default='hello') do?\n",
    "ans: 'hello' will be printed."
   ]
  }
 ],
 "metadata": {
  "kernelspec": {
   "display_name": "Python 3 (ipykernel)",
   "language": "python",
   "name": "python3"
  },
  "language_info": {
   "codemirror_mode": {
    "name": "ipython",
    "version": 3
   },
   "file_extension": ".py",
   "mimetype": "text/x-python",
   "name": "python",
   "nbconvert_exporter": "python",
   "pygments_lexer": "ipython3",
   "version": "3.9.12"
  }
 },
 "nbformat": 4,
 "nbformat_minor": 5
}
