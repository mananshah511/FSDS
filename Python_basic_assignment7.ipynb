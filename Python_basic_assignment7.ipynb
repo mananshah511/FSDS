{
 "cells": [
  {
   "cell_type": "markdown",
   "id": "52c514a9-2af1-40d5-88e5-fb62dc3b007d",
   "metadata": {},
   "source": [
    "1.What is the name of the feature responsible for generating Regex objects?\n",
    "ans: re.compile feature is responsible for generating Regex objects"
   ]
  },
  {
   "cell_type": "markdown",
   "id": "67d13a46-b460-457b-8148-e1879c49443e",
   "metadata": {},
   "source": [
    "2.Why do raw strings often appear in Regex objects?\n",
    "ans: because backlash can be used as a normal charcter instead of using it escape."
   ]
  },
  {
   "cell_type": "markdown",
   "id": "798a0a91-6197-442d-b83f-21e21dc0a8bf",
   "metadata": {},
   "source": [
    "3.What is the return value of the search() method?\n",
    "ans: its reuturn type is re.match so it return match objects."
   ]
  },
  {
   "cell_type": "markdown",
   "id": "9886f0be-5f41-4566-aabe-28e31f381043",
   "metadata": {},
   "source": [
    "4.From a Match item, how do you get the actual strings that match the pattern?\n",
    "ans: group() method return strings that match the pattern"
   ]
  },
  {
   "cell_type": "markdown",
   "id": "9c88fce1-24e0-4515-9a42-57a11fe14381",
   "metadata": {},
   "source": [
    "5.In the regex which created from the r'(\\d\\d\\d)-(\\d\\d\\d-\\d\\d\\d\\d)', what does group zero cover? Group 2? Group 1?\n",
    "ans:\n",
    "Group 0: (\\d\\d\\d)-(\\d\\d\\d-\\d\\d\\d\\d)\n",
    "Group 1: (\\d\\d\\d)\n",
    "Group 2: (\\d\\d\\d-\\d\\d\\d\\d)"
   ]
  },
  {
   "cell_type": "markdown",
   "id": "4da6f4ad-7178-473f-91e6-cb43bbe630df",
   "metadata": {},
   "source": [
    "6.In standard expression syntax, parentheses and intervals have distinct meanings. How can you tell a regex that you want it to fit real parentheses and periods?\n",
    "ans: With the use of backslash(\\)"
   ]
  },
  {
   "cell_type": "markdown",
   "id": "4d9b799e-99f7-4f72-91b4-32d02367d43b",
   "metadata": {},
   "source": [
    "7.The findall() method returns a string list or a list of string tuples. What causes it to return one of the two options?\n",
    "ans: If regex has group then list of string tuples will be return. If no group then string of list will be returned."
   ]
  },
  {
   "cell_type": "markdown",
   "id": "c3d1143b-bf70-4cdc-ad8d-4c435a686ff5",
   "metadata": {},
   "source": [
    "8.In standard expressions, what does the | character mean?\n",
    "ans: | mean OR in standard expressions"
   ]
  },
  {
   "cell_type": "markdown",
   "id": "09b9af0e-cef1-4072-a115-45afc4d56e3d",
   "metadata": {},
   "source": [
    "9.In regular expressions, what does the character stand for?\n",
    "ans: character is missing."
   ]
  },
  {
   "cell_type": "markdown",
   "id": "01fa06ad-5749-4909-b0a5-ea5439c3a9e8",
   "metadata": {},
   "source": [
    "10.In regular expressions, what is the difference between the + and * characters?\n",
    "ans: + serach one or more character while * search zero or more character"
   ]
  },
  {
   "cell_type": "markdown",
   "id": "db5ba6de-f81c-4268-8188-837c1f27859c",
   "metadata": {},
   "source": [
    "11.What is the difference between {4} and {4,5} in regular expression?\n",
    "ans: {4} will match exctaly 4 instace while {4,5} will match either 4 or 5 instace."
   ]
  },
  {
   "cell_type": "markdown",
   "id": "026c4ff5-710a-4b25-a79c-1a266923c122",
   "metadata": {},
   "source": [
    "12.What do you mean by the \\d, \\w, and \\s shorthand character classes signify in regular expressions?\n",
    "ans : single character for\n",
    "\\d is for digit\n",
    "\\w is for word\n",
    "\\s is for whitespace"
   ]
  },
  {
   "cell_type": "markdown",
   "id": "7812c663-6f5e-4b56-813c-90249b08831d",
   "metadata": {},
   "source": [
    "13.What do means by \\D, \\W, and \\S shorthand character classes signify in regular expressions?\n",
    "ans : single character for\n",
    "\\D is not a digit\n",
    "\\W is not a word\n",
    "\\S is not a whitespace"
   ]
  },
  {
   "cell_type": "markdown",
   "id": "bcf4d485-84ce-48c0-9e9e-e0ce4b2de318",
   "metadata": {},
   "source": [
    "14.What is the difference between .*? and .*?\n",
    "ans: .* finds entire match and its greedy. .*? wont find entire match, it will find all possible match in parts and its not greedy."
   ]
  },
  {
   "cell_type": "markdown",
   "id": "cf101ebf-8227-403b-9898-985854ce0fa2",
   "metadata": {},
   "source": [
    "15.What is the syntax for matching both numbers and lowercase letters with a character class?\n",
    "ans: re.compile(r'[0-9a-z]')"
   ]
  },
  {
   "cell_type": "markdown",
   "id": "1aac0631-c457-46c3-9cee-02fee488f482",
   "metadata": {},
   "source": [
    "16.What is the procedure for making a normal expression in regax case insensitive?\n",
    "ans: we can pass second arguent in re.compile as a re.IGNORECASE to make our regax case insensitive"
   ]
  },
  {
   "cell_type": "markdown",
   "id": "7cfd5b14-3533-476f-93a3-c99d6d459cf8",
   "metadata": {},
   "source": [
    "17.What does the . character normally match? What does it match if re.DOTALL is passed as 2nd argument in re.compile()?\n",
    "ans: . character noraml match all word,digit,space, character except newline from the string. re.DOTALL will get all character including newline as well."
   ]
  },
  {
   "cell_type": "markdown",
   "id": "c7ae3541-7196-4995-bf07-f5a4da5ee8c1",
   "metadata": {},
   "source": [
    "18.If numReg = re.compile(r'\\d+'), what will numRegex.sub('X', '11 drummers, 10 pipers, five rings, 4 hen') return?\n",
    "ans: 'X drummers, X pipers, five rings, X hen'"
   ]
  },
  {
   "cell_type": "markdown",
   "id": "6e6eb72b-8574-463b-9298-cb52dfd0ed67",
   "metadata": {},
   "source": [
    "19.What does passing re.VERBOSE as the 2nd argument to re.compile() allow to do?\n",
    "ans: it make regax in more readable formate, by allowing space and comments."
   ]
  },
  {
   "cell_type": "markdown",
   "id": "5a8b6f2e-d0f5-4ae6-b35c-e76a6369b35c",
   "metadata": {},
   "source": [
    "20.How would you write a regex that match a number with comma for every three digits? It must match the given following:\n",
    "'42'\n",
    "'1,234'\n",
    "'6,368,745'\n",
    "but not the following:\n",
    "'12,34,567' (which has only two digits between the commas)\n",
    "'1234' (which lacks commas)\n",
    "ans: re.compile(r'^\\d{1,3}(,\\d{3})*$')"
   ]
  },
  {
   "cell_type": "markdown",
   "id": "b249cd14-c3aa-4103-b51b-02ad200c300a",
   "metadata": {},
   "source": [
    "21.How would you write a regex that matches the full name of someone whose last name is Watanabe? You can assume that the first name that comes before it will always be one word that begins with a capital letter. The regex must match the following:\n",
    "'Haruto Watanabe'\n",
    "'Alice Watanabe'\n",
    "'RoboCop Watanabe'\n",
    "but not the following:\n",
    "'haruto Watanabe' (where the first name is not capitalized)\n",
    "'Mr. Watanabe' (where the preceding word has a nonletter character)\n",
    "'Watanabe' (which has no first name)\n",
    "'Haruto watanabe' (where Watanabe is not capitalized)\n",
    "\n",
    "ans: r'[A-Z][A-Za-z]*\\sWatanabe'"
   ]
  },
  {
   "cell_type": "markdown",
   "id": "84689439-877f-483c-828c-baff79328ed4",
   "metadata": {},
   "source": [
    "22.How would you write a regex that matches a sentence where the first word is either Alice, Bob, or Carol; the second word is either eats, pets, or throws; the third word is apples, cats, or baseballs; and the sentence ends with a period? This regex should be case-insensitive. It must match the following:\n",
    "'Alice eats apples.'\n",
    "'Bob pets cats.'\n",
    "'Carol throws baseballs.'\n",
    "'Alice throws Apples.'\n",
    "'BOB EATS CATS.'\n",
    "but not the following:\n",
    "'RoboCop eats apples.'\n",
    "'ALICE THROWS FOOTBALLS.'\n",
    "'Carol eats 7 cats.'\n",
    "\n",
    "ans: re.compile(r'(alice|bob|carol)\\s(eats|pets|throws)\\s(apples|cats|baseballs)\\.',re.IGNORECASE)"
   ]
  }
 ],
 "metadata": {
  "kernelspec": {
   "display_name": "Python 3 (ipykernel)",
   "language": "python",
   "name": "python3"
  },
  "language_info": {
   "codemirror_mode": {
    "name": "ipython",
    "version": 3
   },
   "file_extension": ".py",
   "mimetype": "text/x-python",
   "name": "python",
   "nbconvert_exporter": "python",
   "pygments_lexer": "ipython3",
   "version": "3.9.12"
  }
 },
 "nbformat": 4,
 "nbformat_minor": 5
}
