{
 "cells": [
  {
   "cell_type": "code",
   "execution_count": 1,
   "id": "b1f2cd67-f852-4299-a78b-d63cdc59cafc",
   "metadata": {},
   "outputs": [],
   "source": [
    "import seaborn as sns\n",
    "import numpy as np\n",
    "import pandas as pd"
   ]
  },
  {
   "cell_type": "code",
   "execution_count": 36,
   "id": "58c1d5c9-a6a9-41ca-9bd3-de32418a67e7",
   "metadata": {},
   "outputs": [],
   "source": [
    "df=sns.load_dataset('iris')"
   ]
  },
  {
   "cell_type": "code",
   "execution_count": 37,
   "id": "7ab95106-28a7-4316-a9c1-7f6406fdffaf",
   "metadata": {},
   "outputs": [
    {
     "data": {
      "text/html": [
       "<div>\n",
       "<style scoped>\n",
       "    .dataframe tbody tr th:only-of-type {\n",
       "        vertical-align: middle;\n",
       "    }\n",
       "\n",
       "    .dataframe tbody tr th {\n",
       "        vertical-align: top;\n",
       "    }\n",
       "\n",
       "    .dataframe thead th {\n",
       "        text-align: right;\n",
       "    }\n",
       "</style>\n",
       "<table border=\"1\" class=\"dataframe\">\n",
       "  <thead>\n",
       "    <tr style=\"text-align: right;\">\n",
       "      <th></th>\n",
       "      <th>sepal_length</th>\n",
       "      <th>sepal_width</th>\n",
       "      <th>petal_length</th>\n",
       "      <th>petal_width</th>\n",
       "      <th>species</th>\n",
       "    </tr>\n",
       "  </thead>\n",
       "  <tbody>\n",
       "    <tr>\n",
       "      <th>0</th>\n",
       "      <td>5.1</td>\n",
       "      <td>3.5</td>\n",
       "      <td>1.4</td>\n",
       "      <td>0.2</td>\n",
       "      <td>setosa</td>\n",
       "    </tr>\n",
       "    <tr>\n",
       "      <th>1</th>\n",
       "      <td>4.9</td>\n",
       "      <td>3.0</td>\n",
       "      <td>1.4</td>\n",
       "      <td>0.2</td>\n",
       "      <td>setosa</td>\n",
       "    </tr>\n",
       "    <tr>\n",
       "      <th>2</th>\n",
       "      <td>4.7</td>\n",
       "      <td>3.2</td>\n",
       "      <td>1.3</td>\n",
       "      <td>0.2</td>\n",
       "      <td>setosa</td>\n",
       "    </tr>\n",
       "    <tr>\n",
       "      <th>3</th>\n",
       "      <td>4.6</td>\n",
       "      <td>3.1</td>\n",
       "      <td>1.5</td>\n",
       "      <td>0.2</td>\n",
       "      <td>setosa</td>\n",
       "    </tr>\n",
       "    <tr>\n",
       "      <th>4</th>\n",
       "      <td>5.0</td>\n",
       "      <td>3.6</td>\n",
       "      <td>1.4</td>\n",
       "      <td>0.2</td>\n",
       "      <td>setosa</td>\n",
       "    </tr>\n",
       "  </tbody>\n",
       "</table>\n",
       "</div>"
      ],
      "text/plain": [
       "   sepal_length  sepal_width  petal_length  petal_width species\n",
       "0           5.1          3.5           1.4          0.2  setosa\n",
       "1           4.9          3.0           1.4          0.2  setosa\n",
       "2           4.7          3.2           1.3          0.2  setosa\n",
       "3           4.6          3.1           1.5          0.2  setosa\n",
       "4           5.0          3.6           1.4          0.2  setosa"
      ]
     },
     "execution_count": 37,
     "metadata": {},
     "output_type": "execute_result"
    }
   ],
   "source": [
    "df.head()"
   ]
  },
  {
   "cell_type": "code",
   "execution_count": 38,
   "id": "20d7472f-f090-4c90-90f6-2d60c4b86745",
   "metadata": {},
   "outputs": [],
   "source": [
    "df=df[df['species']!='setosa']"
   ]
  },
  {
   "cell_type": "code",
   "execution_count": 39,
   "id": "6e597803-72a5-4ac2-a181-f0bc8bce5c70",
   "metadata": {},
   "outputs": [
    {
     "data": {
      "text/plain": [
       "array(['versicolor', 'virginica'], dtype=object)"
      ]
     },
     "execution_count": 39,
     "metadata": {},
     "output_type": "execute_result"
    }
   ],
   "source": [
    "df['species'].unique()"
   ]
  },
  {
   "cell_type": "code",
   "execution_count": 7,
   "id": "e24e5ec4-75b1-4636-8931-309b099830c4",
   "metadata": {},
   "outputs": [],
   "source": [
    "#df['species']=df['species'].map({'setosa':0,'versicolor':1,'virginica':2})"
   ]
  },
  {
   "cell_type": "code",
   "execution_count": 40,
   "id": "79957029-eba5-4c82-b0a8-8ca6e728347a",
   "metadata": {},
   "outputs": [],
   "source": [
    "df['species']=df['species'].map({'virginica':0,'versicolor':1})"
   ]
  },
  {
   "cell_type": "code",
   "execution_count": 41,
   "id": "4fe63043-2bcd-47db-92d2-c13c99c0cf9a",
   "metadata": {},
   "outputs": [],
   "source": [
    "X=df.iloc[:,:-1]\n",
    "y=df.iloc[:,-1]"
   ]
  },
  {
   "cell_type": "code",
   "execution_count": 42,
   "id": "3ea51390-a3ec-43e8-84fd-146c04377a49",
   "metadata": {},
   "outputs": [],
   "source": [
    "from sklearn.linear_model import LogisticRegression"
   ]
  },
  {
   "cell_type": "code",
   "execution_count": 43,
   "id": "71d1009d-ca01-459a-a97b-56271d4fca3f",
   "metadata": {},
   "outputs": [],
   "source": [
    "from sklearn.model_selection import train_test_split"
   ]
  },
  {
   "cell_type": "code",
   "execution_count": 44,
   "id": "8d08fd7b-aa9e-49c8-9b6e-54bdf9870793",
   "metadata": {},
   "outputs": [],
   "source": [
    "X_train,X_test,y_train,y_test=train_test_split(X,y,test_size=0.20)"
   ]
  },
  {
   "cell_type": "code",
   "execution_count": 45,
   "id": "c24c793f-cc3f-4ad3-8b72-05fb1e877a7c",
   "metadata": {},
   "outputs": [],
   "source": [
    "regressionn=LogisticRegression()"
   ]
  },
  {
   "cell_type": "code",
   "execution_count": 46,
   "id": "b5cb8072-0387-42db-9839-570c4e83e5d0",
   "metadata": {},
   "outputs": [],
   "source": [
    "from sklearn.model_selection import GridSearchCV"
   ]
  },
  {
   "cell_type": "code",
   "execution_count": 47,
   "id": "4b2de109-41f4-45bb-9ff1-fddeb9bba053",
   "metadata": {},
   "outputs": [],
   "source": [
    "parameters={'C':[0,0.5,1,2,3,4,5,7,9,11],'penalty':['l1','l2','elastic']}"
   ]
  },
  {
   "cell_type": "code",
   "execution_count": 48,
   "id": "af22cda2-032b-4631-baee-c0b52fb53e70",
   "metadata": {},
   "outputs": [],
   "source": [
    "log_reg=GridSearchCV(regressionn,parameters,scoring='accuracy',cv=5)"
   ]
  },
  {
   "cell_type": "code",
   "execution_count": 49,
   "id": "95aaa72b-ff62-4561-809b-481da14be97b",
   "metadata": {},
   "outputs": [
    {
     "name": "stderr",
     "output_type": "stream",
     "text": [
      "/opt/anaconda3/lib/python3.9/site-packages/sklearn/model_selection/_validation.py:378: FitFailedWarning: \n",
      "105 fits failed out of a total of 150.\n",
      "The score on these train-test partitions for these parameters will be set to nan.\n",
      "If these failures are not expected, you can try to debug them by setting error_score='raise'.\n",
      "\n",
      "Below are more details about the failures:\n",
      "--------------------------------------------------------------------------------\n",
      "50 fits failed with the following error:\n",
      "Traceback (most recent call last):\n",
      "  File \"/opt/anaconda3/lib/python3.9/site-packages/sklearn/model_selection/_validation.py\", line 686, in _fit_and_score\n",
      "    estimator.fit(X_train, y_train, **fit_params)\n",
      "  File \"/opt/anaconda3/lib/python3.9/site-packages/sklearn/linear_model/_logistic.py\", line 1091, in fit\n",
      "    solver = _check_solver(self.solver, self.penalty, self.dual)\n",
      "  File \"/opt/anaconda3/lib/python3.9/site-packages/sklearn/linear_model/_logistic.py\", line 61, in _check_solver\n",
      "    raise ValueError(\n",
      "ValueError: Solver lbfgs supports only 'l2' or 'none' penalties, got l1 penalty.\n",
      "\n",
      "--------------------------------------------------------------------------------\n",
      "5 fits failed with the following error:\n",
      "Traceback (most recent call last):\n",
      "  File \"/opt/anaconda3/lib/python3.9/site-packages/sklearn/model_selection/_validation.py\", line 686, in _fit_and_score\n",
      "    estimator.fit(X_train, y_train, **fit_params)\n",
      "  File \"/opt/anaconda3/lib/python3.9/site-packages/sklearn/linear_model/_logistic.py\", line 1233, in fit\n",
      "    fold_coefs_ = Parallel(n_jobs=self.n_jobs, verbose=self.verbose, prefer=prefer)(\n",
      "  File \"/opt/anaconda3/lib/python3.9/site-packages/joblib/parallel.py\", line 1043, in __call__\n",
      "    if self.dispatch_one_batch(iterator):\n",
      "  File \"/opt/anaconda3/lib/python3.9/site-packages/joblib/parallel.py\", line 861, in dispatch_one_batch\n",
      "    self._dispatch(tasks)\n",
      "  File \"/opt/anaconda3/lib/python3.9/site-packages/joblib/parallel.py\", line 779, in _dispatch\n",
      "    job = self._backend.apply_async(batch, callback=cb)\n",
      "  File \"/opt/anaconda3/lib/python3.9/site-packages/joblib/_parallel_backends.py\", line 208, in apply_async\n",
      "    result = ImmediateResult(func)\n",
      "  File \"/opt/anaconda3/lib/python3.9/site-packages/joblib/_parallel_backends.py\", line 572, in __init__\n",
      "    self.results = batch()\n",
      "  File \"/opt/anaconda3/lib/python3.9/site-packages/joblib/parallel.py\", line 262, in __call__\n",
      "    return [func(*args, **kwargs)\n",
      "  File \"/opt/anaconda3/lib/python3.9/site-packages/joblib/parallel.py\", line 262, in <listcomp>\n",
      "    return [func(*args, **kwargs)\n",
      "  File \"/opt/anaconda3/lib/python3.9/site-packages/sklearn/utils/fixes.py\", line 117, in __call__\n",
      "    return self.function(*args, **kwargs)\n",
      "  File \"/opt/anaconda3/lib/python3.9/site-packages/sklearn/linear_model/_logistic.py\", line 432, in _logistic_regression_path\n",
      "    l2_reg_strength = 1.0 / C\n",
      "ZeroDivisionError: float division by zero\n",
      "\n",
      "--------------------------------------------------------------------------------\n",
      "50 fits failed with the following error:\n",
      "Traceback (most recent call last):\n",
      "  File \"/opt/anaconda3/lib/python3.9/site-packages/sklearn/model_selection/_validation.py\", line 686, in _fit_and_score\n",
      "    estimator.fit(X_train, y_train, **fit_params)\n",
      "  File \"/opt/anaconda3/lib/python3.9/site-packages/sklearn/linear_model/_logistic.py\", line 1091, in fit\n",
      "    solver = _check_solver(self.solver, self.penalty, self.dual)\n",
      "  File \"/opt/anaconda3/lib/python3.9/site-packages/sklearn/linear_model/_logistic.py\", line 55, in _check_solver\n",
      "    raise ValueError(\n",
      "ValueError: Logistic Regression supports only penalties in ['l1', 'l2', 'elasticnet', 'none'], got elastic.\n",
      "\n",
      "  warnings.warn(some_fits_failed_message, FitFailedWarning)\n",
      "/opt/anaconda3/lib/python3.9/site-packages/sklearn/model_selection/_search.py:953: UserWarning: One or more of the test scores are non-finite: [ nan  nan  nan  nan 0.96  nan  nan 0.96  nan  nan 0.96  nan  nan 0.96\n",
      "  nan  nan 0.96  nan  nan 0.96  nan  nan 0.96  nan  nan 0.96  nan  nan\n",
      " 0.97  nan]\n",
      "  warnings.warn(\n"
     ]
    },
    {
     "data": {
      "text/html": [
       "<style>#sk-container-id-2 {color: black;background-color: white;}#sk-container-id-2 pre{padding: 0;}#sk-container-id-2 div.sk-toggleable {background-color: white;}#sk-container-id-2 label.sk-toggleable__label {cursor: pointer;display: block;width: 100%;margin-bottom: 0;padding: 0.3em;box-sizing: border-box;text-align: center;}#sk-container-id-2 label.sk-toggleable__label-arrow:before {content: \"▸\";float: left;margin-right: 0.25em;color: #696969;}#sk-container-id-2 label.sk-toggleable__label-arrow:hover:before {color: black;}#sk-container-id-2 div.sk-estimator:hover label.sk-toggleable__label-arrow:before {color: black;}#sk-container-id-2 div.sk-toggleable__content {max-height: 0;max-width: 0;overflow: hidden;text-align: left;background-color: #f0f8ff;}#sk-container-id-2 div.sk-toggleable__content pre {margin: 0.2em;color: black;border-radius: 0.25em;background-color: #f0f8ff;}#sk-container-id-2 input.sk-toggleable__control:checked~div.sk-toggleable__content {max-height: 200px;max-width: 100%;overflow: auto;}#sk-container-id-2 input.sk-toggleable__control:checked~label.sk-toggleable__label-arrow:before {content: \"▾\";}#sk-container-id-2 div.sk-estimator input.sk-toggleable__control:checked~label.sk-toggleable__label {background-color: #d4ebff;}#sk-container-id-2 div.sk-label input.sk-toggleable__control:checked~label.sk-toggleable__label {background-color: #d4ebff;}#sk-container-id-2 input.sk-hidden--visually {border: 0;clip: rect(1px 1px 1px 1px);clip: rect(1px, 1px, 1px, 1px);height: 1px;margin: -1px;overflow: hidden;padding: 0;position: absolute;width: 1px;}#sk-container-id-2 div.sk-estimator {font-family: monospace;background-color: #f0f8ff;border: 1px dotted black;border-radius: 0.25em;box-sizing: border-box;margin-bottom: 0.5em;}#sk-container-id-2 div.sk-estimator:hover {background-color: #d4ebff;}#sk-container-id-2 div.sk-parallel-item::after {content: \"\";width: 100%;border-bottom: 1px solid gray;flex-grow: 1;}#sk-container-id-2 div.sk-label:hover label.sk-toggleable__label {background-color: #d4ebff;}#sk-container-id-2 div.sk-serial::before {content: \"\";position: absolute;border-left: 1px solid gray;box-sizing: border-box;top: 0;bottom: 0;left: 50%;z-index: 0;}#sk-container-id-2 div.sk-serial {display: flex;flex-direction: column;align-items: center;background-color: white;padding-right: 0.2em;padding-left: 0.2em;position: relative;}#sk-container-id-2 div.sk-item {position: relative;z-index: 1;}#sk-container-id-2 div.sk-parallel {display: flex;align-items: stretch;justify-content: center;background-color: white;position: relative;}#sk-container-id-2 div.sk-item::before, #sk-container-id-2 div.sk-parallel-item::before {content: \"\";position: absolute;border-left: 1px solid gray;box-sizing: border-box;top: 0;bottom: 0;left: 50%;z-index: -1;}#sk-container-id-2 div.sk-parallel-item {display: flex;flex-direction: column;z-index: 1;position: relative;background-color: white;}#sk-container-id-2 div.sk-parallel-item:first-child::after {align-self: flex-end;width: 50%;}#sk-container-id-2 div.sk-parallel-item:last-child::after {align-self: flex-start;width: 50%;}#sk-container-id-2 div.sk-parallel-item:only-child::after {width: 0;}#sk-container-id-2 div.sk-dashed-wrapped {border: 1px dashed gray;margin: 0 0.4em 0.5em 0.4em;box-sizing: border-box;padding-bottom: 0.4em;background-color: white;}#sk-container-id-2 div.sk-label label {font-family: monospace;font-weight: bold;display: inline-block;line-height: 1.2em;}#sk-container-id-2 div.sk-label-container {text-align: center;}#sk-container-id-2 div.sk-container {/* jupyter's `normalize.less` sets `[hidden] { display: none; }` but bootstrap.min.css set `[hidden] { display: none !important; }` so we also need the `!important` here to be able to override the default hidden behavior on the sphinx rendered scikit-learn.org. See: https://github.com/scikit-learn/scikit-learn/issues/21755 */display: inline-block !important;position: relative;}#sk-container-id-2 div.sk-text-repr-fallback {display: none;}</style><div id=\"sk-container-id-2\" class=\"sk-top-container\"><div class=\"sk-text-repr-fallback\"><pre>GridSearchCV(cv=5, estimator=LogisticRegression(),\n",
       "             param_grid={&#x27;C&#x27;: [0, 0.5, 1, 2, 3, 4, 5, 7, 9, 11],\n",
       "                         &#x27;penalty&#x27;: [&#x27;l1&#x27;, &#x27;l2&#x27;, &#x27;elastic&#x27;]},\n",
       "             scoring=&#x27;accuracy&#x27;)</pre><b>In a Jupyter environment, please rerun this cell to show the HTML representation or trust the notebook. <br />On GitHub, the HTML representation is unable to render, please try loading this page with nbviewer.org.</b></div><div class=\"sk-container\" hidden><div class=\"sk-item sk-dashed-wrapped\"><div class=\"sk-label-container\"><div class=\"sk-label sk-toggleable\"><input class=\"sk-toggleable__control sk-hidden--visually\" id=\"sk-estimator-id-4\" type=\"checkbox\" ><label for=\"sk-estimator-id-4\" class=\"sk-toggleable__label sk-toggleable__label-arrow\">GridSearchCV</label><div class=\"sk-toggleable__content\"><pre>GridSearchCV(cv=5, estimator=LogisticRegression(),\n",
       "             param_grid={&#x27;C&#x27;: [0, 0.5, 1, 2, 3, 4, 5, 7, 9, 11],\n",
       "                         &#x27;penalty&#x27;: [&#x27;l1&#x27;, &#x27;l2&#x27;, &#x27;elastic&#x27;]},\n",
       "             scoring=&#x27;accuracy&#x27;)</pre></div></div></div><div class=\"sk-parallel\"><div class=\"sk-parallel-item\"><div class=\"sk-item\"><div class=\"sk-label-container\"><div class=\"sk-label sk-toggleable\"><input class=\"sk-toggleable__control sk-hidden--visually\" id=\"sk-estimator-id-5\" type=\"checkbox\" ><label for=\"sk-estimator-id-5\" class=\"sk-toggleable__label sk-toggleable__label-arrow\">estimator: LogisticRegression</label><div class=\"sk-toggleable__content\"><pre>LogisticRegression()</pre></div></div></div><div class=\"sk-serial\"><div class=\"sk-item\"><div class=\"sk-estimator sk-toggleable\"><input class=\"sk-toggleable__control sk-hidden--visually\" id=\"sk-estimator-id-6\" type=\"checkbox\" ><label for=\"sk-estimator-id-6\" class=\"sk-toggleable__label sk-toggleable__label-arrow\">LogisticRegression</label><div class=\"sk-toggleable__content\"><pre>LogisticRegression()</pre></div></div></div></div></div></div></div></div></div></div>"
      ],
      "text/plain": [
       "GridSearchCV(cv=5, estimator=LogisticRegression(),\n",
       "             param_grid={'C': [0, 0.5, 1, 2, 3, 4, 5, 7, 9, 11],\n",
       "                         'penalty': ['l1', 'l2', 'elastic']},\n",
       "             scoring='accuracy')"
      ]
     },
     "execution_count": 49,
     "metadata": {},
     "output_type": "execute_result"
    }
   ],
   "source": [
    "log_reg.fit(X,y)"
   ]
  },
  {
   "cell_type": "code",
   "execution_count": 50,
   "id": "89165fcd-fab2-4721-8609-f5d9f018ce9b",
   "metadata": {},
   "outputs": [
    {
     "data": {
      "text/plain": [
       "{'C': 11, 'penalty': 'l2'}"
      ]
     },
     "execution_count": 50,
     "metadata": {},
     "output_type": "execute_result"
    }
   ],
   "source": [
    "log_reg.best_params_"
   ]
  },
  {
   "cell_type": "code",
   "execution_count": 51,
   "id": "4e09b83e-9f9c-4226-9dc8-356ed627c543",
   "metadata": {},
   "outputs": [
    {
     "data": {
      "text/plain": [
       "0.97"
      ]
     },
     "execution_count": 51,
     "metadata": {},
     "output_type": "execute_result"
    }
   ],
   "source": [
    "log_reg.best_score_"
   ]
  },
  {
   "cell_type": "code",
   "execution_count": 52,
   "id": "ae782dbf-5bb1-4d15-bc91-01075549c278",
   "metadata": {},
   "outputs": [],
   "source": [
    "y_pred=log_reg.predict(X_test)"
   ]
  },
  {
   "cell_type": "code",
   "execution_count": 53,
   "id": "d98390ba-8e7d-4d38-9c8b-6930c20ee81e",
   "metadata": {},
   "outputs": [
    {
     "data": {
      "text/plain": [
       "array([1, 0, 0, 1, 0, 0, 0, 0, 1, 1, 1, 1, 0, 0, 0, 0, 1, 0, 0, 1])"
      ]
     },
     "execution_count": 53,
     "metadata": {},
     "output_type": "execute_result"
    }
   ],
   "source": [
    "y_pred"
   ]
  },
  {
   "cell_type": "code",
   "execution_count": 54,
   "id": "6395e2e7-8094-4c3c-96f2-1beea16559ef",
   "metadata": {},
   "outputs": [
    {
     "data": {
      "text/plain": [
       "<seaborn.axisgrid.PairGrid at 0x7f14a9612760>"
      ]
     },
     "execution_count": 54,
     "metadata": {},
     "output_type": "execute_result"
    }
   ],
   "source": [
    "sns.pairplot(df)"
   ]
  },
  {
   "cell_type": "markdown",
   "id": "de8892fd-7780-4788-83f7-1eba7b8ef232",
   "metadata": {},
   "source": [
    "1. What does one mean by the term &quot;machine learning&quot;?"
   ]
  },
  {
   "cell_type": "raw",
   "id": "c70ff6d0-249b-4487-9563-c0d792054e6d",
   "metadata": {},
   "source": [
    "Machine learning is the sub-part of artificial intelligence. Based on sample data we build, create, and train our model which is called training data. Based on that our model tries to predict or take a decision for future data. This is called machine learning."
   ]
  },
  {
   "cell_type": "markdown",
   "id": "802a122e-8ccc-4083-93c7-a2a1532b4980",
   "metadata": {},
   "source": [
    "2. Can you think of 4 distinct types of issues where it shines?"
   ]
  },
  {
   "cell_type": "raw",
   "id": "0227c92a-fd09-4d7d-9b4a-ce47271c84d0",
   "metadata": {},
   "source": [
    "House price prediction.\n",
    "Targeting customers for credit cards based on their loan history, balance, etc.\n",
    "Classification of flowers based on length, height, etc.\n",
    "Admission prediction."
   ]
  },
  {
   "cell_type": "markdown",
   "id": "eca09afd-6cbe-4010-abd5-86f6b934cf98",
   "metadata": {},
   "source": [
    "3. What is a labeled training set, and how does it work?"
   ]
  },
  {
   "cell_type": "raw",
   "id": "e31ef64a-0b72-4a53-8f5d-2ccf1ed41158",
   "metadata": {},
   "source": [
    "The labeled training set is data that is used for training and labeled(belongs) to one or more classes. We use labeled training data and get dependent and independent variables and try to build our model."
   ]
  },
  {
   "cell_type": "markdown",
   "id": "ea2290d5-1464-447a-9b97-e8b8d14ff091",
   "metadata": {},
   "source": [
    "4. What are the two most important tasks that are supervised?"
   ]
  },
  {
   "cell_type": "raw",
   "id": "1eade09c-ed13-4ddc-a958-f67d448674a7",
   "metadata": {},
   "source": [
    "classification adn regression"
   ]
  },
  {
   "cell_type": "markdown",
   "id": "2bae3324-fe8d-4dc4-baf6-0f8aa43e5743",
   "metadata": {},
   "source": [
    "5. Can you think of four examples of unsupervised tasks?"
   ]
  },
  {
   "cell_type": "raw",
   "id": "14a5b608-96bf-4e6b-a742-1c19ef57af14",
   "metadata": {},
   "source": [
    "Grouping of customers based on their salary\n",
    "Recommender system\n",
    "Grouping of different music based on genre\n",
    "Clustering DNA patterns"
   ]
  },
  {
   "cell_type": "markdown",
   "id": "5d8ed695-2a57-4dbf-9bc4-a157adf177c9",
   "metadata": {},
   "source": [
    "6. State the machine learning model that would be best to make a robot walk through various\n",
    "unfamiliar terrains?"
   ]
  },
  {
   "cell_type": "raw",
   "id": "48caa8aa-c2ac-4482-983b-df41094d9d7b",
   "metadata": {},
   "source": [
    "Reinforced learning."
   ]
  },
  {
   "cell_type": "markdown",
   "id": "6a128a2e-7017-413b-af3a-25a70a575777",
   "metadata": {},
   "source": [
    "7.Which algorithm will you use to divide your customers into different groups?"
   ]
  },
  {
   "cell_type": "raw",
   "id": "4650b8ba-7076-459a-88d7-d1eae6b45e4f",
   "metadata": {},
   "source": [
    "k-means algorithm from unspervised learning."
   ]
  },
  {
   "cell_type": "markdown",
   "id": "c5c58feb-8887-4bde-9d4b-48e2728de43e",
   "metadata": {},
   "source": [
    "8. Will you consider the problem of spam detection to be a supervised or unsupervised learning\n",
    "problem?"
   ]
  },
  {
   "cell_type": "raw",
   "id": "43fdf05d-2dd5-413e-be22-bfe7e97fc240",
   "metadata": {},
   "source": [
    "supervised"
   ]
  },
  {
   "cell_type": "markdown",
   "id": "b2f88166-30f3-47d6-8d5d-af9e035eec03",
   "metadata": {},
   "source": [
    "9. What is the concept of an online learning system?"
   ]
  },
  {
   "cell_type": "raw",
   "id": "eaee7e85-75ef-4a7b-a78a-887de9719e99",
   "metadata": {},
   "source": [
    "Online machine learning systems will receive data is sequential form and update prediction on each step."
   ]
  },
  {
   "cell_type": "markdown",
   "id": "3fb887c7-0e20-4e51-ad50-184068bee4d6",
   "metadata": {},
   "source": [
    "10. What is out-of-core learning, and how does it differ from core learning?"
   ]
  },
  {
   "cell_type": "raw",
   "id": "1badf638-2b17-467b-bb84-0599a431e67e",
   "metadata": {},
   "source": [
    "Out-of-core learning refers to when data is too large to fit in a single system, it can be available through a hard disk or web repo. In core, learning data is there in the system."
   ]
  },
  {
   "cell_type": "markdown",
   "id": "e93d0fc1-38c0-4464-b61c-b12be68a81a2",
   "metadata": {},
   "source": [
    "11. What kind of learning algorithm makes predictions using a similarity measure?"
   ]
  },
  {
   "cell_type": "raw",
   "id": "128ca123-7065-474c-a0b5-19128c01557b",
   "metadata": {},
   "source": [
    "instace based algorithm"
   ]
  },
  {
   "cell_type": "markdown",
   "id": "6d5e466f-0c22-4747-92cc-caffb89862bd",
   "metadata": {},
   "source": [
    "12. What&#39;s the difference between a model parameter and a hyperparameter in a learning\n",
    "algorithm?"
   ]
  },
  {
   "cell_type": "raw",
   "id": "1e60dcb6-9ba9-4fca-ba5a-037f1db0dcaf",
   "metadata": {},
   "source": [
    "The model parameter is the weight that the model learns while training like theta. Hyperparameter is chosen by us while the algorithm is trained, it's not part of the out final model, but model training and outcome depend on it. For example learning rate, test-train ratio, etc."
   ]
  },
  {
   "cell_type": "markdown",
   "id": "bbd0dc26-9ef8-42d7-8425-17bb4fe2c25c",
   "metadata": {},
   "source": [
    "13. What are the criteria that model-based learning algorithms look for? What is the most popular\n",
    "method they use to achieve success? What method do they use to make predictions?"
   ]
  },
  {
   "cell_type": "raw",
   "id": "4fbe6985-0a39-49b9-ad98-60323f53c8dd",
   "metadata": {},
   "source": [
    "Model-based machine learning algorithms try to learn theta and build the model based on that. The most popular way to achieve success in a machine learning model is to try to minimize cost function and adjust theta based on that. Learned parameter theta is used to make new predictions"
   ]
  },
  {
   "cell_type": "markdown",
   "id": "bc8e7655-0089-4d93-ae75-4dbd221f6a8b",
   "metadata": {},
   "source": [
    "14. Can you name four of the most important Machine Learning challenges?"
   ]
  },
  {
   "cell_type": "raw",
   "id": "cfec067f-b026-4ebc-83ab-33876bf58b76",
   "metadata": {},
   "source": [
    "Not having a data set is big enough to build a model.\n",
    "Datasets don't cover every use case so it's hard to cover future cases.\n",
    "Overfitting, the model works well on train data but doesn't well on test data.\n",
    "Selecting of features, and hyperparameters."
   ]
  },
  {
   "cell_type": "markdown",
   "id": "a2fdd63f-1a50-4598-aaff-c41296c921d5",
   "metadata": {},
   "source": [
    "15. What happens if the model performs well on the training data but fails to generalize the results\n",
    "to new situations? Can you think of three different options?"
   ]
  },
  {
   "cell_type": "raw",
   "id": "874dcf99-9663-4e2a-8d41-bd122d83338d",
   "metadata": {},
   "source": [
    "Our model won't perform well so it's overfitting. We can use ridge, lasso, or elastic net instead of linear regression for example. We have to penalize our model."
   ]
  },
  {
   "cell_type": "markdown",
   "id": "e434fda4-4581-4ebb-bc79-6eb24ce88fa0",
   "metadata": {},
   "source": [
    "16. What exactly is a test set, and why would you need one?"
   ]
  },
  {
   "cell_type": "raw",
   "id": "7d9cedef-7ce7-4608-b013-9ef0bb6d95a6",
   "metadata": {},
   "source": [
    "The test set is for the testing purpose to check whether our trained model is generalized enough or not, and checking its accuracy and performance matrices. "
   ]
  },
  {
   "cell_type": "markdown",
   "id": "a6ad0a55-daaa-44e2-a5aa-f59c57305ceb",
   "metadata": {},
   "source": [
    "17. What is a validation set&#39;s purpose?"
   ]
  },
  {
   "cell_type": "raw",
   "id": "31781f8f-1fd6-4e0c-b321-141cff8c006d",
   "metadata": {},
   "source": [
    "It's used for cross validation, while we are building or model, we can use a validation set to check the accuracy of the model and tune hyperparameters and again build the model for the next iteration and the process continue."
   ]
  },
  {
   "cell_type": "markdown",
   "id": "314ee112-6d6e-4f87-9bc0-bd5653ec50fe",
   "metadata": {},
   "source": [
    "18. What precisely is the train-dev kit, when will you need it, how do you put it to use?"
   ]
  },
  {
   "cell_type": "raw",
   "id": "528389a3-5a76-48a1-88a2-95f5afce5c19",
   "metadata": {},
   "source": [
    "We divide our data into train-dev and test sets. Dev set is usefull when we want to use more than one machine learning model to solve our problem. Dev kit ranks each model based on its accuracy."
   ]
  },
  {
   "cell_type": "markdown",
   "id": "264fdc44-ce27-4d08-bd8a-a4e459144a70",
   "metadata": {},
   "source": [
    "19. What could go wrong if you use the test set to tune hyperparameters?"
   ]
  },
  {
   "cell_type": "raw",
   "id": "2e4cf7d7-9ae0-4303-9ba6-7c0c0ccf99f9",
   "metadata": {},
   "source": [
    "We won't able to get a well-generalized model"
   ]
  }
 ],
 "metadata": {
  "kernelspec": {
   "display_name": "Python 3 (ipykernel)",
   "language": "python",
   "name": "python3"
  },
  "language_info": {
   "codemirror_mode": {
    "name": "ipython",
    "version": 3
   },
   "file_extension": ".py",
   "mimetype": "text/x-python",
   "name": "python",
   "nbconvert_exporter": "python",
   "pygments_lexer": "ipython3",
   "version": "3.9.12"
  }
 },
 "nbformat": 4,
 "nbformat_minor": 5
}
