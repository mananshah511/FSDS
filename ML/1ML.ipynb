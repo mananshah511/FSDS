{
 "cells": [
  {
   "cell_type": "markdown",
   "id": "de8892fd-7780-4788-83f7-1eba7b8ef232",
   "metadata": {},
   "source": [
    "1. What does one mean by the term &quot;machine learning&quot;?"
   ]
  },
  {
   "cell_type": "raw",
   "id": "c70ff6d0-249b-4487-9563-c0d792054e6d",
   "metadata": {},
   "source": [
    "Machine learning is the sub-part of artificial intelligence. Based on sample data we build, create, and train our model which is called training data. Based on that our model tries to predict or take a decision for future data. This is called machine learning."
   ]
  },
  {
   "cell_type": "markdown",
   "id": "802a122e-8ccc-4083-93c7-a2a1532b4980",
   "metadata": {},
   "source": [
    "2. Can you think of 4 distinct types of issues where it shines?"
   ]
  },
  {
   "cell_type": "raw",
   "id": "0227c92a-fd09-4d7d-9b4a-ce47271c84d0",
   "metadata": {},
   "source": [
    "House price prediction.\n",
    "Targeting customers for credit cards based on their loan history, balance, etc.\n",
    "Classification of flowers based on length, height, etc.\n",
    "Admission prediction."
   ]
  },
  {
   "cell_type": "markdown",
   "id": "eca09afd-6cbe-4010-abd5-86f6b934cf98",
   "metadata": {},
   "source": [
    "3. What is a labeled training set, and how does it work?"
   ]
  },
  {
   "cell_type": "raw",
   "id": "e31ef64a-0b72-4a53-8f5d-2ccf1ed41158",
   "metadata": {},
   "source": [
    "The labeled training set is data that is used for training and labeled(belongs) to one or more classes. We use labeled training data and get dependent and independent variables and try to build our model."
   ]
  },
  {
   "cell_type": "markdown",
   "id": "ea2290d5-1464-447a-9b97-e8b8d14ff091",
   "metadata": {},
   "source": [
    "4. What are the two most important tasks that are supervised?"
   ]
  },
  {
   "cell_type": "raw",
   "id": "1eade09c-ed13-4ddc-a958-f67d448674a7",
   "metadata": {},
   "source": [
    "classification adn regression"
   ]
  },
  {
   "cell_type": "markdown",
   "id": "2bae3324-fe8d-4dc4-baf6-0f8aa43e5743",
   "metadata": {},
   "source": [
    "5. Can you think of four examples of unsupervised tasks?"
   ]
  },
  {
   "cell_type": "raw",
   "id": "14a5b608-96bf-4e6b-a742-1c19ef57af14",
   "metadata": {},
   "source": [
    "Grouping of customers based on their salary\n",
    "Recommender system\n",
    "Grouping of different music based on genre\n",
    "Clustering DNA patterns"
   ]
  },
  {
   "cell_type": "markdown",
   "id": "5d8ed695-2a57-4dbf-9bc4-a157adf177c9",
   "metadata": {},
   "source": [
    "6. State the machine learning model that would be best to make a robot walk through various\n",
    "unfamiliar terrains?"
   ]
  },
  {
   "cell_type": "raw",
   "id": "48caa8aa-c2ac-4482-983b-df41094d9d7b",
   "metadata": {},
   "source": [
    "Reinforced learning."
   ]
  },
  {
   "cell_type": "markdown",
   "id": "6a128a2e-7017-413b-af3a-25a70a575777",
   "metadata": {},
   "source": [
    "7.Which algorithm will you use to divide your customers into different groups?"
   ]
  },
  {
   "cell_type": "raw",
   "id": "4650b8ba-7076-459a-88d7-d1eae6b45e4f",
   "metadata": {},
   "source": [
    "k-means algorithm from unspervised learning."
   ]
  },
  {
   "cell_type": "markdown",
   "id": "c5c58feb-8887-4bde-9d4b-48e2728de43e",
   "metadata": {},
   "source": [
    "8. Will you consider the problem of spam detection to be a supervised or unsupervised learning\n",
    "problem?"
   ]
  },
  {
   "cell_type": "raw",
   "id": "43fdf05d-2dd5-413e-be22-bfe7e97fc240",
   "metadata": {},
   "source": [
    "supervised"
   ]
  },
  {
   "cell_type": "markdown",
   "id": "b2f88166-30f3-47d6-8d5d-af9e035eec03",
   "metadata": {},
   "source": [
    "9. What is the concept of an online learning system?"
   ]
  },
  {
   "cell_type": "raw",
   "id": "eaee7e85-75ef-4a7b-a78a-887de9719e99",
   "metadata": {},
   "source": [
    "Online machine learning systems will receive data is sequential form and update prediction on each step."
   ]
  },
  {
   "cell_type": "markdown",
   "id": "3fb887c7-0e20-4e51-ad50-184068bee4d6",
   "metadata": {},
   "source": [
    "10. What is out-of-core learning, and how does it differ from core learning?"
   ]
  },
  {
   "cell_type": "raw",
   "id": "1badf638-2b17-467b-bb84-0599a431e67e",
   "metadata": {},
   "source": [
    "Out-of-core learning refers to when data is too large to fit in a single system, it can be available through a hard disk or web repo. In core, learning data is there in the system."
   ]
  },
  {
   "cell_type": "markdown",
   "id": "e93d0fc1-38c0-4464-b61c-b12be68a81a2",
   "metadata": {},
   "source": [
    "11. What kind of learning algorithm makes predictions using a similarity measure?"
   ]
  },
  {
   "cell_type": "raw",
   "id": "128ca123-7065-474c-a0b5-19128c01557b",
   "metadata": {},
   "source": [
    "instace based algorithm"
   ]
  },
  {
   "cell_type": "markdown",
   "id": "6d5e466f-0c22-4747-92cc-caffb89862bd",
   "metadata": {},
   "source": [
    "12. What&#39;s the difference between a model parameter and a hyperparameter in a learning\n",
    "algorithm?"
   ]
  },
  {
   "cell_type": "raw",
   "id": "1e60dcb6-9ba9-4fca-ba5a-037f1db0dcaf",
   "metadata": {},
   "source": [
    "The model parameter is the weight that the model learns while training like theta. Hyperparameter is chosen by us while the algorithm is trained, it's not part of the out final model, but model training and outcome depend on it. For example learning rate, test-train ratio, etc."
   ]
  },
  {
   "cell_type": "markdown",
   "id": "bbd0dc26-9ef8-42d7-8425-17bb4fe2c25c",
   "metadata": {},
   "source": [
    "13. What are the criteria that model-based learning algorithms look for? What is the most popular\n",
    "method they use to achieve success? What method do they use to make predictions?"
   ]
  },
  {
   "cell_type": "raw",
   "id": "4fbe6985-0a39-49b9-ad98-60323f53c8dd",
   "metadata": {},
   "source": [
    "Model-based machine learning algorithms try to learn theta and build the model based on that. The most popular way to achieve success in a machine learning model is to try to minimize cost function and adjust theta based on that. Learned parameter theta is used to make new predictions"
   ]
  },
  {
   "cell_type": "markdown",
   "id": "bc8e7655-0089-4d93-ae75-4dbd221f6a8b",
   "metadata": {},
   "source": [
    "14. Can you name four of the most important Machine Learning challenges?"
   ]
  },
  {
   "cell_type": "raw",
   "id": "cfec067f-b026-4ebc-83ab-33876bf58b76",
   "metadata": {},
   "source": [
    "Not having a data set is big enough to build a model.\n",
    "Datasets don't cover every use case so it's hard to cover future cases.\n",
    "Overfitting, the model works well on train data but doesn't well on test data.\n",
    "Selecting of features, and hyperparameters."
   ]
  },
  {
   "cell_type": "markdown",
   "id": "a2fdd63f-1a50-4598-aaff-c41296c921d5",
   "metadata": {},
   "source": [
    "15. What happens if the model performs well on the training data but fails to generalize the results\n",
    "to new situations? Can you think of three different options?"
   ]
  },
  {
   "cell_type": "raw",
   "id": "874dcf99-9663-4e2a-8d41-bd122d83338d",
   "metadata": {},
   "source": [
    "Our model won't perform well so it's overfitting. We can use ridge, lasso, or elastic net instead of linear regression for example. We have to penalize our model."
   ]
  },
  {
   "cell_type": "markdown",
   "id": "e434fda4-4581-4ebb-bc79-6eb24ce88fa0",
   "metadata": {},
   "source": [
    "16. What exactly is a test set, and why would you need one?"
   ]
  },
  {
   "cell_type": "raw",
   "id": "7d9cedef-7ce7-4608-b013-9ef0bb6d95a6",
   "metadata": {},
   "source": [
    "The test set is for the testing purpose to check whether our trained model is generalized enough or not, and checking its accuracy and performance matrices. "
   ]
  },
  {
   "cell_type": "markdown",
   "id": "a6ad0a55-daaa-44e2-a5aa-f59c57305ceb",
   "metadata": {},
   "source": [
    "17. What is a validation set&#39;s purpose?"
   ]
  },
  {
   "cell_type": "raw",
   "id": "31781f8f-1fd6-4e0c-b321-141cff8c006d",
   "metadata": {},
   "source": [
    "It's used for cross validation, while we are building or model, we can use a validation set to check the accuracy of the model and tune hyperparameters and again build the model for the next iteration and the process continue."
   ]
  },
  {
   "cell_type": "markdown",
   "id": "314ee112-6d6e-4f87-9bc0-bd5653ec50fe",
   "metadata": {},
   "source": [
    "18. What precisely is the train-dev kit, when will you need it, how do you put it to use?"
   ]
  },
  {
   "cell_type": "raw",
   "id": "528389a3-5a76-48a1-88a2-95f5afce5c19",
   "metadata": {},
   "source": [
    "We divide our data into train-dev and test sets. Dev set is usefull when we want to use more than one machine learning model to solve our problem. Dev kit ranks each model based on its accuracy."
   ]
  },
  {
   "cell_type": "markdown",
   "id": "264fdc44-ce27-4d08-bd8a-a4e459144a70",
   "metadata": {},
   "source": [
    "19. What could go wrong if you use the test set to tune hyperparameters?"
   ]
  },
  {
   "cell_type": "raw",
   "id": "2e4cf7d7-9ae0-4303-9ba6-7c0c0ccf99f9",
   "metadata": {},
   "source": [
    "We won't able to get a well-generalized model"
   ]
  }
 ],
 "metadata": {
  "kernelspec": {
   "display_name": "Python 3 (ipykernel)",
   "language": "python",
   "name": "python3"
  },
  "language_info": {
   "codemirror_mode": {
    "name": "ipython",
    "version": 3
   },
   "file_extension": ".py",
   "mimetype": "text/x-python",
   "name": "python",
   "nbconvert_exporter": "python",
   "pygments_lexer": "ipython3",
   "version": "3.9.12"
  }
 },
 "nbformat": 4,
 "nbformat_minor": 5
}
