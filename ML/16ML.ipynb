{
 "cells": [
  {
   "cell_type": "markdown",
   "id": "178192ce-5ded-41c4-aa2c-b460cc70af30",
   "metadata": {},
   "source": [
    "1. In a linear equation, what is the difference between a dependent variable and an independent variable?"
   ]
  },
  {
   "cell_type": "raw",
   "id": "a2a43e3e-8d4f-422d-ad56-5f9b75c1eb9c",
   "metadata": {},
   "source": [
    "Dependent variables are dependent on some of the variables, which are independent. we can use this independent variable to train and predict the dependent variable also called the target variable. Independent variable does not depend on anything and they are available to predict the target variable."
   ]
  },
  {
   "cell_type": "markdown",
   "id": "935a9c2b-45dc-4bb8-97cd-4391c1764e46",
   "metadata": {},
   "source": [
    "2. What is the concept of simple linear regression? Give a specific example."
   ]
  },
  {
   "cell_type": "raw",
   "id": "caad4859-f1c2-4aef-aa2a-39a416498a6d",
   "metadata": {},
   "source": [
    "simple linear regression follows equation y = mx + c, where y is the target variable and x is the independent variable. m and c are the weight of the model. \n",
    "\n",
    "Prediction of house price based on location is a simple example of simple linear regression."
   ]
  },
  {
   "cell_type": "markdown",
   "id": "948aa78d-d2df-4b2c-8fca-ec664566b6e6",
   "metadata": {},
   "source": [
    "3. In a linear regression, define the slope."
   ]
  },
  {
   "cell_type": "code",
   "execution_count": null,
   "id": "69e7086f-8056-45b2-bcea-b3bc5e5ae1a7",
   "metadata": {},
   "outputs": [],
   "source": [
    "In y = mx + c, m is the slope which indicates the stepness of the line."
   ]
  },
  {
   "cell_type": "markdown",
   "id": "cc3a07fe-0ca5-4e26-9c8f-6cc2b009690a",
   "metadata": {},
   "source": [
    "4. Determine the graph's slope, where the lower point on the line is represented as (3, 2) and the higher point is represented as (2, 2)."
   ]
  },
  {
   "cell_type": "raw",
   "id": "2dab501d-9fa9-48ba-8a93-f77abd6deb42",
   "metadata": {},
   "source": [
    "p1 = (2,2)\n",
    "p2 = (3,2)\n",
    "slope = (y2-y1)/(x2-x1)\n",
    "slope = 0"
   ]
  },
  {
   "cell_type": "markdown",
   "id": "1b67fe9a-397f-4388-a6a9-db4f15b1022b",
   "metadata": {},
   "source": [
    "5. In linear regression, what are the conditions for a positive slope?"
   ]
  },
  {
   "cell_type": "raw",
   "id": "3379daf4-f8e0-4c58-873e-82db350efcb0",
   "metadata": {},
   "source": [
    "in y = mx + c, if y increase as x increase then we will get a positive slope."
   ]
  },
  {
   "cell_type": "markdown",
   "id": "055ad8c4-0c47-48b6-9434-592e8062b107",
   "metadata": {},
   "source": [
    "6. In linear regression, what are the conditions for a negative slope?"
   ]
  },
  {
   "cell_type": "raw",
   "id": "a2baa758-845f-4d15-98de-417d9422ecb8",
   "metadata": {},
   "source": [
    "in y = mx + c, if y decrease as x increase then we will get a positive slope."
   ]
  },
  {
   "cell_type": "markdown",
   "id": "2af9a946-0bf9-4cf1-accb-6a61cd622ea0",
   "metadata": {},
   "source": [
    "7. What is multiple linear regression and how does it work?"
   ]
  },
  {
   "cell_type": "raw",
   "id": "b3a4d991-746b-4d3a-9524-16a4b3477f0f",
   "metadata": {},
   "source": [
    "Its defined as y = m1x1 + m2x2 + m3x3..+ m4xn + c, where y is target variable and x1,x2,...xn is independent variables.\n",
    "where m1, m2.. are weights and c is the starting point of the line. \n",
    "\n",
    "we train our model which learns weight using gradient descent and means square error. This weight is used to predict test data."
   ]
  },
  {
   "cell_type": "markdown",
   "id": "f38048b0-1974-42f0-8fcd-cb688fdad13b",
   "metadata": {},
   "source": [
    "8. In multiple linear regression, define the number of squares due to error."
   ]
  },
  {
   "cell_type": "raw",
   "id": "9ed21fa7-eb6c-48cb-b766-a66514b2954d",
   "metadata": {},
   "source": [
    "For all 1 to n summation(yi-y_pred)\n",
    "\n",
    "where yi is actual value and y_pred predicted by error line"
   ]
  },
  {
   "cell_type": "markdown",
   "id": "405ccc90-0533-4cb2-a196-d279a433a6a3",
   "metadata": {},
   "source": [
    "9. In multiple linear regression, define the number of squares due to regression."
   ]
  },
  {
   "cell_type": "raw",
   "id": "070eeb32-92b2-446f-9ae7-52457489be80",
   "metadata": {},
   "source": [
    "For all 1 to n summation(yi-y_bar)\n",
    "\n",
    "where yi is actual value and y_bar mean sample value"
   ]
  },
  {
   "cell_type": "markdown",
   "id": "21e7fdfa-86e2-4e40-985d-caefaee304be",
   "metadata": {},
   "source": [
    "10. In a regression equation, what is multicollinearity?"
   ]
  },
  {
   "cell_type": "raw",
   "id": "9ec3ebfa-a558-4a05-9c28-d62e49688490",
   "metadata": {},
   "source": [
    "Its concept is where one independent variable is highly co related with other independent variables."
   ]
  },
  {
   "cell_type": "markdown",
   "id": "3c7ed009-44a4-4b9d-8f35-85a60f6dcc2a",
   "metadata": {},
   "source": [
    "11. What is heteroskedasticity, and what does it mean?"
   ]
  },
  {
   "cell_type": "raw",
   "id": "220ee2d4-e556-44c1-93cc-7ad2c7f449b0",
   "metadata": {},
   "source": [
    "Its concept is where the std deviation of a predicted variable over time with an independent variable is nonconstant. This Means data is not linear ahead of time."
   ]
  },
  {
   "cell_type": "markdown",
   "id": "f3c782f9-bb18-4eed-9e28-b104c52abee1",
   "metadata": {},
   "source": [
    "12. Describe the concept of ridge regression."
   ]
  },
  {
   "cell_type": "raw",
   "id": "7eb93569-e0cd-429f-8815-c01c56ccd0fb",
   "metadata": {},
   "source": [
    "In our cost function, we use the addition lambda (slope)^2 to overcome overfitting with a penalty.\n",
    "lmbda = hyperparameter"
   ]
  },
  {
   "cell_type": "markdown",
   "id": "f48cd210-8ea5-43d5-a7cc-05995337268b",
   "metadata": {},
   "source": [
    "13. Describe the concept of lasso regression."
   ]
  },
  {
   "cell_type": "raw",
   "id": "3c42fe09-c817-4494-a3c8-0e25d8831de4",
   "metadata": {},
   "source": [
    "In our cost function, we use the addition lambda |slope| to overcome overfitting with a penalty.\n",
    "lmbda = hyperparameter"
   ]
  },
  {
   "cell_type": "markdown",
   "id": "03e39bb7-4720-4ede-9bd2-c4b0477e3c84",
   "metadata": {},
   "source": [
    "14. What is polynomial regression and how does it work?"
   ]
  },
  {
   "cell_type": "raw",
   "id": "7d314291-7e75-46ce-ba9a-f863fba18923",
   "metadata": {},
   "source": [
    "The relation between independent variable X and target variable y is not linear but can be defined as the degree of the polynomial.\n",
    "The degree can be 2 to n. It works the same as linear regression but the line here fitted is follow polynomial equation."
   ]
  },
  {
   "cell_type": "markdown",
   "id": "8b16a344-f06f-4347-8a59-a131b1fd3c5a",
   "metadata": {},
   "source": [
    "15. Describe the basis function."
   ]
  },
  {
   "cell_type": "raw",
   "id": "b8a498e3-79f0-4995-a058-9d93fa6a0121",
   "metadata": {},
   "source": [
    "The basis function concept is defined based on every function in function space and can be defined as a linear combination of basis functions."
   ]
  },
  {
   "cell_type": "markdown",
   "id": "1a8174ef-6fe5-4b15-89b7-08a022436958",
   "metadata": {},
   "source": [
    "16. Describe how logistic regression works."
   ]
  },
  {
   "cell_type": "raw",
   "id": "452a969b-acc4-441e-b4f0-b79fde8af13c",
   "metadata": {},
   "source": [
    "It's used for binary classification.\n",
    "\n",
    "It uses the equation y = mx + c.\n",
    "\n",
    "That is fitted in the sigmoid function to get output between 0 to 1.\n",
    "\n",
    "convex function log loss is used as a cost function.\n",
    "\n",
    "Gradient decent is used to update weight."
   ]
  }
 ],
 "metadata": {
  "kernelspec": {
   "display_name": "Python 3 (ipykernel)",
   "language": "python",
   "name": "python3"
  },
  "language_info": {
   "codemirror_mode": {
    "name": "ipython",
    "version": 3
   },
   "file_extension": ".py",
   "mimetype": "text/x-python",
   "name": "python",
   "nbconvert_exporter": "python",
   "pygments_lexer": "ipython3",
   "version": "3.10.6"
  }
 },
 "nbformat": 4,
 "nbformat_minor": 5
}
