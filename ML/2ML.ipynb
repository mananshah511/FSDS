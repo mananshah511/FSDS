{
 "cells": [
  {
   "cell_type": "markdown",
   "id": "62dea546",
   "metadata": {},
   "source": [
    "1. What is the concept of human learning? Please give two examples."
   ]
  },
  {
   "cell_type": "raw",
   "id": "903a3f1a",
   "metadata": {},
   "source": [
    "Learning new things, and understanding and accepting behavior is called the concept of human learning, for example car driving, and singing."
   ]
  },
  {
   "cell_type": "markdown",
   "id": "c97d1aac",
   "metadata": {},
   "source": [
    "2. What different forms of human learning are there? Are there any machine learning equivalents?"
   ]
  },
  {
   "cell_type": "raw",
   "id": "ca204aa2",
   "metadata": {},
   "source": [
    "self-learning and guided learning are forms of human learning, in machine learning its called unsupervised and supervised learning."
   ]
  },
  {
   "cell_type": "markdown",
   "id": "1975e0e6",
   "metadata": {},
   "source": [
    "3. What is machine learning, and how does it work? What are the key responsibilities of machine learning?"
   ]
  },
  {
   "cell_type": "raw",
   "id": "68df8f37",
   "metadata": {},
   "source": [
    "Machine learning is the method by which we build a model that understands the behaviour of the dataset and predicts out come. Its key responsibilities are building good model and provide better accuracy on the predictions"
   ]
  },
  {
   "cell_type": "markdown",
   "id": "99ef926a",
   "metadata": {},
   "source": [
    "4. Define the terms \"penalty\" and \"reward\" in the context of reinforcement learning."
   ]
  },
  {
   "cell_type": "raw",
   "id": "bb35ee72",
   "metadata": {},
   "source": [
    "In reinforcement learning agent gets penalty for the incorrect prediction and reward for the right prediction"
   ]
  },
  {
   "cell_type": "markdown",
   "id": "6a02a4aa",
   "metadata": {},
   "source": [
    "5. Explain the term \"learning as a search\"?"
   ]
  },
  {
   "cell_type": "raw",
   "id": "4310fbc9",
   "metadata": {},
   "source": [
    "We search in the large space of the hypothesis and find the best one that fits our training data."
   ]
  },
  {
   "cell_type": "markdown",
   "id": "05c35dd0",
   "metadata": {},
   "source": [
    "6. What are the various goals of machine learning? What is the relationship between these and human learning?"
   ]
  },
  {
   "cell_type": "raw",
   "id": "db2ae017",
   "metadata": {},
   "source": [
    "The goal of machine learning is to understand the learning process of nature. It's the same as humans trying and understand learning."
   ]
  },
  {
   "cell_type": "markdown",
   "id": "aa65a7e2",
   "metadata": {},
   "source": [
    "7. Illustrate the various elements of machine learning using a real-life illustration."
   ]
  },
  {
   "cell_type": "raw",
   "id": "c5ab4255",
   "metadata": {},
   "source": [
    "Dataset- Different data used in real life\n",
    "Algorithm- On what basis and type of learning happens\n",
    "Model- How we understand the behavior\n",
    "Feature extraction- What keys are important to understand the learning process"
   ]
  },
  {
   "cell_type": "markdown",
   "id": "472ce3e1",
   "metadata": {},
   "source": [
    "8. Provide an example of the abstraction method."
   ]
  },
  {
   "cell_type": "code",
   "execution_count": 3,
   "id": "ed96bf8f",
   "metadata": {},
   "outputs": [],
   "source": [
    "from abc import ABC,abstractmethod\n",
    "class xyz:\n",
    "    @abstractmethod\n",
    "    def fun(self):\n",
    "        pass"
   ]
  },
  {
   "cell_type": "markdown",
   "id": "08aa4541",
   "metadata": {},
   "source": [
    "9. What is the concept of generalization? What function does it play in the machine learning process?"
   ]
  },
  {
   "cell_type": "raw",
   "id": "45f2e98a",
   "metadata": {},
   "source": [
    "Generalization means when we build our model in machine learning it should work well for all of the datasets, even new data. Sometimes our model trained best on training data, but in general, it won't perform well its called overfitting, with generalization most the machine learning models don't provide the best result."
   ]
  },
  {
   "cell_type": "markdown",
   "id": "c6f8a7e7",
   "metadata": {},
   "source": [
    "10. What is classification, exactly? What are the main distinctions between classification and regression?"
   ]
  },
  {
   "cell_type": "raw",
   "id": "3e7a0057",
   "metadata": {},
   "source": [
    "Classification means the prediction of the output that belongs to one particular class. For example prediction of the flower based on the length, and heigth. The flower's name is class here. In classification, we try to predict our class and in regression, we try to predict value(continuous variable)."
   ]
  },
  {
   "cell_type": "markdown",
   "id": "f0bdb07a",
   "metadata": {},
   "source": [
    "11. What is regression, and how does it work? Give an example of a real-world problem that was solved using regression."
   ]
  },
  {
   "cell_type": "raw",
   "id": "05fdee00",
   "metadata": {},
   "source": [
    "Regression is trying to predict the value of the continuous variable. Its works based on predictions that our data fit into staright line and can be solved using y=mx+c, or more in the higher dimensions. Prediction of house price based on location, city, sqr feet, etc."
   ]
  },
  {
   "cell_type": "markdown",
   "id": "aeca0781",
   "metadata": {},
   "source": [
    "12. Describe the clustering mechanism in detail."
   ]
  },
  {
   "cell_type": "raw",
   "id": "49af01f8",
   "metadata": {},
   "source": [
    "Clustering means dividing data into groups based on the similarities of the different features. For example grouping of customer datasets based on salary. Different algorithms of Machine learning can be used here like k-means. Based on the different criteria grouping can be done boundaries are set."
   ]
  },
  {
   "cell_type": "markdown",
   "id": "06416ab7",
   "metadata": {},
   "source": [
    "13. Make brief observations on two of the following topics:\n",
    "i. Machine learning algorithms are used\n",
    "ii. Studying under supervision\n",
    "iii. Studying without supervision\n",
    "iv. Reinforcement learning is a form of learning based on positive reinforcement."
   ]
  },
  {
   "cell_type": "markdown",
   "id": "5d2c90e1",
   "metadata": {},
   "source": [
    "ii. Studying under supervision"
   ]
  },
  {
   "cell_type": "raw",
   "id": "fcd3cc35",
   "metadata": {},
   "source": [
    "It's called the supervised learning method in machine learning.\n",
    "\n",
    "When in the dataset different types of features are available and we have to predict dependent variables based on that, then supervised learning methods can be used.\n",
    "\n",
    "Let us say for example trying to make a model that predicts salary based on years of experience. Her years of experience are an independent variable while salary is a dependent variable.\n",
    "\n",
    "We can use linear regression which is a supervised ML algorithm to predict salary."
   ]
  },
  {
   "cell_type": "markdown",
   "id": "fa7c63be",
   "metadata": {},
   "source": [
    "iii. Studying without supervision"
   ]
  },
  {
   "cell_type": "raw",
   "id": "64af42e5",
   "metadata": {},
   "source": [
    "It's called an unsupervised learning method in machine learning.\n",
    "\n",
    "Clustering is a type of un supervised learning.\n",
    "\n",
    "When we don't have any dependent feature or we want grouping of the databased on some condition then this method is used.\n",
    "\n",
    "k-means is an example of this method.\n",
    "\n",
    "Grouping of DNA based on the different patterns is a type of unsupervised learning."
   ]
  },
  {
   "cell_type": "code",
   "execution_count": null,
   "id": "db9511b8",
   "metadata": {},
   "outputs": [],
   "source": []
  }
 ],
 "metadata": {
  "kernelspec": {
   "display_name": "Python 3 (ipykernel)",
   "language": "python",
   "name": "python3"
  },
  "language_info": {
   "codemirror_mode": {
    "name": "ipython",
    "version": 3
   },
   "file_extension": ".py",
   "mimetype": "text/x-python",
   "name": "python",
   "nbconvert_exporter": "python",
   "pygments_lexer": "ipython3",
   "version": "3.9.12"
  }
 },
 "nbformat": 4,
 "nbformat_minor": 5
}
