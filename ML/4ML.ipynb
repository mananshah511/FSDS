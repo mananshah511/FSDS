{
 "cells": [
  {
   "cell_type": "markdown",
   "id": "c8250318-7fec-453f-bef5-28ec4c0d5d81",
   "metadata": {},
   "source": [
    "1. What are the key tasks involved in getting ready to work with machine learning modeling?"
   ]
  },
  {
   "cell_type": "raw",
   "id": "8ec858e7-ebd1-4e3c-8fa3-32b87a54b397",
   "metadata": {},
   "source": [
    "collecting data\n",
    "preparing data\n",
    "visualize data\n",
    "choosing model\n",
    "training of model\n",
    "evaluate the model\n",
    "make prediction"
   ]
  },
  {
   "cell_type": "markdown",
   "id": "ac477698-b62f-4a8b-beb5-1e947348b83f",
   "metadata": {},
   "source": [
    "2. What are the different forms of data used in machine learning? Give a specific example for each of\n",
    "them."
   ]
  },
  {
   "cell_type": "raw",
   "id": "5516876f-9c13-4964-82e1-7c0320ed6941",
   "metadata": {},
   "source": [
    "numerical\n",
    "categorical\n",
    "text \n",
    "time series"
   ]
  },
  {
   "cell_type": "markdown",
   "id": "a17e6e5d-a92b-4649-8493-4bfeac0031a7",
   "metadata": {},
   "source": [
    "3. Distinguish:"
   ]
  },
  {
   "cell_type": "markdown",
   "id": "c5e34650-6640-4db1-930b-cd657c7609ad",
   "metadata": {},
   "source": [
    "1. Numeric vs. categorical attributes"
   ]
  },
  {
   "cell_type": "raw",
   "id": "354eb875-9320-44ff-9d4c-724cdbca14cb",
   "metadata": {},
   "source": [
    "categorical data is defined as data that can be expressed as a name or label in terms of text for example group of people, or the sex of the person.\n",
    "Numerical data is defined as data that can be in the form of numbers for example weight, height, etc."
   ]
  },
  {
   "cell_type": "markdown",
   "id": "75eb84f8-452a-42a5-9e12-dd59f87a3ee3",
   "metadata": {},
   "source": [
    "2. Feature selection vs. dimensionality reduction"
   ]
  },
  {
   "cell_type": "raw",
   "id": "736cd06b-ebe6-45f9-9998-96ff75c8851f",
   "metadata": {},
   "source": [
    "Feature selection means selecting and removing features based on domain knowledge, missing values, and other parameters. While dimension reduction means selecting and transforming features in lower dimensions for example PCA."
   ]
  },
  {
   "cell_type": "markdown",
   "id": "c7af1748-bd5a-4520-a0e1-0da22d364724",
   "metadata": {},
   "source": [
    "4. Make quick notes on any two of the following:"
   ]
  },
  {
   "cell_type": "markdown",
   "id": "55883d2b-5511-48ed-85c8-8847920d86cf",
   "metadata": {},
   "source": [
    "1. The histogram"
   ]
  },
  {
   "cell_type": "raw",
   "id": "96c2b715-0fdf-4f56-9fc5-9e3189972a84",
   "metadata": {},
   "source": [
    "The histogram is a graph representation of the frequency distribution of the continuous data. It contains a rectangle bar adjacent to each other."
   ]
  },
  {
   "cell_type": "markdown",
   "id": "bb5a6dc4-ce18-409f-bd37-d713f91583e1",
   "metadata": {},
   "source": [
    "2. Use a scatter plot"
   ]
  },
  {
   "cell_type": "raw",
   "id": "1c9c706a-dcc8-4692-aa2d-0c4a56c4fdb5",
   "metadata": {},
   "source": [
    "scatter plots represents the relationship between two variables with dots. The X-axis contains the independent variable while the y-axis represents the dependent variable."
   ]
  },
  {
   "cell_type": "markdown",
   "id": "741b3e28-f63d-44b1-8245-d3694ca3af56",
   "metadata": {},
   "source": [
    "5. Why is it necessary to investigate data? Is there a discrepancy in how qualitative and quantitative\n",
    "data are explored?"
   ]
  },
  {
   "cell_type": "raw",
   "id": "6e3e80ce-dc2f-4528-a9cb-dfde3e7819d8",
   "metadata": {},
   "source": [
    "Data exploration is important as many of the big datasets can not be analyzed by just observing table form. Many data contain more than 100 columns. So by exploring data we can get a visual representation of the data, which helps us further for choosing a model, understand the relationship between different variables, etc.\n",
    "Quantitative data can be explored using graphs and stats analysis. Qualitative data can be analyzed using grouping different categories."
   ]
  },
  {
   "cell_type": "markdown",
   "id": "112738eb-4821-482a-bfb4-28623838e883",
   "metadata": {},
   "source": [
    "6. What are the various histogram shapes? What exactly are ‘bins&#39;?"
   ]
  },
  {
   "cell_type": "raw",
   "id": "1a0d65a7-2538-433f-8051-1c1cf2e5fa17",
   "metadata": {},
   "source": [
    "Bell-shaped\n",
    "uniform\n",
    "random\n",
    "bimodal\n",
    "multimodel\n",
    "left skewed\n",
    "right skewed\n",
    "Bin is a particular set of intervals based on a given variable class."
   ]
  },
  {
   "cell_type": "markdown",
   "id": "c8561094-c302-4d3f-a4c3-f39385d336ef",
   "metadata": {},
   "source": [
    "7. How do we deal with data outliers?"
   ]
  },
  {
   "cell_type": "raw",
   "id": "ce74ac71-d8a7-4bd9-8e45-7548776c7a0b",
   "metadata": {},
   "source": [
    "Deleting values\n",
    "Changing values\n",
    "data transform\n",
    "stats analysis"
   ]
  },
  {
   "cell_type": "markdown",
   "id": "6ed962b0-1293-4702-a3c1-f1e5b41b749c",
   "metadata": {},
   "source": [
    "8. What are the various central inclination measures? Why does mean vary too much from median in\n",
    "certain data sets?"
   ]
  },
  {
   "cell_type": "raw",
   "id": "a18a84a4-961d-417e-8133-63c0435fcf80",
   "metadata": {},
   "source": [
    "mean\n",
    "median\n",
    "mode\n",
    "For many datasets, the dataset may be biased in another part after the median value, thats why the median value may be small compared to the mean value."
   ]
  },
  {
   "cell_type": "markdown",
   "id": "2877b30c-b3bb-47c2-b068-ff504e53f494",
   "metadata": {},
   "source": [
    "9. Describe how a scatter plot can be used to investigate bivariate relationships. Is it possible to find\n",
    "outliers using a scatter plot?"
   ]
  },
  {
   "cell_type": "raw",
   "id": "28c8ae7b-1b20-4aef-9b4b-966bd89b9448",
   "metadata": {},
   "source": [
    "When we plot a scatter plot between two variables, from the graph representation of the shape and trends we can find the pattern. We can check the pattern that its positive or negative linear strong pattern or not from that we can define a bivariant relationship between two data points. Yes, From the scatter plot we can find outliers. From the graph we can check patterns and points which are far away from out patterns can be defined as outliers."
   ]
  },
  {
   "cell_type": "markdown",
   "id": "f837959e-71b3-47a2-9ca5-37d0a7b83d82",
   "metadata": {},
   "source": [
    "10. Describe how cross-tabs can be used to figure out how two variables are related."
   ]
  },
  {
   "cell_type": "raw",
   "id": "9ab118f5-400e-4585-a823-d0e1ab94b649",
   "metadata": {},
   "source": [
    "From a bigger dataset, we can create a cross table. Generally, a pivot table from excel can be used to use the cross-tab method. we can select two variables for example type of card and the sum of profit for a different product. From that table, we can find the best combination. In the same way, we can count the type of transaction and get the best combination. In so same way cross tab is used further to find the best possible combination and relationship between two variables."
   ]
  },
  {
   "cell_type": "code",
   "execution_count": null,
   "id": "19cb2343-f5a1-44f9-8a6d-dda73799f2bd",
   "metadata": {},
   "outputs": [],
   "source": []
  }
 ],
 "metadata": {
  "kernelspec": {
   "display_name": "Python 3 (ipykernel)",
   "language": "python",
   "name": "python3"
  },
  "language_info": {
   "codemirror_mode": {
    "name": "ipython",
    "version": 3
   },
   "file_extension": ".py",
   "mimetype": "text/x-python",
   "name": "python",
   "nbconvert_exporter": "python",
   "pygments_lexer": "ipython3",
   "version": "3.10.6"
  }
 },
 "nbformat": 4,
 "nbformat_minor": 5
}
