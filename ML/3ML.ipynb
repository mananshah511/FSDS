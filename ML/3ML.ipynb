{
 "cells": [
  {
   "cell_type": "markdown",
   "id": "4f0bd5c7-2aae-4088-85a5-01c128b654d4",
   "metadata": {},
   "source": [
    "1.Explain the term machine learning, and how does it work? Explain two machine learning\n",
    "applications in the business world. What are some of the ethical concerns that machine learning\n",
    "applications could raise?"
   ]
  },
  {
   "cell_type": "raw",
   "id": "cba57dda-847d-4aef-a3ae-8aee305c3e38",
   "metadata": {},
   "source": [
    "In machine learning, we train and build models and improve them based on training data and loss function and with some other hyperparameters. We have data that we split into training and testing, based on training data we build and train the model, which is improved using the loss function and we test our model on test data and evaluate our model.\n",
    "\n",
    "Application:\n",
    "Speech recognization\n",
    "image classification\n",
    "\n",
    "Ethical concern:\n",
    "Black box\n",
    "security\n",
    "integrity etc."
   ]
  },
  {
   "cell_type": "markdown",
   "id": "56ece45d-3a50-4aab-bf24-8e0500004898",
   "metadata": {},
   "source": [
    "2. Describe the process of human learning:"
   ]
  },
  {
   "cell_type": "markdown",
   "id": "cd11dc56-b34a-4556-a042-8abf73ff995b",
   "metadata": {},
   "source": [
    "i. Under the supervision of experts"
   ]
  },
  {
   "cell_type": "raw",
   "id": "8d233a69-2d31-41c3-9c82-fe4d32d55623",
   "metadata": {},
   "source": [
    "When we learn something with the help or guidance of an expert in the field."
   ]
  },
  {
   "cell_type": "markdown",
   "id": "bfb848b7-4067-4f8f-a748-9735c09401a7",
   "metadata": {},
   "source": [
    "ii. With the assistance of experts in an indirect manner"
   ]
  },
  {
   "cell_type": "raw",
   "id": "4981303b-fadc-4488-9b84-632f9ae368a0",
   "metadata": {},
   "source": [
    "When we learn something from an expert in an indirect manner like pre-recorded videos."
   ]
  },
  {
   "cell_type": "markdown",
   "id": "bfae6b5a-026f-40ea-a035-e6baebe0347c",
   "metadata": {},
   "source": [
    "iii. Self-education"
   ]
  },
  {
   "cell_type": "raw",
   "id": "ee6ddb7a-9fe8-4847-bfa5-ac72e457e3ea",
   "metadata": {},
   "source": [
    "When we learn something on our own."
   ]
  },
  {
   "cell_type": "markdown",
   "id": "27c50dec-9b15-470e-a2bc-4e2955b8d6b6",
   "metadata": {},
   "source": [
    "3. Provide a few examples of various types of machine learning."
   ]
  },
  {
   "cell_type": "code",
   "execution_count": null,
   "id": "ff9a549f-4683-4bcc-83dc-3c680f8c5fb5",
   "metadata": {},
   "outputs": [],
   "source": [
    "Supervised learning\n",
    "\n",
    "Unsupervised learning\n",
    "\n",
    "semisupervised learning."
   ]
  },
  {
   "cell_type": "markdown",
   "id": "2044c686-0087-4a3b-97da-90c1ce566fd3",
   "metadata": {},
   "source": [
    "4. Examine the various forms of machine learning."
   ]
  },
  {
   "cell_type": "raw",
   "id": "6354f4cc-2932-4b98-9e0a-e31500d49662",
   "metadata": {},
   "source": [
    "Supervised learning- learning based on the available data\n",
    "\n",
    "Unsupervised learning - make clusters based on similarities\n",
    "\n",
    "semisupervised learning - combine approach."
   ]
  },
  {
   "cell_type": "markdown",
   "id": "752459e8-350c-49f9-b101-235ed76242bd",
   "metadata": {},
   "source": [
    "5. Can you explain what a well-posed learning problem is? Explain the main characteristics that must\n",
    "be present to identify a learning problem properly."
   ]
  },
  {
   "cell_type": "raw",
   "id": "752e0e89-6c03-4f9c-9366-d87b05b05027",
   "metadata": {},
   "source": [
    "In machine learning given task T, with every experience E and performance metric P, learn and upgrade T based on E to get better P.\n",
    "\n",
    "characteristics:\n",
    "\n",
    "Experience\n",
    "Task\n",
    "Performance measure"
   ]
  },
  {
   "cell_type": "markdown",
   "id": "da303542-7c1a-43b4-8071-32924042c4de",
   "metadata": {},
   "source": [
    "6. Is machine learning capable of solving all problems? Give a detailed explanation of your answer."
   ]
  },
  {
   "cell_type": "raw",
   "id": "41a56648-ea65-4706-aa13-048804e6efee",
   "metadata": {},
   "source": [
    "No, it can not solve all the problems. Sometimes lack of data makes it hard to make a generalized model. Not every problem statement is deterministic. Machine learning does not understand some constraints of real life."
   ]
  },
  {
   "cell_type": "markdown",
   "id": "f07f036a-9560-48e8-928f-60462ef2349f",
   "metadata": {},
   "source": [
    "7. What are the various methods and technologies for solving machine learning problems? Any two\n",
    "of them should be defined in detail."
   ]
  },
  {
   "cell_type": "raw",
   "id": "3101f649-3a90-483d-b973-c81768e74abd",
   "metadata": {},
   "source": [
    "Methods and technologies:\n",
    "\n",
    "Classification\n",
    "Regression\n",
    "clustering\n",
    "NLP\n",
    "Transfer learning.\n",
    "\n",
    "Classification: Classification can be defined as a given problem statement belonging to which class, it can be multiclass or binary class. For example classification of grades A, B, and C based on a given subject's marks.\n",
    "\n",
    "Regression: Regression means we are predicting continuous output based on the given set of inputs. For example, GPA is based on marks and performance."
   ]
  },
  {
   "cell_type": "markdown",
   "id": "88f20367-ba65-47a7-b071-0809e1497195",
   "metadata": {},
   "source": [
    "8. Can you explain the various forms of supervised learning? Explain each one with an example\n",
    "application."
   ]
  },
  {
   "cell_type": "raw",
   "id": "33b32677-cf93-4689-add3-a45969f226ed",
   "metadata": {},
   "source": [
    "Linear Regression: House price prediction based on location and sqrt\n",
    "Logistic Regression: Classification of different flowers based on length, width, etc.\n",
    "k-Nearest Neighbor: recomended system\n",
    "Naive Bayes: Weather class prediction\n",
    "Decision Trees: Shopping is recomended based on the history of buying\n",
    "Support Vector Machine (SVM): linear regression problem but with no proper boundary.\n",
    "Random Forest: Email spam classification"
   ]
  },
  {
   "cell_type": "markdown",
   "id": "b6ff7023-62d6-496c-a854-8e2d016c3036",
   "metadata": {},
   "source": [
    "9. What is the difference between supervised and unsupervised learning? With a sample application\n",
    "in each region, explain the differences."
   ]
  },
  {
   "cell_type": "raw",
   "id": "93090f71-5617-4d91-ae5e-f88c437f2fc2",
   "metadata": {},
   "source": [
    "In supervised learning we use training data to train and built a model, then we evaluate it. We have independent and dependent features in this case. In unsupervised learning, we perform clustering based on different features, limits, and criteria. We don't have a dependent feature here. Predicting house prices based on location, sqr foot, and the number of bedrooms is an example of unsupervised learning. While targeting customers based on their salary group for the credit card is an example of unsupervised learning example."
   ]
  },
  {
   "cell_type": "markdown",
   "id": "df113b28-9040-4210-9fb8-47a79501903b",
   "metadata": {},
   "source": [
    "10. Describe the machine learning process in depth.\n",
    "\n",
    "a. Make brief notes on any two of the following:"
   ]
  },
  {
   "cell_type": "markdown",
   "id": "ee8f1f25-3a7e-4cd7-a1ac-e6ccfe54c7af",
   "metadata": {},
   "source": [
    "ii. Deep learning applications in healthcare"
   ]
  },
  {
   "cell_type": "raw",
   "id": "11c52d76-4f5e-4200-906f-c05b62b5c450",
   "metadata": {},
   "source": [
    "Brain MRI segmentation\n",
    "Cancer classification\n",
    "Brain tumor detection\n",
    "Drug classification and discovery\n",
    "Health records and monitoring."
   ]
  },
  {
   "cell_type": "markdown",
   "id": "4a645435-47a9-4896-a6d1-036c92564f16",
   "metadata": {},
   "source": [
    "iv. Linear regression (simple)"
   ]
  },
  {
   "cell_type": "raw",
   "id": "9d48c3bf-1195-48ec-a12c-0ef17943859a",
   "metadata": {},
   "source": [
    "Linear regression predicts continuous outcomes when we have a linear pattern between input and output. For example, predicting house prices based on location.\n",
    "\n",
    "Its denoted by equation y_pred= theta0 + theta1*w, where theta0 and theta1 are weights that are learned via training. y_pred is our prediction and w is the input feature.\n",
    "\n",
    "We initize theta0 and theta1 and update them based on gradient decent using mean square error. After some iteration, we get our final weight which is used for the prediction. We can use R_sqaure or adj_R_square for the evaluation of our model."
   ]
  },
  {
   "cell_type": "markdown",
   "id": "54b892ac-e473-4720-9772-53eb19df96e7",
   "metadata": {},
   "source": [
    "11. Make a comparison between:-"
   ]
  },
  {
   "cell_type": "markdown",
   "id": "c2fc7638-b02c-435f-843d-c1ed888ea9d2",
   "metadata": {},
   "source": [
    "1. Generalization and abstraction"
   ]
  },
  {
   "cell_type": "raw",
   "id": "c84dda0d-90c5-45b6-8b7e-090620c7b098",
   "metadata": {},
   "source": [
    "Abstraction means providing minimum details and hiding the actual design. Generalization means making an actual design that applies to all."
   ]
  },
  {
   "cell_type": "markdown",
   "id": "779bb42e-e462-4e98-95ba-037a0c806a82",
   "metadata": {},
   "source": [
    "2. Learning that is guided and unsupervised"
   ]
  },
  {
   "cell_type": "raw",
   "id": "cdbdda52-4278-4d75-a721-38d4c5f19389",
   "metadata": {},
   "source": [
    "Guided learning means learning under the super vision and based on available data. Unsupervised learning means clustering and making groups."
   ]
  },
  {
   "cell_type": "markdown",
   "id": "a2b0e0b3-7d9c-45e7-9c61-b07ebd75871b",
   "metadata": {},
   "source": [
    "3. Regression and classification"
   ]
  },
  {
   "cell_type": "raw",
   "id": "3d96a9b1-6956-46f8-8d29-49b234877873",
   "metadata": {},
   "source": [
    "Regression deals with the prediction of a continuous variable. Classification deals with which learning that data belongs to which class."
   ]
  }
 ],
 "metadata": {
  "kernelspec": {
   "display_name": "Python 3 (ipykernel)",
   "language": "python",
   "name": "python3"
  },
  "language_info": {
   "codemirror_mode": {
    "name": "ipython",
    "version": 3
   },
   "file_extension": ".py",
   "mimetype": "text/x-python",
   "name": "python",
   "nbconvert_exporter": "python",
   "pygments_lexer": "ipython3",
   "version": "3.10.6"
  }
 },
 "nbformat": 4,
 "nbformat_minor": 5
}
