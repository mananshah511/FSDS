{
 "cells": [
  {
   "cell_type": "markdown",
   "id": "543a3498-869a-4242-889d-b3049cdbcb16",
   "metadata": {},
   "source": [
    "1. Define the Bayesian interpretation of probability."
   ]
  },
  {
   "cell_type": "raw",
   "id": "ef9a5773-95eb-4ede-8076-5c185e44cea8",
   "metadata": {},
   "source": [
    "Its link to the degree of belief in a proposition before and after collecting evidence.\n",
    "P(A∣B)= P(A)×P(B∣A)/P(B)"
   ]
  },
  {
   "cell_type": "markdown",
   "id": "12730d91-fb82-4445-a558-15e9d201f002",
   "metadata": {},
   "source": [
    "2. Define probability of a union of two events with equation."
   ]
  },
  {
   "cell_type": "raw",
   "id": "64e67953-c940-46c4-9cdf-85374b8ed9b3",
   "metadata": {},
   "source": [
    "The probability union of two events is defined as event A's probability plus event B's probability minus event A and B both's common probability. \n",
    "P(A∪B)= P(A) + P(B) - P(A∩B)"
   ]
  },
  {
   "cell_type": "markdown",
   "id": "047c48ec-f7d1-4d67-ab0a-cdd0fa7fe893",
   "metadata": {},
   "source": [
    "3. What is joint probability? What is its formula?"
   ]
  },
  {
   "cell_type": "raw",
   "id": "df623ec7-e91c-416a-bc7d-63c76fac6ec9",
   "metadata": {},
   "source": [
    "It's defined as the probability of one or more independent events in parallel.\n",
    "(A∩B) = P(A)*P(B)"
   ]
  },
  {
   "cell_type": "markdown",
   "id": "8961e89d-af59-43d9-bd57-55d7b11276cb",
   "metadata": {},
   "source": [
    "4. What is chain rule of probability?"
   ]
  },
  {
   "cell_type": "raw",
   "id": "cf897e51-2385-41e1-af7d-ccf93b8dc39e",
   "metadata": {},
   "source": [
    "Chain rule allows any member of joint distribution as a random variable in terms of condition probability.\n",
    "P(A1, A2, …, An) = ;P(A1| A2, …, An) P(A2| A3, …, An) P(An-1|An) P(An)"
   ]
  },
  {
   "cell_type": "markdown",
   "id": "d6e725c1-8f72-40ee-b065-cccd27a4a91b",
   "metadata": {},
   "source": [
    "5. What is conditional probability means? What is the formula of it?"
   ]
  },
  {
   "cell_type": "raw",
   "id": "a8fdc5bf-cb73-4a19-9536-a02536a64652",
   "metadata": {},
   "source": [
    "Its probability is based on the previous events, given by Baye's theorem.\n",
    "P(A∣B)= P(A)×P(B∣A)/P(B)"
   ]
  },
  {
   "cell_type": "markdown",
   "id": "81dd4886-ac11-44b8-9275-dc356a92baf4",
   "metadata": {},
   "source": [
    "6. What are continuous random variables?"
   ]
  },
  {
   "cell_type": "raw",
   "id": "4807ebf0-6e58-467f-8068-38c94b763331",
   "metadata": {},
   "source": [
    "If a variable can take a continuous value in a particular interval it's said to be a continous random variable."
   ]
  },
  {
   "cell_type": "markdown",
   "id": "67e3d733-e460-49c7-b240-74deb48ed463",
   "metadata": {},
   "source": [
    "7. What are Bernoulli distributions? What is the formula of it?"
   ]
  },
  {
   "cell_type": "raw",
   "id": "6b09f5d6-23e1-4146-a521-ff26c79cd571",
   "metadata": {},
   "source": [
    "It's based on discrete probability distribution. It has Bernoulli tries which can be success or failure.\n",
    "f(k,p)=pk +(1-p)(1-k)\n",
    "p=probability\n",
    "k=possible outcome\n",
    "f=mass function"
   ]
  },
  {
   "cell_type": "markdown",
   "id": "70811c58-3662-4ed7-9c0c-4fdcbecc97ac",
   "metadata": {},
   "source": [
    "8. What is binomial distribution? What is the formula?"
   ]
  },
  {
   "cell_type": "raw",
   "id": "98bcb359-092a-4bda-978b-9522f8e4789e",
   "metadata": {},
   "source": [
    "Its distribution is based on two possible outcomes, succuss of failure.\n",
    "P(X= x) = (nCx)p^xq^n-x\n",
    "n= number of trial\n",
    "x= number of trials with in n\n",
    "p= success probability\n",
    "q= failure probability"
   ]
  },
  {
   "cell_type": "markdown",
   "id": "e02ab117-f6a7-4e9e-ace4-277d83fc9b30",
   "metadata": {},
   "source": [
    "9. What is Poisson distribution? What is the formula?"
   ]
  },
  {
   "cell_type": "raw",
   "id": "d4e32450-4217-47ec-a7c1-cceb55a8ad19",
   "metadata": {},
   "source": [
    "It measures probability with in x intervals of time.\n",
    "P(x, λ ) =(e– λ λx)/x\n",
    "λ = average rate of a value\n",
    "x = success\n",
    "e = base of a log"
   ]
  },
  {
   "cell_type": "markdown",
   "id": "077826a6-0267-4862-b4af-d80b3a5ab2e2",
   "metadata": {},
   "source": [
    "10. Define covariance."
   ]
  },
  {
   "cell_type": "raw",
   "id": "86f23643-9f0d-4b43-8e0c-d59db7dd7b0f",
   "metadata": {},
   "source": [
    "It defines how two random variables change together.\n",
    "Cov(X, Y) = Σ(Xi-µ)(Yj-v) / n."
   ]
  },
  {
   "cell_type": "markdown",
   "id": "54883ae2-7d6a-45f4-b58e-52b885c0dfad",
   "metadata": {},
   "source": [
    "11. Define correlation"
   ]
  },
  {
   "cell_type": "raw",
   "id": "58675135-8892-47ab-9c4d-70bf41ac1f3d",
   "metadata": {},
   "source": [
    "It defines if two variables are related or not.\n",
    "ρ (X,Y) = cov (X,Y) / σX.σY. "
   ]
  },
  {
   "cell_type": "markdown",
   "id": "bede2fbf-d578-4b16-a5ce-c493899d8291",
   "metadata": {},
   "source": [
    "12. Define sampling with replacement. Give example."
   ]
  },
  {
   "cell_type": "raw",
   "id": "d4a7a184-5804-48c3-963c-b243afb2ff6e",
   "metadata": {},
   "source": [
    "Let's say we have 10 black and 5 red balls, I select one red ball and then put it back and again select it. Probability of selecting the red ball before and after will be the same. This is called sampling with replacement."
   ]
  },
  {
   "cell_type": "markdown",
   "id": "f95d8acf-99a1-4e56-9d6b-d2f2457c1cb1",
   "metadata": {},
   "source": [
    "13. What is sampling without replacement? Give example."
   ]
  },
  {
   "cell_type": "raw",
   "id": "65c7fd88-a936-47e5-b3e0-79199756cdf2",
   "metadata": {},
   "source": [
    "Let's say we have 10 black and 5 red balls, I select one red ball and then do not put it back and again select it. Probability of selecting the red ball before and after will be the not be same. This is called sampling without replacement."
   ]
  },
  {
   "cell_type": "markdown",
   "id": "6278a0aa-90f5-4e14-bf07-b486277c1338",
   "metadata": {},
   "source": [
    "14. What is hypothesis? Give example."
   ]
  },
  {
   "cell_type": "markdown",
   "id": "93690fac-581c-4c4c-8b00-3acea2ca18bd",
   "metadata": {},
   "source": [
    "Its statement. For example, if I read today, I will clear the exam."
   ]
  },
  {
   "cell_type": "code",
   "execution_count": null,
   "id": "d3536709-bd19-4ab5-b9c6-5052ceef252e",
   "metadata": {},
   "outputs": [],
   "source": []
  }
 ],
 "metadata": {
  "kernelspec": {
   "display_name": "Python 3 (ipykernel)",
   "language": "python",
   "name": "python3"
  },
  "language_info": {
   "codemirror_mode": {
    "name": "ipython",
    "version": 3
   },
   "file_extension": ".py",
   "mimetype": "text/x-python",
   "name": "python",
   "nbconvert_exporter": "python",
   "pygments_lexer": "ipython3",
   "version": "3.10.6"
  }
 },
 "nbformat": 4,
 "nbformat_minor": 5
}
