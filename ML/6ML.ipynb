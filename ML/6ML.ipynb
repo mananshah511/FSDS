{
 "cells": [
  {
   "cell_type": "markdown",
   "id": "7b931d5b-29ae-4c2d-bc90-2274d8913f7e",
   "metadata": {},
   "source": [
    "1. In the sense of machine learning, what is a model? What is the best way to train a model?"
   ]
  },
  {
   "cell_type": "raw",
   "id": "2694bd8a-10f8-4d89-88b7-1a71ebfe5105",
   "metadata": {},
   "source": [
    "A model is a file that is trained to predict a particular pattern.  Best way to train a model he's using preprocessing of data, feature selection, exploratory data analysis, tuning the hyperparameter, and choosing the right algorithm."
   ]
  },
  {
   "cell_type": "markdown",
   "id": "40d16d16-d154-4782-80de-bab08d8a7150",
   "metadata": {},
   "source": [
    "2. In the sense of machine learning, explain the &quot;No Free Lunch&quot; theorem."
   ]
  },
  {
   "cell_type": "raw",
   "id": "374b14a4-24f0-4508-a8c4-d3478115fb46",
   "metadata": {},
   "source": [
    "In machine learning no free lunch theorem state that in supervised learning method there is no Universal best algorithm."
   ]
  },
  {
   "cell_type": "markdown",
   "id": "ceda7c24-b57e-4a4d-a687-4bd76bbb7ff5",
   "metadata": {},
   "source": [
    "3. Describe the K-fold cross-validation mechanism in detail."
   ]
  },
  {
   "cell_type": "raw",
   "id": "065803b0-0089-45e4-9517-d1ae8bb73eba",
   "metadata": {},
   "source": [
    "In k-fold cross-validation, we generally divide our data set into k equal folds, one fold is used as a test data set and the remaining Folds are used as a training data set."
   ]
  },
  {
   "cell_type": "markdown",
   "id": "a8c1e8d2-4ad7-4156-8bcc-d452ccde83a8",
   "metadata": {},
   "source": [
    "4. Describe the bootstrap sampling method. What is the aim of it?"
   ]
  },
  {
   "cell_type": "raw",
   "id": "d1398496-e76c-4ba8-8d08-7de6f5e850a5",
   "metadata": {},
   "source": [
    "The bootstrap sampling method creates many small data sets by resampling from a large data set. It is the building block of many machine learning algorithms. The main of the bootstrap sampling method is to enhance the performance of the machine learning algorithms."
   ]
  },
  {
   "cell_type": "markdown",
   "id": "79e8445e-6dff-462c-8a01-d736ef5834c5",
   "metadata": {},
   "source": [
    "5. What is the significance of calculating the Kappa value for a classification model? Demonstrate\n",
    "how to measure the Kappa value of a classification model using a sample collection of results."
   ]
  },
  {
   "cell_type": "raw",
   "id": "ddea31de-764e-447d-b005-e9afb7d985eb",
   "metadata": {},
   "source": [
    "The Kappa value is used for finding agreement between two or more classes.  It can be denoted by the following formula.\n",
    "Kappa=Observed agreement - chance agreement/1-chance agreement\n",
    "\n",
    "example:\n",
    "   Y   N\n",
    "Y 25  15\n",
    "N 5   55\n",
    "\n",
    "observed agreement = 25 + 55 /100 =0.8\n",
    "\n",
    "chance of agreement yes= 25+5/100 * 25+15/100 =0.12\n",
    "\n",
    "chance of agreement  no= 0.42\n",
    "\n",
    "overall = 0.42+0.12 = 0.54\n",
    "\n",
    "kappa= 0.80-0.54/0.46 = 0.57"
   ]
  },
  {
   "cell_type": "markdown",
   "id": "55e0babf-bd33-49ef-a8d8-1ef4aca52233",
   "metadata": {},
   "source": [
    "6. Describe the model ensemble method. In machine learning, what part does it play?"
   ]
  },
  {
   "cell_type": "raw",
   "id": "919e16ff-4575-4d1d-921f-8769d8c6d339",
   "metadata": {},
   "source": [
    "In your ensemble modeling technique ensemble multiple models together to create a single model.  The main aim of this technique is to enhance the performance of the machine learning models."
   ]
  },
  {
   "cell_type": "markdown",
   "id": "b6eb2409-8c58-4f88-a3d2-44ec53eb7035",
   "metadata": {},
   "source": [
    "7. What is a descriptive model&#39;s main purpose? Give examples of real-world problems that\n",
    "descriptive models were used to solve."
   ]
  },
  {
   "cell_type": "raw",
   "id": "794cc863-24d1-4067-8b41-810bc064685f",
   "metadata": {},
   "source": [
    "The descriptive model's main purpose is to provide information about what we got as an output, why we got this output and the description of it. Financial statement analysis and traffic rule analysis are serval examples of the descriptive model."
   ]
  },
  {
   "cell_type": "markdown",
   "id": "909cc93e-1a54-471b-8dc7-4529ea011a5d",
   "metadata": {},
   "source": [
    "8. Describe how to evaluate a linear regression model."
   ]
  },
  {
   "cell_type": "raw",
   "id": "fbb9533a-9547-4e30-82ce-74225aff98d9",
   "metadata": {},
   "source": [
    "Linear regression model are evaluated based on R square and adjacent R square."
   ]
  },
  {
   "cell_type": "markdown",
   "id": "f9e9e715-463b-4b94-b5f9-1e25d0fabee4",
   "metadata": {},
   "source": [
    "9. Distinguish :"
   ]
  },
  {
   "cell_type": "markdown",
   "id": "6f8f2ef3-db4b-4f8c-9398-2c2db4a7e536",
   "metadata": {},
   "source": [
    "1. Descriptive vs. predictive models"
   ]
  },
  {
   "cell_type": "raw",
   "id": "fba80c74-f4d6-4667-bd5f-a2a46efaacf8",
   "metadata": {},
   "source": [
    "A descriptive model provides information about whatever output and why we got this output and model information. The predictive model only provides final output of the test data."
   ]
  },
  {
   "cell_type": "markdown",
   "id": "c83a641b-0922-4172-aa73-1be8adab70df",
   "metadata": {},
   "source": [
    "2. Underfitting vs. overfitting the model"
   ]
  },
  {
   "cell_type": "raw",
   "id": "853abe79-2d65-4cf8-b766-2b84eccacc53",
   "metadata": {},
   "source": [
    "The underfitting model has a high training and testing error. While the overfitting model has a very very low training error but High testing error."
   ]
  },
  {
   "cell_type": "markdown",
   "id": "c687b375-2666-43e2-a4a4-1cd2aba95829",
   "metadata": {},
   "source": [
    "3. Bootstrapping vs. cross-validation"
   ]
  },
  {
   "cell_type": "raw",
   "id": "bc8a837b-979b-47de-a11a-d61a57c445c6",
   "metadata": {},
   "source": [
    "The cross-validation method splits the data set into multiple small data set and provides cross-validation to find the best data set for testing and training. In a bootstrap sampling method, new samples are created with replacements. Cross-validation is more powerful than bootstrap sampling method in terms of performance."
   ]
  },
  {
   "cell_type": "markdown",
   "id": "0e27465a-5c2c-4750-8b03-988abe93c801",
   "metadata": {},
   "source": [
    "10. Make quick notes on:"
   ]
  },
  {
   "cell_type": "markdown",
   "id": "0182a9af-a2a4-4087-9d71-5f9046b4ae94",
   "metadata": {},
   "source": [
    "1. LOOCV."
   ]
  },
  {
   "cell_type": "raw",
   "id": "1ecb4ad4-c19b-4b54-afdc-2169184b1a24",
   "metadata": {},
   "source": [
    "The leave-one-out cross-validation method is used to measure the performance of the machine learning model when they are used to make the prediction and data is not present in the train data set."
   ]
  },
  {
   "cell_type": "markdown",
   "id": "ec7eb4fa-8b3b-4cd8-aadd-e4f3232a877c",
   "metadata": {},
   "source": [
    "2. F-measurement"
   ]
  },
  {
   "cell_type": "raw",
   "id": "893a6496-d4bd-4f37-b620-1d5f4c730093",
   "metadata": {},
   "source": [
    "F score is the measurement of accuracy in the classification problem.  Recall and precision are used in the measurement of the F-score."
   ]
  },
  {
   "cell_type": "markdown",
   "id": "d2666f1a-cf71-49d4-ab3c-c0b080ed4c70",
   "metadata": {},
   "source": [
    "3. The width of the silhouette"
   ]
  },
  {
   "cell_type": "raw",
   "id": "23b15eee-ddaf-434e-a1b6-75870beb8475",
   "metadata": {},
   "source": [
    "Silhouette is a clustering validation technique to determine how the object is related to its own cluster and how the object is separated from the neighbor cluster. Score range between -1 to + 1. A positive value indicates that the object is related to the Cluster."
   ]
  },
  {
   "cell_type": "markdown",
   "id": "cca5f7e1-fea4-4bf4-84ea-cb9aa5df3589",
   "metadata": {},
   "source": [
    "4. Receiver operating characteristic curve"
   ]
  },
  {
   "cell_type": "raw",
   "id": "3d4af9e1-e669-4774-87a3-84c74bc78386",
   "metadata": {},
   "source": [
    "Roc curve is a graphical method generally used in binary classification to determine how threshold values vary."
   ]
  }
 ],
 "metadata": {
  "kernelspec": {
   "display_name": "Python 3 (ipykernel)",
   "language": "python",
   "name": "python3"
  },
  "language_info": {
   "codemirror_mode": {
    "name": "ipython",
    "version": 3
   },
   "file_extension": ".py",
   "mimetype": "text/x-python",
   "name": "python",
   "nbconvert_exporter": "python",
   "pygments_lexer": "ipython3",
   "version": "3.10.6"
  }
 },
 "nbformat": 4,
 "nbformat_minor": 5
}
