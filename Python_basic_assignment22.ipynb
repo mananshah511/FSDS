{
 "cells": [
  {
   "cell_type": "raw",
   "id": "f9844698-27a0-48d5-9b97-e798bda6f04f",
   "metadata": {},
   "source": [
    "1. What is the result of the code, and explain?\n",
    "\n",
    "\n",
    ">>> X = 'iNeuron'\n",
    ">>> def func():\n",
    "print(X)\n",
    "\n",
    "\n",
    ">>> func()\n",
    "\n",
    "Result: 'iNeuron'\n",
    "Reason: func() is prinitng value of X which is 'iNeuron' as no local variable inside func(), so X as a gloabal variable will be printed."
   ]
  },
  {
   "cell_type": "raw",
   "id": "9fe9a7b4-446d-4e07-8456-2349622f2b8b",
   "metadata": {},
   "source": [
    "2. What is the result of the code, and explain?\n",
    "\n",
    "\n",
    ">>> X = 'iNeuron'\n",
    ">>> def func():\n",
    "X = 'NI!'\n",
    "\n",
    "\n",
    ">>> func()\n",
    ">>> print(X)\n",
    "\n",
    "Result:'iNeuron'\n",
    "Reason: func() is called and local varibale X is assigned value of 'NI!' but print statment is called in main which will take global variable X which has value  'iNeuron'"
   ]
  },
  {
   "cell_type": "raw",
   "id": "7e804bb2-38c9-484c-9c4b-6d10595648e1",
   "metadata": {},
   "source": [
    "3. What does this code print, and why?\n",
    "\n",
    "\n",
    ">>> X = 'iNeuron'\n",
    ">>> def func():\n",
    "X = 'NI'\n",
    "print(X)\n",
    "\n",
    "\n",
    ">>> func()\n",
    ">>> print(X)\n",
    "\n",
    "Result:'NI'\n",
    "       'iNeuron'\n",
    "Reason: func() is called local variable is X is 'NI' and its printed inside func() block so 'NI' will be printed and after that in main X is printed which is 'iNeuron' gloabal variable."
   ]
  },
  {
   "cell_type": "raw",
   "id": "56d70f2f-3f8e-4ec4-9047-e909fe5422be",
   "metadata": {},
   "source": [
    "4. What output does this code produce? Why?\n",
    "\n",
    "\n",
    ">>> X = 'iNeuron'\n",
    ">>> def func():\n",
    "global X\n",
    "X = 'NI'\n",
    "\n",
    "\n",
    ">>> func()\n",
    ">>> print(X)\n",
    "\n",
    "Result: 'NI'\n",
    "Reason: func() is called which make value X='NI' and X is gloabal variable thats why print statement will print 'NI'"
   ]
  },
  {
   "cell_type": "raw",
   "id": "5c1f6451-77c1-41e4-bdc0-923126af61de",
   "metadata": {},
   "source": [
    "5. What about this code—what’s the output, and why?\n",
    "\n",
    "\n",
    ">>> X = 'iNeuron'\n",
    ">>> def func():\n",
    "X = 'NI'\n",
    "def nested():\n",
    "print(X)\n",
    "nested()\n",
    "\n",
    "\n",
    ">>> func()\n",
    ">>> X\n",
    "\n",
    "Result: 'NI'\n",
    "        'iNeuron'\n",
    "      \n",
    "Reason: fist func() is called and value of X='NI' as a local variable and in nested function we are printing value of X, now nested() is inside func() only so local variable will be printed. and after call is over X value is 'iNeuron' and its printed."
   ]
  },
  {
   "cell_type": "raw",
   "id": "22896c45-944b-4bba-a355-16069f41b65a",
   "metadata": {},
   "source": [
    "6. How about this code: what is its output in Python 3, and explain?\n",
    "\n",
    "\n",
    ">>> def func():\n",
    "X = 'NI'\n",
    "def nested():\n",
    "nonlocal X\n",
    "X = 'Spam'\n",
    "nested()\n",
    "print(X)\n",
    "\n",
    "\n",
    ">>> func()\n",
    "\n",
    "Result: 'Spam'\n",
    "Reason: first func() is called value of X='NI' inside function, then nested function is called which makes value of X='Spam' as its nonlocal variable value will be reflected outside nested() also and in func() print statement will print its value as 'Spam'"
   ]
  }
 ],
 "metadata": {
  "kernelspec": {
   "display_name": "Python 3 (ipykernel)",
   "language": "python",
   "name": "python3"
  },
  "language_info": {
   "codemirror_mode": {
    "name": "ipython",
    "version": 3
   },
   "file_extension": ".py",
   "mimetype": "text/x-python",
   "name": "python",
   "nbconvert_exporter": "python",
   "pygments_lexer": "ipython3",
   "version": "3.9.12"
  }
 },
 "nbformat": 4,
 "nbformat_minor": 5
}
